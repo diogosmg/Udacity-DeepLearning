{
 "cells": [
  {
   "cell_type": "markdown",
   "metadata": {
    "collapsed": true
   },
   "source": [
    "# Image Classification\n",
    "In this project, you'll classify images from the [CIFAR-10 dataset](https://www.cs.toronto.edu/~kriz/cifar.html).  The dataset consists of airplanes, dogs, cats, and other objects. You'll preprocess the images, then train a convolutional neural network on all the samples. The images need to be normalized and the labels need to be one-hot encoded.  You'll get to apply what you learned and build a convolutional, max pooling, dropout, and fully connected layers.  At the end, you'll get to see your neural network's predictions on the sample images.\n",
    "## Get the Data\n",
    "Run the following cell to download the [CIFAR-10 dataset for python](https://www.cs.toronto.edu/~kriz/cifar-10-python.tar.gz)."
   ]
  },
  {
   "cell_type": "code",
   "execution_count": 1,
   "metadata": {},
   "outputs": [
    {
     "name": "stdout",
     "output_type": "stream",
     "text": [
      "All files found!\n"
     ]
    }
   ],
   "source": [
    "\"\"\"\n",
    "DON'T MODIFY ANYTHING IN THIS CELL THAT IS BELOW THIS LINE\n",
    "\"\"\"\n",
    "from urllib.request import urlretrieve\n",
    "from os.path import isfile, isdir\n",
    "from tqdm import tqdm\n",
    "import problem_unittests as tests\n",
    "import tarfile\n",
    "\n",
    "cifar10_dataset_folder_path = 'cifar-10-batches-py'\n",
    "\n",
    "# Use Floyd's cifar-10 dataset if present\n",
    "floyd_cifar10_location = '/cifar/cifar-10-python.tar.gz'\n",
    "if isfile(floyd_cifar10_location):\n",
    "    tar_gz_path = floyd_cifar10_location\n",
    "else:\n",
    "    tar_gz_path = 'cifar-10-python.tar.gz'\n",
    "\n",
    "class DLProgress(tqdm):\n",
    "    last_block = 0\n",
    "\n",
    "    def hook(self, block_num=1, block_size=1, total_size=None):\n",
    "        self.total = total_size\n",
    "        self.update((block_num - self.last_block) * block_size)\n",
    "        self.last_block = block_num\n",
    "\n",
    "if not isfile(tar_gz_path):\n",
    "    with DLProgress(unit='B', unit_scale=True, miniters=1, desc='CIFAR-10 Dataset') as pbar:\n",
    "        urlretrieve(\n",
    "            'https://www.cs.toronto.edu/~kriz/cifar-10-python.tar.gz',\n",
    "            tar_gz_path,\n",
    "            pbar.hook)\n",
    "\n",
    "if not isdir(cifar10_dataset_folder_path):\n",
    "    with tarfile.open(tar_gz_path) as tar:\n",
    "        tar.extractall()\n",
    "        tar.close()\n",
    "\n",
    "\n",
    "tests.test_folder_path(cifar10_dataset_folder_path)"
   ]
  },
  {
   "cell_type": "markdown",
   "metadata": {},
   "source": [
    "## Explore the Data\n",
    "The dataset is broken into batches to prevent your machine from running out of memory.  The CIFAR-10 dataset consists of 5 batches, named `data_batch_1`, `data_batch_2`, etc.. Each batch contains the labels and images that are one of the following:\n",
    "* airplane\n",
    "* automobile\n",
    "* bird\n",
    "* cat\n",
    "* deer\n",
    "* dog\n",
    "* frog\n",
    "* horse\n",
    "* ship\n",
    "* truck\n",
    "\n",
    "Understanding a dataset is part of making predictions on the data.  Play around with the code cell below by changing the `batch_id` and `sample_id`. The `batch_id` is the id for a batch (1-5). The `sample_id` is the id for a image and label pair in the batch.\n",
    "\n",
    "Ask yourself \"What are all possible labels?\", \"What is the range of values for the image data?\", \"Are the labels in order or random?\".  Answers to questions like these will help you preprocess the data and end up with better predictions."
   ]
  },
  {
   "cell_type": "code",
   "execution_count": 2,
   "metadata": {},
   "outputs": [
    {
     "name": "stdout",
     "output_type": "stream",
     "text": [
      "\n",
      "Stats of batch 2:\n",
      "Samples: 10000\n",
      "Label Counts: {0: 984, 1: 1007, 2: 1010, 3: 995, 4: 1010, 5: 988, 6: 1008, 7: 1026, 8: 987, 9: 985}\n",
      "First 20 Labels: [1, 6, 6, 8, 8, 3, 4, 6, 0, 6, 0, 3, 6, 6, 5, 4, 8, 3, 2, 6]\n",
      "\n",
      "Example of Image 9:\n",
      "Image - Min Value: 40 Max Value: 229\n",
      "Image - Shape: (32, 32, 3)\n",
      "Label - Label Id: 6 Name: frog\n"
     ]
    },
    {
     "data": {
      "image/png": "[encoded data removed]",
      "text/plain": [
       "<matplotlib.figure.Figure at 0xc32bbe0>"
      ]
     },
     "metadata": {
      "image/png": {
       "height": 250,
       "width": 253
      }
     },
     "output_type": "display_data"
    }
   ],
   "source": [
    "%matplotlib inline\n",
    "%config InlineBackend.figure_format = 'retina'\n",
    "\n",
    "import helper\n",
    "import numpy as np\n",
    "\n",
    "# Explore the dataset\n",
    "batch_id = 2\n",
    "sample_id = 9\n",
    "helper.display_stats(cifar10_dataset_folder_path, batch_id, sample_id)\n",
    "\n",
    "\n",
    "# Range of values: 0-255, 3 channels\n",
    "# Labels from 0..9 randomized"
   ]
  },
  {
   "cell_type": "markdown",
   "metadata": {},
   "source": [
    "## Implement Preprocess Functions\n",
    "### Normalize\n",
    "In the cell below, implement the `normalize` function to take in image data, `x`, and return it as a normalized Numpy array. The values should be in the range of 0 to 1, inclusive.  The return object should be the same shape as `x`."
   ]
  },
  {
   "cell_type": "code",
   "execution_count": 3,
   "metadata": {},
   "outputs": [
    {
     "name": "stdout",
     "output_type": "stream",
     "text": [
      "Tests Passed\n"
     ]
    }
   ],
   "source": [
    "import numpy as np\n",
    "def normalize(x):\n",
    "    \"\"\"\n",
    "    Normalize a list of sample image data in the range of 0 to 1\n",
    "    : x: List of image data.  The image shape is (32, 32, 3)\n",
    "    : return: Numpy array of normalize data\n",
    "    \"\"\"\n",
    "    # TODO: Implement Function\n",
    "    \n",
    "    #x_min = x.min(axis=(0, 1), keepdims=True)\n",
    "    #x_max = x.max(axis=(0, 1), keepdims=True)\n",
    "    #x_norm = (x - x_min)/(x_max - x_min)\n",
    "    #print(x_norm.shape)\n",
    "    #print(x)\n",
    "    #print(x_norm)\n",
    "    #return x_norm \n",
    "    \n",
    "    return x/255\n",
    "\n",
    "\n",
    "\"\"\"\n",
    "DON'T MODIFY ANYTHING IN THIS CELL THAT IS BELOW THIS LINE\n",
    "\"\"\"\n",
    "tests.test_normalize(normalize)"
   ]
  },
  {
   "cell_type": "markdown",
   "metadata": {},
   "source": [
    "### One-hot encode\n",
    "Just like the previous code cell, you'll be implementing a function for preprocessing.  This time, you'll implement the `one_hot_encode` function. The input, `x`, are a list of labels.  Implement the function to return the list of labels as One-Hot encoded Numpy array.  The possible values for labels are 0 to 9. The one-hot encoding function should return the same encoding for each value between each call to `one_hot_encode`.  Make sure to save the map of encodings outside the function.\n",
    "\n",
    "Hint: Don't reinvent the wheel."
   ]
  },
  {
   "cell_type": "code",
   "execution_count": 4,
   "metadata": {},
   "outputs": [
    {
     "name": "stdout",
     "output_type": "stream",
     "text": [
      "Tests Passed\n"
     ]
    }
   ],
   "source": [
    "#from sklearn.preprocessing import LabelBinarizer\n",
    "#encoder = LabelBinarizer()\n",
    "#encoder.fit(range(10)) # Inicializing enconder, values 0..9\n",
    "\n",
    "def one_hot_encode(x):\n",
    "    \"\"\"\n",
    "    One hot encode a list of sample labels. Return a one-hot encoded vector for each label.\n",
    "    : x: List of sample Labels\n",
    "    : return: Numpy array of one-hot encoded labels\n",
    "    \"\"\"\n",
    "    # TODO: Implement Function   \n",
    "    #encoded_x = encoder.transform(x)\n",
    "    #return encoded_x\n",
    "\n",
    "    possible_values = 10\n",
    "    one_hot = np.zeros((len(x),possible_values))\n",
    "    one_hot[np.arange(len(x)), x] = 1\n",
    "    return one_hot\n",
    "\n",
    "\n",
    "\"\"\"\n",
    "DON'T MODIFY ANYTHING IN THIS CELL THAT IS BELOW THIS LINE\n",
    "\"\"\"\n",
    "tests.test_one_hot_encode(one_hot_encode)"
   ]
  },
  {
   "cell_type": "markdown",
   "metadata": {},
   "source": [
    "### Randomize Data\n",
    "As you saw from exploring the data above, the order of the samples are randomized.  It doesn't hurt to randomize it again, but you don't need to for this dataset."
   ]
  },
  {
   "cell_type": "markdown",
   "metadata": {},
   "source": [
    "## Preprocess all the data and save it\n",
    "Running the code cell below will preprocess all the CIFAR-10 data and save it to file. The code below also uses 10% of the training data for validation."
   ]
  },
  {
   "cell_type": "code",
   "execution_count": 5,
   "metadata": {
    "collapsed": true
   },
   "outputs": [],
   "source": [
    "\"\"\"\n",
    "DON'T MODIFY ANYTHING IN THIS CELL\n",
    "\"\"\"\n",
    "# Preprocess Training, Validation, and Testing Data\n",
    "helper.preprocess_and_save_data(cifar10_dataset_folder_path, normalize, one_hot_encode)"
   ]
  },
  {
   "cell_type": "markdown",
   "metadata": {},
   "source": [
    "# Check Point\n",
    "This is your first checkpoint.  If you ever decide to come back to this notebook or have to restart the notebook, you can start from here.  The preprocessed data has been saved to disk."
   ]
  },
  {
   "cell_type": "code",
   "execution_count": 6,
   "metadata": {
    "collapsed": true
   },
   "outputs": [],
   "source": [
    "\"\"\"\n",
    "DON'T MODIFY ANYTHING IN THIS CELL\n",
    "\"\"\"\n",
    "import pickle\n",
    "import problem_unittests as tests\n",
    "import helper\n",
    "\n",
    "# Load the Preprocessed Validation data\n",
    "valid_features, valid_labels = pickle.load(open('preprocess_validation.p', mode='rb'))"
   ]
  },
  {
   "cell_type": "markdown",
   "metadata": {},
   "source": [
    "## Build the network\n",
    "For the neural network, you'll build each layer into a function.  Most of the code you've seen has been outside of functions. To test your code more thoroughly, we require that you put each layer in a function.  This allows us to give you better feedback and test for simple mistakes using our unittests before you submit your project.\n",
    "\n",
    ">**Note:** If you're finding it hard to dedicate enough time for this course each week, we've provided a small shortcut to this part of the project. In the next couple of problems, you'll have the option to use classes from the [TensorFlow Layers](https://www.tensorflow.org/api_docs/python/tf/layers) or [TensorFlow Layers (contrib)](https://www.tensorflow.org/api_guides/python/contrib.layers) packages to build each layer, except the layers you build in the \"Convolutional and Max Pooling Layer\" section.  TF Layers is similar to Keras's and TFLearn's abstraction to layers, so it's easy to pickup.\n",
    "\n",
    ">However, if you would like to get the most out of this course, try to solve all the problems _without_ using anything from the TF Layers packages. You **can** still use classes from other packages that happen to have the same name as ones you find in TF Layers! For example, instead of using the TF Layers version of the `conv2d` class, [tf.layers.conv2d](https://www.tensorflow.org/api_docs/python/tf/layers/conv2d), you would want to use the TF Neural Network version of `conv2d`, [tf.nn.conv2d](https://www.tensorflow.org/api_docs/python/tf/nn/conv2d). \n",
    "\n",
    "Let's begin!\n",
    "\n",
    "### Input\n",
    "The neural network needs to read the image data, one-hot encoded labels, and dropout keep probability. Implement the following functions\n",
    "* Implement `neural_net_image_input`\n",
    " * Return a [TF Placeholder](https://www.tensorflow.org/api_docs/python/tf/placeholder)\n",
    " * Set the shape using `image_shape` with batch size set to `None`.\n",
    " * Name the TensorFlow placeholder \"x\" using the TensorFlow `name` parameter in the [TF Placeholder](https://www.tensorflow.org/api_docs/python/tf/placeholder).\n",
    "* Implement `neural_net_label_input`\n",
    " * Return a [TF Placeholder](https://www.tensorflow.org/api_docs/python/tf/placeholder)\n",
    " * Set the shape using `n_classes` with batch size set to `None`.\n",
    " * Name the TensorFlow placeholder \"y\" using the TensorFlow `name` parameter in the [TF Placeholder](https://www.tensorflow.org/api_docs/python/tf/placeholder).\n",
    "* Implement `neural_net_keep_prob_input`\n",
    " * Return a [TF Placeholder](https://www.tensorflow.org/api_docs/python/tf/placeholder) for dropout keep probability.\n",
    " * Name the TensorFlow placeholder \"keep_prob\" using the TensorFlow `name` parameter in the [TF Placeholder](https://www.tensorflow.org/api_docs/python/tf/placeholder).\n",
    "\n",
    "These names will be used at the end of the project to load your saved model.\n",
    "\n",
    "Note: `None` for shapes in TensorFlow allow for a dynamic size."
   ]
  },
  {
   "cell_type": "code",
   "execution_count": 7,
   "metadata": {},
   "outputs": [
    {
     "name": "stdout",
     "output_type": "stream",
     "text": [
      "Image Input Tests Passed.\n",
      "Label Input Tests Passed.\n",
      "Keep Prob Tests Passed.\n"
     ]
    }
   ],
   "source": [
    "import tensorflow as tf\n",
    "\n",
    "def neural_net_image_input(image_shape):\n",
    "    \"\"\"\n",
    "    Return a Tensor for a batch of image input\n",
    "    : image_shape: Shape of the images\n",
    "    : return: Tensor for image input.\n",
    "    \"\"\"\n",
    "    # TODO: Implement Function\n",
    "    #shape = [None]\n",
    "    #shape+=image_shape\n",
    "    shape=[None, image_shape[0], image_shape[1], image_shape[2]]\n",
    "    return tf.placeholder(tf.float32, shape, name='x') #features\n",
    "\n",
    "\n",
    "def neural_net_label_input(n_classes):\n",
    "    \"\"\"\n",
    "    Return a Tensor for a batch of label input\n",
    "    : n_classes: Number of classes\n",
    "    : return: Tensor for label input.\n",
    "    \"\"\"\n",
    "    # TODO: Implement Function\n",
    "    return tf.placeholder(tf.float32, [None, n_classes], name='y') #labels\n",
    "    \n",
    "\n",
    "def neural_net_keep_prob_input():\n",
    "    \"\"\"\n",
    "    Return a Tensor for keep probability\n",
    "    : return: Tensor for keep probability.\n",
    "    \"\"\"\n",
    "    # TODO: Implement Function\n",
    "    return tf.placeholder(tf.float32, name='keep_prob')\n",
    "\n",
    "\n",
    "\"\"\"\n",
    "DON'T MODIFY ANYTHING IN THIS CELL THAT IS BELOW THIS LINE\n",
    "\"\"\"\n",
    "tf.reset_default_graph()\n",
    "tests.test_nn_image_inputs(neural_net_image_input)\n",
    "tests.test_nn_label_inputs(neural_net_label_input)\n",
    "tests.test_nn_keep_prob_inputs(neural_net_keep_prob_input)"
   ]
  },
  {
   "cell_type": "markdown",
   "metadata": {},
   "source": [
    "### Convolution and Max Pooling Layer\n",
    "Convolution layers have a lot of success with images. For this code cell, you should implement the function `conv2d_maxpool` to apply convolution then max pooling:\n",
    "* Create the weight and bias using `conv_ksize`, `conv_num_outputs` and the shape of `x_tensor`.\n",
    "* Apply a convolution to `x_tensor` using weight and `conv_strides`.\n",
    " * We recommend you use same padding, but you're welcome to use any padding.\n",
    "* Add bias\n",
    "* Add a nonlinear activation to the convolution.\n",
    "* Apply Max Pooling using `pool_ksize` and `pool_strides`.\n",
    " * We recommend you use same padding, but you're welcome to use any padding.\n",
    "\n",
    "**Note:** You **can't** use [TensorFlow Layers](https://www.tensorflow.org/api_docs/python/tf/layers) or [TensorFlow Layers (contrib)](https://www.tensorflow.org/api_guides/python/contrib.layers) for **this** layer, but you can still use TensorFlow's [Neural Network](https://www.tensorflow.org/api_docs/python/tf/nn) package. You may still use the shortcut option for all the **other** layers."
   ]
  },
  {
   "cell_type": "code",
   "execution_count": 8,
   "metadata": {},
   "outputs": [
    {
     "name": "stdout",
     "output_type": "stream",
     "text": [
      "Tests Passed\n"
     ]
    }
   ],
   "source": [
    "def conv2d_maxpool(x_tensor, conv_num_outputs, conv_ksize, conv_strides, pool_ksize, pool_strides):\n",
    "    \"\"\"\n",
    "    Apply convolution then max pooling to x_tensor\n",
    "    :param x_tensor: TensorFlow Tensor\n",
    "    :param conv_num_outputs: Number of outputs for the convolutional layer\n",
    "    :param conv_ksize: kernal size 2-D Tuple for the convolutional layer\n",
    "    :param conv_strides: Stride 2-D Tuple for convolution\n",
    "    :param pool_ksize: kernal size 2-D Tuple for pool\n",
    "    :param pool_strides: Stride 2-D Tuple for pool\n",
    "    : return: A tensor that represents convolution and max pooling of x_tensor\n",
    "    \"\"\"\n",
    "    # TODO: Implement Function\n",
    "    #filter_channels = x_tensor.get_shape().as_list()[-1]\n",
    "    filter_channels = x_tensor.get_shape().as_list()[3]\n",
    "    #print(filter_channels)\n",
    "    \n",
    "    filter_weights = tf.Variable(tf.truncated_normal( [conv_ksize[0], conv_ksize[1], filter_channels, conv_num_outputs], stddev=.05, mean=.0)) # (H, W, Depth do input, profundidade do output)\n",
    "    filter_bias = tf.Variable(tf.zeros([conv_num_outputs]))\n",
    "    \n",
    "    # Convolution\n",
    "    filter_strides = [1, conv_strides[0], conv_strides[1], 1]\n",
    "    conv_layer = tf.nn.conv2d(x_tensor, filter_weights, strides=filter_strides, padding='SAME')\n",
    "    # Add Bias\n",
    "    conv_layer = tf.nn.bias_add(conv_layer, filter_bias)\n",
    "    # ReLU\n",
    "    conv_layer = tf.nn.relu(conv_layer)\n",
    "    \n",
    "    #Pool\n",
    "    pool_size = [1, pool_ksize[0], pool_ksize[1], 1]\n",
    "    pool_strides = [1, pool_strides[0], pool_strides[1], 1]\n",
    "    conv_layer = tf.nn.max_pool(conv_layer, ksize=pool_size, strides=pool_strides, padding='SAME')    \n",
    "        \n",
    "    return conv_layer \n",
    "\n",
    "\n",
    "\"\"\"\n",
    "DON'T MODIFY ANYTHING IN THIS CELL THAT IS BELOW THIS LINE\n",
    "\"\"\"\n",
    "tests.test_con_pool(conv2d_maxpool)"
   ]
  },
  {
   "cell_type": "markdown",
   "metadata": {},
   "source": [
    "### Flatten Layer\n",
    "Implement the `flatten` function to change the dimension of `x_tensor` from a 4-D tensor to a 2-D tensor.  The output should be the shape (*Batch Size*, *Flattened Image Size*). Shortcut option: you can use classes from the [TensorFlow Layers](https://www.tensorflow.org/api_docs/python/tf/layers) or [TensorFlow Layers (contrib)](https://www.tensorflow.org/api_guides/python/contrib.layers) packages for this layer. For more of a challenge, only use other TensorFlow packages."
   ]
  },
  {
   "cell_type": "code",
   "execution_count": 9,
   "metadata": {},
   "outputs": [
    {
     "name": "stdout",
     "output_type": "stream",
     "text": [
      "Tests Passed\n"
     ]
    }
   ],
   "source": [
    "import numpy\n",
    "def flatten(x_tensor):\n",
    "    \"\"\"\n",
    "    Flatten x_tensor to (Batch Size, Flattened Image Size)\n",
    "    : x_tensor: A tensor of size (Batch Size, ...), where ... are the image dimensions.\n",
    "    : return: A tensor of size (Batch Size, Flattened Image Size).\n",
    "    \"\"\"\n",
    "    # TODO: Implement Function\n",
    "    #print(x_tensor.shape)\n",
    "    shape=x_tensor.get_shape().as_list()  \n",
    "    #flatten_shape=numpy.prod(shape[1:])\n",
    "    flatten_shape=shape[1]*shape[2]*shape[3]\n",
    "    return tf.reshape(x_tensor, shape=[-1, flatten_shape])\n",
    "\n",
    "\n",
    "\"\"\"\n",
    "DON'T MODIFY ANYTHING IN THIS CELL THAT IS BELOW THIS LINE\n",
    "\"\"\"\n",
    "tests.test_flatten(flatten)"
   ]
  },
  {
   "cell_type": "markdown",
   "metadata": {},
   "source": [
    "### Fully-Connected Layer\n",
    "Implement the `fully_conn` function to apply a fully connected layer to `x_tensor` with the shape (*Batch Size*, *num_outputs*). Shortcut option: you can use classes from the [TensorFlow Layers](https://www.tensorflow.org/api_docs/python/tf/layers) or [TensorFlow Layers (contrib)](https://www.tensorflow.org/api_guides/python/contrib.layers) packages for this layer. For more of a challenge, only use other TensorFlow packages."
   ]
  },
  {
   "cell_type": "code",
   "execution_count": 10,
   "metadata": {},
   "outputs": [
    {
     "name": "stdout",
     "output_type": "stream",
     "text": [
      "Tests Passed\n"
     ]
    }
   ],
   "source": [
    "def fully_conn(x_tensor, num_outputs):\n",
    "    \"\"\"\n",
    "    Apply a fully connected layer to x_tensor using weight and bias\n",
    "    : x_tensor: A 2-D tensor where the first dimension is batch size.\n",
    "    : num_outputs: The number of output that the new tensor should be.\n",
    "    : return: A 2-D tensor where the second dimension is num_outputs.\n",
    "    \"\"\"\n",
    "    # TODO: Implement Function\n",
    "    #print(x_tensor.shape[1])\n",
    "    fc_weights = tf.Variable(tf.truncated_normal([x_tensor.get_shape().as_list()[1], num_outputs], stddev=0.05))\n",
    "    fc_bias = tf.Variable(tf.zeros([num_outputs]))\n",
    "    \n",
    "    fc = tf.add(tf.matmul(x_tensor, fc_weights), fc_bias)\n",
    "    fc = tf.nn.relu(fc)\n",
    "    \n",
    "    return fc\n",
    "\n",
    "\n",
    "\"\"\"\n",
    "DON'T MODIFY ANYTHING IN THIS CELL THAT IS BELOW THIS LINE\n",
    "\"\"\"\n",
    "tests.test_fully_conn(fully_conn)"
   ]
  },
  {
   "cell_type": "markdown",
   "metadata": {},
   "source": [
    "### Output Layer\n",
    "Implement the `output` function to apply a fully connected layer to `x_tensor` with the shape (*Batch Size*, *num_outputs*). Shortcut option: you can use classes from the [TensorFlow Layers](https://www.tensorflow.org/api_docs/python/tf/layers) or [TensorFlow Layers (contrib)](https://www.tensorflow.org/api_guides/python/contrib.layers) packages for this layer. For more of a challenge, only use other TensorFlow packages.\n",
    "\n",
    "**Note:** Activation, softmax, or cross entropy should **not** be applied to this."
   ]
  },
  {
   "cell_type": "code",
   "execution_count": 11,
   "metadata": {},
   "outputs": [
    {
     "name": "stdout",
     "output_type": "stream",
     "text": [
      "Tests Passed\n"
     ]
    }
   ],
   "source": [
    "def output(x_tensor, num_outputs):\n",
    "    \"\"\"\n",
    "    Apply a output layer to x_tensor using weight and bias\n",
    "    : x_tensor: A 2-D tensor where the first dimension is batch size.\n",
    "    : num_outputs: The number of output that the new tensor should be.\n",
    "    : return: A 2-D tensor where the second dimension is num_outputs.\n",
    "    \"\"\"\n",
    "    # TODO: Implement Function\n",
    "    out_weights = tf.Variable(tf.truncated_normal([x_tensor.get_shape().as_list()[1], num_outputs], stddev=.05, mean=.0))\n",
    "    out_bias = tf.Variable(tf.zeros([num_outputs]))\n",
    "    \n",
    "    out_layer = tf.add(tf.matmul(x_tensor, out_weights), out_bias)\n",
    "    \n",
    "    return out_layer\n",
    "\n",
    "\n",
    "\"\"\"\n",
    "DON'T MODIFY ANYTHING IN THIS CELL THAT IS BELOW THIS LINE\n",
    "\"\"\"\n",
    "tests.test_output(output)"
   ]
  },
  {
   "cell_type": "markdown",
   "metadata": {},
   "source": [
    "### Create Convolutional Model\n",
    "Implement the function `conv_net` to create a convolutional neural network model. The function takes in a batch of images, `x`, and outputs logits.  Use the layers you created above to create this model:\n",
    "\n",
    "* Apply 1, 2, or 3 Convolution and Max Pool layers\n",
    "* Apply a Flatten Layer\n",
    "* Apply 1, 2, or 3 Fully Connected Layers\n",
    "* Apply an Output Layer\n",
    "* Return the output\n",
    "* Apply [TensorFlow's Dropout](https://www.tensorflow.org/api_docs/python/tf/nn/dropout) to one or more layers in the model using `keep_prob`. "
   ]
  },
  {
   "cell_type": "code",
   "execution_count": 12,
   "metadata": {},
   "outputs": [
    {
     "name": "stdout",
     "output_type": "stream",
     "text": [
      "Neural Network Built!\n"
     ]
    }
   ],
   "source": [
    "def conv_net(x, keep_prob):\n",
    "    \"\"\"\n",
    "    Create a convolutional neural network model\n",
    "    : x: Placeholder tensor that holds image data.\n",
    "    : keep_prob: Placeholder tensor that hold dropout keep probability.\n",
    "    : return: Tensor that represents logits\n",
    "    \"\"\"\n",
    "    # TODO: Apply 1, 2, or 3 Convolution and Max Pool layers\n",
    "    #    Play around with different number of outputs, kernel size and stride\n",
    "    # Function Definition from Above:\n",
    "    #       conv2d_maxpool(x_tensor, conv_num_outputs, conv_ksize, conv_strides, pool_ksize, pool_strides)\n",
    "    model = conv2d_maxpool(x       , 32              , (5, 5)    , (1,1)       , (2,2)     , (2,2))\n",
    "    model = conv2d_maxpool(model   , 64              , (5, 5)    , (1,1)       , (2,2)     , (2,2))   \n",
    "    \n",
    "    \n",
    "    # TODO: Apply a Flatten Layer\n",
    "    # Function Definition from Above:\n",
    "    model = flatten(model)\n",
    "    \n",
    "    \n",
    "    # TODO: Apply 1, 2, or 3 Fully Connected Layers\n",
    "    #    Play around with different number of outputs\n",
    "    # Function Definition from Above:\n",
    "    model = fully_conn(model, 128)\n",
    "    model = tf.nn.dropout(model, keep_prob)\n",
    "        \n",
    "    \n",
    "    # TODO: Apply an Output Layer\n",
    "    #    Set this to the number of classes\n",
    "    # Function Definition from Above:\n",
    "    num_outputs = 10\n",
    "    model = output(model, num_outputs)\n",
    "    \n",
    "    # TODO: return output\n",
    "    return model\n",
    "\n",
    "\n",
    "\"\"\"\n",
    "DON'T MODIFY ANYTHING IN THIS CELL THAT IS BELOW THIS LINE\n",
    "\"\"\"\n",
    "\n",
    "##############################\n",
    "## Build the Neural Network ##\n",
    "##############################\n",
    "\n",
    "# Remove previous weights, bias, inputs, etc..\n",
    "tf.reset_default_graph()\n",
    "\n",
    "# Inputs\n",
    "x = neural_net_image_input((32, 32, 3))\n",
    "y = neural_net_label_input(10)\n",
    "keep_prob = neural_net_keep_prob_input()\n",
    "\n",
    "# Model\n",
    "logits = conv_net(x, keep_prob)\n",
    "\n",
    "# Name logits Tensor, so that is can be loaded from disk after training\n",
    "logits = tf.identity(logits, name='logits')\n",
    "\n",
    "# Loss and Optimizer\n",
    "cost = tf.reduce_mean(tf.nn.softmax_cross_entropy_with_logits(logits=logits, labels=y))\n",
    "optimizer = tf.train.AdamOptimizer().minimize(cost)\n",
    "\n",
    "# Accuracy\n",
    "correct_pred = tf.equal(tf.argmax(logits, 1), tf.argmax(y, 1))\n",
    "accuracy = tf.reduce_mean(tf.cast(correct_pred, tf.float32), name='accuracy')\n",
    "\n",
    "tests.test_conv_net(conv_net)"
   ]
  },
  {
   "cell_type": "markdown",
   "metadata": {},
   "source": [
    "## Train the Neural Network\n",
    "### Single Optimization\n",
    "Implement the function `train_neural_network` to do a single optimization.  The optimization should use `optimizer` to optimize in `session` with a `feed_dict` of the following:\n",
    "* `x` for image input\n",
    "* `y` for labels\n",
    "* `keep_prob` for keep probability for dropout\n",
    "\n",
    "This function will be called for each batch, so `tf.global_variables_initializer()` has already been called.\n",
    "\n",
    "Note: Nothing needs to be returned. This function is only optimizing the neural network."
   ]
  },
  {
   "cell_type": "code",
   "execution_count": 13,
   "metadata": {},
   "outputs": [
    {
     "name": "stdout",
     "output_type": "stream",
     "text": [
      "Tests Passed\n"
     ]
    }
   ],
   "source": [
    "def train_neural_network(session, optimizer, keep_probability, feature_batch, label_batch):\n",
    "    \"\"\"\n",
    "    Optimize the session on a batch of images and labels\n",
    "    : session: Current TensorFlow session\n",
    "    : optimizer: TensorFlow optimizer function\n",
    "    : keep_probability: keep probability\n",
    "    : feature_batch: Batch of Numpy image data\n",
    "    : label_batch: Batch of Numpy label data\n",
    "    \"\"\"\n",
    "    # TODO: Implement Function\n",
    "    session.run(optimizer, feed_dict={x: feature_batch, y: label_batch, keep_prob: keep_probability})\n",
    "\n",
    "\"\"\"\n",
    "DON'T MODIFY ANYTHING IN THIS CELL THAT IS BELOW THIS LINE\n",
    "\"\"\"\n",
    "tests.test_train_nn(train_neural_network)"
   ]
  },
  {
   "cell_type": "markdown",
   "metadata": {},
   "source": [
    "### Show Stats\n",
    "Implement the function `print_stats` to print loss and validation accuracy.  Use the global variables `valid_features` and `valid_labels` to calculate validation accuracy.  Use a keep probability of `1.0` to calculate the loss and validation accuracy."
   ]
  },
  {
   "cell_type": "code",
   "execution_count": 14,
   "metadata": {
    "collapsed": true
   },
   "outputs": [],
   "source": [
    "def print_stats(session, feature_batch, label_batch, cost, accuracy):\n",
    "    \"\"\"\n",
    "    Print information about loss and validation accuracy\n",
    "    : session: Current TensorFlow session\n",
    "    : feature_batch: Batch of Numpy image data\n",
    "    : label_batch: Batch of Numpy label data\n",
    "    : cost: TensorFlow cost function\n",
    "    : accuracy: TensorFlow accuracy function\n",
    "    \"\"\"\n",
    "    # TODO: Implement Function\n",
    "    loss = session.run(cost, feed_dict={\n",
    "        x: feature_batch,\n",
    "        y: label_batch,\n",
    "        keep_prob: 1.0\n",
    "    })\n",
    "    \n",
    "    train_acc = session.run(accuracy, feed_dict={\n",
    "        x: feature_batch,\n",
    "        y: label_batch,\n",
    "        keep_prob: 1.0\n",
    "    })\n",
    "    \n",
    "    valid_acc = session.run(accuracy, feed_dict={\n",
    "        x: valid_features,\n",
    "        y: valid_labels,\n",
    "        keep_prob: 1.0\n",
    "    })    \n",
    "       \n",
    "    print(\"Loss (batch) = {:>10.4f}, Training Accuracy = {:.4f}, Validation  Accuracy = {:.4f}\"\n",
    "          .format(loss, train_acc , valid_acc))"
   ]
  },
  {
   "cell_type": "markdown",
   "metadata": {},
   "source": [
    "### Hyperparameters\n",
    "Tune the following parameters:\n",
    "* Set `epochs` to the number of iterations until the network stops learning or start overfitting\n",
    "* Set `batch_size` to the highest number that your machine has memory for.  Most people set them to common sizes of memory:\n",
    " * 64\n",
    " * 128\n",
    " * 256\n",
    " * ...\n",
    "* Set `keep_probability` to the probability of keeping a node using dropout"
   ]
  },
  {
   "cell_type": "code",
   "execution_count": 15,
   "metadata": {
    "collapsed": true
   },
   "outputs": [],
   "source": [
    "# TODO: Tune Parameters\n",
    "epochs = 30\n",
    "batch_size = 256\n",
    "keep_probability = 0.5"
   ]
  },
  {
   "cell_type": "markdown",
   "metadata": {},
   "source": [
    "### Train on a Single CIFAR-10 Batch\n",
    "Instead of training the neural network on all the CIFAR-10 batches of data, let's use a single batch. This should save time while you iterate on the model to get a better accuracy.  Once the final validation accuracy is 50% or greater, run the model on all the data in the next section."
   ]
  },
  {
   "cell_type": "code",
   "execution_count": 16,
   "metadata": {},
   "outputs": [
    {
     "name": "stdout",
     "output_type": "stream",
     "text": [
      "Checking the Training on a Single Batch...\n",
      "Epoch  1, CIFAR-10 Batch 1:  Loss (batch) =     2.0158, Training Accuracy = 0.3500, Validation  Accuracy = 0.3294\n",
      "Epoch  2, CIFAR-10 Batch 1:  Loss (batch) =     1.8749, Training Accuracy = 0.4000, Validation  Accuracy = 0.4176\n",
      "Epoch  3, CIFAR-10 Batch 1:  Loss (batch) =     1.7526, Training Accuracy = 0.3750, Validation  Accuracy = 0.4468\n",
      "Epoch  4, CIFAR-10 Batch 1:  Loss (batch) =     1.6303, Training Accuracy = 0.4500, Validation  Accuracy = 0.4476\n",
      "Epoch  5, CIFAR-10 Batch 1:  Loss (batch) =     1.4170, Training Accuracy = 0.5250, Validation  Accuracy = 0.4716\n",
      "Epoch  6, CIFAR-10 Batch 1:  Loss (batch) =     1.2840, Training Accuracy = 0.6250, Validation  Accuracy = 0.4986\n",
      "Epoch  7, CIFAR-10 Batch 1:  Loss (batch) =     1.2152, Training Accuracy = 0.6750, Validation  Accuracy = 0.4988\n",
      "Epoch  8, CIFAR-10 Batch 1:  Loss (batch) =     1.0981, Training Accuracy = 0.6250, Validation  Accuracy = 0.5206\n",
      "Epoch  9, CIFAR-10 Batch 1:  Loss (batch) =     0.9547, Training Accuracy = 0.6750, Validation  Accuracy = 0.5282\n",
      "Epoch 10, CIFAR-10 Batch 1:  Loss (batch) =     0.8930, Training Accuracy = 0.7000, Validation  Accuracy = 0.5318\n",
      "Epoch 11, CIFAR-10 Batch 1:  Loss (batch) =     0.8817, Training Accuracy = 0.7500, Validation  Accuracy = 0.5278\n",
      "Epoch 12, CIFAR-10 Batch 1:  Loss (batch) =     0.7643, Training Accuracy = 0.7500, Validation  Accuracy = 0.5416\n",
      "Epoch 13, CIFAR-10 Batch 1:  Loss (batch) =     0.6621, Training Accuracy = 0.7750, Validation  Accuracy = 0.5454\n",
      "Epoch 14, CIFAR-10 Batch 1:  Loss (batch) =     0.5907, Training Accuracy = 0.8500, Validation  Accuracy = 0.5588\n",
      "Epoch 15, CIFAR-10 Batch 1:  Loss (batch) =     0.6203, Training Accuracy = 0.8000, Validation  Accuracy = 0.5560\n",
      "Epoch 16, CIFAR-10 Batch 1:  Loss (batch) =     0.4873, Training Accuracy = 0.8750, Validation  Accuracy = 0.5630\n",
      "Epoch 17, CIFAR-10 Batch 1:  Loss (batch) =     0.4690, Training Accuracy = 0.8750, Validation  Accuracy = 0.5568\n",
      "Epoch 18, CIFAR-10 Batch 1:  Loss (batch) =     0.4383, Training Accuracy = 0.8750, Validation  Accuracy = 0.5654\n",
      "Epoch 19, CIFAR-10 Batch 1:  Loss (batch) =     0.3507, Training Accuracy = 0.9500, Validation  Accuracy = 0.5662\n",
      "Epoch 20, CIFAR-10 Batch 1:  Loss (batch) =     0.3279, Training Accuracy = 0.9500, Validation  Accuracy = 0.5686\n",
      "Epoch 21, CIFAR-10 Batch 1:  Loss (batch) =     0.2836, Training Accuracy = 0.9750, Validation  Accuracy = 0.5750\n",
      "Epoch 22, CIFAR-10 Batch 1:  Loss (batch) =     0.2778, Training Accuracy = 0.9250, Validation  Accuracy = 0.5816\n",
      "Epoch 23, CIFAR-10 Batch 1:  Loss (batch) =     0.3114, Training Accuracy = 0.9750, Validation  Accuracy = 0.5512\n",
      "Epoch 24, CIFAR-10 Batch 1:  Loss (batch) =     0.3017, Training Accuracy = 0.9250, Validation  Accuracy = 0.5640\n",
      "Epoch 25, CIFAR-10 Batch 1:  Loss (batch) =     0.2084, Training Accuracy = 0.9750, Validation  Accuracy = 0.5842\n",
      "Epoch 26, CIFAR-10 Batch 1:  Loss (batch) =     0.2021, Training Accuracy = 1.0000, Validation  Accuracy = 0.5812\n",
      "Epoch 27, CIFAR-10 Batch 1:  Loss (batch) =     0.1840, Training Accuracy = 1.0000, Validation  Accuracy = 0.6018\n",
      "Epoch 28, CIFAR-10 Batch 1:  Loss (batch) =     0.1913, Training Accuracy = 1.0000, Validation  Accuracy = 0.5912\n",
      "Epoch 29, CIFAR-10 Batch 1:  Loss (batch) =     0.1386, Training Accuracy = 1.0000, Validation  Accuracy = 0.6002\n",
      "Epoch 30, CIFAR-10 Batch 1:  Loss (batch) =     0.1650, Training Accuracy = 1.0000, Validation  Accuracy = 0.5938\n"
     ]
    }
   ],
   "source": [
    "\"\"\"\n",
    "DON'T MODIFY ANYTHING IN THIS CELL\n",
    "\"\"\"\n",
    "print('Checking the Training on a Single Batch...')\n",
    "with tf.Session() as sess:\n",
    "    # Initializing the variables\n",
    "    sess.run(tf.global_variables_initializer())\n",
    "    \n",
    "    # Training cycle\n",
    "    for epoch in range(epochs):\n",
    "        batch_i = 1\n",
    "        for batch_features, batch_labels in helper.load_preprocess_training_batch(batch_i, batch_size):\n",
    "            train_neural_network(sess, optimizer, keep_probability, batch_features, batch_labels)\n",
    "        print('Epoch {:>2}, CIFAR-10 Batch {}:  '.format(epoch + 1, batch_i), end='')\n",
    "        print_stats(sess, batch_features, batch_labels, cost, accuracy)"
   ]
  },
  {
   "cell_type": "markdown",
   "metadata": {},
   "source": [
    "### Fully Train the Model\n",
    "Now that you got a good accuracy with a single CIFAR-10 batch, try it with all five batches."
   ]
  },
  {
   "cell_type": "code",
   "execution_count": 17,
   "metadata": {},
   "outputs": [
    {
     "name": "stdout",
     "output_type": "stream",
     "text": [
      "Training...\n",
      "Epoch  1, CIFAR-10 Batch 1:  Loss (batch) =     2.0965, Training Accuracy = 0.3250, Validation  Accuracy = 0.3100\n",
      "Epoch  1, CIFAR-10 Batch 2:  Loss (batch) =     1.7460, Training Accuracy = 0.3750, Validation  Accuracy = 0.3948\n",
      "Epoch  1, CIFAR-10 Batch 3:  Loss (batch) =     1.4926, Training Accuracy = 0.5000, Validation  Accuracy = 0.4244\n",
      "Epoch  1, CIFAR-10 Batch 4:  Loss (batch) =     1.5015, Training Accuracy = 0.5250, Validation  Accuracy = 0.4530\n",
      "Epoch  1, CIFAR-10 Batch 5:  Loss (batch) =     1.5228, Training Accuracy = 0.4500, Validation  Accuracy = 0.4776\n",
      "Epoch  2, CIFAR-10 Batch 1:  Loss (batch) =     1.7318, Training Accuracy = 0.4000, Validation  Accuracy = 0.4716\n",
      "Epoch  2, CIFAR-10 Batch 2:  Loss (batch) =     1.4855, Training Accuracy = 0.4500, Validation  Accuracy = 0.4714\n",
      "Epoch  2, CIFAR-10 Batch 3:  Loss (batch) =     1.1800, Training Accuracy = 0.5750, Validation  Accuracy = 0.4936\n",
      "Epoch  2, CIFAR-10 Batch 4:  Loss (batch) =     1.2745, Training Accuracy = 0.5000, Validation  Accuracy = 0.5152\n",
      "Epoch  2, CIFAR-10 Batch 5:  Loss (batch) =     1.3158, Training Accuracy = 0.5000, Validation  Accuracy = 0.5318\n",
      "Epoch  3, CIFAR-10 Batch 1:  Loss (batch) =     1.4181, Training Accuracy = 0.5750, Validation  Accuracy = 0.5222\n",
      "Epoch  3, CIFAR-10 Batch 2:  Loss (batch) =     1.2193, Training Accuracy = 0.5250, Validation  Accuracy = 0.5430\n",
      "Epoch  3, CIFAR-10 Batch 3:  Loss (batch) =     0.9670, Training Accuracy = 0.6750, Validation  Accuracy = 0.5336\n",
      "Epoch  3, CIFAR-10 Batch 4:  Loss (batch) =     1.1191, Training Accuracy = 0.7000, Validation  Accuracy = 0.5704\n",
      "Epoch  3, CIFAR-10 Batch 5:  Loss (batch) =     1.0784, Training Accuracy = 0.6750, Validation  Accuracy = 0.5690\n",
      "Epoch  4, CIFAR-10 Batch 1:  Loss (batch) =     1.1563, Training Accuracy = 0.7000, Validation  Accuracy = 0.5486\n",
      "Epoch  4, CIFAR-10 Batch 2:  Loss (batch) =     0.9602, Training Accuracy = 0.5500, Validation  Accuracy = 0.5832\n",
      "Epoch  4, CIFAR-10 Batch 3:  Loss (batch) =     0.8513, Training Accuracy = 0.7750, Validation  Accuracy = 0.5642\n",
      "Epoch  4, CIFAR-10 Batch 4:  Loss (batch) =     0.9423, Training Accuracy = 0.7000, Validation  Accuracy = 0.5938\n",
      "Epoch  4, CIFAR-10 Batch 5:  Loss (batch) =     0.9043, Training Accuracy = 0.7750, Validation  Accuracy = 0.6068\n",
      "Epoch  5, CIFAR-10 Batch 1:  Loss (batch) =     0.9622, Training Accuracy = 0.7750, Validation  Accuracy = 0.5994\n",
      "Epoch  5, CIFAR-10 Batch 2:  Loss (batch) =     0.8071, Training Accuracy = 0.7000, Validation  Accuracy = 0.6054\n",
      "Epoch  5, CIFAR-10 Batch 3:  Loss (batch) =     0.6673, Training Accuracy = 0.7750, Validation  Accuracy = 0.6086\n",
      "Epoch  5, CIFAR-10 Batch 4:  Loss (batch) =     0.8020, Training Accuracy = 0.7250, Validation  Accuracy = 0.6212\n",
      "Epoch  5, CIFAR-10 Batch 5:  Loss (batch) =     0.7687, Training Accuracy = 0.8500, Validation  Accuracy = 0.6112\n",
      "Epoch  6, CIFAR-10 Batch 1:  Loss (batch) =     0.8407, Training Accuracy = 0.8000, Validation  Accuracy = 0.6324\n",
      "Epoch  6, CIFAR-10 Batch 2:  Loss (batch) =     0.6190, Training Accuracy = 0.8000, Validation  Accuracy = 0.6256\n",
      "Epoch  6, CIFAR-10 Batch 3:  Loss (batch) =     0.6244, Training Accuracy = 0.8250, Validation  Accuracy = 0.6426\n",
      "Epoch  6, CIFAR-10 Batch 4:  Loss (batch) =     0.7361, Training Accuracy = 0.8000, Validation  Accuracy = 0.6418\n",
      "Epoch  6, CIFAR-10 Batch 5:  Loss (batch) =     0.6710, Training Accuracy = 0.8750, Validation  Accuracy = 0.6226\n",
      "Epoch  7, CIFAR-10 Batch 1:  Loss (batch) =     0.7006, Training Accuracy = 0.7750, Validation  Accuracy = 0.6450\n",
      "Epoch  7, CIFAR-10 Batch 2:  Loss (batch) =     0.5065, Training Accuracy = 0.8750, Validation  Accuracy = 0.6352\n",
      "Epoch  7, CIFAR-10 Batch 3:  Loss (batch) =     0.5863, Training Accuracy = 0.8750, Validation  Accuracy = 0.6454\n",
      "Epoch  7, CIFAR-10 Batch 4:  Loss (batch) =     0.6081, Training Accuracy = 0.8000, Validation  Accuracy = 0.6526\n",
      "Epoch  7, CIFAR-10 Batch 5:  Loss (batch) =     0.5586, Training Accuracy = 0.9250, Validation  Accuracy = 0.6524\n",
      "Epoch  8, CIFAR-10 Batch 1:  Loss (batch) =     0.6124, Training Accuracy = 0.8250, Validation  Accuracy = 0.6374\n",
      "Epoch  8, CIFAR-10 Batch 2:  Loss (batch) =     0.4626, Training Accuracy = 0.8250, Validation  Accuracy = 0.6568\n",
      "Epoch  8, CIFAR-10 Batch 3:  Loss (batch) =     0.4922, Training Accuracy = 0.9000, Validation  Accuracy = 0.6562\n",
      "Epoch  8, CIFAR-10 Batch 4:  Loss (batch) =     0.5208, Training Accuracy = 0.8250, Validation  Accuracy = 0.6594\n",
      "Epoch  8, CIFAR-10 Batch 5:  Loss (batch) =     0.4618, Training Accuracy = 0.9000, Validation  Accuracy = 0.6586\n",
      "Epoch  9, CIFAR-10 Batch 1:  Loss (batch) =     0.4730, Training Accuracy = 0.8250, Validation  Accuracy = 0.6590\n",
      "Epoch  9, CIFAR-10 Batch 2:  Loss (batch) =     0.4061, Training Accuracy = 0.9500, Validation  Accuracy = 0.6638\n",
      "Epoch  9, CIFAR-10 Batch 3:  Loss (batch) =     0.4395, Training Accuracy = 0.9250, Validation  Accuracy = 0.6534\n",
      "Epoch  9, CIFAR-10 Batch 4:  Loss (batch) =     0.4576, Training Accuracy = 0.8250, Validation  Accuracy = 0.6636\n",
      "Epoch  9, CIFAR-10 Batch 5:  Loss (batch) =     0.3977, Training Accuracy = 0.9500, Validation  Accuracy = 0.6726\n",
      "Epoch 10, CIFAR-10 Batch 1:  Loss (batch) =     0.4295, Training Accuracy = 0.8500, Validation  Accuracy = 0.6774\n",
      "Epoch 10, CIFAR-10 Batch 2:  Loss (batch) =     0.3428, Training Accuracy = 0.9750, Validation  Accuracy = 0.6824\n",
      "Epoch 10, CIFAR-10 Batch 3:  Loss (batch) =     0.3377, Training Accuracy = 0.9500, Validation  Accuracy = 0.6782\n",
      "Epoch 10, CIFAR-10 Batch 4:  Loss (batch) =     0.4402, Training Accuracy = 0.8500, Validation  Accuracy = 0.6712\n",
      "Epoch 10, CIFAR-10 Batch 5:  Loss (batch) =     0.3418, Training Accuracy = 0.9250, Validation  Accuracy = 0.6862\n",
      "Epoch 11, CIFAR-10 Batch 1:  Loss (batch) =     0.3494, Training Accuracy = 0.9000, Validation  Accuracy = 0.6840\n",
      "Epoch 11, CIFAR-10 Batch 2:  Loss (batch) =     0.2992, Training Accuracy = 0.9750, Validation  Accuracy = 0.6770\n",
      "Epoch 11, CIFAR-10 Batch 3:  Loss (batch) =     0.3193, Training Accuracy = 0.9500, Validation  Accuracy = 0.6810\n",
      "Epoch 11, CIFAR-10 Batch 4:  Loss (batch) =     0.3479, Training Accuracy = 0.8750, Validation  Accuracy = 0.6866\n",
      "Epoch 11, CIFAR-10 Batch 5:  Loss (batch) =     0.3059, Training Accuracy = 0.9500, Validation  Accuracy = 0.6962\n",
      "Epoch 12, CIFAR-10 Batch 1:  Loss (batch) =     0.3394, Training Accuracy = 0.9000, Validation  Accuracy = 0.6842\n",
      "Epoch 12, CIFAR-10 Batch 2:  Loss (batch) =     0.2615, Training Accuracy = 0.9500, Validation  Accuracy = 0.6772\n",
      "Epoch 12, CIFAR-10 Batch 3:  Loss (batch) =     0.2695, Training Accuracy = 0.9750, Validation  Accuracy = 0.6868\n",
      "Epoch 12, CIFAR-10 Batch 4:  Loss (batch) =     0.2883, Training Accuracy = 0.9500, Validation  Accuracy = 0.6978\n",
      "Epoch 12, CIFAR-10 Batch 5:  Loss (batch) =     0.2813, Training Accuracy = 0.9250, Validation  Accuracy = 0.6808\n",
      "Epoch 13, CIFAR-10 Batch 1:  Loss (batch) =     0.2959, Training Accuracy = 0.9000, Validation  Accuracy = 0.6972\n",
      "Epoch 13, CIFAR-10 Batch 2:  Loss (batch) =     0.2463, Training Accuracy = 0.9750, Validation  Accuracy = 0.6720\n",
      "Epoch 13, CIFAR-10 Batch 3:  Loss (batch) =     0.2420, Training Accuracy = 1.0000, Validation  Accuracy = 0.6946\n",
      "Epoch 13, CIFAR-10 Batch 4:  Loss (batch) =     0.2795, Training Accuracy = 0.9750, Validation  Accuracy = 0.6864\n",
      "Epoch 13, CIFAR-10 Batch 5:  Loss (batch) =     0.2738, Training Accuracy = 0.9750, Validation  Accuracy = 0.6774\n",
      "Epoch 14, CIFAR-10 Batch 1:  Loss (batch) =     0.2676, Training Accuracy = 0.9250, Validation  Accuracy = 0.6928\n",
      "Epoch 14, CIFAR-10 Batch 2:  Loss (batch) =     0.2012, Training Accuracy = 0.9750, Validation  Accuracy = 0.6964\n",
      "Epoch 14, CIFAR-10 Batch 3:  Loss (batch) =     0.2439, Training Accuracy = 1.0000, Validation  Accuracy = 0.6782\n",
      "Epoch 14, CIFAR-10 Batch 4:  Loss (batch) =     0.2505, Training Accuracy = 0.9000, Validation  Accuracy = 0.6962\n",
      "Epoch 14, CIFAR-10 Batch 5:  Loss (batch) =     0.2163, Training Accuracy = 1.0000, Validation  Accuracy = 0.7032\n",
      "Epoch 15, CIFAR-10 Batch 1:  Loss (batch) =     0.1977, Training Accuracy = 0.9750, Validation  Accuracy = 0.7004\n"
     ]
    },
    {
     "name": "stdout",
     "output_type": "stream",
     "text": [
      "Epoch 15, CIFAR-10 Batch 2:  Loss (batch) =     0.1924, Training Accuracy = 0.9750, Validation  Accuracy = 0.6994\n",
      "Epoch 15, CIFAR-10 Batch 3:  Loss (batch) =     0.2038, Training Accuracy = 1.0000, Validation  Accuracy = 0.6920\n",
      "Epoch 15, CIFAR-10 Batch 4:  Loss (batch) =     0.2059, Training Accuracy = 0.9500, Validation  Accuracy = 0.6966\n",
      "Epoch 15, CIFAR-10 Batch 5:  Loss (batch) =     0.2074, Training Accuracy = 0.9750, Validation  Accuracy = 0.6974\n",
      "Epoch 16, CIFAR-10 Batch 1:  Loss (batch) =     0.1702, Training Accuracy = 0.9500, Validation  Accuracy = 0.7134\n",
      "Epoch 16, CIFAR-10 Batch 2:  Loss (batch) =     0.1732, Training Accuracy = 0.9750, Validation  Accuracy = 0.7020\n",
      "Epoch 16, CIFAR-10 Batch 3:  Loss (batch) =     0.1856, Training Accuracy = 1.0000, Validation  Accuracy = 0.6948\n",
      "Epoch 16, CIFAR-10 Batch 4:  Loss (batch) =     0.1835, Training Accuracy = 1.0000, Validation  Accuracy = 0.7084\n",
      "Epoch 16, CIFAR-10 Batch 5:  Loss (batch) =     0.1499, Training Accuracy = 1.0000, Validation  Accuracy = 0.6908\n",
      "Epoch 17, CIFAR-10 Batch 1:  Loss (batch) =     0.1659, Training Accuracy = 1.0000, Validation  Accuracy = 0.7072\n",
      "Epoch 17, CIFAR-10 Batch 2:  Loss (batch) =     0.1277, Training Accuracy = 0.9750, Validation  Accuracy = 0.7152\n",
      "Epoch 17, CIFAR-10 Batch 3:  Loss (batch) =     0.1393, Training Accuracy = 1.0000, Validation  Accuracy = 0.7088\n",
      "Epoch 17, CIFAR-10 Batch 4:  Loss (batch) =     0.1353, Training Accuracy = 1.0000, Validation  Accuracy = 0.7114\n",
      "Epoch 17, CIFAR-10 Batch 5:  Loss (batch) =     0.1348, Training Accuracy = 1.0000, Validation  Accuracy = 0.7122\n",
      "Epoch 18, CIFAR-10 Batch 1:  Loss (batch) =     0.1470, Training Accuracy = 0.9750, Validation  Accuracy = 0.7094\n",
      "Epoch 18, CIFAR-10 Batch 2:  Loss (batch) =     0.1254, Training Accuracy = 1.0000, Validation  Accuracy = 0.7064\n",
      "Epoch 18, CIFAR-10 Batch 3:  Loss (batch) =     0.1400, Training Accuracy = 1.0000, Validation  Accuracy = 0.7022\n",
      "Epoch 18, CIFAR-10 Batch 4:  Loss (batch) =     0.1459, Training Accuracy = 1.0000, Validation  Accuracy = 0.7110\n",
      "Epoch 18, CIFAR-10 Batch 5:  Loss (batch) =     0.1388, Training Accuracy = 1.0000, Validation  Accuracy = 0.7076\n",
      "Epoch 19, CIFAR-10 Batch 1:  Loss (batch) =     0.1081, Training Accuracy = 1.0000, Validation  Accuracy = 0.7072\n",
      "Epoch 19, CIFAR-10 Batch 2:  Loss (batch) =     0.0998, Training Accuracy = 1.0000, Validation  Accuracy = 0.7072\n",
      "Epoch 19, CIFAR-10 Batch 3:  Loss (batch) =     0.1926, Training Accuracy = 1.0000, Validation  Accuracy = 0.6856\n",
      "Epoch 19, CIFAR-10 Batch 4:  Loss (batch) =     0.1256, Training Accuracy = 1.0000, Validation  Accuracy = 0.7100\n",
      "Epoch 19, CIFAR-10 Batch 5:  Loss (batch) =     0.1102, Training Accuracy = 1.0000, Validation  Accuracy = 0.7186\n",
      "Epoch 20, CIFAR-10 Batch 1:  Loss (batch) =     0.1338, Training Accuracy = 0.9750, Validation  Accuracy = 0.7174\n",
      "Epoch 20, CIFAR-10 Batch 2:  Loss (batch) =     0.1238, Training Accuracy = 0.9750, Validation  Accuracy = 0.6930\n",
      "Epoch 20, CIFAR-10 Batch 3:  Loss (batch) =     0.1363, Training Accuracy = 0.9750, Validation  Accuracy = 0.7018\n",
      "Epoch 20, CIFAR-10 Batch 4:  Loss (batch) =     0.1281, Training Accuracy = 1.0000, Validation  Accuracy = 0.7090\n",
      "Epoch 20, CIFAR-10 Batch 5:  Loss (batch) =     0.1092, Training Accuracy = 1.0000, Validation  Accuracy = 0.7136\n",
      "Epoch 21, CIFAR-10 Batch 1:  Loss (batch) =     0.1105, Training Accuracy = 0.9750, Validation  Accuracy = 0.7258\n",
      "Epoch 21, CIFAR-10 Batch 2:  Loss (batch) =     0.0881, Training Accuracy = 1.0000, Validation  Accuracy = 0.7130\n",
      "Epoch 21, CIFAR-10 Batch 3:  Loss (batch) =     0.1008, Training Accuracy = 1.0000, Validation  Accuracy = 0.7084\n",
      "Epoch 21, CIFAR-10 Batch 4:  Loss (batch) =     0.0965, Training Accuracy = 1.0000, Validation  Accuracy = 0.7120\n",
      "Epoch 21, CIFAR-10 Batch 5:  Loss (batch) =     0.0928, Training Accuracy = 1.0000, Validation  Accuracy = 0.7250\n",
      "Epoch 22, CIFAR-10 Batch 1:  Loss (batch) =     0.1138, Training Accuracy = 1.0000, Validation  Accuracy = 0.7108\n",
      "Epoch 22, CIFAR-10 Batch 2:  Loss (batch) =     0.0897, Training Accuracy = 1.0000, Validation  Accuracy = 0.7198\n",
      "Epoch 22, CIFAR-10 Batch 3:  Loss (batch) =     0.0902, Training Accuracy = 1.0000, Validation  Accuracy = 0.7212\n",
      "Epoch 22, CIFAR-10 Batch 4:  Loss (batch) =     0.0961, Training Accuracy = 1.0000, Validation  Accuracy = 0.7092\n",
      "Epoch 22, CIFAR-10 Batch 5:  Loss (batch) =     0.0870, Training Accuracy = 1.0000, Validation  Accuracy = 0.7158\n",
      "Epoch 23, CIFAR-10 Batch 1:  Loss (batch) =     0.0868, Training Accuracy = 0.9750, Validation  Accuracy = 0.7156\n",
      "Epoch 23, CIFAR-10 Batch 2:  Loss (batch) =     0.0826, Training Accuracy = 1.0000, Validation  Accuracy = 0.7070\n",
      "Epoch 23, CIFAR-10 Batch 3:  Loss (batch) =     0.0893, Training Accuracy = 1.0000, Validation  Accuracy = 0.7226\n",
      "Epoch 23, CIFAR-10 Batch 4:  Loss (batch) =     0.0824, Training Accuracy = 1.0000, Validation  Accuracy = 0.7088\n",
      "Epoch 23, CIFAR-10 Batch 5:  Loss (batch) =     0.0688, Training Accuracy = 1.0000, Validation  Accuracy = 0.7280\n",
      "Epoch 24, CIFAR-10 Batch 1:  Loss (batch) =     0.0748, Training Accuracy = 1.0000, Validation  Accuracy = 0.7100\n",
      "Epoch 24, CIFAR-10 Batch 2:  Loss (batch) =     0.0660, Training Accuracy = 1.0000, Validation  Accuracy = 0.7120\n",
      "Epoch 24, CIFAR-10 Batch 3:  Loss (batch) =     0.0719, Training Accuracy = 1.0000, Validation  Accuracy = 0.7172\n",
      "Epoch 24, CIFAR-10 Batch 4:  Loss (batch) =     0.0709, Training Accuracy = 1.0000, Validation  Accuracy = 0.7154\n",
      "Epoch 24, CIFAR-10 Batch 5:  Loss (batch) =     0.0688, Training Accuracy = 1.0000, Validation  Accuracy = 0.7158\n",
      "Epoch 25, CIFAR-10 Batch 1:  Loss (batch) =     0.0713, Training Accuracy = 1.0000, Validation  Accuracy = 0.7012\n",
      "Epoch 25, CIFAR-10 Batch 2:  Loss (batch) =     0.0664, Training Accuracy = 1.0000, Validation  Accuracy = 0.7082\n",
      "Epoch 25, CIFAR-10 Batch 3:  Loss (batch) =     0.0600, Training Accuracy = 1.0000, Validation  Accuracy = 0.7222\n",
      "Epoch 25, CIFAR-10 Batch 4:  Loss (batch) =     0.0688, Training Accuracy = 1.0000, Validation  Accuracy = 0.7146\n",
      "Epoch 25, CIFAR-10 Batch 5:  Loss (batch) =     0.0571, Training Accuracy = 1.0000, Validation  Accuracy = 0.7130\n",
      "Epoch 26, CIFAR-10 Batch 1:  Loss (batch) =     0.0761, Training Accuracy = 1.0000, Validation  Accuracy = 0.6896\n",
      "Epoch 26, CIFAR-10 Batch 2:  Loss (batch) =     0.0758, Training Accuracy = 1.0000, Validation  Accuracy = 0.7100\n",
      "Epoch 26, CIFAR-10 Batch 3:  Loss (batch) =     0.0567, Training Accuracy = 1.0000, Validation  Accuracy = 0.7170\n",
      "Epoch 26, CIFAR-10 Batch 4:  Loss (batch) =     0.0504, Training Accuracy = 1.0000, Validation  Accuracy = 0.7124\n",
      "Epoch 26, CIFAR-10 Batch 5:  Loss (batch) =     0.0634, Training Accuracy = 1.0000, Validation  Accuracy = 0.7216\n",
      "Epoch 27, CIFAR-10 Batch 1:  Loss (batch) =     0.0641, Training Accuracy = 1.0000, Validation  Accuracy = 0.6994\n",
      "Epoch 27, CIFAR-10 Batch 2:  Loss (batch) =     0.0553, Training Accuracy = 1.0000, Validation  Accuracy = 0.7072\n",
      "Epoch 27, CIFAR-10 Batch 3:  Loss (batch) =     0.0498, Training Accuracy = 1.0000, Validation  Accuracy = 0.7164\n",
      "Epoch 27, CIFAR-10 Batch 4:  Loss (batch) =     0.0580, Training Accuracy = 1.0000, Validation  Accuracy = 0.7102\n",
      "Epoch 27, CIFAR-10 Batch 5:  Loss (batch) =     0.0484, Training Accuracy = 1.0000, Validation  Accuracy = 0.7156\n",
      "Epoch 28, CIFAR-10 Batch 1:  Loss (batch) =     0.0626, Training Accuracy = 1.0000, Validation  Accuracy = 0.7096\n",
      "Epoch 28, CIFAR-10 Batch 2:  Loss (batch) =     0.0631, Training Accuracy = 1.0000, Validation  Accuracy = 0.7066\n",
      "Epoch 28, CIFAR-10 Batch 3:  Loss (batch) =     0.0643, Training Accuracy = 1.0000, Validation  Accuracy = 0.6992\n",
      "Epoch 28, CIFAR-10 Batch 4:  Loss (batch) =     0.0385, Training Accuracy = 1.0000, Validation  Accuracy = 0.7226\n",
      "Epoch 28, CIFAR-10 Batch 5:  Loss (batch) =     0.0628, Training Accuracy = 1.0000, Validation  Accuracy = 0.7168\n",
      "Epoch 29, CIFAR-10 Batch 1:  Loss (batch) =     0.0513, Training Accuracy = 1.0000, Validation  Accuracy = 0.7064\n",
      "Epoch 29, CIFAR-10 Batch 2:  Loss (batch) =     0.0377, Training Accuracy = 1.0000, Validation  Accuracy = 0.7142\n"
     ]
    },
    {
     "name": "stdout",
     "output_type": "stream",
     "text": [
      "Epoch 29, CIFAR-10 Batch 3:  Loss (batch) =     0.0530, Training Accuracy = 1.0000, Validation  Accuracy = 0.7132\n",
      "Epoch 29, CIFAR-10 Batch 4:  Loss (batch) =     0.0502, Training Accuracy = 1.0000, Validation  Accuracy = 0.7090\n",
      "Epoch 29, CIFAR-10 Batch 5:  Loss (batch) =     0.0520, Training Accuracy = 1.0000, Validation  Accuracy = 0.7012\n",
      "Epoch 30, CIFAR-10 Batch 1:  Loss (batch) =     0.0611, Training Accuracy = 1.0000, Validation  Accuracy = 0.7010\n",
      "Epoch 30, CIFAR-10 Batch 2:  Loss (batch) =     0.0513, Training Accuracy = 1.0000, Validation  Accuracy = 0.7174\n",
      "Epoch 30, CIFAR-10 Batch 3:  Loss (batch) =     0.0371, Training Accuracy = 1.0000, Validation  Accuracy = 0.7056\n",
      "Epoch 30, CIFAR-10 Batch 4:  Loss (batch) =     0.0535, Training Accuracy = 1.0000, Validation  Accuracy = 0.7012\n",
      "Epoch 30, CIFAR-10 Batch 5:  Loss (batch) =     0.0347, Training Accuracy = 1.0000, Validation  Accuracy = 0.7200\n"
     ]
    }
   ],
   "source": [
    "\"\"\"\n",
    "DON'T MODIFY ANYTHING IN THIS CELL\n",
    "\"\"\"\n",
    "save_model_path = './image_classification'\n",
    "\n",
    "print('Training...')\n",
    "with tf.Session() as sess:\n",
    "    # Initializing the variables\n",
    "    sess.run(tf.global_variables_initializer())\n",
    "    \n",
    "    # Training cycle\n",
    "    for epoch in range(epochs):\n",
    "        # Loop over all batches\n",
    "        n_batches = 5\n",
    "        for batch_i in range(1, n_batches + 1):\n",
    "            for batch_features, batch_labels in helper.load_preprocess_training_batch(batch_i, batch_size):\n",
    "                train_neural_network(sess, optimizer, keep_probability, batch_features, batch_labels)\n",
    "            print('Epoch {:>2}, CIFAR-10 Batch {}:  '.format(epoch + 1, batch_i), end='')\n",
    "            print_stats(sess, batch_features, batch_labels, cost, accuracy)\n",
    "            \n",
    "    # Save Model\n",
    "    saver = tf.train.Saver()\n",
    "    save_path = saver.save(sess, save_model_path)"
   ]
  },
  {
   "cell_type": "markdown",
   "metadata": {},
   "source": [
    "# Checkpoint\n",
    "The model has been saved to disk.\n",
    "## Test Model\n",
    "Test your model against the test dataset.  This will be your final accuracy. You should have an accuracy greater than 50%. If you don't, keep tweaking the model architecture and parameters."
   ]
  },
  {
   "cell_type": "code",
   "execution_count": 18,
   "metadata": {},
   "outputs": [
    {
     "name": "stdout",
     "output_type": "stream",
     "text": [
      "INFO:tensorflow:Restoring parameters from ./image_classification\n",
      "Testing Accuracy: 0.70341796875\n",
      "\n"
     ]
    },
    {
     "data": {
      "image/png": "[encoded data removed]",
      "text/plain": [
       "<matplotlib.figure.Figure at 0x351fa58>"
      ]
     },
     "metadata": {
      "image/png": {
       "height": 319,
       "width": 355
      }
     },
     "output_type": "display_data"
    }
   ],
   "source": [
    "\"\"\"\n",
    "DON'T MODIFY ANYTHING IN THIS CELL\n",
    "\"\"\"\n",
    "%matplotlib inline\n",
    "%config InlineBackend.figure_format = 'retina'\n",
    "\n",
    "import tensorflow as tf\n",
    "import pickle\n",
    "import helper\n",
    "import random\n",
    "\n",
    "# Set batch size if not already set\n",
    "try:\n",
    "    if batch_size:\n",
    "        pass\n",
    "except NameError:\n",
    "    batch_size = 64\n",
    "\n",
    "save_model_path = './image_classification'\n",
    "n_samples = 4\n",
    "top_n_predictions = 3\n",
    "\n",
    "def test_model():\n",
    "    \"\"\"\n",
    "    Test the saved model against the test dataset\n",
    "    \"\"\"\n",
    "\n",
    "    test_features, test_labels = pickle.load(open('preprocess_test.p', mode='rb'))\n",
    "    loaded_graph = tf.Graph()\n",
    "\n",
    "    with tf.Session(graph=loaded_graph) as sess:\n",
    "        # Load model\n",
    "        loader = tf.train.import_meta_graph(save_model_path + '.meta')\n",
    "        loader.restore(sess, save_model_path)\n",
    "\n",
    "        # Get Tensors from loaded model\n",
    "        loaded_x = loaded_graph.get_tensor_by_name('x:0')\n",
    "        loaded_y = loaded_graph.get_tensor_by_name('y:0')\n",
    "        loaded_keep_prob = loaded_graph.get_tensor_by_name('keep_prob:0')\n",
    "        loaded_logits = loaded_graph.get_tensor_by_name('logits:0')\n",
    "        loaded_acc = loaded_graph.get_tensor_by_name('accuracy:0')\n",
    "        \n",
    "        # Get accuracy in batches for memory limitations\n",
    "        test_batch_acc_total = 0\n",
    "        test_batch_count = 0\n",
    "        \n",
    "        for test_feature_batch, test_label_batch in helper.batch_features_labels(test_features, test_labels, batch_size):\n",
    "            test_batch_acc_total += sess.run(\n",
    "                loaded_acc,\n",
    "                feed_dict={loaded_x: test_feature_batch, loaded_y: test_label_batch, loaded_keep_prob: 1.0})\n",
    "            test_batch_count += 1\n",
    "\n",
    "        print('Testing Accuracy: {}\\n'.format(test_batch_acc_total/test_batch_count))\n",
    "\n",
    "        # Print Random Samples\n",
    "        random_test_features, random_test_labels = tuple(zip(*random.sample(list(zip(test_features, test_labels)), n_samples)))\n",
    "        random_test_predictions = sess.run(\n",
    "            tf.nn.top_k(tf.nn.softmax(loaded_logits), top_n_predictions),\n",
    "            feed_dict={loaded_x: random_test_features, loaded_y: random_test_labels, loaded_keep_prob: 1.0})\n",
    "        helper.display_image_predictions(random_test_features, random_test_labels, random_test_predictions)\n",
    "\n",
    "\n",
    "test_model()"
   ]
  },
  {
   "cell_type": "markdown",
   "metadata": {},
   "source": [
    "## Why 50-80% Accuracy?\n",
    "You might be wondering why you can't get an accuracy any higher. First things first, 50% isn't bad for a simple CNN.  Pure guessing would get you 10% accuracy. However, you might notice people are getting scores [well above 80%](http://rodrigob.github.io/are_we_there_yet/build/classification_datasets_results.html#43494641522d3130).  That's because we haven't taught you all there is to know about neural networks. We still need to cover a few more techniques.\n",
    "## Submitting This Project\n",
    "When submitting this project, make sure to run all the cells before saving the notebook.  Save the notebook file as \"dlnd_image_classification.ipynb\" and save it as a HTML file under \"File\" -> \"Download as\".  Include the \"helper.py\" and \"problem_unittests.py\" files in your submission."
   ]
  }
 ],
 "metadata": {
  "kernelspec": {
   "display_name": "Python 3",
   "language": "python",
   "name": "python3"
  },
  "language_info": {
   "codemirror_mode": {
    "name": "ipython",
    "version": 3
   },
   "file_extension": ".py",
   "mimetype": "text/x-python",
   "name": "python",
   "nbconvert_exporter": "python",
   "pygments_lexer": "ipython3",
   "version": "3.5.4"
  }
 },
 "nbformat": 4,
 "nbformat_minor": 1
}
