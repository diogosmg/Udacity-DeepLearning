{
 "cells": [
  {
   "cell_type": "markdown",
   "metadata": {},
   "source": [
    "# TV Script Generation\n",
    "In this project, you'll generate your own [Simpsons](https://en.wikipedia.org/wiki/The_Simpsons) TV scripts using RNNs.  You'll be using part of the [Simpsons dataset](https://www.kaggle.com/wcukierski/the-simpsons-by-the-data) of scripts from 27 seasons.  The Neural Network you'll build will generate a new TV script for a scene at [Moe's Tavern](https://simpsonswiki.com/wiki/Moe's_Tavern).\n",
    "## Get the Data\n",
    "The data is already provided for you.  You'll be using a subset of the original dataset.  It consists of only the scenes in Moe's Tavern.  This doesn't include other versions of the tavern, like \"Moe's Cavern\", \"Flaming Moe's\", \"Uncle Moe's Family Feed-Bag\", etc.."
   ]
  },
  {
   "cell_type": "code",
   "execution_count": 1,
   "metadata": {
    "collapsed": true
   },
   "outputs": [],
   "source": [
    "\"\"\"\n",
    "DON'T MODIFY ANYTHING IN THIS CELL\n",
    "\"\"\"\n",
    "import helper\n",
    "\n",
    "data_dir = './data/simpsons/moes_tavern_lines.txt'\n",
    "text = helper.load_data(data_dir)\n",
    "# Ignore notice, since we don't use it for analysing the data\n",
    "text = text[81:]"
   ]
  },
  {
   "cell_type": "markdown",
   "metadata": {},
   "source": [
    "## Explore the Data\n",
    "Play around with `view_sentence_range` to view different parts of the data."
   ]
  },
  {
   "cell_type": "code",
   "execution_count": 2,
   "metadata": {},
   "outputs": [
    {
     "name": "stdout",
     "output_type": "stream",
     "text": [
      "Dataset Stats\n",
      "Roughly the number of unique words: 11492\n",
      "Number of scenes: 262\n",
      "Average number of sentences in each scene: 15.251908396946565\n",
      "Number of lines: 4258\n",
      "Average number of words in each line: 11.50164396430249\n",
      "\n",
      "The sentences 30 to 100:\n",
      "Moe_Szyslak: What's the matter, Homer? The depressin' effects of alcohol usually don't kick in 'til closing time.\n",
      "Lisa_Simpson: He's just a little nervous. (PROUDLY) He has to give a speech tomorrow on \"How To Keep Cool In A Crisis.\"\n",
      "Homer_Simpson: (SOBS) What am I gonna do? What am I gonna do?\n",
      "Barney_Gumble: Hey, I had to give a speech once. I was pretty nervous, so I used a little trick. I pictured everyone in their underwear. The judge, the jury, my lawyer, everybody.\n",
      "Homer_Simpson: Did it work?\n",
      "Barney_Gumble: I'm a free man, ain't I?\n",
      "Barney_Gumble: Whoa!\n",
      "Barney_Gumble: Huh? A pretzel? Wow, looks like I pulled a Homer!\n",
      "\n",
      "\n",
      "Patrons: (MUMBLING, NOT IN UNISON) Happy thoughts... happy thoughts... we love that boy.\n",
      "Moe_Szyslak: (INTO PHONE) Moe's Tavern. Hold on, I'll check. ... (LOUD) Hey everybody! I'm a stupid moron with an ugly face and a big butt, and my butt smells, and I like to kiss my own butt.\n",
      "Barney_Gumble: That's a new one (LAUGHING).\n",
      "Moe_Szyslak: Now wait a minute...\n",
      "\n",
      "\n",
      "Homer_Simpson: Hurry, Moe, hurry! I've only got five minutes till the music store closes.\n",
      "Moe_Szyslak: Why don't you go there first?\n",
      "Homer_Simpson: Hey, do I tell you how to do your job?\n",
      "Moe_Szyslak: Sorry, Homer.\n",
      "Homer_Simpson: You know, if you tip the glass, there won't be so much foam on top.\n",
      "Moe_Szyslak: Sorry, Homer.\n",
      "Homer_Simpson: (LOOKING AT WATCH) Ah. Finished with fifteen seconds to spare.\n",
      "Little_Man: (CONCERNED) What's the matter, buddy?\n",
      "Homer_Simpson: The moron next door closed early!\n",
      "Little_Man: (STIFFENING) I happen to be that moron.\n",
      "Homer_Simpson: Oh, me and my trenchant mouth.\n",
      "Homer_Simpson: Please, you've got to open that store.\n",
      "Little_Man: Let me think about it... Eh... No.\n",
      "Homer_Simpson: Okay, okay. But I want you to see a picture of the little girl you're disappointing. (GOES THROUGH HIS WALLET) Well I don't have one.\n",
      "Moe_Szyslak: (TO LITTLE MAN) Come on, Jer. Open up. Be a pal. Remember when I pulled you and your wife out of that burning car?\n",
      "Little_Man: (GRUDGINGLY) Okay. Okay. But now we're even. (TO HOMER) So what does your daughter need?\n",
      "Homer_Simpson: (SMOOTHLY) I'll have you know, I wrote it down.\n",
      "Homer_Simpson: Number Four and a half -- Stupid gum!\n",
      "Homer_Simpson: Number Four and a Half reed! Whoo hoo!\n",
      "Little_Man: Uh-huh. And what instrument does she play?\n",
      "Homer_Simpson: (SUNK) I dunno.\n",
      "\n",
      "\n",
      "Moe_Szyslak: (TO PATRONS) Figure of speech.\n",
      "Moe_Szyslak: Hiya, Homer. (SIGHS)\n",
      "Homer_Simpson: What's the matter, Moe?\n",
      "Moe_Szyslak: Ah, business is slow. People today are healthier and drinking less. You know, if it wasn't for the Junior High school next door no one would even use the cigarette machine.\n",
      "Homer_Simpson: (MOUTH FULL) Yeah, things are tough all over.\n",
      "Moe_Szyslak: Increased job satisfaction and family togetherness are poison for a purveyor of mind-numbing intoxicants like myself.\n",
      "Homer_Simpson: Could I get a beer?\n",
      "Moe_Szyslak: Uh, yeah, sure.\n",
      "Moe_Szyslak: Oh sorry, I forgot we're out of beer.\n",
      "Moe_Szyslak: Yeah, I know, I got behind on my beer payments. The distributor cut me off and I spent my last ten grand on the \"Love Tester\".\n",
      "Moe_Szyslak: You're too late, Homer. Barney sucked it dry. Cut his gums up pretty bad.\n",
      "Moe_Szyslak: Take it easy, Homer. I learned how to make other drinks at Bartender's School.\n",
      "Moe_Szyslak: (UNFAMILIAR) Gin and... tonic? Do they mix?\n",
      "Homer_Simpson: (BRIGHTENING) Hey, I know a good drink. Really hits the spot. I invented it myself...\n",
      "Moe_Szyslak: Sorry, Harv.\n",
      "Moe_Szyslak: Whoa, sounds like one hell of a drink. What do you call it?\n",
      "Homer_Simpson: A \"Flaming Homer\".\n",
      "Moe_Szyslak: Okay, why don't you make us up a couple of \"Flaming Homers\"?\n",
      "Homer_Simpson: Hey Moe, you got any cough syrup?\n",
      "Moe_Szyslak: Uh, let me check the lost and found.\n",
      "Moe_Szyslak: What do we got here, Bowie knife, troll doll, glass eye...\n",
      "Moe_Szyslak: Oh. Here we are.\n",
      "Moe_Szyslak: It's not without its charm.\n",
      "Homer_Simpson: Try lighting it on fire.\n",
      "Moe_Szyslak: (SMILING) Whoa! Homer, it's like there's a party in my mouth and everyone's invited.\n",
      "Larry: Hey, your Love Tester's busted. I want my nickel back. (COUGHS)\n",
      "Moe_Szyslak: Hey, buddy. Have one on the house.\n",
      "Larry: Hey, hey, this drink is delicious! And my phlegm feels looser. What do you call it?\n",
      "Homer_Simpson: Well, it's called a \"Flaming...\n",
      "Moe_Szyslak: Moe! It's called a \"Flaming Moe\"! That's right, a \"Flaming Moe\". My name is Moe, and I invented it. That's why it's called a Flaming Moe. What? What are you lookin' at, Homer? It's a Flaming Moe I'm Moe.\n",
      "Barney_Gumble: Hey, what's this?\n"
     ]
    }
   ],
   "source": [
    "view_sentence_range = (30, 100)\n",
    "\n",
    "\"\"\"\n",
    "DON'T MODIFY ANYTHING IN THIS CELL\n",
    "\"\"\"\n",
    "import numpy as np\n",
    "\n",
    "print('Dataset Stats')\n",
    "print('Roughly the number of unique words: {}'.format(len({word: None for word in text.split()})))\n",
    "scenes = text.split('\\n\\n')\n",
    "print('Number of scenes: {}'.format(len(scenes)))\n",
    "sentence_count_scene = [scene.count('\\n') for scene in scenes]\n",
    "print('Average number of sentences in each scene: {}'.format(np.average(sentence_count_scene)))\n",
    "\n",
    "sentences = [sentence for scene in scenes for sentence in scene.split('\\n')]\n",
    "print('Number of lines: {}'.format(len(sentences)))\n",
    "word_count_sentence = [len(sentence.split()) for sentence in sentences]\n",
    "print('Average number of words in each line: {}'.format(np.average(word_count_sentence)))\n",
    "\n",
    "print()\n",
    "print('The sentences {} to {}:'.format(*view_sentence_range))\n",
    "print('\\n'.join(text.split('\\n')[view_sentence_range[0]:view_sentence_range[1]]))"
   ]
  },
  {
   "cell_type": "markdown",
   "metadata": {},
   "source": [
    "## Implement Preprocessing Functions\n",
    "The first thing to do to any dataset is preprocessing.  Implement the following preprocessing functions below:\n",
    "- Lookup Table\n",
    "- Tokenize Punctuation\n",
    "\n",
    "### Lookup Table\n",
    "To create a word embedding, you first need to transform the words to ids.  In this function, create two dictionaries:\n",
    "- Dictionary to go from the words to an id, we'll call `vocab_to_int`\n",
    "- Dictionary to go from the id to word, we'll call `int_to_vocab`\n",
    "\n",
    "Return these dictionaries in the following tuple `(vocab_to_int, int_to_vocab)`"
   ]
  },
  {
   "cell_type": "code",
   "execution_count": 3,
   "metadata": {},
   "outputs": [
    {
     "name": "stdout",
     "output_type": "stream",
     "text": [
      "{'enhance': 20, 'ice': 21, 'rotch': 1, 'you': 2, 'the': 7, 'hello': 22, 'effervescent': 23, 'mike': 3, 'anybody': 54, 'should': 8, \"i'll\": 25, 'barney_gumble': 24, 'back': 27, 'my': 13, 'name': 9, 'one': 10, 'self': 67, 'drink': 5, 'gonna': 11, 'of': 30, 'problems': 12, 'tavern': 31, 'only': 32, \"moe's\": 28, 'homer_simpson': 33, 'lately': 34, \"you're\": 42, 'elite': 36, 'hold': 37, 'forget': 38, 'these': 53, 'whats': 40, 'catch': 41, 'meet': 35, 'listen': 43, 'got': 44, 'pick': 45, 'me': 46, 'has': 26, 'yeah': 19, 'social': 48, 'bart_simpson': 49, 'carve': 50, 'days': 51, 'hey': 14, 'homer': 15, 'check': 52, 'normal': 29, 'another': 39, 'there': 55, 'your': 4, 'matter': 56, \"i'm\": 16, 'on': 17, 'is': 57, 'i': 58, 'moe': 59, 'puke': 60, 'where': 47, 'give': 62, 'an': 63, 'last': 64, 'not': 18, 'skills': 65, 'and': 66, 'moe_szyslak': 0, 'with': 61, 'to': 6, 'seen': 68, 'eh': 69, 'little': 70}\n",
      "Tests Passed\n"
     ]
    }
   ],
   "source": [
    "import numpy as np\n",
    "from collections import Counter\n",
    "import problem_unittests as tests\n",
    "\n",
    "def create_lookup_tables(text):\n",
    "    \"\"\"\n",
    "    Create lookup tables for vocabulary\n",
    "    :param text: The text of tv scripts split into words\n",
    "    :return: A tuple of dicts (vocab_to_int, int_to_vocab)\n",
    "    \"\"\"\n",
    "    # TODO: Implement Function\n",
    "    word_counts = Counter(text)\n",
    "    sorted_vocab = sorted(word_counts, key=word_counts.get, reverse=True) # sorted vocab\n",
    "    int_to_vocab = {iint: word for iint, word in enumerate(sorted_vocab)}\n",
    "    vocab_to_int = {word: iint for iint, word in int_to_vocab.items()}\n",
    "    print(vocab_to_int)\n",
    "    return vocab_to_int, int_to_vocab\n",
    "\n",
    "\n",
    "\"\"\"\n",
    "DON'T MODIFY ANYTHING IN THIS CELL THAT IS BELOW THIS LINE\n",
    "\"\"\"\n",
    "tests.test_create_lookup_tables(create_lookup_tables)"
   ]
  },
  {
   "cell_type": "markdown",
   "metadata": {},
   "source": [
    "### Tokenize Punctuation\n",
    "We'll be splitting the script into a word array using spaces as delimiters.  However, punctuations like periods and exclamation marks make it hard for the neural network to distinguish between the word \"bye\" and \"bye!\".\n",
    "\n",
    "Implement the function `token_lookup` to return a dict that will be used to tokenize symbols like \"!\" into \"||Exclamation_Mark||\".  Create a dictionary for the following symbols where the symbol is the key and value is the token:\n",
    "- Period ( . )\n",
    "- Comma ( , )\n",
    "- Quotation Mark ( \" )\n",
    "- Semicolon ( ; )\n",
    "- Exclamation mark ( ! )\n",
    "- Question mark ( ? )\n",
    "- Left Parentheses ( ( )\n",
    "- Right Parentheses ( ) )\n",
    "- Dash ( -- )\n",
    "- Return ( \\n )\n",
    "\n",
    "This dictionary will be used to token the symbols and add the delimiter (space) around it.  This separates the symbols as it's own word, making it easier for the neural network to predict on the next word. Make sure you don't use a token that could be confused as a word. Instead of using the token \"dash\", try using something like \"||dash||\"."
   ]
  },
  {
   "cell_type": "code",
   "execution_count": 4,
   "metadata": {},
   "outputs": [
    {
     "name": "stdout",
     "output_type": "stream",
     "text": [
      "Tests Passed\n"
     ]
    }
   ],
   "source": [
    "def token_lookup():\n",
    "    \"\"\"\n",
    "    Generate a dict to turn punctuation into a token.\n",
    "    :return: Tokenize dictionary where the key is the punctuation and the value is the token\n",
    "    \"\"\"\n",
    "    # TODO: Implement Function\n",
    "    tokens = {}\n",
    "    tokens['.']= '||PERIOD||'\n",
    "    tokens[',']= '||COMMA||'\n",
    "    tokens['\"']= '||QUOTATION_MARK||'\n",
    "    tokens[';']= '||SEMICOLON||'\n",
    "    tokens['!']= '||EXCLAMATION_MARK||'\n",
    "    tokens['?']= '||QUESTION_MARK||'\n",
    "    tokens['(']= '||LEFT_PAREN||'\n",
    "    tokens[')']= '||RIGHT_PAREN||'\n",
    "    tokens['--']= '||DASH||'\n",
    "    tokens['\\n']= '||RETURN||'\n",
    "    return tokens\n",
    "\n",
    "\"\"\"\n",
    "DON'T MODIFY ANYTHING IN THIS CELL THAT IS BELOW THIS LINE\n",
    "\"\"\"\n",
    "tests.test_tokenize(token_lookup)"
   ]
  },
  {
   "cell_type": "markdown",
   "metadata": {},
   "source": [
    "## Preprocess all the data and save it\n",
    "Running the code cell below will preprocess all the data and save it to file."
   ]
  },
  {
   "cell_type": "code",
   "execution_count": 5,
   "metadata": {},
   "outputs": [
    {
     "name": "stdout",
     "output_type": "stream",
     "text": [
      "{\"d'\": 2896, 'company': 841, 'couple': 664, 'conference': 1900, 'burg': 2897, 'wild': 2898, 'briefly': 5498, 'dumbass': 2900, 'leprechaun': 2901, 'moonnnnnnnn': 2902, 'sells': 6134, \"singin'\": 2903, 'hushed': 2904, 'zinged': 2905, 'glen': 1439, 'rent': 2952, 'sarcastic': 1170, 'calm': 961, 'species': 2907, 'lessons': 962, 'coney': 1440, 'tang': 1901, 'heh-heh': 2908, 'come': 94, 'voice:': 1902, '||semicolon||': 729, 'laid': 2909, 'chug-monkeys': 2910, 'stirring': 1171, \"wonderin'\": 1903, 'mean': 181, 'king': 665, 'designer': 2911, 'skinny': 2912, 'therapist': 2738, 'harvard': 2914, 'swimmers': 4866, 'aerospace': 2916, 'week': 842, 'customers': 963, 'once': 332, 'clearing': 2917, 'painted': 2918, 'eliminate': 2919, 'lanes': 2920, 'acceptance': 2921, 'larson': 2922, 'into': 121, 'poor': 604, 'lumpa': 2923, 'forget-me-shot': 1178, 'hi': 442, 'career': 1172, 'combine': 1904, 'abolish': 2925, 'nerve': 1905, 'devils:': 2926, 'young_barfly:': 2927, 'stengel': 2928, 'hyper-credits': 2929, 'marmaduke': 1936, \"they've\": 1173, 'shrieks': 2931, 'charlie': 2577, 'gesture': 2932, 'drummer': 2933, 'day': 155, \"men's\": 1441, 'bart_simpson:': 145, 'scared': 730, 'thinks': 605, 'theme': 4871, '_burns_heads:': 2935, 'buy': 263, 'powerful': 1443, 'burglary': 2936, 'noooooooooo': 2937, 'morose': 1906, 'stores': 2938, 'susie-q': 5764, 'robin': 2939, '50%': 2940, 'absolut': 2941, 'share': 1815, 'scram': 2943, 'finally': 731, 'bill': 1189, 'street': 824, 'composite': 6741, 'permitting': 2946, 'flanders': 843, 'woodchucks': 2947, 'happily:': 2948, 'every': 233, 'excitement': 1907, 'life:': 2949, 'slice': 2044, 'harder': 1908, 'brothers': 1909, 's-a-u-r-c-e': 2951, 'whatchamacallit': 2953, 'covers': 1444, \"raggin'\": 2954, 'sitar': 2573, 'enemy': 1445, 'checks': 1446, 'guy': 128, 'woman_bystander:': 1910, 'boozebag': 2955, 'alfalfa': 1911, 'arguing': 2956, 'lotsa': 2957, 'patrons:': 2958, 'machine': 549, \"drexel's\": 2959, 'gas': 1174, 'musical': 2960, 'mrs': 732, 'pasta': 4421, 'bras': 5703, \"who'da\": 2961, 'watched': 2962, 'shoulders': 2963, 'stripe': 2964, 'sense': 1175, 'barney-shaped_form:': 1447, 'imported-sounding': 2966, 'plant': 733, \"aren'tcha\": 2968, 'lately': 1448, 'puke-pail': 2969, 'dollar': 1176, 'blind': 2970, 'sustain': 2971, 'sector': 1912, 'ye': 1913, 'rumor': 2972, 'mudflap': 1449, 'year': 606, 'lachrymose': 2973, 'tropical': 2974, 'dumb-asses': 2975, 'money': 144, 'luv': 2976, 'problem': 360, 'danish': 1914, 'streetlights': 5767, 'exchanged': 2978, 'seem': 1177, 'tomorrow': 443, 'sobo': 2979, 'sisters': 1491, 'malted': 2981, 'channel': 734, 'backbone': 2982, 'bell': 2983, 'bunch': 1450, 'home': 197, 'expired': 2984, 'coy': 2985, 'w': 1915, 'often': 2986, 'notice': 2987, 'dreams': 1916, 'eaters': 2988, \"robbin'\": 1451, 'methinks': 2989, 'named': 964, \"somethin':\": 2990, 'placing': 2027, 'vestigial': 2992, 'overstressed': 2906, 'undies': 2994, 'al_gore:': 1452, 'motel': 1453, 'reader': 2995, 'linda': 1917, 'smiles': 2996, 'miles': 1918, 'throw': 666, 'lame': 2997, 'kirk': 2998, 'buddy': 667, 'east': 2999, 'ahem': 3000, 'luxury': 3001, 'wing': 1919, 'bags': 1920, 'washer': 3002, 'meanwhile': 3003, 'lowers': 955, 'eddie:': 1265, 'groveling': 3005, 'uniforms': 5527, 'scanning': 6149, 'jar': 1003, 'curiosity': 3007, 'weird': 735, 'just': 38, 'crap': 736, \"y'money's\": 3008, \"could've\": 1454, 'marched': 3009, 'piece': 965, 'wish': 333, \"that's\": 58, 'mock-up': 3559, 'kwik-e-mart': 1455, 'bono:': 6324, \"disrobin'\": 3011, 'muslim': 3012, 'freely': 3013, 'firm': 5512, 'pets': 3014, 'saying': 737, 'actors': 1921, 'heavyset': 1922, 'shoe': 3015, 'why': 109, 'gutenberg': 3016, 'everywhere': 3017, 'father': 1400, 'somewhere': 1880, \"thing's\": 3018, 'advertising': 3019, \"pickin'\": 3020, \"'til\": 1456, 'unfortunately': 2575, 'bedbugs': 1923, 'freaky': 3022, 'sneeze': 3023, \"callin'\": 966, 'stand': 550, 'transfer': 3024, 'chug-a-lug': 5729, 'shriners': 3025, 'staying': 1457, 'enforced': 5976, \"showin'\": 1924, 'teenage_homer:': 1925, 'simplest': 3026, 'certain': 1926, 'disco_stu:': 3027, 'lift': 3028, 'compromise:': 3029, 'strain': 3030, 'deer': 967, \"i-i'm\": 1458, 'stagy': 1406, 'sure': 129, 'line': 1380, 'counting': 968, 'troy': 1927, 'kazoo': 3033, 'expression': 1928, 'seriously': 1929, 'agnes_skinner:': 680, 'germans': 3036, 'cleaning': 5519, 'ing': 3038, 'concerned': 1459, 'self-satisfied': 3039, 'rims': 4726, 'rounds': 1930, 'mr': 188, 'expect': 1460, 'bragging': 3042, 'trouble': 513, 'nauseous': 3043, 'hall': 1461, 'helen': 2124, 'exactly': 675, 'awful': 1462, 'crowd:': 607, 'poison': 6108, \"stayin'\": 3045, 'wipes': 3046, 'lap': 2128, \"'ceptin'\": 2924, 'remembered': 1931, 'heartless': 3048, 'geysir': 5712, 'peanut': 1932, 'clothespins': 3050, 'published': 3052, 'happiness': 3053, 'amanda': 1179, 'deeper': 3054, 'fwooof': 3055, 'congoleum': 3056, 'jebediah': 1933, 'boisterous': 3057, 'frogs': 3059, 'dracula': 3060, 'blaze': 3061, 'barstools': 3062, 'loboto-moth': 3063, 'tab': 668, 'cowboys': 1934, 'ah': 116, 'fifteen': 1180, 'patty_bouvier:': 669, 'crawl': 1463, 'gulps': 3064, 'afraid': 798, 'thing:': 6164, 'snapping': 3067, 'answer': 1181, 'other_player:': 3068, 'cheaper': 3069, 'field': 1182, 'apron': 3070, 'brockelstein': 6393, 'capuchin': 3072, 'admitting': 2752, 'date': 470, 'choke': 3074, 'and': 14, 'taste': 3075, 'einstein': 3076, 'mahatma': 3077, 'blissful': 3078, 'we-we-we': 3079, 'built': 1935, 'cannoli': 3080, 'cigars': 3081, 'frozen': 3082, 'ura': 2930, 'nation': 1464, 'spews': 3083, 'south': 1419, 'hyahh': 3084, 'rebuilt': 3085, 'filed': 3086, 'yew': 3087, \"what'll\": 1183, 'stretch': 3088, \"cupid's\": 3089, 'libido': 3090, 'falcons': 1937, 'tickets': 3091, 'specific': 3092, 'c': 289, 'rolling': 1938, 'cheese': 1939, 'firmly': 1940, 'borrow': 1941, 'cheated': 3094, 'flophouse': 4083, 'mumble': 3096, 'tall': 3097, 'cocking': 3098, 'teacup': 3099, 'restless': 3100, 'dress': 1942, 'homer_doubles:': 3101, 'ruint': 3102, 'burps': 1186, 'murmur': 1943, 'halfway': 3103, \"feelin's\": 3104, 'hanging': 969, 'restaurants': 1944, 'smithers': 423, 'snackie': 3105, 'bolting': 3106, 'monster': 1184, 'glamour': 3107, 'opportunity': 1185, 'ears': 3108, 'mint': 3109, 'hangover': 3110, 'slugger': 4898, 'whatcha': 1465, 'kramer': 2329, 'tactful': 3113, 'si-lent': 3114, 'lushmore': 3115, 'britannia': 3116, 'mention': 1945, 'cheery': 1946, 'bust': 3117, 'increased': 3118, 'pretzel': 3119, 'shoo': 2229, 'cloudy': 3122, 'valley': 3123, 'drown': 1947, 'mild': 3124, 'multiple': 2244, 'knife': 1948, 'layer': 3126, 'packets': 3127, 'youngsters': 3128, 'artie': 970, 'links': 3129, \"ol'\": 738, 'beards': 3131, 'dennis_conroy:': 1355, 'take': 120, 'carl:': 1949, 'hidden': 3133, 'hunka': 3134, 'besides': 6175, 'churchy': 3137, 'fence': 3660, 'gunter': 3138, 'seas': 1950, 'vegas': 1466, 'padre': 1951, 'singing': 246, 'ivy-covered': 3139, 'baseball': 845, 'match': 1187, 'mater': 3140, 'ceremony': 3141, 'sponsoring': 3142, 'shooting': 1952, 'feet': 670, 'disappear': 3143, 'grub': 3144, 'completely': 3145, 'important': 1953, '||right_paren||': 4, 'early': 846, 'sixty': 3146, 'hooky': 3147, 'rife': 3148, 'bless': 1467, 'earpiece': 3149, 'bucks': 379, 'forbidden': 1954, 'facebook': 3151, 'expert': 1955, 'sauce': 971, 'boxers': 3152, 'bought': 1468, 'tv_father:': 1514, 'injury': 3723, 'golden': 3153, 'shirt': 972, 'theater': 1469, 'hour': 1820, 'england': 3155, 'dad': 247, 'waters': 3156, 'necklace': 3157, 'rather': 1188, 'comeback': 2944, 'nein': 973, 'unattractive': 3159, 'inflated': 1956, 'gang': 1957, 'presto:': 3160, 'sturdy': 3161, 'diapers': 3162, 'anger': 3163, 'clams': 3164, 'polish': 3165, 'nods': 689, 'refresh': 1958, 'mushy': 3168, 'mother': 608, 'enjoy': 1190, 'imagine': 1470, 'pepto-bismol': 3169, 'clips': 3170, 'chinua': 3171, 'swine': 3172, 'stunned': 974, 'steinbrenner': 5375, 'jerking': 5847, 'together': 739, 'france': 1191, 'bronco': 3175, \"swishifyin'\": 3176, 'gabriel:': 4455, 'beating': 1959, 'enjoys': 3177, 'of': 15, 'bank': 975, 'compliment': 1471, 'continued': 5541, 'it:': 3179, 'ventriloquism': 3180, 'wish-meat': 4280, 'hope': 316, 'kitchen': 3182, 'supreme': 3183, 'byrne': 3184, 'invented': 848, 'clearly': 1192, 'whining': 6185, 'fantastic': 3186, 'urine': 3187, 'belches': 1193, 'express': 1961, 'espousing': 6564, 'our': 125, 'burn': 471, 'realize': 1962, 'pulls': 1194, 'her': 112, 'looks': 234, 'rip': 3188, 'hmmmm': 3189, 'delete': 609, 'sounded': 3191, 'badge': 4593, 'accelerating': 3192, 'gary:': 1568, 'closing': 1195, 'city': 740, 'bathtub': 3193, 'pass': 850, 'camera': 455, 'adopted': 3195, 'myself': 349, 'present': 1964, 'rule': 1965, 'achem': 1966, 'iranian': 4229, 'relaxing': 5747, 'potatoes': 3197, 'entertainer': 3198, 'dennis': 3199, 'rug': 3200, 'alcoholism': 3201, 'aer': 3202, 'pulled': 1196, 'guest': 1472, \"fightin'\": 3203, 'ugh': 3204, 'queer': 1967, 'honey': 851, 'under': 398, 'yeah': 36, 'glitz': 6024, 'between': 1968, '35': 3205, 'carb': 3206, 'ech': 1969, 'reluctantly': 4863, 'tabs': 4865, 'because': 267, 'interrupting': 3207, 'understood:': 3208, 'feedbag': 3209, 'befouled': 1972, 'witches': 3211, 'human': 741, 'everybody': 255, 'pro': 3213, 'jigger': 3214, 'unless': 976, 'chauffeur:': 3215, 'felony': 3216, 'log': 3217, 'represents': 3218, 'infor': 4918, 'minus': 3220, 'engine': 3221, 'benjamin:': 3222, 'hopeful': 977, 'switch': 1473, 'dice': 4951, 'inspiring': 1994, 'feels': 1197, 'outlive': 3224, 'regulations': 5890, 'towed': 2431, 'sucking': 3225, 'intense': 2432, 'ned': 742, 'stir': 1976, 'snitch': 3227, 'snap': 1977, 'it': 17, 'spot': 1236, 'sits': 1198, \"must've\": 3228, 'known': 2357, 'politicians': 6610, 'sigh': 551, 'photo': 1978, 'root': 1474, 'adeleine': 1199, 'pitcher': 1200, 'pee': 3230, 'never': 93, 'thawing': 3231, 'opens': 5641, 'boyfriend': 2448, 'i-i-i': 1979, 'eighty-three': 3233, 'creeps': 1980, \"one's\": 978, 'vengeful': 3234, 'ireland': 3235, 'urban': 3236, 'holds': 852, 'shares': 1475, 'johnny': 3237, 'partially': 4630, 'shtick': 3239, 'rump': 3240, 'broken:': 4238, 'novelty': 5095, 'casting': 3243, 'daddy': 979, 'return': 743, 'rotch': 1201, 'thousands': 3244, 'wears': 3245, 'shocked': 611, 'wasted': 3246, \"ladies'\": 1981, 'adjust': 3297, 'grenky': 3247, 'agh': 5165, 'hot': 552, 'moe-near-now': 3248, 'bits': 3249, 'clench': 3250, 'gags': 3251, 'squeezed': 3252, 'shame': 5190, 'goodnight': 671, 'wound': 3253, 'ninety-nine': 3254, 'book_club_member:': 1643, 'kansas': 3256, 'kill': 399, 'astronaut': 1983, 'moan': 553, 'director:': 3257, 'woo-hoo': 1477, 'dancing': 1478, 'above': 1825, 'carefully': 3258, 'gheet': 3259, 'anyone': 472, 'million': 473, 'muscles': 3260, 'transylvania': 3261, 'parrot': 3262, 'andalay': 1985, 'weather': 3263, 'splash': 3265, 'delightfully': 6198, 'respect': 1203, 'charges': 3266, 'title': 3267, 'seek': 1986, 'entire': 1479, 'able': 1204, 'everyday': 3268, 'languages': 3269, 'wall': 980, 'customer': 1480, \"jimbo's_dad:\": 3270, 'hugh:': 1205, 'protesting': 3271, 'ails': 3272, 'forgot': 853, 'strategizing': 3273, \"football's\": 3274, 'the_edge:': 3275, 'shifty': 6051, 'prompting': 3276, 'allowance': 3277, 'please/': 3278, 'thank': 307, 'motor': 5339, \"crawlin'\": 1987, 'donor': 3281, 'allowed': 1988, \"watchin'\": 1206, 'statues': 3282, 'permanent': 3283, 'leonard': 3284, 'b': 1989, 'world': 268, 'insured': 3285, 'air': 612, 'fat_tony:': 916, 'male_inspector:': 1990, 'guns': 1207, 'effect': 3287, 'shaken': 1991, 'infiltrate': 3288, 'barn': 672, 'bide': 3289, 'troll': 981, 'wakede': 3290, 'chuckling': 3291, 'smug': 2058, 'investigating': 5428, \"g'ahead\": 3294, 'ohh': 1992, 'sky': 3295, 'person': 613, 'chips': 6263, 'bubbles': 1993, 'government': 982, 'wazoo': 3296, 'lessee': 3298, 'suspiciously': 3299, 'desperate': 854, 'glen:': 983, 'swear': 984, 'canoodling': 6751, 'ralphie': 3300, 'mcclure': 3301, 'attached': 3302, 'boxing': 673, 'lloyd:': 985, 'donut-shaped': 3303, 'crisis': 3304, 'grains': 3305, 'clears': 986, 'awkward': 1358, 'fbi': 1208, 'indicates': 6205, 'spotting': 3306, 'minors': 3307, 'meyerhof': 3308, 'bottom': 1366, 'supposed': 855, 'done': 361, 'buying': 1482, 'preparation': 3309, 'easily': 3310, 'wage': 4942, 'golf': 2592, 'billy_the_kid:': 988, 'disgusted': 554, 'yuh-huh': 6542, 'poorer': 5562, 'more': 124, \"drivin'\": 989, 'tells': 1483, 'gol-dangit': 5563, 'throat': 555, 'magazine': 1997, 'lincoln': 3313, 'dizzy': 3314, 'dating': 1998, 'housework': 3315, 'remodel': 3316, 'lady-free': 3317, 'being': 415, 'horns': 3319, 'truck_driver:': 3320, 'frankly': 1484, 'guys': 105, 'toe': 6638, 'acronyms': 3321, 'system': 1485, 'doy': 4944, \"squeezin'\": 3323, 'high': 514, 'tears': 1486, 'cuz': 3326, 'scully': 1999, 'blown': 2000, 'unison': 1487, 'calendars': 3328, 'club': 990, 'nameless': 3329, 'ironic': 3330, 'bounced': 3331, 'vacations': 3332, 'considering:': 3333, 'inspire': 2001, 'smallest': 2646, 'embarrassing': 1488, 'stupidest': 5566, 'murmurs': 2002, 'bobo': 3336, 'stuff': 400, 'toledo': 3337, 'eyed': 3338, 'amends': 3339, 'bottomless': 3340, 'doing': 380, 'loyal': 3341, 'probably': 618, 'hoo': 444, 'poem': 2003, '1-800-555-hugs': 3342, 'hemoglobin': 3343, 'twelveball': 3344, 'wieners': 6314, 'chicken': 3345, 'deny': 3346, 'boring': 991, 'saved': 992, 'jerky': 2664, 'smoothly': 2004, 'sensible': 3347, 'prejudice': 4257, 'eat': 474, 'small_boy:': 3349, 'fox_mulder:': 2005, 'ma': 614, 'strokkur': 3350, 'religion': 1598, 'radioactive': 3351, 'steamed': 6665, 'hygienically': 3352, 'lord': 1110, 'left': 424, 'pepper': 3353, 'pickles': 3354, 'thesaurus': 2006, 'follow': 1211, 'activity': 3355, 'embarrassed': 1212, 'button-pusher': 3357, 'automobiles': 6642, 'cruiser': 4985, 'genuinely': 3359, 'pardon': 1489, 'sports': 1213, 'him': 98, 'reciting': 3360, 'aquafresh': 3361, 'wayne': 2007, 'kent': 856, 'scratching': 3362, 'treehouse': 3363, 'strap': 994, 'fudd': 2008, 'dungeon': 2009, 'declared': 3364, 'sneaky': 2010, 'choices': 3365, 'delts': 3366, 'told': 445, 'youth': 3367, 'bites': 3368, 'hop': 2699, 'tablecloth': 3370, 'metal': 3371, 'blubberino': 3372, 'boyhood': 3373, 'unintelligent': 3374, 'ad': 995, 'went': 425, 'someday': 2011, 'charlie:': 3375, 'classy': 3376, 'dropping': 3377, 'gotta': 117, 'shelbyville': 3279, 'enthusiasm': 3379, 'kyoto': 2012, 'delicate': 3380, 'joey_kramer:': 2013, 'linda_ronstadt:': 3381, 'pain': 1214, 'kicks': 3382, 'somehow': 2014, 'german': 1490, 'jerry': 2015, 'stacey': 3383, \"it's\": 49, 'buried': 2016, 'butt': 615, 'rude': 2980, 'cough': 1805, 'wins': 2017, 'scrutinizes': 3384, 'supervising': 3385, 'straighten': 6218, 'grunt': 1493, 'chosen': 3386, 'kermit': 1494, 'chapel': 3387, 'appear': 2018, 'suppose': 1495, 'militia': 3389, 'chow': 3390, 'morning': 616, 'thoughtless': 3391, \"soakin's\": 5584, 'diets': 3393, 'calvin': 3394, 'justice': 2019, 'gloop': 3167, 'releasing': 3396, 'sadistic_barfly:': 1496, 'highball': 3397, 'uncreeped-out': 3399, 'newspaper': 3400, 'absentmindedly': 4955, 'caught': 1137, 'nigel_bakerbutcher:': 858, 'anguished': 1567, 'radiation': 3402, 'grind': 3403, 'wa': 2878, 'gets': 446, 'searching': 1497, 'settlement': 3405, 'squeeze': 3406, 'wally': 4270, 'unexplained': 3408, 'milks': 3409, 'shoulda': 3410, 'drop': 1498, \"kearney's_dad:\": 3411, 'ones': 859, 'murderously': 3412, 'farewell': 6565, 'wisconsin': 3413, 'retired': 2020, 'how': 70, 'polite': 1215, 'see': 100, 'bye': 1416, 'regret': 2021, 'bald': 1216, 'germs': 2767, 'cow': 996, 'healthier': 3415, 'joking': 2022, 'fevered': 2771, 'quimby_#2:': 3417, 'sneak': 6225, 'touch': 3418, 'dynamite': 1499, 'fellas': 744, 'knew': 426, '250': 2024, 'uh': 59, 'time': 114, 'spy': 2025, 'peter': 1500, 'index': 3419, 'democracy': 3420, 'same': 860, 'minute': 269, 'selma_bouvier:': 745, \"clancy's\": 3421, 'asked': 997, 'smile:': 2026, 'launch': 3422, 'reads': 1852, 'richard': 2991, 'bonfire': 3423, 'ho': 1892, 'health_inspector:': 949, 'march': 3427, 'hostile': 3428, 'during': 999, 'bitterly': 1855, 'pinball': 3429, 'equivalent': 3430, 'hated': 1000, 'supplying': 2993, 'damage': 3432, 'dishrag': 3433, \"i'm\": 24, \"'pu\": 3434, \"don't\": 46, 'prison': 2028, 'hops': 5590, 'blood': 674, 'uses': 3436, 'balloon': 6738, 'stripes': 3439, 'brace': 3440, 'tapping': 3441, 'prime': 1502, '1895': 2029, 'commit': 3442, 'close': 557, 'whaaaa': 4966, 'open-casket': 3444, 'corpses': 1503, 'politician': 5772, 'rock': 2720, 'tv-station_announcer:': 3447, 'droning': 3448, 'flea:': 3449, 'price': 2030, 'oww': 3450, \"choosin'\": 3451, \"knockin'\": 3453, 'recruiter': 3454, 'tornado': 3455, 'finest': 1504, 'mostly': 3150, 'puzzle': 3456, \"can't-believe-how-bald-he-is\": 3457, 'gamble': 5596, 'trick': 2031, \"wife's\": 1506, 'mistakes': 3458, 'recap:': 3459, 'kidding': 1217, 'sobs': 256, 'hiding': 3460, 'sight-unseen': 3461, 'crooks': 3462, 'whiny': 1218, 'sticker': 3463, 'anybody': 676, 'soft': 3465, 'everything': 363, 'earth': 3466, 'shopping': 3467, 'tapestry': 5599, 'wussy': 3469, 'mumbling': 2032, 'villanova': 3470, 'spent': 2033, 'wade_boggs:': 2034, 'cousin': 4448, 'criminal': 3472, 'killarney': 3473, 'adventure': 3474, 'sales': 4972, 'ride': 1219, 'carve': 2035, 'bugs': 3327, \"gentleman's\": 1507, 'dexterous': 4163, 'idiot': 1508, 'hotel': 3477, 'thorough': 3478, 'employment': 3480, 'attack': 2036, 'middle': 1509, \"she'd\": 3481, 'mad': 479, 'twelve-step': 3483, 'lobster': 3484, 'intrigued': 746, 'knowingly': 4973, 'forced': 3486, 'tapered': 3487, 'motto': 3488, 'fictional': 2037, 'cap': 3489, 'caholic': 3490, \"aren't\": 475, 'conditioning': 3492, 'indeed': 3493, 'dea-d-d-dead': 3494, 'fragile': 2038, 'ton': 3495, 'compressions': 3496, 'handwriting': 5687, 'wife-swapping': 3497, 'nemo': 3498, 'bedroom': 2039, \"o'clock\": 1220, 'hoax': 3499, 'unfair': 3500, 'jogging': 3501, 'thankful': 1510, 'notorious': 3502, 'eighty-seven': 2040, 'magnanimous': 3503, 'around': 185, 'yee-haw': 1511, 'longest': 3504, 'plus': 747, 'chocolate': 1221, 'forgiven': 6511, 'stinger': 3505, 'handshake': 3506, 'kearney_zzyzwicz:': 3507, 'lips': 1222, 'barf': 2041, 'pizzicato': 3508, 'holding': 862, 'pad': 2042, 'turned': 617, \"patrick's\": 2043, 'slobbo': 2950, 'candidate': 2045, 'encores': 3510, 'st': 3511, 'barkeeps': 3512, 'verdict': 3513, 'curse': 2967, 'band': 1223, 'jamaican': 1513, 'third': 1001, 'bannister': 3514, 'lime': 3515, 'renovations': 3516, 'stands': 2046, 'manboobs': 5178, 'changes': 2047, 'charge': 923, 'twelve': 1224, 'bad': 220, \"he'd\": 1002, 'those': 167, 'characteristic': 3518, 'temporarily': 3519, 'repeating': 3520, 'assent': 3006, 'exasperated': 1004, 'depository': 3521, 'bottoms': 3522, 'served': 2049, 'beer:': 3523, 'corkscrew': 2756, 'threw': 1225, 'trucks': 3525, 'sets': 5207, 'market': 1226, 'hockey-fight': 3527, 'monorails': 3528, 'kids': 264, 'least': 558, 'cutie': 2050, 'awww': 2597, 'kidneys': 6240, 'midge:': 3530, 'pennies': 5609, 'flame': 3532, 'distinct': 3533, 'taps': 2051, 'atari': 3535, 'lofty': 3136, 'absolutely': 1109, 'trip': 1235, 'festival': 2053, 'bad-mouth': 5610, 'tinkle': 863, 'sleigh-horses': 3536, 'showed': 3537, 'libraries': 3538, 'manjula_nahasapeemapetilon:': 847, 'them': 235, \"homer'll\": 3539, 'w-a-3-q-i-zed': 3540, 'silence': 3541, 'make:': 3542, 'george': 5611, 'yello': 3543, 'app': 3544, 'surprise': 2054, 'decision': 3545, 'drunkenly': 3546, 'coffee': 1515, 'seconds': 924, 'key': 5496, 'duffed': 3547, 'taxes': 3548, 'due': 2055, 'liability': 3549, 'counterfeit': 3550, 'y': 3551, 'starts': 1229, 'agents': 3552, 'arrived': 3553, 'helllp': 2884, 'xx': 3555, 'nightmare': 3556, 'should': 186, 'grateful': 3557, 'wolfcastle': 4301, 'eu': 3558, 'mob': 2056, 'wham': 3010, 'peeping': 3560, 'begging': 3561, 'empty': 1005, 'tentative': 2075, 'tv_wife:': 1006, 'huggenkiss': 1231, 'bon': 3562, 'dame': 1007, 'lecture': 3563, 'a-b-': 3565, 'supermarket': 3566, 'living': 3567, 'register': 1517, 'harrowing': 3568, 'ivana': 1232, 'betty:': 1233, 'shades': 3292, 'tried': 1518, 'forgive': 2059, 'quadruple-sec': 3569, 'nap': 3570, 'gift': 1519, 'rhode': 3571, 'rector': 3572, \"fallin'\": 2060, 'here-here-here': 3573, 'co-sign': 3574, 'nantucket': 3575, 'yak': 3576, 'miserable': 1520, 'agree': 2061, 'parasol': 3577, 'organ': 2062, 'devastated': 2063, 'finger': 1210, 'dollface': 3578, 'older': 3579, 'snow': 2438, 'malabar': 3580, 'melodramatic': 3581, 'fraud': 1521, 'gossipy': 6093, 'gift:': 3582, 'simpsons': 3583, 'fat': 334, 'audience:': 3584, 'wants': 350, 'accent': 1008, 'duke': 3431, 'all-star': 2065, 'tale': 2066, 'count': 3585, 'trapped': 2758, 'himself': 749, \"beer's\": 2067, 'relative': 3587, 'cheer': 1010, 'beast': 3588, 'open': 677, 'chauffeur': 3589, 'delivery_man:': 3590, 'month': 3591, 'emphasis': 3592, 'lennyy': 3593, 'boat': 1234, 'oh-so-sophisticated': 3594, 'shoots': 2068, 'punkin': 3595, 'driveability': 3596, 'engraved': 3597, 'nine': 750, 'illustrates': 3598, 'ivanna': 3464, 'bloodball': 4401, 'grade': 2070, 'tenor:': 2071, 'extended': 3601, 'results': 2072, 'not': 62, 'geyser': 3602, 'pancakes': 3603, 'burger': 3604, \"game's\": 2073, 'dingy': 3605, 'crapmore': 3606, 'energy': 2439, 'hurting': 3607, 'samples': 3608, 'darjeeling': 3609, 'persia': 4380, 'voicemail': 3610, 'betcha': 3611, 'motorcycle': 2052, 'neighbor': 2074, 'push': 1523, 'mid-seventies': 3612, 'hours': 559, 'inclination': 4309, 'ripcord': 2057, 'feld': 3614, 'mitts': 3615, 'tow-joes': 3616, 'underwear': 3617, 'rebuttal': 3618, 'whistles': 2076, 'strong': 864, 'oopsie': 3619, 'jury': 3620, 'nick': 3621, 'executive': 3623, 'gorgeous': 2077, 'blend': 2078, 'pretend': 3624, 'stupid': 290, 'stop': 335, 'office': 3625, 'troy_mcclure:': 2079, 'cure': 3626, 'thirsty': 3627, 'pigtown': 3629, 'wear': 1237, '1973': 3630, \"you'd\": 427, 'occupancy': 3631, 'snotball': 3632, 'womb': 3633, 'jerks': 1011, 'gary_chalmers:': 1524, 'gently': 1525, 'die-hard': 4178, 'shoulder': 2081, 'transmission': 3634, 'remains': 2082, 'musta': 3688, 'cuckoo': 3636, 'champignons': 3637, 'glee': 6251, 'cats': 3639, 'you': 7, 'lot': 300, 'directions': 1526, 'friends': 284, 'image': 1527, 'timbuk-tee': 3640, 'pretzels': 3641, 'language': 3642, 'grammar': 3643, 'wok': 3644, 'self-esteem': 2083, \"nick's\": 3645, 'intention': 4492, 'fire_inspector:': 3646, 'winded': 3647, 'goes': 678, \"dyin'\": 2084, 'cosmetics': 3648, 'bob': 1528, 'right': 68, 'buttocks': 3649, 'pridesters:': 3650, 'twerpy': 3651, \"'morning\": 3652, 'brow': 2085, 'celebrate': 3653, 'weekend': 3654, 'stomach': 3655, 'cases': 3656, 'glitterati': 3878, 'shrugging': 2086, 'catching': 2087, 'laughs': 308, 'stretches': 3659, 'oh': 31, 'laney_fontaine:': 2088, 'cowardly': 2089, 'in-ground': 3398, 'atlanta': 2090, 'agent': 1238, 'correct': 1239, \"maggie's\": 2091, 'sneering': 3662, 'mommy': 4999, 'arrested:': 3663, 'power': 866, 'understanding': 1530, 'bon-bons': 3666, 'onions': 2093, 'gay': 1112, 'girlfriend': 1240, 'ya': 110, 'dum-dum': 3667, 'straining': 2094, \"startin'\": 3668, \"who'll\": 1241, 'helpful': 3669, 'onion': 3670, 'bachelorette': 3671, 'medical': 2095, 'paintings': 3672, \"jackpot's\": 3673, 'singing/pushing': 3121, 'protesters': 3675, '100': 2096, 'tear': 3676, 'still': 187, 'agent_miller:': 3677, 'soaked': 5001, 'fun': 560, 'moe_recording:': 5635, 'decide:': 3679, 'breathtaking': 3680, 'me': 21, 'airport': 2098, 'warranty': 3681, 'kirk_voice_milhouse:': 3682, 'in-in-in': 3683, 'orgasmville': 5638, 'reaction': 3685, 'raises': 1242, 'numbers': 867, 'plans': 2278, 'splendid': 3687, 'foot': 1531, 'sexy': 1243, 'meet': 516, 'whoa': 203, 'worth': 2099, 'enabling': 3994, 'laramie': 2100, 'hardhat': 3689, 'media': 2173, 'sued': 3690, 'slaps': 3691, 'yards': 2101, 'neon': 4010, 'victorious': 3693, 'hmm': 751, 'microbrew': 3694, 'sue': 3695, 'homer': 27, 'phasing': 3697, 'hits': 1245, 'maman': 2102, 'moe-heads': 3356, 'women': 1013, \"'cept\": 3699, 'risquã©': 3700, 'y-you': 3701, 'anthony_kiedis:': 3702, 'glyco-load': 3705, 'cliff': 3706, 'chin': 3707, 'priest': 2103, 'phrase': 3708, 'gee': 381, 'desperately': 3709, 'exultant': 6529, 'pretentious_rat_lover:': 4107, 'shrugs': 2104, 'try': 382, 'worst': 868, 'trail': 3711, \"there's\": 132, 'gal': 1532, 'skin': 2105, 'class': 885, 'refinanced': 3712, 'william': 3713, 'book': 336, \"lovers'\": 3714, 'dreary': 3715, 'bow': 869, 'musketeers': 3716, 'proof': 3032, 'partly': 2106, 'wiping': 3718, 'sympathizer': 3719, 'syrup': 2107, 'enthusiastically': 3720, 'hibbert': 2108, 'trenchant': 3721, 'stu': 3722, 'shut': 277, 'provide': 3724, 'midge': 1893, \"children's\": 2766, 'headhunters': 3727, 'incognito': 3728, 'sampler': 3729, 'joining': 2109, 'exquisite': 4197, \"tonight's\": 3731, 'pawed': 3732, 'fell': 3733, 'seymour': 517, 'leak': 4205, 'moe-clone:': 2110, 'french': 1014, 'owned': 3734, 'predecessor': 6138, \"bettin'\": 3735, 'president': 679, 'failed': 2111, 'sleep': 1533, 'mike_mills:': 3736, 'lazy': 2112, 'yup': 2245, 'doppler': 4331, 'safecracker': 3738, 'cross-country': 3035, 'lewis': 5650, 'paying': 1535, 'richer': 3739, 'bubbles-in-my-nose-y': 3740, 'ocean': 2251, 'theory': 3742, 'red': 1016, 'wine': 1017, 'wishing': 3743, 'bothered': 5652, 'cookies': 2115, 'colonel:': 3744, 'crunch': 3745, 'protecting': 3746, 'wondered': 6135, 'mole': 3747, 'prolonged': 6422, 'scarf': 3748, 'television': 3749, 'traitors': 3750, 'salvador': 3751, 'dee-fense': 2116, 'moon-bounce': 3752, 'fire': 476, 'puffy': 6742, 'stillwater:': 1284, 'feminine': 3754, 'fica': 3755, 'tire': 3756, 'babies': 1247, 'germany': 3757, 'knuckles': 5365, 'soothing': 3758, 'focus': 1536, 'notably': 3759, 'incarcerated': 3760, 'overflowing': 3761, 'cigarette': 1537, 'two-drink': 5018, 'pleased': 1248, 'princesses': 2558, 'ihop': 3764, 'past': 1538, 'schorr': 3040, \"mtv's\": 3765, 'avenue': 3766, 'racially-diverse': 3767, 'missing': 3768, 'might': 265, 'beach': 1018, 'type': 2118, 'shores': 3476, 'troubles': 3770, 'reconsidering': 3771, 'yellow': 1362, 'by': 152, 'mines': 3773, 'planning': 2119, 'quotes': 2120, 'hotline': 2121, 'anyhoo': 3774, 'miss_lois_pennycandy:': 3775, 'nervously': 3776, \"s'okay\": 3777, 'rub-a-dub': 5656, 'finishing': 2122, 'poulet': 6275, 'sickly': 3779, 'pure': 3780, 'without:': 3781, 'ref': 3782, 'visas': 3783, 'michael_stipe:': 3784, 'jã¤germeister': 3785, 'society': 3786, 'including': 3787, 'bed': 1019, 'all': 37, 'i-i': 1020, 'afternoon': 1539, 'neck': 1249, 'election': 1540, 'if': 71, 'eve': 3788, 'forget': 477, \"what're\": 2323, 'planned': 3789, 'doors': 1542, 'toms': 5020, 'break-up': 3792, 'norway': 3793, 'mirror': 3794, 'syndicate': 3795, 'chic': 3796, 'advantage': 2125, 'coined': 3798, 'per': 1543, 'luckiest': 5619, 'wednesday': 3799, 'ugly': 561, 'telemarketing': 3801, 'quimby': 5663, 'art': 4552, 'space-time': 3210, 'would': 134, 'barflies:': 483, 'jeff': 2127, 'butter': 3805, 'steam': 4765, 'taunting': 6287, 'hawaii': 6142, 'sincere': 1250, 'sheriff': 3806, 'across': 870, 'glasses': 1021, 'thousand': 621, 'f-l-a-n-r-d-s': 3807, 'wildfever': 3808, 'clap': 3809, 'reflected': 3810, \"bein'\": 1251, 'charter': 3811, 'donate': 3812, 'oof': 2129, 'whispers': 3813, 'disappeared': 2130, 'explain': 2610, 'butterball': 3814, 'lookalike': 3815, 'shag': 3816, 'four': 337, 'pip': 4741, 'calculate': 2132, 'tax': 2133, 'creates': 5605, 'sooo': 3817, 'shill': 3818, 'watching': 562, 'brother-in-law': 3819, 'disturbance': 3820, 'detective_homer_simpson:': 1022, 'blowfish': 5667, 'gimme': 409, 'upsetting': 3822, 'ninth': 4341, 'fuzzlepitch': 3823, 'arts': 3825, \"hadn't\": 2134, 'judge': 2135, 'koholic': 2136, 'railroads': 3826, 'these': 189, 'knock': 1252, 'church': 1545, 'presently': 3827, 'appearance-altering': 6283, \"gettin'\": 563, 'crowd': 1546, 'singers:': 1547, 'pond': 2137, 'freedom': 2138, 'error': 3828, 'authorized': 2139, 'uh-oh': 564, 'explanation': 3829, 'lookalike:': 3452, 'runt': 3830, '1979': 3831, 'traditions': 3832, 'burt_reynolds:': 3833, 'village': 2141, 'brain': 1254, 'turns': 518, 'terminated': 3834, 'delays': 3835, 'unhappy': 3836, 'chip': 3837, 'real': 338, 'stan': 3838, 'bill_james:': 3839, 'celeste': 3840, 'enlightened': 3841, '530': 3842, 'cushion': 3843, 'star': 871, 'scent': 3844, \"weren't\": 2142, 'duff_announcer:': 3846, 'event': 3847, 'beauty': 1255, 'strawberry': 3848, 'remember': 301, \"murphy's\": 3849, 'worked': 1548, \"i'd'a\": 3850, 'disgracefully': 3851, 'horrible': 753, 'al': 948, 'gordon': 3852, 'windowshade': 3853, 'wobbly': 3854, 'spellbinding': 4991, 'careful': 1868, 'booze-bags': 3855, 'hug': 1549, 'laney': 3856, 'ecru': 3857, 'fourteen:': 3858, 'super-nice': 3859, 'used': 364, 'wow': 230, 'view': 3860, 'boston': 3861, 'poster': 3862, 'haikus': 3863, 'drawing': 2144, 'james': 1550, 'behind': 519, 'shaking': 1024, \"cuckold's\": 3864, 'glowers': 3865, 'heartily': 3866, 'cards': 1551, 'except': 872, 'blocked': 3867, \"'bout\": 622, 'du': 3868, 'son-of-a': 3869, 'grimly': 2145, 'blue': 619, 'squeal': 3871, 'driver': 1552, 'drains': 3872, 'punk': 2146, 'zack': 3873, 'mill': 3874, 'jobless': 5122, 'vehicle': 3876, 'scene': 1553, \"nixon's\": 3041, 'ooh': 236, 'greedy': 2477, 'quickly': 428, 'social': 2147, 'outside': 565, \"ain't\": 168, 'souped': 6630, 'backgammon': 3879, 'dashes': 3880, 'barely': 2148, 'friction': 4405, 'bid': 3882, 'elephants': 2728, \"scammin'\": 3884, 'herself': 6346, 'homer_simpson:': 12, 'according': 3885, 'burnside': 5787, 'steely-eyed': 3886, 'twenty-six': 3887, 'kahlua': 3888, 'bird': 2149, 'color': 2150, 'sniffing': 3889, 'demand': 3890, 'lied': 3891, 'arse': 6704, 'slays': 3892, 'distributor': 2151, 'cent': 2152, 'colorado': 5225, 'bully': 2153, 'sang': 3894, 'repressed': 3895, 'dark': 5238, 'yourselves': 2154, 'denver': 873, 'ã': 3897, 'natural': 1554, 'goo': 3898, 'tabooger': 2155, 'billion': 2156, 'worthless': 3899, 'broadway': 2157, 'blows': 3900, 'dilemma': 3901, 'bathing': 2158, 'then:': 1555, 'browns': 6752, 'you-need-man': 3902, 'annual': 3904, 'scatter': 3905, 'speech': 1025, 'david_byrne:': 1257, 'royal': 3906, 'gunk': 3907, 'drinking:': 3908, 'training': 3909, 'wise': 3910, 'whoa-ho': 6157, 'stones': 3911, 'fighting': 2159, 'peach': 1556, \"leavin'\": 5292, 'news': 754, 's': 755, 'naked': 2160, 'frink': 1557, 'vote': 2161, 'drinking': 447, 'funniest': 3913, 'kemi:': 401, 'sketching': 3914, 'self-centered': 3044, 'dump': 566, 'junior': 1722, 'takeaway': 3917, 'whatchacallit': 5327, 'exit': 1558, 'cold': 757, \"daughter's\": 3919, 'wanted': 413, 'normal': 874, 'another': 237, 'technical': 3921, 'subject': 1559, 'refreshment': 5349, 'trunk': 3923, 'frazier': 3924, 'warning': 3926, 'tigers': 3927, 'other': 241, 'bart': 280, 'raining': 3928, 'therefore': 2097, 'testing': 1026, 'declare': 3930, \"fryer's\": 3931, 'cronies': 3932, 'lis': 3933, 'clown-like': 3934, 'homunculus': 5187, 'stools': 1560, 'bender:': 1027, 'pause': 1561, 'people': 170, 'pay': 402, \"we're\": 136, 'pipe': 1028, 'pointless': 2162, 'spoon': 3936, 'teddy': 2163, 'center': 1029, 'nonchalantly': 3937, 'unfresh': 3938, 'tofu': 2164, 'suddenly': 1030, 'contemplates': 3939, 'donation': 3940, 'taught': 3941, 'nonchalant': 3942, 'lottery': 1562, 'four-star': 3943, 'beady': 3944, 'down': 122, 'omit': 3945, 'admiration': 2266, 'harv': 1563, 'poisoning': 6305, 'bono': 3947, 'inning': 3948, 'forty-nine': 3949, 'mystery': 3950, 'th-th-th-the': 3951, 'minister': 2165, 'well': 50, 'go': 77, 'uncomfortable': 1843, \"donatin'\": 3952, 'cattle': 3953, 'know': 65, 'sunny': 3954, \"mecca's\": 3955, 'lindsay_naegle:': 1564, \"'your\": 3956, '7g': 3957, 'saga': 3959, \"ragin'\": 3960, 'crappy': 3961, '_babcock:': 1565, 'willy': 2166, 'belly-aching': 5692, 'perking': 3963, 'renew': 3964, 'sending': 3965, \"sat's\": 3966, 'hemorrhage-amundo': 3967, 'dismissive': 2167, \"ya'\": 4409, 'louisiana': 3968, 'shareholder': 3969, 'thirty-thousand': 3970, \"they'd\": 1762, 'destroyed': 3972, 'fad': 3973, 'comforting': 3974, 'john': 3976, 'folks': 1259, 'sixty-five': 3977, 'jams': 3978, 'beard': 3980, 'grampa': 758, 'mixed': 2168, 'believe': 317, 'mason': 6544, 'circus': 4668, 'hike': 3982, 'trustworthy': 2965, 'tribute': 3983, 'ashtray': 3984, \"enjoyin'\": 3985, 'surprised/thrilled': 3986, 'indecipherable': 3987, 'concentrate': 3988, 'keys': 567, 'movie': 1032, 'mini-beret': 3989, 'put': 212, 'cecil': 5696, 'going': 182, 'sweetheart': 2623, 'finale': 3992, 'gruff': 3692, 'sagely': 5697, 'dizer': 3993, 'rasputin': 3975, 'patron_#2:': 6312, 'humiliation': 3996, 'telegraph': 3997, 'today': 371, \"santa's\": 3998, \"readin'\": 2171, 'bartholomã©:': 3999, 'involving': 2172, 'bumbling': 5858, 'ford': 4000, 'address': 1244, 'ear': 4001, 'gin-slingers': 5987, 'clock': 2174, 'hero': 1261, 'catty': 4002, 'director': 1975, 'tense': 3529, 'renee:': 759, 'emotion': 4005, 'awed': 2175, 'shop': 4006, 'fires': 4007, 'gumbo': 4008, 'intimacy': 4009, \"o'reilly\": 6611, 'items': 4011, 'louder': 2176, 'combination': 4012, 'call': 213, 'plants': 4014, \"betsy'll\": 4015, 'boozy': 2177, 'lorre': 4016, 'bloodiest': 4017, 'low': 520, 'reunion': 6037, 'pathetic': 1845, 'five': 318, \"friend's\": 4019, 'nerd': 6050, 'newest': 4020, 'developed': 6317, 'tempting': 4021, 'insults': 6189, 'skins': 4023, 'saucy': 2977, 'boxcar': 4024, 'presumir': 4025, 'months': 1386, 'squeals': 4027, 'edelbrock': 4028, 'nope': 2178, 'two-thirds-empty': 5918, 'means': 760, 'smuggled': 4029, \"family's\": 4030, 'toilet': 1570, 'tsking': 4031, 'nicer': 4451, 'quite': 1262, 'various': 6065, 'duffman': 682, 'squadron': 4032, 'manjula': 2179, 'love-matic': 2180, 'forgotten': 4033, 'ummmmmmmmm': 4034, 'self': 568, 'vigilante': 6199, 'knocks': 4035, \"phone's\": 4036, 'lives': 875, 'breaks': 4037, 'elizabeth': 4038, 'popular': 1571, 'whispered': 4039, 'crestfallen': 4040, 'chorus:': 4041, 'poplar': 4042, 'asses': 5251, \"toot's\": 4043, 'however': 6023, '7-year-old_brockman:': 2181, 'appalled': 4044, 'twenty-two': 1572, 'fonzie': 4045, 'pink': 4046, 'boxer:': 4047, 'giant': 3698, 'rat': 876, 'problems': 521, 'invite': 1573, 'catholic': 4048, 'coaster': 1034, 'island': 1263, 'charity': 2182, 'rods': 4049, 'recent': 4050, 'sacrilicious': 4051, 'impatient': 2183, 'smiled': 4052, 'babe': 2184, 'keeping': 1574, 'padres': 4053, 'barney-type': 4054, 'thought_bubble_lenny:': 4055, \"plaster's\": 4056, 'lady_duff:': 4057, 'cleaner': 2185, 'ninety-seven': 4058, 'virility': 4059, 'sister': 1264, 'splattered': 4060, \"guy's\": 1041, 'fools': 4061, 'backing': 6586, 'son': 761, 'jackson': 4062, 'absorbent': 4063, 'discussing': 2187, 'sitcom': 4064, 'h': 4065, 'fainted': 4066, 'sesame': 4067, 'dough': 2188, 'handle': 2189, 'oh-ho': 4068, 'ralph_wiggum:': 4069, 'passes': 4070, 'africanized': 6323, 'disapproving': 2191, 'amber_dempsey:': 4071, '&': 1575, \"you've\": 190, 'pained': 1576, 'dime': 4072, 'pointy': 4073, 'moonshine': 4074, 'sign': 448, 'file': 4075, 'civil': 4076, 'beginning': 1577, 'really': 101, 'heatherton': 4077, 'followed': 4078, 'quebec': 4079, \"drawin'\": 2192, 'believer': 4080, 'specialists': 4081, 'read:': 4082, 'dunno': 877, 'kemi': 4673, 'wrecking': 4085, 'thing': 133, 'rip-off': 4086, 'canyoner-oooo': 4087, 'excuse': 403, 'monday': 4088, 'rainforest': 4013, 'kiss': 762, 'earrings': 4090, 'banks': 1578, 'based': 2193, 'settled': 4091, 'choose': 4092, 'hairs': 4093, 'reserve': 2194, 'mags': 4094, 'yet': 721, 'rest': 1049, 'scrubbing': 4095, 'likes': 1579, 'drunkening': 6327, 'gluten': 4098, 'warren': 4099, 'shaky': 4100, 'forty-seven': 6064, 'skunk': 4101, 'health': 906, 'sweeter': 2196, 'undated': 4103, 'sweetest': 4104, 'dozen': 4105, 'spend': 569, 'pool': 1036, 'department': 2197, 'young_marge:': 763, 'eighty-one': 2198, \"payin'\": 2199, 'distraught': 1307, 'thomas': 3710, \"renee's\": 4108, 'frustrated': 1266, 'gentlemen': 522, 'j': 4109, 'contemporary': 4110, 'bowie': 4111, 'grease': 5710, 'inquiries': 4112, 'jer': 4113, 'foibles': 1411, 'doctor': 4114, 'thirty-nine': 4115, 'nelson_muntz:': 4116, \"carl's\": 1267, 'cool': 683, 'sinister': 2200, 'civic': 2201, 'smurfs': 2202, 'none': 1037, \"'evening\": 4117, 'modern': 1581, 'hiya': 1582, 'dressed': 1583, 'terrorizing': 4840, 'whirlybird': 4119, 'attention': 1860, 'brainiac': 4121, 'lady': 570, 'fondly': 2203, 'routine': 2204, 'agency': 4122, 'dials': 2206, 'up': 48, 'rolled': 2857, 'numeral': 4124, 'i/you': 4125, 'jolly': 1584, 'with': 35, 'scores': 4126, 'covering': 1585, 'direction': 4127, 'sedaris': 3212, 'full-time': 4129, 'cars': 2207, 'carlotta:': 4130, 'perfunctory': 4131, 'reporter': 4132, 'sanitation': 4133, 'amused': 4134, 'porn': 2208, \"plank's\": 4135, 'alarm': 4136, 'mimes': 4137, 'knees': 2209, 'gimmick': 4138, 'save': 429, 'sadly': 523, 'owes': 4139, 'tsk': 623, 'suspect': 2210, 'such': 624, 'occupied': 4140, 'familiar': 2211, 'woe:': 4141, 'hibachi': 4142, 'cruel': 2212, 'moe-clone': 4143, 'kl5-4796': 4144, 'calling': 480, 'gums': 2213, 'inserted': 5076, 'dan': 2214, 'lenses': 4145, 'sound': 397, 'causes': 4147, 'straight': 571, 'stole': 1586, 'figures': 4148, 'rewound': 4149, 'dint': 4150, 'windelle': 4151, 'robot': 3881, 'hurts': 1587, 'bears': 2216, 'irrelevant': 4152, 'reynolds': 2217, 'toy': 4153, \"fine-lookin'\": 4154, 'rueful': 4155, 'he': 75, 'belly': 1588, 'half-beer': 6600, 'booking': 4156, 'la': 765, 'flips': 1430, 'water': 878, 'young_moe:': 2327, 'soir': 4158, 'slobs': 6444, 'steel': 2219, 'wonderful': 1038, 'pointedly': 4159, 'before': 199, 'feel': 249, 'end': 572, \"other's\": 2220, 'statesmanlike': 4160, 'sissy': 2221, 'sickened': 5058, 'they': 79, 'boozer': 4161, 'sticking-place': 4162, 'pint': 2222, \"bar's\": 2223, 'reminds': 1589, 'hank_williams_jr': 879, 'a': 11, 'one-hour': 4164, 'pleading': 2224, 'series': 4165, 'amid': 1436, 'can': 64, 'safety': 4167, 'take-back': 4168, 'loafers': 4169, 'yee-ha': 4170, \"how's\": 1039, 'exhale': 4171, 'rabbits': 4172, 'having': 1169, 'school': 450, 'buzziness': 3600, 'sail': 4173, 'cheap': 1590, \"bo's\": 4174, 'culkin': 4175, 'fold': 2225, 'prayers': 4176, 'swelling': 4177, 'clothes': 1371, 'mabel': 4180, 'points': 430, 'load': 4181, 'ehhhhhhhhh': 4182, 'serve': 1591, 'make': 107, 'jane': 4183, 'grim': 1268, \"what'sa\": 2226, 'forehead': 2227, 'fund': 4184, 'anyway': 537, 'senator': 1269, 'informant': 2228, 'parking': 1592, \"what'd\": 4186, 'loneliness': 4187, 'stamp': 4188, 'hook': 4189, 'salary': 5081, 'memories': 2631, 'mccall': 4191, 'and:': 4192, 'ons': 4193, 'praise': 4194, 'christian': 4195, 'contemptuous': 4196, 'domestic': 1270, 'kissing': 1594, 'possessions': 3730, \"renovatin'\": 4198, 'girl': 270, 'belts': 4199, 'stay': 573, 'reporter:': 2230, 'catch': 1040, 'idealistic': 5526, 'putting': 2231, 'pleasure': 2232, 'solid': 2233, 'pictured': 3058, '_timothy_lovejoy:': 1595, 'blackjack': 4202, \"bashir's\": 4203, 'meteor': 6560, 'private': 657, 'decided': 4204, 'word': 752, 'radical': 4206, 'freed': 4207, 'supply': 4209, 'spine': 4210, 'hampstead-on-cecil-cecil': 3120, 'bluff': 4211, 'especially': 1271, 'delicately': 6341, 'wally:': 1272, 'presents': 6374, 'stalking': 4212, 'bowling': 1596, \"stabbin'\": 4213, 'text': 1597, 'skills': 4214, 'cable': 1273, 'unkempt': 6740, 'gus': 4216, 'mamma': 4217, 'williams': 4218, 'bookie': 4219, 'tasimeter': 5735, 'hafta': 4221, 'mistake': 1850, 'lotta': 1274, 'jubilant': 2235, 'almost': 1275, 'slight': 2236, \"neat's-foot\": 4222, 'decadent': 4223, 'referee': 4225, 'craphole': 2237, 'dyspeptic': 5194, 'sir': 481, 'buffet': 4226, 'startup': 4227, 'plum': 2238, 'rutabaga': 4228, 'knock-up': 3196, 'hooters': 4230, 'renee': 1276, 'menacing': 4231, 'room': 482, 'standing': 2783, 'rainier': 4233, 'wordloaf': 2239, 'midnight': 1599, 'legally': 4234, 'traffic': 1600, 'low-life': 4235, 'forgets': 4414, 'rash': 3845, 'derisive': 3241, 'flush': 4239, 'honored': 2240, \"wino's\": 4240, 'patrons': 4241, 'slurred': 4242, 'frog': 2241, 'fill': 880, 'ees': 4243, 'kodos:': 4244, 'relationship': 2242, 'bret': 2169, 'expose': 4246, 'lance': 5740, \"takin'\": 2243, 'life': 172, 'macbeth': 4248, 'waking-up': 4249, 'childless': 4250, 'forbids': 3125, 'weapon': 4251, 'rationalizing': 4252, 'twins': 1283, 'cummerbund': 4253, 'cell-ee': 4254, 'aside': 1601, 'child': 1602, 'offended': 1015, 'secrets': 1277, 'improved': 3325, 'killjoy': 4256, 'glum': 1603, 'pride': 2247, 'dealie': 3348, \"shootin'\": 4258, 'incapable': 4259, 'giggle': 6735, 'corporate': 2248, 'kick-ass': 4260, 'advance': 2249, 'nevada': 4261, 'domed': 4262, 'eye': 574, 'patting': 4263, 'let': 137, 'outrageous': 4264, 'schemes': 6349, 'selma': 1043, 'tracks': 4266, 'whale': 4267, 'marge': 118, 'stooges': 6732, 'scratcher': 4268, 'fumes': 1604, 'humanity': 4269, 'traitor': 3407, 'virile': 4271, 'nail': 4272, 'investor': 2250, 'choices:': 4273, 'saving': 4274, 'stinky': 4275, 'random': 4276, 'storms': 4277, 'l': 1605, 'original': 1278, 'honeys': 4278, 'badmouths': 4279, 'cute': 1606, 'kills': 4281, 'rats': 1607, 'old_jewish_man:': 4282, 'stamps': 4283, 'temp': 3741, 'done:': 4284, 'brainheaded': 4285, \"idea's\": 4286, \"thinkin'\": 4287, 'afloat': 6352, 'fix': 1280, 'wrap': 4289, 'flourish': 4290, 'guide': 2253, 'tuborg': 4291, 'popping': 4292, 'sassy': 4293, 'tonic': 4294, 'impending': 4295, 'spit-backs': 4296, 'measurements': 2254, 'maher': 4297, 'deep': 1281, 'problemo': 5101, 'nickel': 3526, 'get': 55, 'nobody': 375, 'zoomed': 4300, 're:': 1230, 'announcer:': 1044, 'iddilies': 4303, 'crank': 1608, 'righ': 4304, 'gear-head': 4305, 'pilsner-pusher': 4306, 'louse': 4307, 'mug': 1282, 'pays': 1609, 'tokens': 6599, 'snake_jailbird:': 575, 'skydiving': 4308, 'improv': 3613, 'mccarthy': 4310, 'itchy': 4312, 'diet': 1610, 'seen': 303, 'jeers': 4314, 'rage': 2255, 'focused': 5038, 'sick': 882, 'bitter': 865, 'liable': 4317, 'navy': 4318, 'slow': 883, \"tryin'\": 1045, 'affection': 4319, 'filthy': 1046, 'talking': 576, 'lying': 884, 'feed': 1611, 'laughter': 4320, 'feeling': 452, 'th': 4321, 'paste': 4322, 'grandiose': 2256, 'tanking': 4323, 'guinea': 4324, 'fast-food': 3703, 'access': 4326, 'increasingly': 2257, 'wangs': 2258, 'rich': 1246, 'disappointment': 4327, 'seeing': 1612, 'sec_agent_#1:': 1613, 'ignoring': 4328, 'stuck': 2259, 'pinchpenny': 5105, 'albert': 4330, 'othello': 4667, 'sometime': 1614, 'menlo': 4332, 'chicks': 2260, 'leno': 4333, 'correction': 4334, \"hangin'\": 2261, 'ding-a-ding-ding-ding-ding-ding-ding': 4335, 'brawled': 4336, 'relax': 1615, 'free': 384, 'your': 26, 'cup': 4337, 'waltz': 2262, 'beats': 2126, 'op': 4338, 'though': 766, 'pack': 4339, 'attach': 6362, 'reward': 4699, 'gasps': 620, 'champs': 4342, 'aged_moe:': 2263, 'frenchman': 4343, 'western': 4344, 'daughter': 405, 'prettied': 4345, 'insightful': 2264, 'appeals': 4346, 'thnord': 4347, 'gasp': 484, 'support': 4348, 'affectations': 4349, 'scornfully': 4351, 'jay': 4352, 'prettiest': 4353, 'jewelry': 4354, 'sam:': 4355, 'choice:': 4356, 'pussycat': 4357, \"eatin'\": 4358, 'purse': 2265, 'tobacky': 4359, 'arimasen': 4360, 'chug': 1047, \"writin'\": 4361, \"don'tcha\": 4245, 'k-zug': 4362, 'lindsay': 4363, 'drag': 4364, 'milk': 960, 'giving': 886, 'fills': 4365, 'fink': 4879, 'harmony': 4366, 'said:': 4367, 'hear': 319, 'securities': 2287, 'irs': 4368, 'rig': 4369, 'caper': 4370, \"messin'\": 4371, 'nursemaid': 4372, 'refreshingness': 4373, 'meeting': 1285, 'gone': 506, 'environment': 4376, 'warmly': 767, 'peabody': 4377, \"tv's\": 4378, 'service': 1048, \"liftin'\": 5761, 'bindle': 4379, 'wasting': 1616, 'coin': 4381, 'angel': 2269, 'stagey': 4382, 'santeria': 4383, 'intelligent': 4384, 'urinal': 4385, 'steal': 577, 'wolfe': 2270, 'cadillac': 4386, 'international': 1618, 'daniel': 4387, 'darkest': 2271, 'reptile': 4388, 'again': 221, \"queen's\": 4390, 'faulkner': 4391, 'delightful': 5221, \"costume's\": 4392, 'smooth': 1286, 'richard:': 5724, 'ninety-six': 4393, 'benefits': 2272, 'maya': 2195, 'michael': 5765, 'floated': 2273, 'prep': 4394, 'trade': 4395, 'buddies': 5766, 'larry': 4396, 'tune': 887, 'mindless': 4397, \"washin'\": 4398, \"handwriting's\": 4399, 'anarchy': 2274, 'slot': 4400, 'entirely': 2275, 'peter_buck:': 3763, 'ditched': 4434, \"world's\": 1050, 'hearing': 4402, 'encouraged': 4403, 'alien': 4404, 'easygoing': 4166, 'bartender': 525, 'anniversary': 1620, 'keep': 271, 'curds': 2277, 'always': 281, 'hmmm': 1621, 'unforgettable': 4406, 'strolled': 6372, 'coat': 1287, 'andy': 1622, 'contract': 4407, 'device': 4408, 'contemplated': 5121, 'friday': 4411, 'bar:': 4412, 'kenny': 5242, 'christmas': 685, 'phase': 4236, 'sad': 431, 'muffled': 4415, 'generosity': 4416, 'felt': 1052, \"england's\": 4417, 'presided': 4419, \"tellin'\": 1053, 'tha': 4420, 'frankenstein': 3071, 'smart': 2754, 'grope': 4422, 'commission': 2280, 'ollie': 2281, 'wobble': 4423, 'forty-two': 4424, 'fired': 3790, 'totally': 1054, 'floating': 4426, 'klingon': 2282, 'family-owned': 6376, 'better': 191, 'soap': 2283, 'waylon': 2284, 'ointment': 5701, 'homie': 769, 'streetcorner': 4427, 'endorsed': 4428, \"summer's\": 4429, 'tow': 4430, \"'er\": 4431, 'sex': 952, 'senators': 1288, 'additional-seating-capacity': 4433, 'win': 453, 'tragedy': 4350, 'professor_jonathan_frink:': 526, 'drederick': 1056, 'judgments': 5017, 'damned': 4435, 'duh': 1067, 'ladder': 4436, 'sieben-gruben': 4190, 'clandestine': 4438, 'learned': 626, 'ginger': 2288, 'archaeologist': 4439, 'squirrels': 3112, 'insensitive': 4440, 'tomatoes': 4441, 'car': 222, 'washouts': 4442, 'helpless': 4443, 'switched': 4444, 'oooh': 4445, 'thanking': 4447, 'nigeria': 2290, 'hm': 1289, 'makes': 406, 'highway': 2291, 'pub': 1290, 'victim': 4449, 'huddle': 4450, 'press': 4452, 'hearts': 4495, 'victory': 2292, 'oils': 4454, \"blowin'\": 5651, 'wounds': 4389, 'operation': 1623, 'gotten': 1291, 'plug': 4456, 'hugh': 4457, 'faceful': 5895, 'all-american': 4458, 'loud': 366, 'uglier': 4459, 'serious': 686, 'drives': 4460, 'tanked-up': 2294, 'offshoot': 4461, 'daaaaad': 4462, 'arrest': 1292, 'professional': 1293, 'promotion': 4463, 'tv_announcer:': 2295, 'rain': 4620, 'american': 687, 'when': 108, 'moe-lennium': 4464, 'half': 889, 'polenta': 4466, '||question_mark||': 10, 'regulars': 2297, 'brought': 930, \"boy's\": 4467, 'astonishment': 5118, 'specializes': 4470, 'so': 42, 'beefs': 5132, 'name:': 4471, 'tiger': 3665, 'happened': 320, 'nightmares': 4473, 'bumped': 4475, 'chunky': 4476, 'give': 161, 'script': 4477, 'abusive': 4478, 'yourse': 4479, 'punishment': 4480, 'mexican': 4481, 'microphone': 4482, 'position': 4483, 'kennedy': 4484, 'panicked': 4485, 'shock': 2300, 'audience': 4487, 'run': 770, 'semi-imported': 6381, 'awake': 4489, \"ma'am\": 2301, 'chill': 4490, 'jacksons': 4491, 'vermont': 4493, 'mayan': 4494, \"what's\": 146, 'wide': 1624, 'outta': 321, \"duff's\": 4496, 'fall': 890, 'stairs': 4717, 'oblongata': 6500, 'deserve': 2303, 'dateline': 4497, 'years': 250, 'rocks': 4498, 'birth': 4499, 'shred': 4500, 'sly': 1256, \"round's\": 4501, 'fumigated': 4502, 'edna-lover-one-seventy-two': 6181, 'eventually': 2304, 'cajun': 5824, 'excellent': 2305, 'flat': 4503, 'newsweek': 4504, 'rubs': 4505, 'caveman': 4506, 'shesh': 4507, 'wore': 4508, 'hounds': 4509, 'a-lug': 4510, 'dishonor': 4511, 'koji': 4512, 'nearly': 2306, 'in': 19, 'radishes': 1294, 'paid': 2307, 'masks': 4818, 'annie': 4513, 'high-definition': 4605, 'fountain': 4514, 'bold': 2309, 'runners': 6619, 'extra': 1626, 'taxi': 4554, 'errrrrrr': 4518, 'twice': 2399, 'gonna': 78, 'pickle': 1295, 'peeved': 4521, 'cerebral': 4522, 'garbage': 1296, 'bouquet': 4523, 'swings': 4524, 'normals': 4525, 'apology': 4526, 'she-pu': 4527, 'prohibit': 2310, \"cheerin'\": 4528, '||comma||': 2, 'little_hibbert_girl:': 4530, 'perverted': 4531, 'naively': 4902, 'getcha': 4532, 'morlocks': 2311, 'themselves': 2312, 'ayyy': 2313, 'passion': 2791, 'begin': 4534, \"how'd\": 688, 'european': 2314, 'choking': 2315, 'fuhgetaboutit': 4535, 'nelson': 4536, 'donated': 4537, 'dollars': 385, 'closer': 1627, 'pre-recorded': 4538, 'sobbing': 1298, \"grandmother's\": 4540, 'crowned': 3166, 'designated': 1138, 'miracle': 4541, 'industry': 2316, 'to': 13, 'stealings': 2317, 'jacques:': 486, 'manatee': 6389, 'van': 4542, 'medieval': 4543, 'truck': 1058, 'fault': 1857, 'clinton': 2319, \"spyin'\": 4544, 'bride': 2289, 'from': 76, 'judge_snyder:': 2320, 'terrified': 1628, 'solves': 4547, 'captain': 4200, 'slim': 4549, 'roy': 4550, 'lifts': 4551, 'filled': 2449, 'chained': 4553, 'enterprising': 5233, 'six': 527, 'junebug': 6369, 'grandã©': 5060, 'ate': 4556, 'offense': 4557, 'bush': 2321, 'confidentially': 4558, 'denser': 2322, \"aristotle's\": 4559, 'belong': 2324, 'composer': 4560, 'p-k': 4561, 'strips': 4562, 'wuss': 4563, 'nuclear': 1059, 'starting': 1629, 'approval': 4564, 'yawns': 2325, 'haplessly': 4565, 'sees/': 6383, 'tearfully': 5110, 'discuss': 2326, 'limber': 5707, 'sun': 4568, 'moe': 30, 'rickles': 4569, 'impressed': 891, 'giggles': 2475, 'danny': 6394, 'lager': 4570, 'be-stainã¨d': 5146, 'expecting': 4571, 'recorder': 4572, 'desire': 5162, 'effervescence': 4573, 'wood': 4574, 'turn': 339, 'coms': 4575, 'snotty': 4576, 'cursed': 4577, 'rockers': 4578, 'heading': 2330, 'holy': 4579, 'noosey': 4580, 'grieving': 4581, '/mr': 4582, 'greetings': 2331, 'queen': 2332, 'brother': 1711, 'suffering': 4583, 'hitchhike': 6397, 'sweet': 251, 'expensive': 5205, 'flowers': 1299, 'cricket': 4585, 'slender': 4586, 'weirder': 2334, 'singer': 4587, 'and/or': 4588, 'face': 209, 'wh': 4589, 'dramatic': 1300, 'hydrant': 4590, 'loss': 2335, 'beings': 4591, 'ends': 4592, 'falling': 4567, 'locked': 5788, 'parked': 4594, 'teenage': 1631, 'bag': 893, 'has': 173, 'great': 171, 'english': 816, 'heart-broken': 4596, 'discriminate': 4597, 'a-a-b-b-a': 4598, 'wizard': 6342, 'losing': 1632, 'brains': 1633, 'grab': 2336, 'gr-aargh': 4469, 'marshmallow': 4599, 'hangs': 2337, 'lainie:': 4600, 'guessing': 4601, 'whim': 4602, 'nectar': 4603, 'overturned': 4604, \"burnin'\": 5220, 'fiction': 4606, 'gangrene': 5789, 'stalin': 5312, 'lovejoy': 4609, 'polls': 4851, 'post-suicide': 4835, 'lobster-based': 4610, 'the_rich_texan:': 580, 'evergreen': 4611, 'x': 1063, \"kids'\": 1619, 'bushes': 4612, 'producers': 4613, 'deliberately': 4614, 'examples': 4615, 'spread': 2338, 'formico:': 2339, 'crony': 4616, 'brilliant': 1125, 'frescas': 5362, 'crummy': 1635, 'freeze': 2340, 'shall': 849, 'locklear': 4619, 'could': 97, 'broke': 771, 'carll': 2341, \"wouldn't-a\": 4621, 'mix': 4622, 'aging': 2342, 'madman': 4623, 'disdainful': 4624, 'eight-year-old': 4625, 'on': 29, 'potato': 2343, 'groans': 4626, 'mind-numbing': 5435, 'disaster': 4627, 'meaning': 4628, 'warned': 4629, 'purveyor': 5234, 'dennis_kucinich:': 2267, 'fletcherism': 4631, 'stories': 1102, 'read': 487, 'joy': 3181, 'drivers': 1302, 'ripped': 4633, 'heroism': 4634, 'top': 774, 'limits': 3704, \"high-falutin'\": 5120, 'weirded-out': 2345, 'yell': 2346, 'soul': 1104, 'exact': 4636, 'percent': 2569, 'pair': 6404, 'soaps': 4638, 'wigs': 4639, 'ned_flanders:': 346, 'meditative': 4640, 'reading:': 4641, 'phlegm': 4642, 'united': 4643, 'crow': 4644, 'szyslak': 925, 'saint': 2350, 'hello': 214, 'competing': 4645, 'bail': 4646, 'territorial': 4647, 'swamp': 4648, 'brief': 4649, 'muscle': 4650, \"rustlin'\": 6408, 'neighbors': 4651, 'doof': 6409, 'fridge': 1303, 'japanese': 775, 'need': 138, 'espn': 4653, 'feisty': 4128, 'catch-phrase': 4654, 'platinum': 4655, 'through': 309, 'cell': 4656, 'keeps': 1304, 'leg': 1638, 'ninety-eight': 4657, 'stingy': 4658, 'throats': 4659, 'ding-a-ding-ding-a-ding-ding': 4660, 'installed': 4661, 'swe-ee-ee-ee-eet': 5649, 'distance': 5168, 'peppy': 2352, 'businessman_#2:': 4663, \"hasn't\": 2353, 'billiard': 4664, 'flailing': 4418, 'goodwill': 6643, 'stolen': 4665, 'lease': 4666, 'detective': 4516, 'hats': 2801, 'cozies': 4669, 'kindly': 2355, 'suave': 4670, 'worry': 432, 'occupation': 4671, 'deal': 776, 'glummy': 4672, 'cash': 488, 'perhaps': 1639, 'meatpies': 6596, 'impress': 4674, '_marvin_monroe:': 4675, 'imitating': 4676, 'we': 57, 'yellow-belly': 4677, 'mocking': 4678, 'superdad': 4679, 'have': 47, 'severe': 1640, 'help': 193, 'poetics': 4680, 'disguised': 4681, 'names': 1035, 'marquee': 4682, 'kept': 1641, 'dads': 4683, 'brain-switching': 4684, 'krusty_the_clown:': 292, 'coherent': 4685, 'jumping': 4686, 'promise': 6418, 'ass': 690, 'blew': 2358, 'stinks': 2359, 'attractive_woman_#2:': 4688, \"snappin'\": 4689, 'hellhole': 4690, 'elite': 6419, 'spiritual': 4691, 'patient': 2360, 'chipper': 4692, 'distract': 6622, 'nascar': 5093, 'pickled': 1305, 'hey': 28, 'fontaine': 4694, 'johnny_carson:': 4695, 'nonsense': 4696, \"president's\": 6421, 'cowboy': 5137, 'conditioner': 2361, 'novel': 4700, 'encouraging': 4701, 'befriend': 4702, \"here's\": 304, 'bubble': 2362, \"money's\": 2363, 'edison': 1645, 'husband': 1306, 'horror': 6508, 'led': 4704, 'dog': 454, 'geez': 528, 'advice': 817, \"fans'll\": 4706, 'puff': 1646, \"table's\": 4707, 'bar_rag:': 581, 'billingsley': 4708, 'fabulous': 2364, 'placed': 4709, \"won't\": 248, 'barflies': 629, 'monkeyshines': 4710, 'mathis': 4711, 'er': 4712, 'suds': 2365, 'unsanitary': 4713, 'pian-ee': 2701, 'cheat': 2367, 'gel': 6481, 'noble': 4714, 'pep': 4715, 'slightly': 2368, 'martini': 4716, 'renders': 5143, 'ahhhh': 4718, 'enough': 367, 'thunder': 4719, '8': 4720, 'rupert_murdoch:': 5603, 'worldly': 4721, 'buddha': 4722, 'measure': 4724, 'assume': 4725, 'powered': 5802, 'flanders:': 4728, 'solely': 4729, 'jernt': 4730, 'yelp': 4731, 'widow': 4732, 'cheerier': 4733, 'options': 3445, 'meals': 5805, 'heh': 630, 'stored': 4734, 'leans': 1648, 'mortal': 4735, 'eddie': 4736, 'heaven': 881, 'old-time': 4737, 'oddest': 4738, 'leave': 407, 'inspection': 1650, 'teenage_barney:': 1308, 'u': 1309, 'duel': 2370, 'estranged': 4413, 'talkers': 3194, 'legoland': 5806, 'retain': 4739, 'head': 272, 'raising': 1544, 'care': 408, \"fendin'\": 4742, 'soot': 4123, 'hispanic_crowd:': 4743, 'bulldozing': 4744, 'grunts': 1625, 'cleveland': 4747, 'lookalikes': 4748, 'law-abiding': 4749, 'avec': 4750, 'touches': 5133, 'modest': 4751, 'prince': 4752, 'alright': 777, 'oooo': 4753, 'witty': 2371, 'fl': 6147, 'spoken': 1817, 'ought': 4755, 'cab_driver:': 5429, 'quality': 2373, 'schnapps': 2374, 'propose': 4758, 'pirate': 2375, 'loathe': 4759, 'casual': 1651, 'curious': 2376, 'sinkhole': 4977, 'noticing': 1652, 'burp': 1310, 'progress': 6044, 'sees': 1311, \"tree's\": 5750, 'fluoroscope': 4761, 'conspiracy': 4762, 'bam': 2377, \"should've\": 4763, \"c'mere\": 1653, 'anderson': 4764, '2nd_voice_on_transmitter:': 4766, 'button': 1654, 'tummies': 4767, 'lipo': 5684, 'oil': 1655, 'mm': 2378, \"wallet's\": 4768, \"school's\": 4769, 'doubt': 1142, 'touched': 895, 'photos': 6438, 'whisper': 1333, 'starla': 4772, 'stewart': 4773, 'tree_hoper:': 4774, \"tv'll\": 6439, 'toasting': 1656, 'typing': 4776, 'hide': 778, 'jukebox_record:': 4777, 'gentles': 4779, 'tester': 2379, 'exhibit': 4780, 'julienne': 4781, 'november': 4782, 'albeit': 4783, 'mobile': 4784, 'beneath': 2380, 'listens': 4785, \"'ere\": 4786, 'someone': 293, 'grrrreetings': 4787, 'actually': 351, 'treats': 4788, 'torn': 2381, 'sometimes': 2382, 'resigned': 4789, 'dang': 1312, 'manfred': 4790, 'draw': 2781, \"today's\": 1313, 'lisa_simpson:': 135, 'sketch': 4791, 'mostrar': 4792, 'broncos': 6057, \"b-52's:\": 4793, 'ziff': 2383, 'mom': 489, 'ziffcorp': 1657, 'completing': 2384, 'trench': 2784, 'kay': 4794, 'beeps': 4795, 'physical': 5814, 'misconstrue': 4796, 'spacey': 4797, 'drinker': 6723, 'diablo': 4798, 'hammy': 4799, 'breath': 1314, \"they'll\": 1659, 'brandy': 4800, 'dejected': 4801, 'na': 386, 'looooooooooooooooooong': 4802, 'days': 779, \"duelin'\": 4803, 'reopen': 4804, 'half-back': 4805, 'youuu': 4806, 'imaginary': 4987, 'grand': 1068, 'stood': 5818, 'oughta': 5819, 'bite': 1566, 'dimly': 4808, 'initially': 4809, 'santa': 2514, \"buffalo's\": 2387, 'sweater': 4811, 'creme': 4812, 'nervous': 340, 'speaking': 1069, 'crumble': 2388, 'fatty': 4813, 'cesss': 4814, \"battin'\": 4815, 'riding': 2389, 'illegal': 1374, 'boxing_announcer:': 2390, 'eight': 709, 'countryman': 4816, 'infestation': 4817, 'handing': 2308, 'reading': 387, 'belch': 896, 'allegiance': 4819, \"homer's\": 341, 'aerosmith': 2829, 'satisfaction': 2392, 'malibu': 3804, 'nagurski': 4820, 'tying': 4821, 'infatuation': 4822, 'toward': 1662, 'idiots': 5536, 'dory': 4823, 'despite': 1664, \"'s\": 4824, 'freaking': 4825, 'watch': 388, 'madison': 4826, 'corn': 4096, 'degradation': 2393, \"foolin'\": 6448, 'guilt': 4828, 'mate': 2394, 'philosophic': 4829, 'sweetie': 5822, 'sodas': 2803, 'beloved': 1070, 'spilled': 4832, 'tied': 4833, 'jets': 2395, 'helicopter': 1665, 'amiable': 4834, 'violin': 2396, 'grants': 4836, 'haw': 2483, 'looking': 225, 'grain': 4837, 'ambrose': 4838, 'therapy': 1315, 'listen': 224, 'beanbag': 4841, 'spite': 4842, 'committing': 4843, 'wrestle': 4844, 'braun:': 4845, 'misfire': 4846, 'showered': 4847, 'pressure': 2398, 'gave': 456, 'dry': 787, 'clammy': 4848, 'death': 1666, 'rainbows': 4519, 'stops': 3696, 'dr': 258, 'winnings': 2400, 'mugs': 4849, 'cheapskates': 4850, 'games': 1071, 'sidekick': 4853, 'worse': 582, 'certainly': 4854, 'kirk_van_houten:': 490, 'stepped': 4856, 'brunswick': 4857, 'doooown': 4858, 'alky': 5825, 'enjoyed': 4860, 'spare': 6455, 'knives': 4862, 'lowering': 2401, 'live': 556, 'conversion': 6356, 'taken': 1667, 'mic': 1970, 'texan': 4864, 'nothing': 691, 'mel': 1703, 'sniffs': 1668, 'barney': 130, \"coaster's\": 2915, 'papa': 4868, 'frankie': 4867, 'special': 631, 'ore': 4869, 'movement': 4870, 'bar-boy': 1442, 'she': 159, 'tv_daughter:': 4872, 'belt': 2402, 'design': 4873, 'simple': 4874, 'apu_nahasapeemapetilon:': 242, 'lighting': 2403, 'buzz': 4875, 'selection': 4876, 'ale': 2404, 'gun': 2405, 'life-extension': 4877, 'farthest': 4878, 'easy-going': 3991, 'jumps': 2406, 'where': 139, 'blinds': 4880, 'surprising': 6284, 'hanh': 4881, 'mariah': 4882, 'squabbled': 4883, 'check': 273, 'graveyard': 4884, 'stern': 2654, 'says': 323, 'brotherhood': 4885, 'gosh': 2407, 'roz': 4886, 'getup': 4887, 'raise': 2408, 'showing': 1669, 'sugar': 2409, 'rugged': 4888, 'updated': 4889, 'cheering': 4891, 'laughing': 898, 'endorsement': 6460, 'mcstagger': 2410, 'grabbing': 1851, 'touchdown': 1670, 'chick': 1317, 'planted': 6182, \"'roids\": 4893, 'crowds': 4894, 'mmmmm': 4895, 'losers': 780, 'jazz': 4896, 'coast': 6456, 'sprawl': 4897, 'difficult': 2411, 'hoagie': 3111, 'punch': 1073, 'value': 2412, 'arabs': 4899, 'bliss': 4901, 'eleven': 1297, 'sub-monkeys': 4903, 'remorseful': 4905, 'asking': 2413, 'wiggum': 584, 'page': 2414, 'lose': 1074, 'ring': 1671, 'hobo': 2415, 'already': 529, 'my': 16, 'off': 126, 'unhook': 4906, 'exploiter': 4907, 'struggling': 1672, 'temper': 4908, 'lenny_leonard:': 33, 'murdoch': 4909, 'henry': 2416, 'bleak': 4910, 'lists': 4911, 'harvesting': 5832, 'single': 1673, 'wrote': 1075, 'source': 1846, 'mountain': 4913, 'fixes': 4914, 'grienke': 2417, 'brunch': 4915, 'usual': 4916, 'starving': 4917, 'shyly': 3219, 'acquaintance': 2418, 'doll-baby': 4919, 'safe': 899, 'dateline:': 4920, 'court': 4921, 'sorts': 4922, 'menace': 4923, 'scornful': 4924, 'kneeling': 4925, 'rag': 1318, 'wang': 2419, 'runaway': 4927, 'cobra': 4928, 'getting': 368, 'authenticity': 4930, 'us': 147, 'paris': 1674, 'letters': 1675, 'bills': 4931, 'banned': 6467, \"i'll\": 95, 'faces': 4933, 'hate': 457, 'whoops': 4934, 'think': 96, \"haven't\": 530, 'bake': 4935, 'fixed': 2420, 'experiments': 4936, 'large': 2421, 'banquet': 5835, 'twenty-five': 1676, 'apart': 4938, 'jewish': 4939, 'generally': 4941, 'boneheaded': 1995, 'civilization': 2422, 'emotional': 2423, 'six-barrel': 4943, 'what-for': 3322, 'big': 140, 'caricature': 5410, 'enthused': 4945, 'tidy': 4946, 'entering': 4947, 'remote': 5201, 'stiffening': 4948, 'passed': 2424, 'reason': 1678, 'raggie': 4949, 'meant': 1679, 'rummy': 781, 'sugar-free': 4950, 'nudge': 1974, 'break': 458, '||left_paren||': 3, 'animals': 2425, 'bike': 1680, 'charged': 4952, 'coins': 2426, \"o'problem\": 1319, 'sheet': 4953, 'fork': 1681, 'ronstadt': 4954, 'eating': 900, 'writers': 2427, 'cut': 515, 'maiden': 4956, \"pope's\": 2428, 'tight': 5837, 'sweat': 4957, 'tom': 1320, 'guttural': 4958, 'moxie': 4959, 'ebullient': 4960, 'ape-like': 4961, 'picked': 4962, 'dazed': 3426, 'tries': 2429, 'products': 2430, 'excavating': 4964, 'string': 4965, 'gut': 3443, 'issuing': 4967, 'scoffs': 4968, 'protestantism': 5027, 'sharity': 5839, 'flexible': 4970, 'eightball': 6022, 'un-sults': 2318, 'cheerleaders:': 5317, 'whoo': 3475, 'chumbawamba': 3485, 'gumbel': 901, 'white_rabbit:': 4974, 'duff': 215, 'nahasapeemapetilon': 4975, 'crack': 902, 'yours': 2815, 'milhouse_van_houten:': 1321, 'distaste': 5841, 'moron': 692, 'los': 3226, 'easy': 491, 'bus': 1682, 'wings': 2433, 'quit': 459, 'solo': 2434, 'good': 82, \"industry's\": 4978, 'ticket': 693, 'mortgage': 2435, 'general': 1516, 'neither': 2436, 'grabs': 1870, 'teams': 2437, 'clear': 1081, 'chest': 1683, 'poin-dexterous': 4980, '||exclamation_mark||': 8, 'captain:': 4981, 'drawn': 4201, 'heals': 4983, 'blank': 4984, 'arab_man:': 2064, 'business': 352, 'volunteer': 4986, 'haiti': 4988, 'proper': 4989, 'lucinda': 4990, 'honor': 2143, 'sidelines': 6705, 'playing': 610, 'typed': 4992, 'faith': 4993, 'studio': 2440, 'homeless': 4994, 'prefer': 2441, 'jacques': 694, 'cock': 4995, \"barney's\": 1684, 'indifferent': 4996, 'chair': 4997, 'medicine': 2442, 'breaking': 1685, 'gibson': 4998, 'vodka': 2092, 'annoyed': 632, 'tips': 1686, 'unlocked': 5000, 'offer': 1322, 'de-scramble': 3678, 'emergency': 5002, 'necessary': 5003, 'dregs': 5004, 'piling': 5005, 'radiator': 5006, 'reaching': 2443, \"smackin'\": 5007, '_montgomery_burns:': 342, 'whaaa': 5008, 'appreciate': 5212, 'seething': 5010, 'kadlubowski': 5011, 'trying': 599, 'quimbys:': 5012, \"tootin'\": 5013, 'cigarettes': 2813, 'wreck': 5015, 'whoopi': 5016, \"rasputin's\": 6618, 'gum': 2445, 'please': 200, 'handler': 3762, 'flashbacks': 5019, 'caused': 2446, 'upbeat': 1323, 'omigod': 903, 'faced': 3791, 'greatly': 5021, 'frosty': 2447, 'con': 5023, 'fast': 782, \"calf's\": 5024, 'came': 460, 'sec': 1687, 'gotcha': 5025, 'all-all-all': 5026, \"somethin'\": 531, 'its': 1688, 'yard': 1324, 'family': 343, 'carnival': 6480, 'studied': 5029, 'hunky': 5030, 'winston': 5031, \"c'mon\": 344, 'cocktail': 1689, 'bathed': 5032, 'loaded': 1325, 'god': 164, 'angry': 695, 'blimp': 5033, 'marry': 5034, 'crystal': 5035, 'hunger': 5036, \"isn't\": 294, 'fustigate': 5037, '_kissingher:': 1690, 'defeated': 2276, 'period': 5039, 'guff': 5040, 'officer': 5041, 'washed': 5042, 'yo': 1691, \"wearin'\": 5043, 'brine': 5044, '4x4': 5045, 'sequel': 5046, 'beaumarchais': 5047, 'mulder': 3232, 'wells': 5048, 'minimum': 1326, 'duffman:': 365, 'gambler': 5049, 'tough': 433, 'telephone': 5050, 'ballclub': 3979, 'mount': 2450, 'supermodel': 5051, 'kegs': 5846, 'drop-off': 5053, 'olive': 5054, 'record': 2451, 'sharps': 1076, 'heard': 461, \"he's\": 141, 'factor': 5055, 'baloney': 5056, 'show': 274, 'today/': 5057, 'shows': 1327, 'afford': 1694, 'lighter': 3803, 'too': 104, 'ha-ha': 2452, 'bedtime': 3324, 'highest': 5059, 'derek': 4555, 'grammy': 5061, 'marvin': 1695, 'suburban': 5062, 'habit': 5063, 'frontrunner': 5223, 'vampires': 2453, 'amount': 2454, 'aristotle:': 5064, 'nature': 5065, 'as': 89, 'grin': 5066, 'hunter': 1697, 'priceless': 5067, 'sips': 905, 'goldarnit': 4102, 'cecil_terwilliger:': 5068, \"rentin'\": 5069, 'refiero': 5070, \"y'see\": 5071, 'homer_': 5072, 'hooked': 5073, 'instead': 712, 'managing': 2455, 'game': 353, 'bupkus': 5075, 'exhaust': 1698, 'donuts': 4595, 'talked': 2457, 'eyeballs': 5077, 'whip': 633, 'pigs': 2458, 'terrifying': 5078, 'tiny': 2459, \"lady's\": 5079, 'nigerian': 2460, 'football_announcer:': 907, 'am': 127, 'confidence': 2461, 'terror': 5080, 'barney_gumble:': 41, 'ancient': 1593, 'unable': 5082, 'thought': 259, 'eyes': 462, 'nurse': 5083, 'unbelievable': 5084, 'onto': 5085, 'accusing': 5086, 'difference': 5087, 'threatening': 1699, 'stumble': 5088, '14': 5089, 'forget-me-drinks': 5090, \"i-i'll\": 5091, 'prizefighters': 4237, 'smells': 908, \"america's\": 5094, 'slip': 1700, 'my-y-y-y-y-y': 3242, 'darts': 1701, 'spender': 5096, 'dammit': 5097, 'ripping': 5098, 'southern': 5099, 'huhza': 5100, 'jubilation': 4298, 'butts': 783, 'owe': 1077, 'finish': 5102, 'sale': 2344, 'actress': 5103, \"number's\": 4325, 'hottest': 4329, '6': 2462, 'choked-up': 5106, 'hardy': 5107, 'consciousness': 5108, 'letter': 696, 'thirteen': 2463, \"soundin'\": 5109, 'parenting': 4566, 'bars': 1328, 'full-bodied': 5111, 'move': 784, 'tourist': 5112, 'inanely': 5113, 'wiggle': 5114, 'chateau': 5115, 'sentimonies': 5116, 'tee': 5117, 'certified': 5119, 'woman:': 1329, 'list': 1663, 'pages': 3875, 'pizza': 5123, 'voters': 5124, 'lemme': 697, 'public': 1702, 'earlier': 5125, 'aggravated': 2464, 'slogan': 6089, 'shipment': 5126, 'hundred': 305, 'friend:': 5127, \"meanin'\": 1971, 'walks': 1704, 'reserved': 5128, 'salt': 2465, 'veteran': 5129, 'hah': 5130, 'spits': 6300, 'eww': 5131, 'cleaned': 1078, 'needy': 2299, \"life's\": 4474, 'yoink': 5134, 'kicked': 2466, 'exchange': 2467, 'change': 585, 'recipe': 5135, 'chase': 2468, 'shakespeare': 2469, 'remembers': 5136, 'photographer': 5138, 'or': 119, 'horribilis': 5139, 'reminded': 6608, 'manager': 2470, 'pernt': 5140, 'procedure': 1330, 'privacy': 5141, 'shaved': 5142, 'carlson': 2471, 'chairman': 6747, 'superior': 2472, 'violations': 2473, \"livin'\": 1331, 'flying': 2474, 'result': 5144, 'mike': 1009, 'hubub': 5145, 'reach': 2476, 'saturday': 1630, 'betrayed': 5147, 'furiously': 5148, 'easter': 5149, 'ingested': 5150, 'inside': 785, 'ew': 3877, 'cruise': 5151, 'champion': 5152, 'mice': 5153, 'pre-columbian': 5154, 'beaumont': 5155, 'insulin': 5156, 'edgy': 5157, 'wowww': 5158, 'now': 63, 'triumphantly': 5159, 'tender': 5160, 'short': 1079, 'enemies': 1705, 'stein-stengel-': 5161, \"it'd\": 2478, 'men': 892, 'detail': 5163, 'premise': 5164, 'declan_desmond:': 1202, 'bumblebee_man:': 5166, 'diaper': 5167, 'bidet': 4662, 'priority': 5169, 'personal': 5170, 'over': 148, 'at': 67, \"we'd\": 909, 'test-lady': 5171, '10:15': 5172, 'write': 910, 'happily': 1706, 'landlord': 5173, 'miss': 698, 'eaten': 5174, 'higher': 1707, 'winces': 5175, 'ice': 911, 'ne': 5177, 'psst': 4740, 'para': 5179, 'network': 5180, 'o': 786, 'accounta': 5181, 'working': 1332, 'fact': 1708, 'awwww': 2479, 'total': 4771, 'cab': 5182, 'busted': 2480, 'sexual': 1709, 'alpha-crow': 5183, 'drollery': 5185, 'understand': 1334, 'lucky': 699, 'flown': 5186, 'shakes': 6617, 'appointment': 2482, \"dog's\": 5188, 'thought_bubble_homer:': 2397, 'way:': 5189, 'rap': 1982, 'formico': 2484, 'stadium': 1710, 'build': 5191, 'convenient': 5853, \"shouldn't\": 634, 'veux': 3946, 'moe_szyslak:': 9, 'plenty': 2485, 'hooch': 5192, 'throws': 3255, 'knuckle-dragging': 4468, 'needed': 1335, 'squirrel': 5195, 'crab': 5870, 'roller': 5196, 'paints': 5197, 'drift': 4929, 'act': 1080, 'loser': 492, 'symphonies': 5199, 'feast': 2487, 'sink': 5200, 'burning': 1677, 'shreda': 5202, 'paparazzo': 5203, 'binoculars': 5204, 'joey': 912, '3': 4465, 'cocks': 5206, 'smoke': 2488, 'man_at_bar:': 4979, 'booth': 5208, 'raking': 5209, 'greatest': 635, 'spooky': 5210, 'reactions': 5211, 'blade': 5009, 'basement': 5213, 'aims': 4546, 'sold': 1336, 'shhh': 5215, 'sympathy': 5216, 'um': 389, 'kinderhook': 5217, 'tap': 788, 'acquitted': 5218, 'cans': 5219, 'release': 2489, 'small': 494, 'isle': 2490, 'nbc': 2934, 'bee': 1082, 'tony': 904, 'comic_book_guy:': 790, 'pushes': 5222, 'mcbain': 2491, 'jack_larson:': 1696, 'krusty': 493, \"someone's\": 2492, 'sucker': 5224, 'funeral': 3893, 'head-gunk': 6238, 'egg': 1337, 'inches': 5226, 'divine': 5227, \"narratin'\": 5228, 'dealt': 5229, 'score': 5230, 'aisle': 5231, 'handsome': 1083, 'square': 2863, 'verticality': 5906, \"brockman's\": 5236, 'schizophrenia': 5237, 'ugliness': 3896, 'aunt': 5239, 'blob': 5240, 'mess': 2493, 'beer-jerks': 5241, 'football': 5243, 'wudgy': 5244, 'glad': 791, 'action': 2494, 'dallas': 1084, 'napkins': 5245, 'girls': 636, 'botanical': 5246, 'scam': 1712, 'consider': 1713, 'thorn': 5247, 'helped': 2495, \"show's\": 5248, 'walk': 700, 'savagely': 5249, 'row': 2496, 'forever': 789, \"heat's\": 5250, 'aw': 204, 'box': 701, 'fighter': 5232, 'sledge-hammer': 4453, 'all:': 1085, \"spaghetti-o's\": 5252, 'flayvin': 5253, 'are': 56, 'ahead': 1338, 'defiantly': 5254, 'suspenders': 5255, 'occasion': 5256, 'rascals': 5257, 'vanities': 5258, 'last': 205, 'bright': 1714, \"elmo's\": 5259, 'terrace': 5260, 'blamed': 5261, 'don': 2497, 'lovely': 2674, 'chinese_restaurateur:': 4912, 'accident': 792, 'sister-in-law': 5262, 'guess': 243, 'scare': 2499, 'hmf': 5263, 'poet': 2500, 'grave': 2501, 'superhero': 2502, 'museum': 2503, 'lights': 2504, 'mind': 702, 'pretending': 2505, 'stained-glass': 5264, 'holidays': 5265, 'ringing': 2506, 'perfected': 5266, 'lily-pond': 5267, 'laws': 2507, 'drawer': 5268, 'academy': 2508, 'assumed': 5341, 'vampire': 5270, 'away': 322, 'cutting': 1086, 'joint': 1087, 'competitive': 5271, 'turlet': 5272, 'sanctuary': 5273, \"'em\": 194, 'suits': 5274, \"cat's\": 2509, 'afterglow': 3769, 'dirge-like': 5276, 'officials': 5277, 'dogs': 5278, 'sincerely': 5883, 'challenge': 1715, 'considers': 5985, 'dearest': 2510, 'horrified': 1088, 'treasure': 913, 'clown': 1089, 'karaoke': 2511, 'else': 637, 'whoever': 5280, 'assistant': 2512, 'homeland': 5281, 'fledgling': 5282, 'abcs': 5283, 'unrelated': 5284, 'macaulay': 5285, 'cop': 1090, 'item': 5286, 'send': 793, 'morning-after': 5885, 'sorry': 149, 'skinheads': 6571, 'muttering': 2513, 'proudly': 794, 'thirty-five': 5287, 'apulina': 5288, 'safely': 5289, 'roz:': 2515, 'possibly': 2516, 'admirer': 5290, 'brightening': 2517, 'specified': 5291, '||return||': 1, 'partner': 1339, 'sobriety': 3912, 'indigenous': 5293, 'romance': 5294, 'painting': 2518, 'reasonable': 2519, \"edna's\": 5295, 'promised': 2520, 'grubby': 5296, 'ohmygod': 1634, 'lenny': 175, 'website': 2521, 'mmmm': 586, 'nibble': 5297, 'nucular': 5786, \"ball's\": 5298, 'black': 795, 'dessert': 2522, 'honest': 914, 'shout': 5300, 'few': 1091, 'population': 6410, 'elaborate': 5301, 'ago': 1092, 'mouths': 5302, 'ragtime': 2523, 'indignant': 1716, 'ratted': 5303, 'ease': 4890, 'part': 1093, 'walked': 5305, 'bottles': 2524, 'radio': 2525, 'seats': 2526, 'beautiful': 410, 'picture': 703, 'disappointed': 1094, 'crushed': 5306, 'excuses': 5307, 'determined': 5308, \"liberty's\": 5309, 'life-threatening': 5310, 'answers': 2527, 'rings': 5311, 'tail': 1340, 'pointing': 1717, 'everyone': 411, 'bash': 2528, 'puke': 1718, 'sloe': 4608, 'greystash': 1719, 'neat': 2529, 'stevie': 2827, 'sniffles': 1720, 'fritz:': 1721, 'did': 113, 'finding': 1341, 'car:': 5315, 'dinks': 4757, 'edna': 412, 'hammock': 5316, 'died': 1342, 'hang': 825, 'yap': 1343, 'lucius:': 756, 'state': 929, 'demo': 5319, \"hawkin'\": 5320, 'gin': 1344, 'online': 3935, 'quick-like': 5321, 'worldview': 5322, 'nitwit': 5323, 'monroe': 5324, 'manuel': 5325, 'hollye': 5326, 'woozy': 2641, 'states': 3918, '_hooper:': 1116, 'happen': 533, 'sleeping': 5329, 'roof': 2531, 'song': 587, 'appreciated': 5330, 'arise': 5331, 'romantic': 935, 'feelings': 1529, 'instantly': 5332, 'after': 261, 'noises': 495, 'trees': 5334, 'young_homer:': 915, 'later': 704, 'mid-conversation': 5335, 'funds': 2532, 'man': 85, 'fever': 1775, 'magic': 1345, 'notices': 5336, 'noggin': 5337, 'spending': 1776, 'luck': 1121, 'weep': 3280, 'west': 5340, 'dã¼ff': 3920, 'barkeep': 2534, 'maude': 5269, 'howya': 5342, 'correcting': 2535, 'cauliflower': 5343, 'tape': 534, 'sanitary': 5344, 'democrats': 5345, 'ping-pong': 5346, 'character': 1346, 'winch': 5347, 'steaming': 5348, 'somebody': 796, 'orifice': 3922, 'flower': 1347, 'stats': 5350, 'find': 260, 'non-american': 5351, 'expense': 6244, 'ball-sized': 2536, 'merchants': 5352, 'patron_#1:': 5353, 'want': 102, \"marge's\": 2684, 'wealthy': 5354, 'nachos': 5355, 'barbara': 5356, 'hiring': 5357, \"i'm-so-stupid\": 1096, 'smelling': 6683, 'senators:': 5358, 'uhhhh': 5359, 'jackpot-thief': 3958, 'ho-la': 5360, 'fortune': 5361, 'cannot': 1724, 'making': 797, 'satisfied': 2539, 'sixty-nine': 1725, 'sheepish': 1301, 'eh': 176, 'aah': 5363, 'blow': 1348, 'someplace': 5364, 'ehhhhhh': 3664, 'poured': 5366, 'bottle': 588, 'data': 5368, 'junkyard': 5369, 'stay-puft': 5370, 'flush-town': 5371, \"tatum'll\": 3286, 'jelly': 5372, 'zeal': 5373, 'mail': 2540, 'rainier_wolfcastle:': 2541, 'fausto': 2543, 'furniture': 5374, 'quero': 5022, \"chewin'\": 2456, 'mafia': 1726, 'sponsor': 5904, 'reentering': 5376, 'favor': 1097, 'crowbar': 5377, 'story': 799, 'moving': 5378, 'vicious': 5379, 'agent_johnson:': 2544, \"son's\": 5380, 'found': 705, 'computer_voice_2:': 5381, 'hears': 5382, 'labor': 5383, 'wienerschnitzel': 5384, 'carney': 5385, 'creature': 5386, 'crazy': 583, 'mull': 5387, 'koi': 2545, 'idioms': 5388, 'decency': 2140, 'hospital': 1098, 'squashing': 5390, 'invited': 1099, 'raccoons': 2546, 'colossal': 5391, 'depressant': 5392, 'jeff_gordon:': 5393, 'each': 546, 'murdered': 5395, 'f': 1727, 'town': 376, 'fleabag': 5396, 'dinner': 434, 'vengeance': 5397, 'lawyer': 3534, 'multi-national': 5399, 'breakdown': 5400, 'crossed': 2547, 'dislike': 5401, 'principal': 917, 'dance': 800, 'socratic': 5403, 'grey': 5404, 'attitude': 2548, 'pope': 2549, 'information': 3223, 'squishee': 5405, 'been': 106, 'what': 34, 'lugs': 5407, 'many': 369, 'beans': 5408, 'beers': 706, 'birthday': 918, 'alma': 5409, 'film': 1836, 'crinkly': 4302, 'trapping': 5411, 'admit': 919, 'combines': 6449, 'sing': 578, 'teach': 1350, 'wraps': 5413, 'warily': 2550, 'gregor': 5414, 'willing': 5416, 'sweden': 5417, '_powers:': 2551, 'canyonero': 414, 'carl': 295, 'scotch': 1847, 'insecure': 5420, 'so-ng': 5421, 'cappuccino': 6309, 'presentable': 5422, 'barter': 5423, 'dramatically': 5424, 'ruin': 1729, 'researching': 5425, 'waylon_smithers:': 345, 'intoxicated': 5426, 'xanders': 5427, 'fondest': 3293, \"couldn't\": 496, 'seemed': 2552, 'decent': 2553, 'sunday': 1100, 'tar-paper': 5430, 'attend': 5431, 'cracked': 5432, 'fry': 5433, 'tank': 5235, 'moments': 1730, \"kiddin'\": 772, 'ohhhh': 5436, 'bastard': 2554, 'stocking': 5437, 'involved': 2555, 'pillows': 5438, 'learn': 589, 'fresco': 5439, 'haws': 3334, 'connection': 5440, 'deals': 5441, 'mediterranean': 5722, 'benjamin': 5443, 'eggshell': 5630, 'teriyaki': 5444, 'quick': 920, 'sob': 1101, \"floatin'\": 5912, 'incriminating': 5445, 'moon': 5446, 'sacrifice': 5447, 'attraction': 5448, 'springfield': 252, 'official': 5449, 'cake': 2556, 'wooooo': 1731, 'amazed': 773, 'clientele': 1732, 'seminar': 5451, 'connor': 5452, 'rules': 2557, 'given': 1159, 'mexicans': 5914, 'mm-hmm': 5455, 'party': 377, 'sadder': 1734, 'favorite': 801, 'stirrers': 5456, 'hoped': 5457, 'outlook': 2559, 'appealing': 2560, 'leathery': 5458, 'compete': 5459, 'professor': 2561, 'logos': 5460, 'assassination': 6758, 'contact': 5461, 'wrapped': 5462, 'julep': 5463, 'eyeing': 5464, \"playin'\": 5465, 'married': 638, 'bachelor': 6698, 'fit': 5466, 'gentle': 5604, \"cont'd:\": 5467, 'barney-guarding': 5917, 'gallon': 6517, \"town's\": 2562, 'suru': 5469, 'cockroaches': 5470, 'owner': 2563, 'counter': 5471, 'thrust': 5472, 'thoughtfully': 2564, \"people's\": 5473, 'either': 628, 'fireball': 1735, 'label': 1736, 'wheeeee': 4486, 'eminence': 5476, 'inspector': 1737, 'jockey': 2565, 'friendship': 2566, 'deli': 5477, 'add': 5478, 'quarry': 6540, \"where'd\": 1738, 'grocery': 5480, 'love': 123, 'new_health_inspector:': 1351, 'matter-of-fact': 2567, 'carey': 5482, 'kim_basinger:': 5483, 'warn': 1963, 'jokes': 5484, 'twin': 2568, 'hoping': 1434, 'swigmore': 5486, 'hurt': 435, 'panicky': 1739, 'breathless': 5487, 'capitol': 5488, 'federal': 5489, 'intruding': 5490, 'survive': 1103, 'bible': 2347, 'ingredient': 1352, 'burt': 1353, 'tasty': 5492, 'military': 1740, 'forecast': 5920, 'ze-ro': 5494, 'annoying': 5495, 'viva': 5951, 'palm': 2348, 'world-class': 5497, 'who': 83, 'invulnerable': 2899, 'actor': 5662, 'pepsi': 5499, 'squad': 5500, 'ha': 802, \"pullin'\": 5501, 'argue': 5502, 'vomit': 1741, 'dreamily': 5555, 'nfl_narrator:': 5503, 'gargoyle': 2570, 'jail': 1742, 'insulted': 2571, 'plan': 857, 'mellow': 5504, 'faiths': 5505, 'sooner': 2572, 'no': 32, 'princess': 844, 'halloween': 5506, 'hose': 3915, 'chuckle': 282, 'upn': 5507, 'extremely': 2279, 'hotenhoffer': 5508, 'moesy': 6354, 'zero': 2574, 'alec_baldwin:': 5509, 'putty': 3686, 'ordered': 1637, 'grampa_simpson:': 354, 'mustard': 5510, 'windshield': 5511, 'hosting': 4446, 'snake': 1354, \"she'll\": 4584, 'starla:': 3021, 'tubman': 5514, 'awfully': 3725, 'swell': 5515, '||dash||': 66, 'looting': 5516, 'orphan': 5517, 'also': 1105, 'rev': 707, 'liar': 2576, 'fellow': 1106, 'wacky': 5518, 'cletus_spuckler:': 5520, \"s'pose\": 5521, 'replaced': 5522, 'churchill': 2349, 'mither': 5523, 'brave': 2578, 'for': 25, 'handoff': 5950, 'exciting': 5524, 'ehhhhhhhh': 5525, 'exception:': 4208, 'sausage': 2579, 'country': 3095, 'micronesian': 5528, 'stage': 5529, 'package': 5613, 'collateral': 5530, 'blessing': 4004, 'snatch': 5531, 'spectacular': 5532, \"doesn't\": 536, 'full': 803, 'hundreds': 5533, 'lowest': 3132, 'guzzles': 5534, 'planet': 2580, \"we've\": 370, 'moustache': 5535, 'yea': 1107, 'lover': 2581, 'although': 2582, 'depending': 4756, 'drunk': 217, 'jam': 5537, 'falsetto': 5538, 'swooning': 5539, 'glove': 804, \"spiffin'\": 5540, 'winning': 3178, 'bread': 2583, 'kissed': 5542, 'famous': 2584, 'easier': 2585, 'committee': 5543, 'new': 165, 'first': 229, 'choice': 1356, 'jeter': 5544, 'successful': 2587, 'neighboreeno': 5545, 'clone': 1743, 'statistician': 5546, 'man_with_crazy_beard:': 5547, 'amber': 5548, 'itself': 5549, \"smokin'_joe_frazier:\": 1062, 'customers-slash-only': 6552, 'christopher': 2588, 'clubs': 5550, 'play': 253, 'hair': 922, 'aziz': 5551, 'natured': 5552, 'though:': 5553, 'voted': 3870, 'background': 5554, 'recently': 2186, 'addiction': 5556, 'liquor': 6405, 'seems': 805, 'voodoo': 5450, 'dive': 1744, 'musses': 5558, 'knocked': 1745, 'goblins': 5559, 'dirt': 1746, 'lear': 5560, 'nickels': 2589, 'dull': 5561, 'remain': 6159, 'paint': 806, 'thumb': 987, 'far': 639, 'joe': 640, 'hitler': 1996, 'twenty-nine': 3312, 'alcoholic': 2590, 'side:': 5564, 'freshened': 6470, 'grow': 1747, 'tolerance': 5565, 'cares': 1209, 'refill': 5567, \"everyone's\": 1359, 'latour': 5568, 'land': 5569, '70': 5570, 'generously': 4982, 'swig': 5571, 'driving': 993, 'nasty': 5572, 'boggs': 5573, 'boozehound': 5574, \"mcstagger's\": 5575, 'resolution': 5576, 'coach:': 1748, 'wait': 158, 'title:': 5577, 'wondering': 2591, 'faded': 5578, \"moe's\": 179, 'tyson/secretariat': 5580, 'onassis': 5581, 'entrance': 5955, 'lump': 3797, 'flash-fry': 5583, 'lend': 3392, 'troy:': 1749, 'maitre': 3311, 'student': 5585, 'housing': 5586, 'sealed': 5587, 'opening': 1750, 'crew': 2593, 'rusty': 6450, 'sizes': 5588, 'male_singers:': 5589, 'b-day': 3435, 'job': 310, 'cranberry': 5591, 'plane': 5592, 'trust': 1751, 'rome': 5593, 'travel': 5594, 'practically': 5595, 'r': 1505, 'application': 5597, 'fury': 5598, 'disco': 2594, 'very': 226, 'sponge:': 3468, \"let's\": 227, 'ready': 807, 'dictating': 5600, 'brewed': 2595, 'chilly': 2596, 'ultimate': 5601, 'quiet': 590, 'pudgy': 5602, 'perfect': 627, 'moans': 808, 'control': 3903, 'average-looking': 3509, 'corner': 1512, 'slurps': 3517, 'sangre': 5607, 'happy': 275, 'half-day': 5608, 'heavyweight': 1227, 'pronounce': 3531, 'mac-who': 5304, 'ladies': 465, 'case': 1228, 'whistling': 3554, 'shoes': 5614, 'eye-gouger': 5615, 'negative': 5616, 'gator:': 2598, 'steak': 2599, \"bart's\": 1752, 'pissed': 1753, 'men:': 1754, 'option': 5617, 'smell': 711, 'moonlight': 6547, 'triangle': 5618, 'billboard': 1360, 'kinda': 497, 'connor-politan': 3034, 'bedridden': 5620, 'night-crawlers': 5621, 'ask': 355, 'bridge': 2600, 'rem': 5622, '3rd_voice:': 5623, 'tick': 2601, 'angrily': 3622, 'workers': 1755, 'sticking': 5625, 'windex': 2602, 'brockman': 1111, 'gargoyles': 5626, 'meaningful': 1361, 'extract': 5627, 'popped': 5628, 'there': 80, 'since': 276, 'lise:': 2603, 'play/': 5629, 'disappointing': 3658, 'lurks': 5631, \"tramp's\": 5632, 'fruit': 5612, 'duty': 2542, 'deadly': 2604, 'depressed': 5634, 'sickens': 5940, 'window': 1012, 'blokes': 5636, 'fastest': 5637, \"this'll\": 3684, 'growing': 5639, 'publishers': 5640, 'shard': 5474, 'sensitivity': 3491, 'suspicious': 2605, 'bachelorhood': 5642, 'round': 809, 'the': 5, 'roses': 2606, 'anyhow': 5644, 'ling': 5645, 'theatrical': 5646, 'janette': 5647, '||period||': 0, 'slop': 3737, 'mop': 2113, 'spanish': 1534, 'lenny:': 2481, 'sympathetic': 2114, 'salad': 1757, 'walking': 810, 'times': 641, 'lifters': 5653, 'regretful': 6566, 'stab': 5654, 'heart': 591, 'peace': 1758, 'unsourced': 3772, 'jerk': 1363, 'much': 174, 'sour': 3778, 'snide': 5657, 'simp-sonnnn': 2608, 'har': 1759, 'ram': 5658, 'five-fifteen': 5659, 'group': 926, 'shack': 5660, 'rancid': 5661, 'fat-free': 3981, 'offensive': 3802, 'brusque': 5664, 'erasers': 5942, 'courteous': 5665, 'heads': 1760, 'lush': 2131, 'nor': 5666, 'panties': 3821, 'hillary': 5668, 'movies': 1364, 'isotopes': 1031, 'sen': 5669, \"car's\": 5944, 'scream': 1365, 'guts': 5672, 'looser': 3318, 'gayer': 5673, 'hot-rod': 5945, 'dumptruck': 5674, 'attractive_woman_#1:': 5675, 'harv:': 927, 'coward': 2612, 'joke': 2613, 'assert': 5676, 'chili': 5677, 'schmoe': 5678, 'occasional': 5679, 'sixteen': 3657, 'pageant': 1761, 'and-and': 6666, 'rekindle': 6572, 'spouses': 5681, 'cupid': 4224, 'aggravazes': 5683, 'space': 2354, 'about': 74, 'nose': 1367, 'only': 153, 'allow': 5685, 'die': 451, \"nothin'\": 325, 'saw': 463, 'femininity': 5686, 'schedule': 3929, 'contest': 2615, 'sight': 5688, 'remembering': 2616, 'gasoline': 5689, 'collette:': 811, \"g'night\": 5690, 'bees': 1368, \"sayin'\": 928, 'citizens': 5691, 'table': 812, 'forward': 2617, 'clipped': 3962, 'north': 5693, \"'kay-zugg'\": 5694, 'aged': 3971, 'fortensky': 5695, 'delighted': 1763, 'use': 283, 'lloyd': 2755, 'ominous': 1260, 'hans:': 1369, 'conclusions': 5698, 'beverage': 5699, 'relieved': 2618, 'crying': 2619, 'bathroom': 2620, 'closes': 2621, 'fierce': 6575, 'were': 177, 'weight': 5700, \"bringin'\": 4022, 'sap': 3438, 'complete': 1764, 'plastered': 5702, 'ahh': 813, 'dying': 1113, 'lock': 2170, 'lib': 2624, \"cashin'\": 5704, 'patented': 5705, 'feat': 5706, 'woman': 326, 'banquo': 2625, 'flames': 5708, 'championship': 1370, 'stays': 5709, 'two': 131, 'marjorie': 5711, 'dna': 5713, 'lizard': 5714, 'klown': 5715, 'evils': 5716, 'stink': 5717, 'incredible': 6578, 'sideshow': 5719, 'decide': 2626, 'kidnaps': 5720, 'otherwise': 5721, 'badly': 5442, \"when's\": 5723, 'realized': 2627, 'shutup': 5725, 'wake': 2628, 'detecting': 2629, 'horrors': 5726, 'coma': 5727, 'seat': 814, 'smitty:': 5728, \"time's\": 3130, 'roomy': 2630, 'mine': 1033, 'walther': 5956, 'depressing': 4179, 'eva': 5730, 'holiday': 1766, 'wishful': 4437, 'plywood': 2632, 'his': 87, 'couch': 1372, 'thinking': 391, 'limited': 5731, 'snail': 5732, 'chew': 5733, 'grumbling': 5318, 'legs:': 5734, 'venture': 4220, 'busiest': 5736, 'intriguing': 5737, 'then': 91, 'four-drink': 5738, 'owns': 5739, 'flashing': 4247, 'telling': 815, 'tones': 5741, 'piano': 5742, 'join': 708, 'homers': 2633, 'celebration': 5743, 'cueball': 2634, 'heavens': 5744, 'lodge': 5745, 'tooth': 5746, 'flag': 2693, 'brassiest': 2252, 'outs': 5958, 'suck': 1767, 'heave-ho': 5748, '_zander:': 1114, \"neighbor's\": 5749, 'rob': 1373, 'twenty-four': 5751, 'punching': 5960, \"d'ya\": 5753, 'late': 642, 'rotten': 5754, 'british': 1882, 'absentminded': 5755, 'oak': 5756, 'rosey': 5757, 'barber': 5758, 'bucket': 2635, 'schabadoo': 5759, 'fistiana': 5760, 'safer': 2268, 'ah-ha': 2636, 'bit': 643, 'dumbest': 5762, \"o'\": 5763, 'warm_female_voice:': 768, 'ambrosia': 2356, 'dear': 524, 'broom': 2637, 'jobs': 2638, 'cover': 1375, 'awe': 2639, 'bowl': 644, 'shaggy': 2640, 'true': 383, \"i've\": 99, 'nineteen': 1115, 'der': 1768, 'parents': 5768, 'confident': 2642, 'fox': 2643, 'beyond': 5624, 'tonight': 254, 'ruined': 1376, 'dryer': 2293, 'dignity': 5770, 'society_matron:': 5771, 'continuing': 2644, 'bartenders': 2296, 'material': 5773, 'ooo': 1377, 'effects': 2298, 'hole': 1769, 'kako:': 5774, 'marvelous': 5775, 'busy': 1378, 'screws': 5776, \"'\": 5777, 'margarita': 2645, 'x-men': 5778, 'sideshow_bob:': 3335, \"getting'\": 5779, 'len-ny': 4529, 'proposition': 5780, 'dean': 5781, 'simpson': 311, 'sunk': 6384, 'unavailable': 5782, 'impeach': 6101, 'managed': 6252, 'tv': 206, \"seein'\": 1770, 'adequate': 5784, 'deacon': 2647, 'predictable': 5785, 'man:': 1117, 'dropped': 2648, 'hilarious': 1642, 'sat-is-fac-tion': 4299, 'pal': 436, 'dumb': 931, 'hateful': 5643, 'restaurant': 1381, 'children': 1060, 'portuguese': 3158, 'disposal': 4607, 'short_man:': 5790, 'hurry': 1382, 'phone': 178, 'changing': 1118, 'extinguishers': 5791, 'until': 1119, 'clapping': 5792, 'weeks': 1636, 'young': 645, '91': 5793, 'other_book_club_member:': 5794, 'column': 5795, 'maximum': 5796, 'augustus': 3358, 'knowledge': 5798, 'hands': 498, 'hillbillies': 5799, 'emporium': 5800, 'unsafe': 5801, 'while': 238, 'gifts': 2649, 'aboard': 5557, 'reviews': 2650, 'jackass': 4727, 'cartoons': 5803, 'sistine': 5804, 'closed': 1064, 'cooler': 2651, 'fine': 449, 'self-made': 2652, 'plastic': 932, \"hobo's\": 5807, 'nobel': 1771, 'fifth': 4760, 'kucinich': 5809, 'cries': 1383, 'frat': 4693, 'model': 5333, 'insurance': 5810, 'prayer': 2655, 'soup': 2656, 'spelling': 5811, \"yesterday's\": 5812, 'microwave': 5813, 'ridiculous': 1658, 'buds': 5815, 'candles': 5816, 'dipping': 5817, 'literature': 1660, 'presidents': 4807, 'punches': 2657, 'cheryl': 5820, 'debonair': 5821, 'unlucky': 1661, 'hollywood': 2658, \"somethin's\": 4830, 'celebrities': 1772, 'cameras': 1773, 'comic': 2659, 'socialize': 4852, 'camp': 2660, 'broken': 4859, 'foundation': 5826, 'astrid': 5827, '2': 6380, 'wave': 2661, 'gil_gunderson:': 5415, 'heather': 5828, 'alley': 1774, 'standards': 2533, 'rush': 5829, 'spitting': 5682, 'fonda': 5861, 'notch': 5830, 'mouse': 1120, 'coal': 5831, 'hired': 2662, 'disgrace': 2663, 'wagering': 4698, 'intoxicants': 5833, 'dies': 5834, 'cologne': 4937, 'taking': 710, 'grammys': 5836, 'which': 298, 'las': 5338, 'disturbing': 5838, 'fustigation': 4969, 'triple-sec': 5840, \"how're\": 4976, 'tongue': 1095, 'summer': 1777, '||quotation_mark||': 20, 'oughtta': 5842, 'speak': 1122, 'little_man:': 1123, 'pop': 1124, 'using': 818, \"she's\": 362, \"havin'\": 1778, 'pats': 1779, 'flynt': 5843, 'place': 184, 'understood': 5844, 'copy': 2665, 'seamstress': 5845, 'wipe': 1780, 'pipes': 1384, 'interested': 2666, 'coughs': 5633, 'scrape': 2117, 'cheers': 1693, 'krabappel': 2667, 'hero-phobia': 6321, \"stallin'\": 5848, 'darn': 5849, 'advertise': 5074, 'reckless': 5850, 'will': 156, 'passenger': 5851, 'cuddling': 6602, 'conspiratorial': 2669, 'cheesecake': 5852, 'bunion': 4313, 'tavern': 347, 'knit': 3800, 'pledge': 4617, 'inexorable': 5854, 'savings': 5855, 'tastes': 1782, 'smelly': 5856, \"smokin'\": 5857, 'killed': 1783, 'endorse': 1569, 'drank': 2670, 'met': 1784, 'getaway': 5859, 'babar': 5402, 'bum:': 6604, 'jukebox': 933, 'groin': 4855, 'hooray': 5862, 'rubbed': 5863, 'whenever': 2671, 'resist': 5864, 'watt': 5865, 'municipal': 5866, 'goal': 5867, 'artie_ziff:': 499, 'weak': 1765, 'urge': 5869, 'hand': 500, 'trolls': 2486, \"homer's_brain:\": 2672, 'whaddaya': 1385, 'failure': 4026, 'foodie': 5871, 'universe': 5872, 'housewife': 5873, 'treat': 1126, 'profiling': 5874, 'intakes': 5875, 'lee': 5876, \"kid's\": 5877, 'wife': 244, 'businessman_#1:': 2673, 'uncle': 934, \"who's\": 285, 'cutest': 6523, 'payments': 2498, 'tremendous': 5878, 'nooo': 5879, 'forty-five': 5880, 'fears': 5881, 'effigy': 2675, 'test': 1387, 'courthouse': 5882, 'liven': 5279, 'aggie': 5884, 'something': 150, 'course': 532, \"askin'\": 6609, 'works': 592, 'players': 5886, 'k': 1785, 'suing': 2676, 'wind': 5887, 'soon': 646, 'sperm': 5888, 'leftover': 5889, 'dressing': 5314, 'any': 211, 'force': 2677, 'achebe': 5891, 'offa': 5892, 'collapse': 5893, 'watashi': 5894, 'bartending': 2678, 'relaxed': 4652, 'wooden': 2679, 'sucked': 1786, 'sweaty': 5896, 'displeased': 5897, 'italian': 5898, 'ivory': 5899, 'firing': 5900, \"makin'\": 819, 'karaoke_machine:': 5901, 'blossoming': 5902, 'boxcars': 5903, 'principles': 5797, 'repairman': 5905, 'thoughtful': 1388, 'kinds': 5389, 'electronic': 2680, 'fantasy': 5907, 'things': 266, 'continuum': 5908, 'superpower': 5406, 'delicious': 1787, 'whether': 2681, 'funny': 464, 'rub': 1788, 'future': 1789, 'lenford': 5909, 'author': 5910, 'spit': 1647, 'malfeasance': 5913, 'drinks': 647, 'zone': 5454, 'shuts': 5915, 'fulla': 5916, 'dispenser': 5468, \"you're\": 61, 'moe-ron': 3916, 'sat': 2302, 'folk': 2682, 'muhammad': 5919, \"tinklin'\": 5493, 'pregnancy': 5921, 'multi-purpose': 5922, 'dumpster': 5923, 'literary': 5924, 'pocket': 1790, 'bursts': 5925, 'pleasant': 2683, 'slapped': 5926, 'size': 1791, 'evasive': 5927, 'shoot': 1792, 'created': 5928, 'yourself': 416, 'reality': 5929, 'peanuts': 820, 'madonna': 5930, 'dictator': 5931, 'nominated': 5932, 'maxed': 5933, \"lenny's\": 1723, 'marguerite:': 2685, 'gardens': 3674, 'kissingher': 5934, 'hammer': 3416, 'swan': 5935, 'tomahto': 5936, 'confused': 1127, 'needs': 1128, 'yoo': 2686, 'bulked': 5937, 'pugilist': 5938, 'jump': 1793, 'u2:': 5939, 'snort': 1794, 'best': 228, 'gag': 1756, 'kidney': 2688, 'anonymous': 5941, 'answering': 2689, 'lurleen_lumpkin:': 2609, 'drug': 1389, 'hold': 390, 'sponge': 5670, 'chum': 2611, 'adjourned': 5946, 'champ': 2690, 'anti-crime': 5947, 'gals': 2691, 'graves': 5948, 'massage': 5949, 'palmerston': 1795, 'mona_simpson:': 2366, 'presses': 4778, 'surprised': 501, \"mo'\": 5952, \"hell's\": 6343, 'regretted': 5953, 'sumatran': 5954, 'drunks': 1796, 'yelling': 2385, 'usually': 1390, '_eugene_blatz:': 4900, 'grumpy': 2537, 'apply': 5176, 'badges': 2692, 'scum-sucking': 3717, 'nah': 392, 'edner': 5275, 'crotch': 5752, 'video': 1391, 'sexton': 5961, 'vin': 5962, 'soaking': 5963, 'ehhh': 5964, 'looked': 1797, 'neanderthal': 5965, \"s'cuse\": 3065, ':': 593, \"cleanin'\": 6001, 'unbelievably': 5966, 'bagged': 5967, 'simultaneous': 5968, 'positive': 2694, 'puzzled': 1129, \"man'd\": 5969, 'wiggle-frowns': 5970, 'california': 5971, 'brick': 5972, 'tolerable': 5973, 'ã€': 1798, \"lisa's\": 1130, 'abe': 5974, 'eager': 5975, 'irish': 2653, 'ripper': 5977, 'reasons': 2695, 'awareness': 5978, 'written': 2696, 'number': 821, 'hourly': 6014, 'clincher': 5979, 'right-handed': 5980, 'spinning': 1799, 'finished': 1800, 'beached': 5981, \"dad's\": 1392, 'defected': 5982, \"doin'\": 356, \"brady's\": 5983, 'fail': 5984, 'whose': 1781, 'prize': 2697, \"treatin'\": 5986, 'balls': 2698, 'furious': 1393, 'light': 648, 'bet': 861, 'odd': 1801, 'maintenance': 3369, 'stupidly': 5988, 'upgrade': 5989, 'legend': 5990, 'bleeding': 5991, 'goodbye': 649, 'sugar-me-do': 5992, 'man_with_tree_hat:': 5993, 'elect': 5994, 'repay': 5995, 'jeez': 1131, 'super': 502, 'dead': 437, 'enhance': 5996, 'mozzarella': 5997, 'compels': 5998, \"listenin'\": 5999, 'writer:': 6000, 'female_inspector:': 5769, 'bones': 6002, 'cooker': 6003, 'up-bup-bup': 6004, 'crippling': 6008, 'hearse': 6006, 'awkwardly': 6007, 'card': 713, 'county': 6129, 'dumbbell': 6005, 'till': 466, 'bowled': 6009, 'terrific': 2702, 'explaining': 1258, 'acting': 2703, 'courts': 6010, 'handed': 6011, 'poking': 2704, 'chunk': 6012, 'disguise': 6013, 'lousy': 650, 'pitch': 2705, 'wiener': 1802, 'marriage': 658, 'kent_brockman:': 240, 'quarterback': 6015, 'cheaped': 6016, 'mirthless': 6017, 'whup': 6018, 'lobster-politans': 6019, 'roll': 1803, 'icelandic': 6020, 'pontiff': 6021, 'was': 53, 'videotaped': 4904, 'killer': 3378, 'boys': 714, 'beligerent': 6025, 'sea': 2706, 'corporation': 2707, 'wishes': 2708, 'comedies': 6026, 'irishman': 6027, 'enveloped': 6028, 'swallowed': 6029, 'mailbox': 6030, 'figure': 6031, 'pointed': 1394, 'out': 51, 'scum': 1804, 'cause': 6032, 'bashir': 2837, 'face-macer': 6033, 'ads': 6034, 'hostages': 6035, 'buffalo': 1395, 'fanciest': 2709, 'trusted': 2710, 'attempting': 2614, 'apu': 652, \"can't\": 92, 'african': 1132, 'than': 183, 'coming': 538, 'badmouth': 6038, 'bury': 6039, 'subscriptions': 6040, 'e-z': 6041, 'p': 1133, 'their': 223, 'vance': 1396, 'faint': 6042, 'pine': 6043, 'bums': 2333, 'dreamed': 2711, 'texas': 1806, 'adult': 6045, 'depression': 6046, 'burns': 373, 'pulitzer': 6047, 'homesick': 6048, 'anywhere': 2712, 'clean': 503, 'warmth': 6049, 'yep': 1143, 'dames': 2759, 'mary': 6052, 'wolverines': 6053, 'mickey': 6054, 'costume': 2713, 'cockroach': 6055, 'hates': 1807, 'talk-sings': 1808, 'hat': 6056, 'loved': 936, 'aghast': 3388, 'jay:': 6058, 'serum': 6059, 'donut': 6060, 'life-sized': 6061, 'investment': 6062, 'patty': 2714, \"'round\": 6063, \"they're\": 262, 'old': 195, 'white': 2715, \"'topes\": 2369, 'recall': 2873, 'wrestling': 2716, 'tie': 2717, 'even': 162, 'synthesize': 6066, 'wheel': 1134, \"dolph's_dad:\": 5475, 'sounds': 393, 'settles': 6067, 'monkey': 2718, \"pressure's\": 6068, 'began': 2719, 'anti-intellectualism': 6069, 'issues': 6070, 'spirit': 6071, 'body': 1397, 'grandkids': 6072, 'quietly': 1135, 'souvenir': 6073, 'aww': 1809, 'bear': 2792, 'gulliver_dark:': 4425, 'less': 651, 'wearing': 1810, 'consoling': 6769, 'influence': 5959, 'bellyaching': 6075, '21': 6429, 'bullet-proof': 6076, 'alone': 715, 'slit': 6077, 'kisses': 6078, 'lay': 6454, 'ironed': 2721, 'born': 1811, 'granted': 2722, 'lou': 6079, 'frink-y': 6080, 'judges': 6081, 'obsessive-compulsive': 6082, 'hate-hugs': 6083, 'project': 2723, 'realizing': 579, 'swimming': 6084, \"tony's\": 6085, 'juan': 6086, 'surgeonnn': 6087, 'eggs': 822, 'adult_bart:': 1136, 'bump': 2724, \"waitin'\": 2725, 'toss': 1812, 'drink': 151, 'yells': 6088, 'blame': 595, \"it'll\": 596, 'grace': 3471, 'but': 40, 'scrutinizing': 6090, 'sacajawea': 6091, 'agreement': 2700, 'friend': 196, 'indeedy': 6651, 'thrown': 4971, 'boxer': 2727, 'be': 43, 'poke': 6094, 'thirty': 937, 'slick': 6095, '_julius_hibbert:': 938, 'nordiques': 6096, 'hangout': 6097, 'octa-': 6098, 'maggie': 394, 'idea': 357, 'cuff': 6099, 'starlets': 6100, 'pouring': 2729, 'lard': 5783, 'snorts': 2824, 'meaningfully': 6103, 'extreme': 5957, \"mopin'\": 6104, 'playful': 2730, 'coyly': 6105, 'pretends': 6106, 'majesty': 6107, \"goin'\": 358, 'ran': 1891, 'jasper_beardly:': 4517, 'eighteen': 6109, 'sniper': 6110, 'words': 823, 'naegle': 6111, 'dignified': 6112, 'ferry': 6113, 'associate': 6114, 'lungs': 6115, 'ralph': 6116, 'undermine': 6117, 'message': 2732, 'unfamiliar': 6118, 'fatso': 6119, 'gees': 6120, 'runs': 6121, 'adrift': 6653, \"somebody's\": 6122, 'selfish': 6123, 'fool': 1814, 'does': 232, 'kisser': 6124, 'shutting': 2733, 'attractive': 6125, 'pyramid': 6126, 'mis-statement': 6127, 'sing-song': 6128, \"lookin'\": 541, 'is:': 2734, 'some': 90, 'africa': 2735, 'dangerous': 939, 'produce': 6131, 'sighs': 286, 'sudoku': 6132, 'pursue': 6133, 'paper': 6641, 'backwards': 1813, 'name': 198, 'teacher': 2736, \"games'd\": 4515, 'penny': 2737, 'korea': 6136, 'reed': 6137, 'internet': 2048, 'dejected_barfly:': 2913, 'chastity': 6139, 'say': 115, 'ribbon': 6140, 'carpet': 3073, \"doctor's\": 2942, \"man's_voice:\": 2945, 'arms': 1398, 'over-pronouncing': 6141, 'coupon': 6658, 'kid': 296, 'who-o-oa': 1816, 'goods': 2739, \"valentine's\": 1399, 'exits': 4705, 'look': 103, 'mistresses': 6143, 'supports': 4754, 'laugh': 299, 'batmobile': 6145, 'ignorant': 6146, 'perã³n': 6148, 'alfred': 2372, \"moe's_thoughts:\": 1316, 'brooklyn': 6150, 're-al': 6151, 'harvey': 6152, 'amnesia': 6153, 'tow-talitarian': 3395, 'chuck': 6154, 'clenched': 6155, 'replace': 6156, 'disgraceful': 6036, 'amazing': 1401, 'super-tough': 6158, 'jailbird': 2854, 'strongly': 3037, \"father's\": 2740, 'complicated': 3049, 'alter': 3051, 'sleeps': 2741, 'innocent': 1840, 'nailed': 6161, 'doom': 6162, 'eurotrash': 6163, 'mural': 3066, \"year's\": 1818, 'vulgar': 3753, 'remaining': 6166, 'picky': 6167, 'matter': 327, 'apartment': 2742, 'sports_announcer:': 2743, 'roach': 6168, 'pumping': 6169, 'figured': 1402, 'seductive': 6170, 'kool': 6171, \"bladder's\": 6172, \"can'tcha\": 6173, 'fishing': 6174, 'bull': 3135, 'bulletin': 6176, 'loan': 1819, 'almond': 6177, 'carl_carlson:': 45, 'rhyme': 2744, 'mini-dumpsters': 3154, 'elocution': 6178, 'edge': 6179, 'payday': 6180, 'lighten': 3264, 'commanding': 3173, 'accepting': 3174, 'pick': 438, 'innocence': 6183, 'ghouls': 6184, 'publish': 3185, 'comment': 6186, 'eyesore': 2745, 'watered': 6187, 'tenuous': 5943, 'delivery_boy:': 2746, 'innocuous': 6664, 'waist': 6190, 'bonding': 6197, 'pour': 826, \"collector's\": 6191, 'waste': 6192, 'yesterday': 1403, 'underbridge': 2747, 'gabriel': 6193, 'fourth': 1476, 'indifference': 6194, 'ways': 2748, 'thoughts': 1822, 'accurate': 1823, 'cooking': 6195, 'unlike': 1824, 'dutch': 6196, 'scruffy_blogger:': 3404, \"tester's\": 1984, 'heaving': 4703, 'without': 504, 'example': 5398, 'wedding': 2749, 'moved': 1481, 'wars': 6200, 'charming': 6670, 'milhouses': 6201, 'playhouse': 6202, 'fast-paced': 6203, 'filth': 6204, 'license': 1826, 'mister': 940, 'door': 539, 'recorded': 5911, 'broad': 1139, 'booger': 6206, 'glorious': 6207, 'fly': 1827, 'flack': 6208, 'ideas': 6209, 'nuts': 505, 'fancy': 1828, 'fake': 6210, 'mayor_joe_quimby:': 716, 'bourbon': 2750, 'speed': 6211, 'maya:': 941, \"wasn't\": 540, 'passports': 6213, 'test-': 6214, 'whaddya': 6215, 'tree': 1140, 'frightened': 6216, 'mechanical': 1829, 'carmichael': 6217, 'stopped': 1492, 'optimistic': 6219, 'email': 6220, 'shower': 2751, 'show-off': 3401, 'screams': 1830, 'teenage_bart:': 1404, 'montrer': 6221, 'beer-dorf': 6222, 'ab': 6223, \"poundin'\": 6224, 'pulling': 2023, 'raging': 6226, 'surgery': 1141, 'starters': 6227, 'hell': 312, 'bauer': 3446, 'accidents': 6102, 'nards': 1831, \"breakin'\": 6229, 'jerk-ass': 6230, 'latin': 2753, 'inherent': 6231, 'nã£o': 6232, 'cobbling': 6233, 'hub': 6234, 'part-time': 6235, 'refreshing': 6237, 'gold': 942, 'boo': 1832, 'unattended': 6144, 'strains': 6239, 'boned': 3524, 'alva': 4089, 'knows': 717, 'starve': 5648, 'invisible': 6682, \"mother's\": 6242, 'lisa': 287, 'glass': 313, 'reached': 2757, 'following': 1833, 'recommend': 1834, 'tin': 6243, 'smile': 827, 'weekly': 1438, \"he'll\": 828, 'fdic': 6245, 'became': 943, 'noose': 3586, 'pus-bucket': 6188, 'naval': 6246, 'blues': 2069, 'abandon': 2760, 'sack': 2761, 'cat': 2762, 'ground': 1522, 'turning': 718, 'e': 6248, 'coincidentally': 6249, 'shot': 719, 'declan': 6250, 'go-near-': 3638, 'puts': 2763, 'helps': 6236, 'mock': 1835, 'host': 6253, 'rolls': 6254, 'releases': 6255, 'eyeball': 2764, 'sunglasses': 5823, \"larry's\": 3661, 'thrilled': 6257, 'team': 1728, 'mission': 6258, 'mt': 6259, 'excited': 467, 'handling': 6260, 'compliments': 2765, 'race': 6261, 'pen': 6262, 'sass': 5481, 'leaving': 6264, 'fayed': 6265, 'wha': 1144, 'asleep': 6266, 'rough': 1837, 'newsies': 6687, 'beer': 81, '50-60': 6268, 'elmer': 3726, 'liver': 1405, 'kick': 720, 'rented': 3414, 'resenting': 6269, 'drapes': 6270, 'got': 54, 'damn': 829, 'made': 208, 'answered': 6271, 'when-i-get-a-hold-of-you': 6272, 'fair': 1838, 'plaintive': 6273, 'capitalists': 6274, 'juice': 2123, 'welcome': 830, 'army': 1839, 'prank': 1541, 'hippies': 6276, 'i': 6, 'pfft': 1841, 'enter': 6277, 'complaint': 2768, 'americans': 6278, 'philosophical': 6279, \"fun's\": 6280, 'louie:': 2769, 'upset': 542, 'fresh': 2770, 'set': 944, 'halvsies': 5412, 'fights': 6281, 'point': 653, 'grudgingly': 6282, 'bring': 478, 'calmly': 2772, 'dan_gillick:': 1253, 'pockets': 1842, 'gig': 6285, 'memory': 2773, 'located': 6286, 'fish': 1023, 'jacks': 6288, 'heck': 6289, 'back': 72, 'term': 6291, 'gunter:': 6292, 'killing': 6293, 'steampunk': 6294, 'barbed': 3883, 'soul-crushing': 6295, 'restroom': 2774, 'dã¼ffenbraus': 6296, 'conversation': 2775, \"yieldin'\": 6297, 'process': 6298, \"g'on\": 6299, 'polygon': 3925, 'paramedic:': 4472, 'intervention': 6301, 'carny:': 6302, 'elves:': 6303, 'scary': 2776, 'smiling': 1407, 'stool': 945, 'own': 439, 'sideshow_mel:': 6304, 'picnic': 4963, 'plotz': 6306, 'diddilies': 6307, 'sternly': 6308, \"you'll\": 291, 'mouth': 440, 'totalitarians': 6310, 'level': 2777, 'kang:': 1844, 'whatever': 597, 'beatings': 6311, 'bets': 2778, 'avalanche': 3995, 'confession': 6313, 'listened': 4003, 'mall': 2286, 'average': 5198, 'hard': 946, 'pills': 6316, 'trainers': 4018, 'je': 4315, 'equal': 6318, 'robbers': 6319, 'little': 88, 'food': 831, 'vulnerable': 2779, 'slaves': 6320, 'compare': 4539, 'digging': 6322, 'forty': 1408, 'skeptical': 2780, 'voice_on_transmitter:': 2190, 'evening': 1066, 'talk': 302, 'must': 374, 'groan': 6325, 'wrong': 359, \"workin'\": 1145, 'worried': 603, 'playoff': 6326, \"drinkin'\": 543, 'el': 4097, 'breathalyzer': 6228, 'conditioners': 6328, 'iran': 5418, 'country-fried': 4106, 'police': 654, 'strangles': 6329, 'patriotic': 6331, 'ball': 832, 'unusually': 6332, 'ron': 6333, 'train': 1409, 'plain': 6334, 'eighty-five': 4410, 'craft': 6336, 'had': 142, 'woulda': 6337, 'side': 1146, 'wallet': 1147, 'night': 201, 'etc': 833, 'pin': 2782, 'specials': 6338, 'applicant': 6339, 'tradition': 1848, 'stalwart': 6496, 'kickoff': 6340, 'fan': 1410, 'utility': 2234, 'divorced': 5579, 'age': 1849, 'savvy': 4215, 'chanting': 1042, 'woo': 395, 'closet': 6344, 'attracted': 4770, 'wonder': 998, \"man's\": 4232, 'penmanship': 6345, 'juke': 4255, 'dana_scully:': 6347, 'sloppy': 6348, 'hardwood': 4265, \"stinkin'\": 1853, 'plums': 6350, 'neighborhood': 6351, 'pajamas': 4288, 'college': 1148, 'took': 396, 'pall': 6353, 'ungrateful': 3424, 'upon': 1580, 'patterns': 2386, 'smokes': 3425, 'gives': 950, 'swatch': 6357, 'mexican_duffman:': 6358, 'aid': 5671, 'jack': 1149, 'shaker': 6359, 'newsletter': 6360, 'blobbo': 6361, 'crowded': 4340, 'gore': 6363, 'sent': 951, 'front': 655, 'wholeheartedly': 6473, 'hollowed-out': 6364, 'further': 4375, 'seymour_skinner:': 207, 'bumpy-like': 6365, 'jaegermeister': 6366, 'stares': 6367, 'bar': 111, 'practice': 6368, \"ma's\": 3047, 'called': 544, 'venom': 6370, 'cheered': 6371, \"talkin'\": 545, 'gentleman:': 2786, 'milhouse': 1854, \"sittin'\": 1051, 'hail': 2586, \"i'unno\": 6373, 'fat_in_the_hat:': 5184, 'lovers': 6375, 'cost': 1150, 'ashamed': 1055, 'sweetly': 1501, 'crayola': 4432, 'muertos': 6377, 'marge_simpson:': 73, 'umm': 2787, \"'im\": 2788, 'music': 953, 'secret': 418, 'alternative': 6378, 'vincent': 6379, 'checking': 1856, 'wire': 748, 'journey': 4488, 'calls': 1412, 'campaign': 1858, 'peppers': 6382, 'beam': 2789, 'fight': 485, 'haircuts': 4548, 'cushions': 6385, 'stickers': 6386, 'larry:': 598, \"city's\": 6387, 'charm': 2790, 'pantry': 4533, 'reliable': 2793, 'clothespins:': 6388, 'single-mindedness': 6074, 'uh-huh': 722, 'toys': 1859, 'anti-lock': 6390, \"springfield's\": 2794, 'simon': 6391, \"poisonin'\": 6392, 'generous': 2328, 'lovelorn': 6395, 'eco-fraud': 6396, 'yes': 231, 'lingus': 6398, 'joined': 2795, \"dimwit's\": 6399, 'toxins': 4120, 'shape': 1861, 'theatah': 6400, 'hustle': 6401, 'separator': 6402, 't-shirt': 2796, 'noise': 202, 'quitcher': 6403, 'mmm': 2797, 'proud': 1151, 'knowing': 1862, 'naturally': 2798, 'envy-tations': 4637, 'rope': 1152, 'tip': 894, 'nuked': 6406, 'rat-like': 6407, 'castle': 1413, 'stayed': 1863, 'softer': 3004, 'ideal': 5434, 'labels': 2351, 'teen': 6412, 'chipped': 6413, 'voyager': 6414, 'au': 6415, 'dreamy': 6416, 'pants': 419, 'de': 6417, 'perfume': 4687, 'fans': 1644, 'lead': 6420, 'anxious': 4697, 'voice': 257, 'local': 1153, 'shotgun': 723, 'drive': 507, 'rookie': 6423, 'strictly': 6424, 'skinner': 468, 'like': 39, \"bartender's\": 2799, 'nash': 6425, \"sippin'\": 6426, 'loves': 508, 'road': 1414, 'inserts': 6427, 'moment': 1415, 'unearth': 6428, 'tomato': 6430, 'waterfront': 6431, 'flash': 6432, 'oblivious': 4746, 'shortcomings': 6433, 'flustered': 6434, 'happens': 6435, 'thousand-year': 6436, \"speakin'\": 6437, 'started': 1417, 'said': 239, 'interesting': 4775, 'chain': 6440, 'applesauce': 6441, 'thru': 2800, 'buyer': 6442, 'alive': 656, 'flatly': 1864, \"stealin'\": 6443, \"we'll\": 535, 'appropriate': 6445, 'kind': 328, 'narrator:': 834, 'tease': 6446, 'community': 6447, 'code': 2802, 'blur': 4827, 'aiden': 4831, 'salvation': 6692, 'ahhh': 2285, 'become': 1865, 'chubby': 3093, 'limericks': 6451, \"tab's\": 6452, 'sagacity': 6453, 'sings': 288, 'prints': 4861, 'suicide': 1072, 'chapter': 6160, 'manage': 2804, 'tv_husband:': 1154, 'missed': 2805, 'meaningless': 6562, 'foam': 5655, \"that'd\": 6457, 'happier': 764, 'dawning': 6458, \"ridin'\": 1866, 'pre-game': 6459, 'feminist': 4892, 'sabermetrics': 2807, 'macho': 6461, 'running': 1155, 'tommy': 2808, 'accept': 1867, 'saget': 6462, 'wikipedia': 6463, 'valuable': 6464, 'gimmicks': 6465, 'shark': 6466, 'hers': 4926, \"depressin'\": 4932, 'wantcha': 6469, 'doll': 2810, 'house': 324, 'is': 22, 'elder': 1869, 'swill': 2811, 'ken:': 1418, 'shindig': 6471, 'signal': 6472, 'pity': 1156, 'branding': 3628, 'rom': 3479, 'pharmaceutical': 6474, 'winner': 6475, 'choked': 6476, 'hare-brained': 3437, \"professor's\": 6477, 'spied': 2812, 'tatum': 1420, 'credit': 6478, 'beat': 278, 'mansions': 4810, \"'cause\": 216, 'obese': 5014, 'store-bought': 6479, \"challengin'\": 5860, 'terrible': 835, 'pews': 5028, 'freak': 2814, 'convinced': 4157, 'jovial': 6482, 'full-blooded': 6483, 'scientific': 5052, 'wayne:': 1871, 'rivalry': 6484, 'scout': 6485, 'twenty': 509, 'furry': 6486, 'prove': 2817, \"something's\": 6487, 'slipped': 6488, 'thanks': 218, \"department's\": 6489, 'lurleen': 2818, 'century': 2819, 'cyrano': 6490, 'heliotrope': 6491, 'nice': 279, 'brings': 6492, 'startled': 6494, 'obvious': 2820, 'obama': 6495, 'crime': 1692, 'fringe': 4118, 'chief_wiggum:': 160, 'ow': 297, 'painless': 6497, 'whatsit': 6498, 'sit': 1349, 'cola': 2821, 'unjustly': 6499, 'chapstick': 3238, 'eighty-six': 6501, 'doreen:': 2822, 'represent': 1157, 'biggest': 1158, 'encore': 6502, 'scooter': 2823, 'affects': 6503, 'hideous': 6504, 'skoal': 6505, 'gruesome': 6506, 'arm': 724, 'employees': 6507, \"'n'\": 6165, 'dirty': 6509, 'experience': 6510, 'chinese': 1872, 'ga': 5453, 'cents': 1873, 'screw': 839, 'togetherness': 6512, 'ducked': 6513, 'situation': 1421, 'aidens': 6514, 'hit': 954, 'law': 1874, 'lifestyle': 6515, 'bret:': 1875, 'comfortable': 1876, 'evil': 1877, 'ruled': 6727, 'next': 314, 'nasa': 2825, 'silent': 6516, 'program': 1733, 'science': 6518, 'perverse': 6519, 'diving': 3824, 'lucius': 2826, 'selling': 1422, 'here': 44, 'majority': 6520, 'long': 329, \"lefty's\": 6521, 'gator': 6729, 'hootie': 6522, 'm': 600, 'prices': 5313, 'thirty-three': 5328, 'dae': 6524, 'lost': 330, 'reluctant': 6525, 'friendly': 836, 'suit': 1160, 'yammering': 6526, 'spreads': 6527, 'blurbs': 6528, 'rafter': 4311, 'smoker': 6530, 'sober': 1161, 'one': 60, 'lou:': 956, 'tipsy': 441, 'shove': 1878, 'certificate': 5394, 'ratio': 6531, 'shelf': 6532, 'pusillanimous': 6533, 'against': 1162, 'instrument': 6534, 'rapidly': 6535, 'rumaki': 2828, 'stonewall': 4316, 'utensils': 6733, 'moolah-stealing': 6536, 'beef': 5419, 'three': 219, 'corkscrews': 4545, 'complaining': 2726, 'wheels': 6538, 'whole': 601, 'takes': 897, \"fishin'\": 6539, 'pull': 625, 'candy': 2830, 'sandwich': 2831, 'foil': 2832, \"c'mom\": 5479, 'lonely': 1879, 'premiering': 6541, 'season': 1617, 'america': 1163, 'compadre': 6543, 'pretty': 331, 'contractors': 6545, '-ry': 4146, 'tuna': 6546, 'ourselves': 1424, 'along': 921, 'sell': 421, \"bart'd\": 6548, 'three-man': 6549, 'delivery': 2833, 'skirt': 2834, 'solved': 6550, 'pas': 6551, 'whee': 1357, 'sec_agent_#2:': 2835, 'pushing': 6553, 'work': 245, 'this': 23, 'carolina': 6554, 'cops': 2836, 'ali': 3564, 'illegally': 6555, 'boy': 210, 'newly-published': 6556, 'question': 1425, 'ruby-studded': 5092, 'quarter': 6557, 'religious': 6558, \"'now\": 5491, 'founded': 6559, 'jig': 5606, 'pile': 6561, 'railroad': 2809, 'tired': 1164, 'maybe': 180, 'diamond': 2838, 'scientists': 6563, 'park': 1165, 'habitrail': 4618, 'thanksgiving': 2215, 'buttons': 1379, 'michelin': 3599, 'inspired': 2607, 'escort': 6567, 'statue': 6568, 'harm': 6569, 'rafters': 6570, 'ingrates': 6335, 'conversations': 6468, 'lie': 1279, 'temples': 5680, 'wenceslas': 6573, 'different': 1426, '/': 69, 'available': 2839, 'stationery': 2840, 'genius': 2622, 'admiring': 2841, 'odor': 6576, 'vacuum': 2842, 'throwing': 2843, 'polishing': 6577, 'fingers': 1166, 'wolveriskey': 5718, 'massachusetts': 6579, 'd': 2844, 'congratulations': 6537, 'hems': 6580, 'spamming': 6581, 'lone': 6582, 'helping': 6583, 'overhearing': 6584, 'shells': 4940, 'legs': 1427, 'ever': 154, 'experienced': 6585, 'longer': 1057, 'cage': 6587, 'meal': 2845, 'life-partner': 6588, 'liser': 6589, 'abercrombie': 6590, 'david': 2846, 'woooooo': 6591, 'pit': 1428, 'disillusioned': 6592, 'breakfast': 6593, 'blinded': 5808, 'eats': 6595, 'andrew': 6748, 'stock': 1429, 'politics': 2816, 'hawking:': 2847, 'vacation': 2848, 'incredulous': 1884, 'outstanding': 6597, 'fritz': 2080, 'history': 1885, 'dealer': 6598, 'fortress': 6256, 'huh': 166, 'ballot': 6749, 'cotton': 2668, 'lots': 1886, 'ticks': 6603, 'teeth': 1887, 'deeply': 2849, 'wanna': 192, 'youse': 725, 'super-genius': 6605, \"usin'\": 6718, 'hilton': 6606, 'guiltily': 6607, 'held': 1973, \"comin'\": 372, 'sudden': 2218, 'dank': 1065, \"changin'\": 6212, 'consulting': 6612, 'dig': 6613, 'nos': 6614, 'riveting': 6615, 'store': 726, 'sharing': 6616, 'compared': 2850, 'wittgenstein': 5513, 'jay_leno:': 4635, \"others'\": 2851, 'blooded': 6620, 'waitress': 6621, 'jesus': 1898, 'booze': 469, 'tons': 6623, 'asks': 6624, 'insist': 6625, 'something:': 6626, 'perplexed': 6627, 'stars': 6628, 'wash': 2852, 'poetry': 6629, 'behavior': 5582, 'walther_hotenhoffer:': 888, 'virtual': 2853, 'defensive': 1889, 'won': 957, \"didn't\": 169, 'appendectomy': 6631, 'plucked': 6632, 'brag': 6633, 'philip': 6634, 'orders': 6635, '$42': 4084, 'examines': 6636, 'lifetime': 6637, 'double': 1888, 'arm-pittish': 6639, 'ho-ly': 6755, 'way': 157, 'brown': 6640, 'slap': 958, 'sotto': 837, 'trashed': 5214, 'prepared': 1960, 'powers': 4745, 'war': 594, 'non-losers': 6644, 'form': 1890, 'sport': 2855, 'signed': 6315, 'common': 6645, 'bugging': 2856, 'macgregor': 6646, 'sitting': 838, 'this:': 6647, 'underpants': 2858, 'justify': 6648, 'alls': 4185, 'fbi_agent:': 6649, 'conclude': 6650, 'gestated': 6092, 'tell': 143, 'smugglers': 2859, 'edna_krabappel-flanders:': 1167, 'ugliest': 2860, 'computer': 1431, 'cream': 2731, 'drove': 6652, 'stick': 659, \"where's\": 417, 'selective': 6654, 'uninhibited': 6655, 'winks': 6656, 'creepy': 5104, 'diminish': 6657, 'ruuuule': 5193, 'thighs': 2861, 'bigger': 2806, 'pig': 727, 'temple': 6659, 'exited': 6660, 'wad': 3031, 'proves': 6661, \"buyin'\": 1432, \"y'know\": 547, 'precious': 1433, 'baritone': 2862, 'pantsless': 6662, \"starla's\": 6663, 'changed': 1821, 'introduce': 3482, 'baby': 420, 'hunting': 2538, 'reaches': 6330, 'site': 6667, 'unusual': 6668, 'poker': 2864, 'occurred': 6669, 'fella': 6247, 'weary': 2865, 'anymore': 660, \"team's\": 2866, 'crimes': 6671, 'cozy': 2867, 'astronauts': 6672, 'partners': 6673, 'low-blow': 6674, 'birthplace': 6675, \"tap-pullin'\": 6676, \"wait'll\": 6677, 'sucks': 6678, 'chuckles': 315, 'manipulation': 6679, 'flaming': 510, 'versus': 6680, 'ron_howard:': 6681, 'celebrity': 2868, \"hole'\": 6241, 'may': 661, 'flew': 4374, 'flaking': 6684, 'effervescent': 2869, 'fireworks': 6685, 'chance': 548, 'cavern': 6686, 'puke-holes': 6267, 'considering': 2870, 'alibi': 6688, 'snout': 6689, 'awesome': 2871, 'finance': 6690, 'girl-bart': 5485, 'near': 2872, 'dash': 6290, 'comedy': 2874, 'loudly': 6691, \"that'll\": 959, 'start': 602, 'proposing': 2205, 'massive': 6693, 'kings': 5868, 'truth': 947, 'played': 1894, 'ineffective': 6694, 'taylor': 6695, 'darkness': 6696, 'backward': 4632, 'fist': 6697, 'neil_gaiman:': 2875, 'watered-down': 2876, 'bleacher': 6355, 'repeated': 6699, 'recreate': 6700, 'horses': 6701, 'occurrence': 6702, 'floor': 1895, 'arrange': 6703, 'listening': 2785, 'mayor': 1108, 'wistful': 6706, 'slyly': 2877, \"puttin'\": 6707, 'administration': 6708, 'hungry': 1435, 'phony': 6709, 'order': 1896, 'comes': 348, 'seven': 511, 'presidential': 6710, 'portfolium': 6711, 'revenge': 6712, 'most:': 6713, 'so-called': 2879, 'shorter': 6714, 'immiggants': 6715, 'cakes': 6716, 'dentist': 6773, 'product': 2880, 'crayon': 6717, 'jimmy': 6130, 'uneasy': 1897, 'courage': 2881, \"countin'\": 2882, 'peaked': 6719, 'station': 6720, 'slab': 3229, 'begins': 2883, 'alcohol': 512, 'suspended': 6721, 'grinch': 6493, 'perch': 6722, 'dude': 1061, 'doreen': 2885, \"nothin's\": 3190, 'ancestors': 6724, 'pronto': 6725, \"'tis\": 2886, 'cherry': 6726, 'writing': 1168, 'chub': 4723, 'brakes': 6728, 'artist': 6411, 'mckinley': 6730, 'sheets': 6731, 'books': 1437, 'huge': 840, 'that': 18, 'minutes': 681, 'plow': 1423, 'cocoa': 6734, 'second': 662, 'deliberate': 2444, 'legal': 6736, 'rice': 4520, 'an': 84, \"coffee'll\": 6737, \"wouldn't\": 378, 'fuss': 2887, \"i'd\": 163, 'good-looking': 6739, 'okay': 86, 'kentucky': 5367, 'blood-thirsty': 2888, 'turkey': 1881, 'grandmother': 2889, 'fiiiiile': 6574, 'ten': 663, 'guard': 6743, \"secret's\": 6744, 'wildest': 6745, 'occurs': 6746, 'yogurt': 2890, 'exclusive:': 6594, 'step': 1883, 'well-wisher': 6601, 'swishkabobs': 6750, 'talkative': 5299, \"now's\": 3635, 'trivia': 4839, 'mmm-hmm': 6753, 'annus': 3990, 'hexa-': 6754, \"shan't\": 2530, 'stagehand:': 6756, 'ignorance': 6757, 'both': 728, 'rid': 1649, 'bridges': 6759, 'landfill': 6760, 'stranger:': 2891, 'anything': 306, 'alphabet': 2892, \"tomorrow's\": 6761, 'luckily': 6762, 'do': 52, 'refund': 2893, 'doug:': 2894, 'snake-handler': 2895, 'confidential': 6763, 'contented': 6764, 'portentous': 6765, 'griffith': 6766, 'trash': 6767, \"linin'\": 6768, \"monroe's\": 2687, 'beep': 2246, 'snaps': 1899, 'manchego': 6770, 'modestly': 6771, 'most': 404, 'lemonade': 6772, 'strategy': 2391, 'payback': 6774, 'shush': 6775, 'chief': 422, 'fifty': 684, 'icy': 6776, 'twentieth': 6777, \"beggin'\": 6778, 'eternity': 6779}\n"
     ]
    }
   ],
   "source": [
    "\"\"\"\n",
    "DON'T MODIFY ANYTHING IN THIS CELL\n",
    "\"\"\"\n",
    "# Preprocess Training, Validation, and Testing Data\n",
    "helper.preprocess_and_save_data(data_dir, token_lookup, create_lookup_tables)"
   ]
  },
  {
   "cell_type": "markdown",
   "metadata": {},
   "source": [
    "# Check Point\n",
    "This is your first checkpoint. If you ever decide to come back to this notebook or have to restart the notebook, you can start from here. The preprocessed data has been saved to disk."
   ]
  },
  {
   "cell_type": "code",
   "execution_count": 1,
   "metadata": {
    "collapsed": true
   },
   "outputs": [],
   "source": [
    "\"\"\"\n",
    "DON'T MODIFY ANYTHING IN THIS CELL\n",
    "\"\"\"\n",
    "import helper\n",
    "import numpy as np\n",
    "import problem_unittests as tests\n",
    "\n",
    "int_text, vocab_to_int, int_to_vocab, token_dict = helper.load_preprocess()"
   ]
  },
  {
   "cell_type": "markdown",
   "metadata": {},
   "source": [
    "## Build the Neural Network\n",
    "You'll build the components necessary to build a RNN by implementing the following functions below:\n",
    "- get_inputs\n",
    "- get_init_cell\n",
    "- get_embed\n",
    "- build_rnn\n",
    "- build_nn\n",
    "- get_batches\n",
    "\n",
    "### Check the Version of TensorFlow and Access to GPU"
   ]
  },
  {
   "cell_type": "code",
   "execution_count": 2,
   "metadata": {},
   "outputs": [
    {
     "name": "stdout",
     "output_type": "stream",
     "text": [
      "TensorFlow Version: 1.0.0\n"
     ]
    },
    {
     "name": "stderr",
     "output_type": "stream",
     "text": [
      "C:\\Users\\czl6\\AppData\\Local\\Continuum\\anaconda3\\envs\\tensorflow\\lib\\site-packages\\ipykernel_launcher.py:15: UserWarning: No GPU found. Please use a GPU to train your neural network.\n",
      "  from ipykernel import kernelapp as app\n"
     ]
    }
   ],
   "source": [
    "\"\"\"\n",
    "DON'T MODIFY ANYTHING IN THIS CELL\n",
    "\"\"\"\n",
    "from distutils.version import LooseVersion\n",
    "import warnings\n",
    "import tensorflow as tf\n",
    "\n",
    "\n",
    "# Check TensorFlow Version\n",
    "assert LooseVersion(tf.__version__) >= LooseVersion('1.0'), 'Please use TensorFlow version 1.0 or newer'\n",
    "print('TensorFlow Version: {}'.format(tf.__version__))\n",
    "\n",
    "# Check for a GPU\n",
    "if not tf.test.gpu_device_name():\n",
    "    warnings.warn('No GPU found. Please use a GPU to train your neural network.')\n",
    "else:\n",
    "    print('Default GPU Device: {}'.format(tf.test.gpu_device_name()))"
   ]
  },
  {
   "cell_type": "markdown",
   "metadata": {},
   "source": [
    "### Input\n",
    "Implement the `get_inputs()` function to create TF Placeholders for the Neural Network.  It should create the following placeholders:\n",
    "- Input text placeholder named \"input\" using the [TF Placeholder](https://www.tensorflow.org/api_docs/python/tf/placeholder) `name` parameter.\n",
    "- Targets placeholder\n",
    "- Learning Rate placeholder\n",
    "\n",
    "Return the placeholders in the following tuple `(Input, Targets, LearningRate)`"
   ]
  },
  {
   "cell_type": "code",
   "execution_count": 3,
   "metadata": {},
   "outputs": [
    {
     "name": "stdout",
     "output_type": "stream",
     "text": [
      "Tests Passed\n"
     ]
    }
   ],
   "source": [
    "def get_inputs():\n",
    "    \"\"\"\n",
    "    Create TF Placeholders for input, targets, and learning rate.\n",
    "    :return: Tuple (input, targets, learning rate)\n",
    "    \"\"\"\n",
    "    # TODO: Implement Function\n",
    "    inputs = tf.placeholder(tf.int32, shape=[None, None], name='input')\n",
    "    target = tf.placeholder(tf.int32, shape=[None, None], name='target')\n",
    "    learningRate = tf.placeholder(dtype=tf.float32, name='learningRate')\n",
    "    return inputs, target, learningRate\n",
    "\n",
    "\n",
    "\"\"\"\n",
    "DON'T MODIFY ANYTHING IN THIS CELL THAT IS BELOW THIS LINE\n",
    "\"\"\"\n",
    "tests.test_get_inputs(get_inputs)"
   ]
  },
  {
   "cell_type": "markdown",
   "metadata": {},
   "source": [
    "### Build RNN Cell and Initialize\n",
    "Stack one or more [`BasicLSTMCells`](https://www.tensorflow.org/api_docs/python/tf/contrib/rnn/BasicLSTMCell) in a [`MultiRNNCell`](https://www.tensorflow.org/api_docs/python/tf/contrib/rnn/MultiRNNCell).\n",
    "- The Rnn size should be set using `rnn_size`\n",
    "- Initalize Cell State using the MultiRNNCell's [`zero_state()`](https://www.tensorflow.org/api_docs/python/tf/contrib/rnn/MultiRNNCell#zero_state) function\n",
    "    - Apply the name \"initial_state\" to the initial state using [`tf.identity()`](https://www.tensorflow.org/api_docs/python/tf/identity)\n",
    "\n",
    "Return the cell and initial state in the following tuple `(Cell, InitialState)`"
   ]
  },
  {
   "cell_type": "code",
   "execution_count": 4,
   "metadata": {},
   "outputs": [
    {
     "name": "stdout",
     "output_type": "stream",
     "text": [
      "Tests Passed\n"
     ]
    }
   ],
   "source": [
    "def get_init_cell(batch_size, rnn_size):\n",
    "    \"\"\"\n",
    "    Create an RNN Cell and initialize it.\n",
    "    :param batch_size: Size of batches\n",
    "    :param rnn_size: Size of RNNs\n",
    "    :return: Tuple (cell, initialize state)\n",
    "    \"\"\"\n",
    "    # TODO: Implement Function\n",
    "    \n",
    "    lstm = tf.contrib.rnn.BasicLSTMCell(rnn_size)\n",
    "    cell = tf.contrib.rnn.MultiRNNCell([lstm])\n",
    "\n",
    "    initial_state = tf.identity(cell.zero_state(batch_size, tf.float32), name='initial_state')\n",
    "\n",
    "    return cell, initial_state\n",
    "\n",
    "\n",
    "\"\"\"\n",
    "DON'T MODIFY ANYTHING IN THIS CELL THAT IS BELOW THIS LINE\n",
    "\"\"\"\n",
    "tests.test_get_init_cell(get_init_cell)"
   ]
  },
  {
   "cell_type": "markdown",
   "metadata": {},
   "source": [
    "### Word Embedding\n",
    "Apply embedding to `input_data` using TensorFlow.  Return the embedded sequence."
   ]
  },
  {
   "cell_type": "code",
   "execution_count": 5,
   "metadata": {},
   "outputs": [
    {
     "name": "stdout",
     "output_type": "stream",
     "text": [
      "Tests Passed\n"
     ]
    }
   ],
   "source": [
    "def get_embed(input_data, vocab_size, embed_dim):\n",
    "    \"\"\"\n",
    "    Create embedding for <input_data>.\n",
    "    :param input_data: TF placeholder for text input.\n",
    "    :param vocab_size: Number of words in vocabulary.\n",
    "    :param embed_dim: Number of embedding dimensions\n",
    "    :return: Embedded input.\n",
    "    \"\"\"\n",
    "    # TODO: Implement Function\n",
    "    embedding = tf.Variable(tf.random_uniform((vocab_size, embed_dim), -1, 1))\n",
    "    embed = tf.nn.embedding_lookup(embedding, input_data)\n",
    "    \n",
    "    return embed\n",
    "\n",
    "\n",
    "\"\"\"\n",
    "DON'T MODIFY ANYTHING IN THIS CELL THAT IS BELOW THIS LINE\n",
    "\"\"\"\n",
    "tests.test_get_embed(get_embed)"
   ]
  },
  {
   "cell_type": "markdown",
   "metadata": {},
   "source": [
    "### Build RNN\n",
    "You created a RNN Cell in the `get_init_cell()` function.  Time to use the cell to create a RNN.\n",
    "- Build the RNN using the [`tf.nn.dynamic_rnn()`](https://www.tensorflow.org/api_docs/python/tf/nn/dynamic_rnn)\n",
    " - Apply the name \"final_state\" to the final state using [`tf.identity()`](https://www.tensorflow.org/api_docs/python/tf/identity)\n",
    "\n",
    "Return the outputs and final_state state in the following tuple `(Outputs, FinalState)` "
   ]
  },
  {
   "cell_type": "code",
   "execution_count": 6,
   "metadata": {},
   "outputs": [
    {
     "name": "stdout",
     "output_type": "stream",
     "text": [
      "Tests Passed\n"
     ]
    }
   ],
   "source": [
    "def build_rnn(cell, inputs):\n",
    "    \"\"\"\n",
    "    Create a RNN using a RNN Cell\n",
    "    :param cell: RNN Cell\n",
    "    :param inputs: Input text data\n",
    "    :return: Tuple (Outputs, Final State)\n",
    "    \"\"\"\n",
    "    # TODO: Implement Function\n",
    "    outputs, state = tf.nn.dynamic_rnn(cell, inputs, dtype=tf.float32)\n",
    "    final_state = tf.identity(state, name='final_state')\n",
    "\n",
    "    return outputs, final_state\n",
    "\n",
    "\n",
    "\n",
    "\"\"\"\n",
    "DON'T MODIFY ANYTHING IN THIS CELL THAT IS BELOW THIS LINE\n",
    "\"\"\"\n",
    "tests.test_build_rnn(build_rnn)"
   ]
  },
  {
   "cell_type": "markdown",
   "metadata": {},
   "source": [
    "### Build the Neural Network\n",
    "Apply the functions you implemented above to:\n",
    "- Apply embedding to `input_data` using your `get_embed(input_data, vocab_size, embed_dim)` function.\n",
    "- Build RNN using `cell` and your `build_rnn(cell, inputs)` function.\n",
    "- Apply a fully connected layer with a linear activation and `vocab_size` as the number of outputs.\n",
    "\n",
    "Return the logits and final state in the following tuple (Logits, FinalState) "
   ]
  },
  {
   "cell_type": "code",
   "execution_count": 7,
   "metadata": {},
   "outputs": [
    {
     "name": "stdout",
     "output_type": "stream",
     "text": [
      "Tests Passed\n"
     ]
    }
   ],
   "source": [
    "#Only works on TF1.1. Had to downgrade TF to get this code working\n",
    "def build_nn(cell, rnn_size, input_data, vocab_size, embed_dim):\n",
    "    \"\"\"\n",
    "    Build part of the neural network\n",
    "    :param cell: RNN cell\n",
    "    :param rnn_size: Size of rnns\n",
    "    :param input_data: Input data\n",
    "    :param vocab_size: Vocabulary size\n",
    "    :param embed_dim: Number of embedding dimensions\n",
    "    :return: Tuple (Logits, FinalState)\n",
    "    \"\"\"\n",
    "    # TODO: Implement Function\n",
    "    inputs = get_embed(input_data, vocab_size, embed_dim)\n",
    "    \n",
    "    outputs, final_state = build_rnn(cell, inputs)\n",
    "    \n",
    "    logits = tf.contrib.layers.fully_connected(outputs, vocab_size, activation_fn=None,\n",
    "                                               weights_initializer=tf.truncated_normal_initializer(mean=0.0, stddev=0.1),\n",
    "                                               biases_initializer=tf.zeros_initializer())\n",
    "\n",
    "    return (logits, final_state)\n",
    "\n",
    "\n",
    "\"\"\"\n",
    "DON'T MODIFY ANYTHING IN THIS CELL THAT IS BELOW THIS LINE\n",
    "\"\"\"\n",
    "tests.test_build_nn(build_nn)"
   ]
  },
  {
   "cell_type": "markdown",
   "metadata": {},
   "source": [
    "### Batches\n",
    "Implement `get_batches` to create batches of input and targets using `int_text`.  The batches should be a Numpy array with the shape `(number of batches, 2, batch size, sequence length)`. Each batch contains two elements:\n",
    "- The first element is a single batch of **input** with the shape `[batch size, sequence length]`\n",
    "- The second element is a single batch of **targets** with the shape `[batch size, sequence length]`\n",
    "\n",
    "If you can't fill the last batch with enough data, drop the last batch.\n",
    "\n",
    "For exmple, `get_batches([1, 2, 3, 4, 5, 6, 7, 8, 9, 10, 11, 12, 13, 14, 15, 16, 17, 18, 19, 20], 3, 2)` would return a Numpy array of the following:\n",
    "```\n",
    "[\n",
    "  # First Batch\n",
    "  [\n",
    "    # Batch of Input\n",
    "    [[ 1  2], [ 7  8], [13 14]]\n",
    "    # Batch of targets\n",
    "    [[ 2  3], [ 8  9], [14 15]]\n",
    "  ]\n",
    "\n",
    "  # Second Batch\n",
    "  [\n",
    "    # Batch of Input\n",
    "    [[ 3  4], [ 9 10], [15 16]]\n",
    "    # Batch of targets\n",
    "    [[ 4  5], [10 11], [16 17]]\n",
    "  ]\n",
    "\n",
    "  # Third Batch\n",
    "  [\n",
    "    # Batch of Input\n",
    "    [[ 5  6], [11 12], [17 18]]\n",
    "    # Batch of targets\n",
    "    [[ 6  7], [12 13], [18  1]]\n",
    "  ]\n",
    "]\n",
    "```\n",
    "\n",
    "Notice that the last target value in the last batch is the first input value of the first batch. In this case, `1`. This is a common technique used when creating sequence batches, although it is rather unintuitive."
   ]
  },
  {
   "cell_type": "code",
   "execution_count": 8,
   "metadata": {},
   "outputs": [
    {
     "name": "stdout",
     "output_type": "stream",
     "text": [
      "Tests Passed\n"
     ]
    }
   ],
   "source": [
    "def get_batches(int_text, batch_size, seq_length):\n",
    "    \"\"\"\n",
    "    Return batches of input and target\n",
    "    :param int_text: Text with the words replaced by their ids\n",
    "    :param batch_size: The size of batch\n",
    "    :param seq_length: The length of sequence\n",
    "    :return: Batches as a Numpy array\n",
    "    \"\"\"\n",
    "    # TODO: Implement Function\n",
    "    batches = len(int_text) // (batch_size * seq_length)\n",
    "    input_ = np.array(int_text[: (batches*batch_size*seq_length)])\n",
    "    target_ = np.array(int_text[1 : (batches*batch_size*seq_length)+1])\n",
    "    target_[-1] = input_[0]\n",
    "\n",
    "    input_ = input_.reshape(batch_size, -1)\n",
    "    target_ = target_.reshape(batch_size, -1)\n",
    "    input_ = np.split(input_, batches, -1)\n",
    "    target_ = np.split(target_, batches, -1)\n",
    "\n",
    "    return np.array(list(zip(input_, target_)))\n",
    "\n",
    "\n",
    "\n",
    "\"\"\"\n",
    "DON'T MODIFY ANYTHING IN THIS CELL THAT IS BELOW THIS LINE\n",
    "\"\"\"\n",
    "tests.test_get_batches(get_batches)"
   ]
  },
  {
   "cell_type": "markdown",
   "metadata": {},
   "source": [
    "## Neural Network Training\n",
    "### Hyperparameters\n",
    "Tune the following parameters:\n",
    "\n",
    "- Set `num_epochs` to the number of epochs.\n",
    "- Set `batch_size` to the batch size.\n",
    "- Set `rnn_size` to the size of the RNNs.\n",
    "- Set `embed_dim` to the size of the embedding.\n",
    "- Set `seq_length` to the length of sequence.\n",
    "- Set `learning_rate` to the learning rate.\n",
    "- Set `show_every_n_batches` to the number of batches the neural network should print progress."
   ]
  },
  {
   "cell_type": "code",
   "execution_count": 9,
   "metadata": {
    "collapsed": true
   },
   "outputs": [],
   "source": [
    "# Number of Epochs\n",
    "num_epochs = 50\n",
    "# Batch Size\n",
    "batch_size = 256\n",
    "# RNN Size\n",
    "rnn_size = 300\n",
    "# Embedding Dimension Size\n",
    "embed_dim = 200\n",
    "# Sequence Length\n",
    "seq_length = 20\n",
    "# Learning Rate\n",
    "learning_rate = 0.01\n",
    "# Show stats for every n number of batches\n",
    "show_every_n_batches = 40\n",
    "\n",
    "\"\"\"\n",
    "DON'T MODIFY ANYTHING IN THIS CELL THAT IS BELOW THIS LINE\n",
    "\"\"\"\n",
    "save_dir = './save'"
   ]
  },
  {
   "cell_type": "markdown",
   "metadata": {},
   "source": [
    "### Build the Graph\n",
    "Build the graph using the neural network you implemented."
   ]
  },
  {
   "cell_type": "code",
   "execution_count": 10,
   "metadata": {
    "collapsed": true
   },
   "outputs": [],
   "source": [
    "\"\"\"\n",
    "DON'T MODIFY ANYTHING IN THIS CELL\n",
    "\"\"\"\n",
    "from tensorflow.contrib import seq2seq\n",
    "\n",
    "train_graph = tf.Graph()\n",
    "with train_graph.as_default():\n",
    "    vocab_size = len(int_to_vocab)\n",
    "    input_text, targets, lr = get_inputs()\n",
    "    input_data_shape = tf.shape(input_text)\n",
    "    cell, initial_state = get_init_cell(input_data_shape[0], rnn_size)\n",
    "    logits, final_state = build_nn(cell, rnn_size, input_text, vocab_size, embed_dim)\n",
    "\n",
    "    # Probabilities for generating words\n",
    "    probs = tf.nn.softmax(logits, name='probs')\n",
    "\n",
    "    # Loss function\n",
    "    cost = seq2seq.sequence_loss(\n",
    "        logits,\n",
    "        targets,\n",
    "        tf.ones([input_data_shape[0], input_data_shape[1]]))\n",
    "\n",
    "    # Optimizer\n",
    "    optimizer = tf.train.AdamOptimizer(lr)\n",
    "\n",
    "    # Gradient Clipping\n",
    "    gradients = optimizer.compute_gradients(cost)\n",
    "    capped_gradients = [(tf.clip_by_value(grad, -1., 1.), var) for grad, var in gradients if grad is not None]\n",
    "    train_op = optimizer.apply_gradients(capped_gradients)"
   ]
  },
  {
   "cell_type": "markdown",
   "metadata": {},
   "source": [
    "## Train\n",
    "Train the neural network on the preprocessed data.  If you have a hard time getting a good loss, check the [forums](https://discussions.udacity.com/) to see if anyone is having the same problem."
   ]
  },
  {
   "cell_type": "code",
   "execution_count": 11,
   "metadata": {},
   "outputs": [
    {
     "name": "stdout",
     "output_type": "stream",
     "text": [
      "Epoch   0 Batch    0/13   train_loss = 8.826\n",
      "Epoch   3 Batch    1/13   train_loss = 4.204\n",
      "Epoch   6 Batch    2/13   train_loss = 3.099\n",
      "Epoch   9 Batch    3/13   train_loss = 2.364\n",
      "Epoch  12 Batch    4/13   train_loss = 1.814\n",
      "Epoch  15 Batch    5/13   train_loss = 1.356\n",
      "Epoch  18 Batch    6/13   train_loss = 0.968\n",
      "Epoch  21 Batch    7/13   train_loss = 0.778\n",
      "Epoch  24 Batch    8/13   train_loss = 0.614\n",
      "Epoch  27 Batch    9/13   train_loss = 0.460\n",
      "Epoch  30 Batch   10/13   train_loss = 0.370\n",
      "Epoch  33 Batch   11/13   train_loss = 0.321\n",
      "Epoch  36 Batch   12/13   train_loss = 0.277\n",
      "Epoch  40 Batch    0/13   train_loss = 0.236\n",
      "Epoch  43 Batch    1/13   train_loss = 0.232\n",
      "Epoch  46 Batch    2/13   train_loss = 0.197\n",
      "Epoch  49 Batch    3/13   train_loss = 0.170\n",
      "Model Trained and Saved\n"
     ]
    }
   ],
   "source": [
    "\"\"\"\n",
    "DON'T MODIFY ANYTHING IN THIS CELL\n",
    "\"\"\"\n",
    "batches = get_batches(int_text, batch_size, seq_length)\n",
    "\n",
    "with tf.Session(graph=train_graph) as sess:\n",
    "    sess.run(tf.global_variables_initializer())\n",
    "\n",
    "    for epoch_i in range(num_epochs):\n",
    "        state = sess.run(initial_state, {input_text: batches[0][0]})\n",
    "\n",
    "        for batch_i, (x, y) in enumerate(batches):\n",
    "            feed = {\n",
    "                input_text: x,\n",
    "                targets: y,\n",
    "                initial_state: state,\n",
    "                lr: learning_rate}\n",
    "            train_loss, state, _ = sess.run([cost, final_state, train_op], feed)\n",
    "\n",
    "            # Show every <show_every_n_batches> batches\n",
    "            if (epoch_i * len(batches) + batch_i) % show_every_n_batches == 0:\n",
    "                print('Epoch {:>3} Batch {:>4}/{}   train_loss = {:.3f}'.format(\n",
    "                    epoch_i,\n",
    "                    batch_i,\n",
    "                    len(batches),\n",
    "                    train_loss))\n",
    "\n",
    "    # Save Model\n",
    "    saver = tf.train.Saver()\n",
    "    saver.save(sess, save_dir)\n",
    "    print('Model Trained and Saved')"
   ]
  },
  {
   "cell_type": "markdown",
   "metadata": {},
   "source": [
    "## Save Parameters\n",
    "Save `seq_length` and `save_dir` for generating a new TV script."
   ]
  },
  {
   "cell_type": "code",
   "execution_count": 12,
   "metadata": {
    "collapsed": true
   },
   "outputs": [],
   "source": [
    "\"\"\"\n",
    "DON'T MODIFY ANYTHING IN THIS CELL\n",
    "\"\"\"\n",
    "# Save parameters for checkpoint\n",
    "helper.save_params((seq_length, save_dir))"
   ]
  },
  {
   "cell_type": "markdown",
   "metadata": {},
   "source": [
    "# Checkpoint"
   ]
  },
  {
   "cell_type": "code",
   "execution_count": 13,
   "metadata": {
    "collapsed": true
   },
   "outputs": [],
   "source": [
    "\"\"\"\n",
    "DON'T MODIFY ANYTHING IN THIS CELL\n",
    "\"\"\"\n",
    "import tensorflow as tf\n",
    "import numpy as np\n",
    "import helper\n",
    "import problem_unittests as tests\n",
    "\n",
    "_, vocab_to_int, int_to_vocab, token_dict = helper.load_preprocess()\n",
    "seq_length, load_dir = helper.load_params()"
   ]
  },
  {
   "cell_type": "markdown",
   "metadata": {},
   "source": [
    "## Implement Generate Functions\n",
    "### Get Tensors\n",
    "Get tensors from `loaded_graph` using the function [`get_tensor_by_name()`](https://www.tensorflow.org/api_docs/python/tf/Graph#get_tensor_by_name).  Get the tensors using the following names:\n",
    "- \"input:0\"\n",
    "- \"initial_state:0\"\n",
    "- \"final_state:0\"\n",
    "- \"probs:0\"\n",
    "\n",
    "Return the tensors in the following tuple `(InputTensor, InitialStateTensor, FinalStateTensor, ProbsTensor)` "
   ]
  },
  {
   "cell_type": "code",
   "execution_count": 15,
   "metadata": {},
   "outputs": [
    {
     "name": "stdout",
     "output_type": "stream",
     "text": [
      "Tests Passed\n"
     ]
    }
   ],
   "source": [
    "def get_tensors(loaded_graph):\n",
    "    \"\"\"\n",
    "    Get input, initial state, final state, and probabilities tensor from <loaded_graph>\n",
    "    :param loaded_graph: TensorFlow graph loaded from file\n",
    "    :return: Tuple (InputTensor, InitialStateTensor, FinalStateTensor, ProbsTensor)\n",
    "    \"\"\"\n",
    "    # TODO: Implement Function\n",
    "    inputs = loaded_graph.get_tensor_by_name('input:0')\n",
    "    initial_state = loaded_graph.get_tensor_by_name('initial_state:0')\n",
    "    final_state = loaded_graph.get_tensor_by_name('final_state:0')\n",
    "    probs = loaded_graph.get_tensor_by_name('probs:0')\n",
    "    return inputs, initial_state, final_state, probs\n",
    "\n",
    "\n",
    "\"\"\"\n",
    "DON'T MODIFY ANYTHING IN THIS CELL THAT IS BELOW THIS LINE\n",
    "\"\"\"\n",
    "tests.test_get_tensors(get_tensors)"
   ]
  },
  {
   "cell_type": "markdown",
   "metadata": {},
   "source": [
    "### Choose Word\n",
    "Implement the `pick_word()` function to select the next word using `probabilities`."
   ]
  },
  {
   "cell_type": "code",
   "execution_count": 17,
   "metadata": {},
   "outputs": [
    {
     "name": "stdout",
     "output_type": "stream",
     "text": [
      "Tests Passed\n"
     ]
    }
   ],
   "source": [
    "def pick_word(probabilities, int_to_vocab):\n",
    "    \"\"\"\n",
    "    Pick the next word in the generated text\n",
    "    :param probabilities: Probabilites of the next word\n",
    "    :param int_to_vocab: Dictionary of word ids as the keys and words as the values\n",
    "    :return: String of the predicted word\n",
    "    \"\"\"\n",
    "    # TODO: Implement Function\n",
    "    return np.random.choice(list(int_to_vocab.values()), p=probabilities)\n",
    "\n",
    "\n",
    "\"\"\"\n",
    "DON'T MODIFY ANYTHING IN THIS CELL THAT IS BELOW THIS LINE\n",
    "\"\"\"\n",
    "tests.test_pick_word(pick_word)"
   ]
  },
  {
   "cell_type": "markdown",
   "metadata": {},
   "source": [
    "## Generate TV Script\n",
    "This will generate the TV script for you.  Set `gen_length` to the length of TV script you want to generate."
   ]
  },
  {
   "cell_type": "code",
   "execution_count": 18,
   "metadata": {},
   "outputs": [
    {
     "name": "stdout",
     "output_type": "stream",
     "text": [
      "moe_szyslak: but what we give him some show up.\n",
      "eddie:(lowers glass). yeah.\n",
      "moe_szyslak: here comes the evening began me?\n",
      "homer_simpson: yes!\n",
      "moe_szyslak:(realizing, to phone) why you! not them the love?\n",
      "homer_simpson:(loud whisper) i can't believe that till it is let me to get out of us.\n",
      "moe_szyslak:(ã€ la jerry lewis) coins money gold!\n",
      "moe_szyslak: see, homer? it's not so bad.(then mean) now dance, look at me!\n",
      "moe_szyslak: okay, homer's workin' on that moe_szyslak:.\n",
      "moe_szyslak: hey, there are women in our bar!\n",
      "moe_szyslak: okay.\n",
      "homer_simpson: i'd better be heading home...\n",
      "carl_carlson: all right, how could the publishers change our book? if they had are from the west.\n",
      "homer_simpson:(chuckles) okay, now harder.\n",
      "carl_carlson:(distraught) hey, what do you want to do?\n",
      "milhouse_van_houten: well, the school's having a little low on his face are?\n",
      "moe_szyslak: yeah\n"
     ]
    }
   ],
   "source": [
    "gen_length = 200\n",
    "# homer_simpson, moe_szyslak, or Barney_Gumble\n",
    "prime_word = 'moe_szyslak'\n",
    "\n",
    "\"\"\"\n",
    "DON'T MODIFY ANYTHING IN THIS CELL THAT IS BELOW THIS LINE\n",
    "\"\"\"\n",
    "loaded_graph = tf.Graph()\n",
    "with tf.Session(graph=loaded_graph) as sess:\n",
    "    # Load saved model\n",
    "    loader = tf.train.import_meta_graph(load_dir + '.meta')\n",
    "    loader.restore(sess, load_dir)\n",
    "\n",
    "    # Get Tensors from loaded model\n",
    "    input_text, initial_state, final_state, probs = get_tensors(loaded_graph)\n",
    "\n",
    "    # Sentences generation setup\n",
    "    gen_sentences = [prime_word + ':']\n",
    "    prev_state = sess.run(initial_state, {input_text: np.array([[1]])})\n",
    "\n",
    "    # Generate sentences\n",
    "    for n in range(gen_length):\n",
    "        # Dynamic Input\n",
    "        dyn_input = [[vocab_to_int[word] for word in gen_sentences[-seq_length:]]]\n",
    "        dyn_seq_length = len(dyn_input[0])\n",
    "\n",
    "        # Get Prediction\n",
    "        probabilities, prev_state = sess.run(\n",
    "            [probs, final_state],\n",
    "            {input_text: dyn_input, initial_state: prev_state})\n",
    "        \n",
    "        pred_word = pick_word(probabilities[dyn_seq_length-1], int_to_vocab)\n",
    "\n",
    "        gen_sentences.append(pred_word)\n",
    "    \n",
    "    # Remove tokens\n",
    "    tv_script = ' '.join(gen_sentences)\n",
    "    for key, token in token_dict.items():\n",
    "        ending = ' ' if key in ['\\n', '(', '\"'] else ''\n",
    "        tv_script = tv_script.replace(' ' + token.lower(), key)\n",
    "    tv_script = tv_script.replace('\\n ', '\\n')\n",
    "    tv_script = tv_script.replace('( ', '(')\n",
    "        \n",
    "    print(tv_script)"
   ]
  },
  {
   "cell_type": "markdown",
   "metadata": {},
   "source": [
    "# The TV Script is Nonsensical\n",
    "It's ok if the TV script doesn't make any sense.  We trained on less than a megabyte of text.  In order to get good results, you'll have to use a smaller vocabulary or get more data.  Luckly there's more data!  As we mentioned in the begging of this project, this is a subset of [another dataset](https://www.kaggle.com/wcukierski/the-simpsons-by-the-data).  We didn't have you train on all the data, because that would take too long.  However, you are free to train your neural network on all the data.  After you complete the project, of course.\n",
    "# Submitting This Project\n",
    "When submitting this project, make sure to run all the cells before saving the notebook. Save the notebook file as \"dlnd_tv_script_generation.ipynb\" and save it as a HTML file under \"File\" -> \"Download as\". Include the \"helper.py\" and \"problem_unittests.py\" files in your submission."
   ]
  },
  {
   "cell_type": "code",
   "execution_count": null,
   "metadata": {
    "collapsed": true
   },
   "outputs": [],
   "source": []
  }
 ],
 "metadata": {
  "kernelspec": {
   "display_name": "Python 3",
   "language": "python",
   "name": "python3"
  },
  "language_info": {
   "codemirror_mode": {
    "name": "ipython",
    "version": 3
   },
   "file_extension": ".py",
   "mimetype": "text/x-python",
   "name": "python",
   "nbconvert_exporter": "python",
   "pygments_lexer": "ipython3",
   "version": "3.5.4"
  },
  "widgets": {
   "state": {},
   "version": "1.1.2"
  }
 },
 "nbformat": 4,
 "nbformat_minor": 1
}
