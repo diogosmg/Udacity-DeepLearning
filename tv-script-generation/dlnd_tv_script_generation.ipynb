{
 "cells": [
  {
   "cell_type": "markdown",
   "metadata": {},
   "source": [
    "# TV Script Generation\n",
    "In this project, you'll generate your own [Simpsons](https://en.wikipedia.org/wiki/The_Simpsons) TV scripts using RNNs.  You'll be using part of the [Simpsons dataset](https://www.kaggle.com/wcukierski/the-simpsons-by-the-data) of scripts from 27 seasons.  The Neural Network you'll build will generate a new TV script for a scene at [Moe's Tavern](https://simpsonswiki.com/wiki/Moe's_Tavern).\n",
    "## Get the Data\n",
    "The data is already provided for you.  You'll be using a subset of the original dataset.  It consists of only the scenes in Moe's Tavern.  This doesn't include other versions of the tavern, like \"Moe's Cavern\", \"Flaming Moe's\", \"Uncle Moe's Family Feed-Bag\", etc.."
   ]
  },
  {
   "cell_type": "code",
   "execution_count": 1,
   "metadata": {
    "collapsed": true
   },
   "outputs": [],
   "source": [
    "\"\"\"\n",
    "DON'T MODIFY ANYTHING IN THIS CELL\n",
    "\"\"\"\n",
    "import helper\n",
    "\n",
    "data_dir = './data/simpsons/moes_tavern_lines.txt'\n",
    "text = helper.load_data(data_dir)\n",
    "# Ignore notice, since we don't use it for analysing the data\n",
    "text = text[81:]"
   ]
  },
  {
   "cell_type": "markdown",
   "metadata": {},
   "source": [
    "## Explore the Data\n",
    "Play around with `view_sentence_range` to view different parts of the data."
   ]
  },
  {
   "cell_type": "code",
   "execution_count": 18,
   "metadata": {},
   "outputs": [
    {
     "name": "stdout",
     "output_type": "stream",
     "text": [
      "Dataset Stats\n",
      "Roughly the number of unique words: 11492\n",
      "Number of scenes: 262\n",
      "Average number of sentences in each scene: 15.251908396946565\n",
      "Number of lines: 4258\n",
      "Average number of words in each line: 11.50164396430249\n",
      "\n",
      "The sentences 30 to 100:\n",
      "Moe_Szyslak: What's the matter, Homer? The depressin' effects of alcohol usually don't kick in 'til closing time.\n",
      "Lisa_Simpson: He's just a little nervous. (PROUDLY) He has to give a speech tomorrow on \"How To Keep Cool In A Crisis.\"\n",
      "Homer_Simpson: (SOBS) What am I gonna do? What am I gonna do?\n",
      "Barney_Gumble: Hey, I had to give a speech once. I was pretty nervous, so I used a little trick. I pictured everyone in their underwear. The judge, the jury, my lawyer, everybody.\n",
      "Homer_Simpson: Did it work?\n",
      "Barney_Gumble: I'm a free man, ain't I?\n",
      "Barney_Gumble: Whoa!\n",
      "Barney_Gumble: Huh? A pretzel? Wow, looks like I pulled a Homer!\n",
      "\n",
      "\n",
      "Patrons: (MUMBLING, NOT IN UNISON) Happy thoughts... happy thoughts... we love that boy.\n",
      "Moe_Szyslak: (INTO PHONE) Moe's Tavern. Hold on, I'll check. ... (LOUD) Hey everybody! I'm a stupid moron with an ugly face and a big butt, and my butt smells, and I like to kiss my own butt.\n",
      "Barney_Gumble: That's a new one (LAUGHING).\n",
      "Moe_Szyslak: Now wait a minute...\n",
      "\n",
      "\n",
      "Homer_Simpson: Hurry, Moe, hurry! I've only got five minutes till the music store closes.\n",
      "Moe_Szyslak: Why don't you go there first?\n",
      "Homer_Simpson: Hey, do I tell you how to do your job?\n",
      "Moe_Szyslak: Sorry, Homer.\n",
      "Homer_Simpson: You know, if you tip the glass, there won't be so much foam on top.\n",
      "Moe_Szyslak: Sorry, Homer.\n",
      "Homer_Simpson: (LOOKING AT WATCH) Ah. Finished with fifteen seconds to spare.\n",
      "Little_Man: (CONCERNED) What's the matter, buddy?\n",
      "Homer_Simpson: The moron next door closed early!\n",
      "Little_Man: (STIFFENING) I happen to be that moron.\n",
      "Homer_Simpson: Oh, me and my trenchant mouth.\n",
      "Homer_Simpson: Please, you've got to open that store.\n",
      "Little_Man: Let me think about it... Eh... No.\n",
      "Homer_Simpson: Okay, okay. But I want you to see a picture of the little girl you're disappointing. (GOES THROUGH HIS WALLET) Well I don't have one.\n",
      "Moe_Szyslak: (TO LITTLE MAN) Come on, Jer. Open up. Be a pal. Remember when I pulled you and your wife out of that burning car?\n",
      "Little_Man: (GRUDGINGLY) Okay. Okay. But now we're even. (TO HOMER) So what does your daughter need?\n",
      "Homer_Simpson: (SMOOTHLY) I'll have you know, I wrote it down.\n",
      "Homer_Simpson: Number Four and a half -- Stupid gum!\n",
      "Homer_Simpson: Number Four and a Half reed! Whoo hoo!\n",
      "Little_Man: Uh-huh. And what instrument does she play?\n",
      "Homer_Simpson: (SUNK) I dunno.\n",
      "\n",
      "\n",
      "Moe_Szyslak: (TO PATRONS) Figure of speech.\n",
      "Moe_Szyslak: Hiya, Homer. (SIGHS)\n",
      "Homer_Simpson: What's the matter, Moe?\n",
      "Moe_Szyslak: Ah, business is slow. People today are healthier and drinking less. You know, if it wasn't for the Junior High school next door no one would even use the cigarette machine.\n",
      "Homer_Simpson: (MOUTH FULL) Yeah, things are tough all over.\n",
      "Moe_Szyslak: Increased job satisfaction and family togetherness are poison for a purveyor of mind-numbing intoxicants like myself.\n",
      "Homer_Simpson: Could I get a beer?\n",
      "Moe_Szyslak: Uh, yeah, sure.\n",
      "Moe_Szyslak: Oh sorry, I forgot we're out of beer.\n",
      "Moe_Szyslak: Yeah, I know, I got behind on my beer payments. The distributor cut me off and I spent my last ten grand on the \"Love Tester\".\n",
      "Moe_Szyslak: You're too late, Homer. Barney sucked it dry. Cut his gums up pretty bad.\n",
      "Moe_Szyslak: Take it easy, Homer. I learned how to make other drinks at Bartender's School.\n",
      "Moe_Szyslak: (UNFAMILIAR) Gin and... tonic? Do they mix?\n",
      "Homer_Simpson: (BRIGHTENING) Hey, I know a good drink. Really hits the spot. I invented it myself...\n",
      "Moe_Szyslak: Sorry, Harv.\n",
      "Moe_Szyslak: Whoa, sounds like one hell of a drink. What do you call it?\n",
      "Homer_Simpson: A \"Flaming Homer\".\n",
      "Moe_Szyslak: Okay, why don't you make us up a couple of \"Flaming Homers\"?\n",
      "Homer_Simpson: Hey Moe, you got any cough syrup?\n",
      "Moe_Szyslak: Uh, let me check the lost and found.\n",
      "Moe_Szyslak: What do we got here, Bowie knife, troll doll, glass eye...\n",
      "Moe_Szyslak: Oh. Here we are.\n",
      "Moe_Szyslak: It's not without its charm.\n",
      "Homer_Simpson: Try lighting it on fire.\n",
      "Moe_Szyslak: (SMILING) Whoa! Homer, it's like there's a party in my mouth and everyone's invited.\n",
      "Larry: Hey, your Love Tester's busted. I want my nickel back. (COUGHS)\n",
      "Moe_Szyslak: Hey, buddy. Have one on the house.\n",
      "Larry: Hey, hey, this drink is delicious! And my phlegm feels looser. What do you call it?\n",
      "Homer_Simpson: Well, it's called a \"Flaming...\n",
      "Moe_Szyslak: Moe! It's called a \"Flaming Moe\"! That's right, a \"Flaming Moe\". My name is Moe, and I invented it. That's why it's called a Flaming Moe. What? What are you lookin' at, Homer? It's a Flaming Moe I'm Moe.\n",
      "Barney_Gumble: Hey, what's this?\n"
     ]
    }
   ],
   "source": [
    "view_sentence_range = (30, 100)\n",
    "\n",
    "\"\"\"\n",
    "DON'T MODIFY ANYTHING IN THIS CELL\n",
    "\"\"\"\n",
    "import numpy as np\n",
    "\n",
    "print('Dataset Stats')\n",
    "print('Roughly the number of unique words: {}'.format(len({word: None for word in text.split()})))\n",
    "scenes = text.split('\\n\\n')\n",
    "print('Number of scenes: {}'.format(len(scenes)))\n",
    "sentence_count_scene = [scene.count('\\n') for scene in scenes]\n",
    "print('Average number of sentences in each scene: {}'.format(np.average(sentence_count_scene)))\n",
    "\n",
    "sentences = [sentence for scene in scenes for sentence in scene.split('\\n')]\n",
    "print('Number of lines: {}'.format(len(sentences)))\n",
    "word_count_sentence = [len(sentence.split()) for sentence in sentences]\n",
    "print('Average number of words in each line: {}'.format(np.average(word_count_sentence)))\n",
    "\n",
    "print()\n",
    "print('The sentences {} to {}:'.format(*view_sentence_range))\n",
    "print('\\n'.join(text.split('\\n')[view_sentence_range[0]:view_sentence_range[1]]))"
   ]
  },
  {
   "cell_type": "markdown",
   "metadata": {},
   "source": [
    "## Implement Preprocessing Functions\n",
    "The first thing to do to any dataset is preprocessing.  Implement the following preprocessing functions below:\n",
    "- Lookup Table\n",
    "- Tokenize Punctuation\n",
    "\n",
    "### Lookup Table\n",
    "To create a word embedding, you first need to transform the words to ids.  In this function, create two dictionaries:\n",
    "- Dictionary to go from the words to an id, we'll call `vocab_to_int`\n",
    "- Dictionary to go from the id to word, we'll call `int_to_vocab`\n",
    "\n",
    "Return these dictionaries in the following tuple `(vocab_to_int, int_to_vocab)`"
   ]
  },
  {
   "cell_type": "code",
   "execution_count": 9,
   "metadata": {},
   "outputs": [
    {
     "name": "stdout",
     "output_type": "stream",
     "text": [
      "{'moe_szyslak': 0, 'mike': 1, 'rotch': 2, 'you': 3, 'your': 4, 'to': 5, 'drink': 6, 'the': 7, 'yeah': 8, 'name': 9, 'on': 10, 'hey': 11, 'one': 12, \"i'm\": 13, 'gonna': 14, 'my': 15, 'homer': 16, 'not': 17, 'problems': 18, 'should': 19, \"moe's\": 20, 'tavern': 21, 'where': 22, 'elite': 23, 'meet': 24, 'bart_simpson': 25, 'eh': 26, 'hello': 27, 'is': 28, 'there': 29, 'last': 30, 'hold': 31, \"i'll\": 32, 'check': 33, 'has': 34, 'anybody': 35, 'seen': 36, 'lately': 37, 'listen': 38, 'little': 39, 'puke': 40, 'of': 41, 'these': 42, 'days': 43, 'catch': 44, 'and': 45, 'carve': 46, 'back': 47, 'with': 48, 'an': 49, 'ice': 50, 'pick': 51, 'whats': 52, 'matter': 53, \"you're\": 54, 'normal': 55, 'effervescent': 56, 'self': 57, 'homer_simpson': 58, 'i': 59, 'got': 60, 'moe': 61, 'give': 62, 'me': 63, 'another': 64, 'forget': 65, 'barney_gumble': 66, 'only': 67, 'enhance': 68, 'social': 69, 'skills': 70}\n",
      "Tests Passed\n"
     ]
    }
   ],
   "source": [
    "import numpy as np\n",
    "from collections import Counter\n",
    "import problem_unittests as tests\n",
    "\n",
    "def create_lookup_tables(text):\n",
    "    \"\"\"\n",
    "    Create lookup tables for vocabulary\n",
    "    :param text: The text of tv scripts split into words\n",
    "    :return: A tuple of dicts (vocab_to_int, int_to_vocab)\n",
    "    \"\"\"\n",
    "    # TODO: Implement Function\n",
    "    word_counts = Counter(text)\n",
    "    sorted_vocab = sorted(word_counts, key=word_counts.get, reverse=True) # sorted vocab\n",
    "    int_to_vocab = {iint: word for iint, word in enumerate(sorted_vocab)}\n",
    "    vocab_to_int = {word: iint for iint, word in int_to_vocab.items()}\n",
    "    #print(vocab_to_int)\n",
    "    return vocab_to_int, int_to_vocab\n",
    "\n",
    "\n",
    "\"\"\"\n",
    "DON'T MODIFY ANYTHING IN THIS CELL THAT IS BELOW THIS LINE\n",
    "\"\"\"\n",
    "tests.test_create_lookup_tables(create_lookup_tables)"
   ]
  },
  {
   "cell_type": "markdown",
   "metadata": {},
   "source": [
    "### Tokenize Punctuation\n",
    "We'll be splitting the script into a word array using spaces as delimiters.  However, punctuations like periods and exclamation marks make it hard for the neural network to distinguish between the word \"bye\" and \"bye!\".\n",
    "\n",
    "Implement the function `token_lookup` to return a dict that will be used to tokenize symbols like \"!\" into \"||Exclamation_Mark||\".  Create a dictionary for the following symbols where the symbol is the key and value is the token:\n",
    "- Period ( . )\n",
    "- Comma ( , )\n",
    "- Quotation Mark ( \" )\n",
    "- Semicolon ( ; )\n",
    "- Exclamation mark ( ! )\n",
    "- Question mark ( ? )\n",
    "- Left Parentheses ( ( )\n",
    "- Right Parentheses ( ) )\n",
    "- Dash ( -- )\n",
    "- Return ( \\n )\n",
    "\n",
    "This dictionary will be used to token the symbols and add the delimiter (space) around it.  This separates the symbols as it's own word, making it easier for the neural network to predict on the next word. Make sure you don't use a token that could be confused as a word. Instead of using the token \"dash\", try using something like \"||dash||\"."
   ]
  },
  {
   "cell_type": "code",
   "execution_count": 13,
   "metadata": {},
   "outputs": [
    {
     "name": "stdout",
     "output_type": "stream",
     "text": [
      "Tests Passed\n"
     ]
    }
   ],
   "source": [
    "def token_lookup():\n",
    "    \"\"\"\n",
    "    Generate a dict to turn punctuation into a token.\n",
    "    :return: Tokenize dictionary where the key is the punctuation and the value is the token\n",
    "    \"\"\"\n",
    "    # TODO: Implement Function\n",
    "    tokens = {}\n",
    "    tokens['.']= '||PERIOD||'\n",
    "    tokens[',']= '||COMMA||'\n",
    "    tokens['\"']= '||QUOTATION_MARK||'\n",
    "    tokens[';']= '||SEMICOLON||'\n",
    "    tokens['!']= '||EXCLAMATION_MARK||'\n",
    "    tokens['?']= '||QUESTION_MARK||'\n",
    "    tokens['(']= '||LEFT_PAREN||'\n",
    "    tokens[')']= '||RIGHT_PAREN||'\n",
    "    tokens['--']= '||DASH||'\n",
    "    tokens['\\n']= '||RETURN||'\n",
    "    return tokens\n",
    "\n",
    "\"\"\"\n",
    "DON'T MODIFY ANYTHING IN THIS CELL THAT IS BELOW THIS LINE\n",
    "\"\"\"\n",
    "tests.test_tokenize(token_lookup)"
   ]
  },
  {
   "cell_type": "markdown",
   "metadata": {},
   "source": [
    "## Preprocess all the data and save it\n",
    "Running the code cell below will preprocess all the data and save it to file."
   ]
  },
  {
   "cell_type": "code",
   "execution_count": 14,
   "metadata": {},
   "outputs": [
    {
     "name": "stdout",
     "output_type": "stream",
     "text": [
      "{'||period||': 0, '||return||': 1, '||comma||': 2, '||left_paren||': 3, '||right_paren||': 4, 'the': 5, 'i': 6, 'you': 7, '||exclamation_mark||': 8, 'moe_szyslak:': 9, '||question_mark||': 10, 'a': 11, 'homer_simpson:': 12, 'to': 13, 'and': 14, 'of': 15, 'my': 16, 'it': 17, 'that': 18, 'in': 19, '||quotation_mark||': 20, 'me': 21, 'is': 22, 'this': 23, \"i'm\": 24, 'for': 25, 'your': 26, 'homer': 27, 'on': 28, 'hey': 29, 'moe': 30, 'oh': 31, 'no': 32, 'lenny_leonard:': 33, 'what': 34, 'with': 35, 'yeah': 36, 'all': 37, 'just': 38, 'like': 39, 'but': 40, 'barney_gumble:': 41, 'so': 42, 'be': 43, 'here': 44, 'carl_carlson:': 45, \"don't\": 46, 'have': 47, 'up': 48, \"it's\": 49, 'well': 50, 'out': 51, 'do': 52, 'was': 53, 'got': 54, 'are': 55, 'get': 56, 'we': 57, 'uh': 58, \"that's\": 59, 'one': 60, \"you're\": 61, 'not': 62, 'now': 63, 'can': 64, 'know': 65, '||dash||': 66, 'at': 67, 'right': 68, '/': 69, 'how': 70, 'if': 71, 'back': 72, 'marge_simpson:': 73, 'about': 74, 'he': 75, 'from': 76, 'go': 77, 'gonna': 78, 'there': 79, 'they': 80, 'beer': 81, 'good': 82, 'who': 83, 'an': 84, 'man': 85, 'okay': 86, 'little': 87, 'his': 88, 'as': 89, 'some': 90, \"can't\": 91, 'then': 92, 'never': 93, \"i'll\": 94, 'think': 95, 'come': 96, 'could': 97, 'him': 98, \"i've\": 99, 'see': 100, 'want': 101, 'really': 102, 'look': 103, 'too': 104, 'guys': 105, 'been': 106, 'when': 107, 'make': 108, 'why': 109, 'ya': 110, 'bar': 111, 'her': 112, 'did': 113, 'time': 114, 'say': 115, 'ah': 116, 'or': 117, 'gotta': 118, 'marge': 119, 'take': 120, 'into': 121, 'love': 122, 'down': 123, 'more': 124, 'our': 125, 'am': 126, 'off': 127, 'guy': 128, 'sure': 129, 'barney': 130, 'two': 131, \"there's\": 132, 'thing': 133, 'lisa_simpson:': 134, 'would': 135, \"we're\": 136, 'where': 137, \"he's\": 138, 'had': 139, 'big': 140, 'tell': 141, 'let': 142, 'need': 143, 'money': 144, 'drink': 145, 'bart_simpson:': 146, \"what's\": 147, 'sorry': 148, 'over': 149, 'us': 150, 'something': 151, 'only': 152, 'ever': 153, 'by': 154, 'day': 155, 'will': 156, 'way': 157, 'wait': 158, 'she': 159, 'chief_wiggum:': 160, 'give': 161, 'even': 162, 'huh': 163, 'new': 164, \"i'd\": 165, 'god': 166, \"didn't\": 167, \"ain't\": 168, 'those': 169, 'great': 170, 'people': 171, 'phone': 172, \"moe's\": 173, 'eh': 174, 'has': 175, 'life': 176, 'much': 177, 'maybe': 178, 'lenny': 179, 'were': 180, 'than': 181, 'going': 182, 'mean': 183, 'place': 184, 'these': 185, 'should': 186, 'mr': 187, 'around': 188, \"you've\": 189, 'better': 190, 'wanna': 191, 'still': 192, 'help': 193, 'friend': 194, 'old': 195, 'home': 196, \"'em\": 197, 'name': 198, 'please': 199, 'night': 200, 'before': 201, 'noise': 202, 'last': 203, 'whoa': 204, 'tv': 205, 'aw': 206, 'seymour_skinner:': 207, 'boy': 208, 'face': 209, 'any': 210, 'made': 211, 'hello': 212, 'call': 213, 'thanks': 214, 'duff': 215, 'three': 216, 'drunk': 217, 'put': 218, \"'cause\": 219, 'listen': 220, 'their': 221, 'looking': 222, 'car': 223, 'bad': 224, 'again': 225, 'first': 226, 'very': 227, \"let's\": 228, 'best': 229, 'does': 230, 'wow': 231, 'yes': 232, 'another': 233, 'looks': 234, 'every': 235, 'ooh': 236, 'while': 237, 'them': 238, 'kent_brockman:': 239, 'said': 240, 'work': 241, 'wife': 242, 'other': 243, 'guess': 244, 'apu_nahasapeemapetilon:': 245, 'dad': 246, 'sweet': 247, \"won't\": 248, 'play': 249, 'feel': 250, 'tonight': 251, 'years': 252, 'singing': 253, 'springfield': 254, 'thought': 255, 'sobs': 256, 'everybody': 257, 'find': 258, 'voice': 259, \"they're\": 260, 'after': 261, 'dr': 262, 'things': 263, 'buy': 264, 'kids': 265, 'might': 266, 'check': 267, 'nice': 268, 'keep': 269, 'happy': 270, 'minute': 271, 'girl': 272, 'since': 273, 'head': 274, 'because': 275, 'shut': 276, 'show': 277, 'beat': 278, 'world': 279, 'sighs': 280, 'use': 281, 'bart': 282, \"who's\": 283, 'lisa': 284, 'sings': 285, 'chuckle': 286, 'friends': 287, 'always': 288, \"isn't\": 289, \"you'll\": 290, 'stupid': 291, 'kid': 292, 'c': 293, 'someone': 294, 'krusty_the_clown:': 295, 'ow': 296, 'which': 297, 'carl': 298, 'seen': 299, 'lot': 300, 'remember': 301, 'hundred': 302, 'anything': 303, 'laugh': 304, \"here's\": 305, 'talk': 306, 'job': 307, 'chuckles': 308, 'next': 309, 'glass': 310, 'through': 311, 'hell': 312, 'thank': 313, 'simpson': 314, 'laughs': 315, 'matter': 316, 'pretty': 317, 'five': 318, 'lost': 319, 'house': 320, 'says': 321, 'away': 322, 'hear': 323, 'long': 324, 'outta': 325, 'kind': 326, \"nothin'\": 327, 'hope': 328, 'woman': 329, 'happened': 330, 'believe': 331, 'tavern': 332, 'nervous': 333, 'once': 334, 'four': 335, 'family': 336, 'turn': 337, \"c'mon\": 338, '_montgomery_burns:': 339, 'waylon_smithers:': 340, 'book': 341, 'comes': 342, 'real': 343, 'wish': 344, \"homer's\": 345, 'stop': 346, 'ned_flanders:': 347, 'fat': 348, 'actually': 349, 'business': 350, 'myself': 351, 'idea': 352, 'ask': 353, 'game': 354, 'grampa_simpson:': 355, \"goin'\": 356, 'wants': 357, 'wrong': 358, \"doin'\": 359, 'used': 360, 'loud': 361, 'today': 362, 'party': 363, 'enough': 364, 'nobody': 365, 'burns': 366, \"we've\": 367, 'done': 368, 'problem': 369, 'town': 370, \"comin'\": 371, 'getting': 372, 'many': 373, \"wouldn't\": 374, \"she's\": 375, 'duffman:': 376, 'must': 377, 'everything': 378, 'hold': 379, 'doing': 380, 'free': 381, 'watch': 382, 'sounds': 383, 'try': 384, 'reading': 385, 'dollars': 386, 'na': 387, 'um': 388, 'bucks': 389, 'maggie': 390, 'took': 391, 'true': 392, 'thinking': 393, 'nah': 394, 'gee': 395, 'woo': 396, 'sound': 397, 'sell': 398, 'excuse': 399, 'makes': 400, 'everyone': 401, 'daughter': 402, 'secret': 403, 'stuff': 404, \"where's\": 405, 'chief': 406, 'gimme': 407, 'care': 408, 'wanted': 409, 'leave': 410, 'baby': 411, 'pay': 412, 'under': 413, 'most': 414, 'pants': 415, 'yourself': 416, 'beautiful': 417, 'canyonero': 418, 'being': 419, 'edna': 420, 'kill': 421, 'kemi:': 422, 'pick': 423, 'own': 424, 'mouth': 425, 'pal': 426, 'tough': 427, 'tipsy': 428, 'quickly': 429, 'left': 430, 'worry': 431, 'smithers': 432, 'went': 433, 'knew': 434, 'points': 435, 'save': 436, 'dead': 437, \"you'd\": 438, 'hurt': 439, 'dinner': 440, 'sad': 441, 'school': 442, 'tomorrow': 443, 'till': 444, 'hoo': 445, 'drinking': 446, 'hate': 447, 'sign': 448, 'fine': 449, 'hi': 450, 'quit': 451, 'feeling': 452, 'win': 453, 'heard': 454, 'dog': 455, 'die': 456, 'camera': 457, 'told': 458, 'excited': 459, 'skinner': 460, 'funny': 461, 'gave': 462, 'break': 463, 'eyes': 464, 'came': 465, 'ladies': 466, 'saw': 467, 'gets': 468, 'booze': 469, 'forget': 470, \"couldn't\": 471, 'alcohol': 472, 'easy': 473, 'flaming': 474, 'without': 475, 'fire': 476, 'million': 477, \"aren't\": 478, 'calling': 479, 'eat': 480, 'sir': 481, 'loves': 482, 'barflies:': 483, 'twenty': 484, 'hand': 485, 'seven': 486, 'nuts': 487, 'super': 488, 'krusty': 489, 'clean': 490, 'gone': 491, 'gasp': 492, 'loser': 493, 'date': 494, 'mad': 495, 'hands': 496, 'anyone': 497, 'jacques:': 498, 'cash': 499, 'kinda': 500, 'bring': 501, 'fight': 502, 'room': 503, 'kirk_van_houten:': 504, 'drive': 505, 'surprised': 506, 'burn': 507, 'mom': 508, 'noises': 509, 'small': 510, 'read': 511, 'artie_ziff:': 512, 'meet': 513, 'problems': 514, 'door': 515, 'happen': 516, \"wasn't\": 517, 'high': 518, 'behind': 519, 'cut': 520, 'called': 521, \"lookin'\": 522, \"haven't\": 523, 'course': 524, 'anyway': 525, \"talkin'\": 526, 'low': 527, \"we'll\": 528, 'trouble': 529, \"doesn't\": 530, 'coming': 531, 'sadly': 532, 'each': 533, 'six': 534, 'seymour': 535, 'gentlemen': 536, 'geez': 537, 'turns': 538, \"y'know\": 539, \"somethin'\": 540, 'chance': 541, 'tape': 542, 'already': 543, \"drinkin'\": 544, 'bartender': 545, 'professor_jonathan_frink:': 546, 'upset': 547, 'dear': 548, 'self': 549, \"it'll\": 550, 'end': 551, 'ugly': 552, 'machine': 553, 'eye': 554, 'larry:': 555, 'works': 556, 'fun': 557, 'disgusted': 558, 'hot': 559, 'bottle': 560, 'realizing': 561, 'sing': 562, 'song': 563, 'wiggum': 564, 'hours': 565, 'start': 566, 'moan': 567, 'outside': 568, 'mmmm': 569, 'sigh': 570, 'throat': 571, 'steal': 572, 'uh-oh': 573, 'heart': 574, 'close': 575, \"gettin'\": 576, 'blame': 577, 'trying': 578, 'change': 579, 'war': 580, 'dump': 581, 'whatever': 582, 'snake_jailbird:': 583, 'stay': 584, 'learn': 585, 'live': 586, 'stand': 587, 'lady': 588, 'keys': 589, 'least': 590, 'm': 591, 'spend': 592, 'crazy': 593, 'whole': 594, 'straight': 595, 'quiet': 596, 'talking': 597, ':': 598, 'watching': 599, 'worried': 600, 'worse': 601, 'the_rich_texan:': 602, 'bar_rag:': 603, 'barflies': 604, 'lousy': 605, 'butt': 606, 'less': 607, 'ten': 608, 'late': 609, 'learned': 610, 'drinks': 611, 'probably': 612, 'such': 613, 'stick': 614, 'perfect': 615, 'greatest': 616, 'shocked': 617, 'private': 618, 'playing': 619, 'may': 620, 'blue': 621, 'anymore': 622, 'goodbye': 623, 'bowl': 624, \"'bout\": 625, 'special': 626, 'poor': 627, 'light': 628, 'joe': 629, 'second': 630, 'thinks': 631, 'year': 632, 'girls': 633, 'morning': 634, 'gasps': 635, \"shouldn't\": 636, 'pull': 637, 'thousand': 638, 'soon': 639, 'times': 640, 'ma': 641, 'apu': 642, 'police': 643, 'crowd:': 644, 'person': 645, 'far': 646, 'alive': 647, 'married': 648, 'marriage': 649, 'air': 650, 'heh': 651, 'bit': 652, 'turned': 653, 'young': 654, 'mother': 655, 'either': 656, 'front': 657, 'else': 658, 'whip': 659, 'point': 660, 'annoyed': 661, 'tsk': 662, 'delete': 663, 'anybody': 664, 'store': 665, 'kick': 666, 'cool': 667, 'moron': 668, 'minutes': 669, 'buddy': 670, 'open': 671, 'picture': 672, 'goes': 673, 'uh-huh': 674, 'couple': 675, 'found': 676, 'blood': 677, 'boys': 678, 'letter': 679, 'nothing': 680, 'lucky': 681, 'smell': 682, 'feet': 683, 'taking': 684, 'both': 685, 'turning': 686, 'eight': 687, 'miss': 688, 'walk': 689, 'join': 690, 'president': 691, 'ticket': 692, 'later': 693, \"how'd\": 694, 'king': 695, 'knows': 696, 'lemme': 697, 'jacques': 698, 'ass': 699, 'throw': 700, 'serious': 701, 'box': 702, 'shot': 703, 'mayor_joe_quimby:': 704, 'beers': 705, 'barn': 706, 'tab': 707, 'exactly': 708, 'boxing': 709, 'yet': 710, 'nods': 711, 'duffman': 712, 'card': 713, 'christmas': 714, 'angry': 715, 'agnes_skinner:': 716, 'american': 717, 'arm': 718, 'rev': 719, 'pig': 720, 'shotgun': 721, 'mind': 722, 'alone': 723, 'instead': 724, 'fifty': 725, 'patty_bouvier:': 726, 'youse': 727, 'goodnight': 728, 'days': 729, 'somebody': 730, 'proudly': 731, 'kiss': 732, 'top': 733, 'number': 734, 'full': 735, 'dry': 736, 'food': 737, 'collette:': 738, 'warmly': 739, 'ahh': 740, 'plant': 741, 'friendly': 742, 'english': 743, 'saying': 744, 'mrs': 745, 'paint': 746, 'hide': 747, 'afraid': 748, 'accident': 749, 'black': 750, 'using': 751, 's': 752, 'deal': 753, 'ready': 754, 'amazed': 755, 'rummy': 756, 'dance': 757, 'eggs': 758, 'walking': 759, 'nine': 760, 'welcome': 761, 'o': 762, 'damn': 763, \"he'll\": 764, 'together': 765, '||semicolon||': 766, 'fellas': 767, 'alright': 768, 'send': 769, 'wire': 770, 'etc': 771, 'forever': 772, 'plus': 773, 'seems': 774, 'advice': 775, 'ned': 776, 'butts': 777, 'huge': 778, 'story': 779, 'ball': 780, 'himself': 781, 'favorite': 782, 'intrigued': 783, 'happier': 784, 'making': 785, 'table': 786, 'hang': 787, 'broke': 788, 'sotto': 789, 'crap': 790, 'move': 791, 'finally': 792, 'lucius:': 793, 'though': 794, 'return': 795, 'word': 796, 'ha': 797, 'hmm': 798, 'sitting': 799, 'fast': 800, 'weird': 801, 'scared': 802, 'grampa': 803, 'son': 804, 'news': 805, 'cold': 806, 'terrible': 807, 'smile': 808, 'words': 809, \"makin'\": 810, 'run': 811, 'screw': 812, 'city': 813, 'renee:': 814, 'pour': 815, 'round': 816, 'channel': 817, 'telling': 818, 'losers': 819, 'japanese': 820, 'tap': 821, 'glove': 822, 'la': 823, 'inside': 824, 'seat': 825, 'human': 826, \"ol'\": 827, 'comic_book_guy:': 828, 'moans': 829, \"kiddin'\": 830, 'glad': 831, 'horrible': 832, 'homie': 833, 'peanuts': 834, 'young_marge:': 835, 'selma_bouvier:': 836, 'street': 837, 'means': 838, 'narrator:': 839, 'warm_female_voice:': 840, 'ice': 841, 'normal': 842, 'belch': 843, 'dunno': 844, 'honest': 845, 'gumbel': 846, 'milk': 847, 'smells': 848, 'laughing': 849, 'music': 850, 'tip': 851, 'seconds': 852, 'early': 853, 'half': 854, 'slow': 855, 'forgot': 856, 'invented': 857, 'harv:': 858, 'fill': 859, 'eating': 860, 'thirty': 861, 'power': 862, 'company': 863, 'bet': 864, 'hair': 865, 'sent': 866, 'denver': 867, 'ones': 868, 'football_announcer:': 869, 'class': 870, 'won': 871, 'star': 872, 'state': 873, 'uncle': 874, 'stool': 875, 'sick': 876, 'along': 877, 'takes': 878, 'holding': 879, 'lying': 880, 'tinkle': 881, 'gives': 882, 'desperate': 883, 'holds': 884, '_julius_hibbert:': 885, 'except': 886, 'honey': 887, 'principal': 888, 'nigel_bakerbutcher:': 889, 'group': 890, 'joey': 891, 'worst': 892, 'flanders': 893, 'hit': 894, 'al': 895, 'romantic': 896, 'birthday': 897, 'shall': 898, 'pass': 899, 'men': 900, 'admit': 901, 'dangerous': 902, 'brought': 903, 'charge': 904, 'hard': 905, 'write': 906, 'fall': 907, 'bitter': 908, 'lives': 909, 'touched': 910, 'impressed': 911, 'sex': 912, 'strong': 913, 'sips': 914, 'fat_tony:': 915, 'tony': 916, 'set': 917, \"we'd\": 918, 'heaven': 919, 'same': 920, 'giving': 921, 'health': 922, 'kent': 923, 'truth': 924, 'bag': 925, 'hank_williams_jr': 926, 'crack': 927, 'treasure': 928, 'plan': 929, 'rat': 930, \"sayin'\": 931, \"that'll\": 932, 'szyslak': 933, 'mister': 934, 'week': 935, 'lowers': 936, 'loved': 937, 'supposed': 938, 'tune': 939, 'slap': 940, 'across': 941, 'plastic': 942, 'dumb': 943, 'baseball': 944, 'quick': 945, 'became': 946, 'jukebox': 947, 'gold': 948, 'manjula_nahasapeemapetilon:': 949, 'water': 950, 'safe': 951, 'health_inspector:': 952, 'numbers': 953, 'maya:': 954, 'bow': 955, 'lou:': 956, 'walther_hotenhoffer:': 957, 'omigod': 958, 'princess': 959, 'young_homer:': 960, 'mike': 961, 'catch': 962, \"how's\": 963, \"he'd\": 964, 'speech': 965, 'little_man:': 966, 'closed': 967, 'wallet': 968, 'wrote': 969, 'grand': 970, 'troll': 971, 'invited': 972, 'government': 973, 'joint': 974, 'club': 975, 'cutting': 976, 'service': 977, 'quietly': 978, 'movie': 979, 'doubt': 980, 'accent': 981, 'nein': 982, 'speaking': 983, 'bee': 984, 'pop': 985, 'treat': 986, 'wonderful': 987, 'games': 988, 'fellow': 989, 'cheer': 990, 'yea': 991, 'coaster': 992, 'sunday': 993, 'luck': 994, 'jack': 995, 'cop': 996, 'dallas': 997, 'short': 998, 'shirt': 999, 'lord': 1000, 'asked': 1001, 'offended': 1002, 'wha': 1003, \"smokin'_joe_frazier:\": 1004, 'cleaned': 1005, 'piece': 1006, 'felt': 1007, \"lisa's\": 1008, 'clown': 1009, 'announcer:': 1010, 'testing': 1011, 'shaking': 1012, 'glasses': 1013, \"callin'\": 1014, 'pipe': 1015, 'red': 1016, 'cost': 1017, 'wall': 1018, 'center': 1019, 'all:': 1020, 'represent': 1021, 'ago': 1022, 'chanting': 1023, 'ad': 1024, 'handsome': 1025, 'sharps': 1026, 'named': 1027, 'names': 1028, 'swear': 1029, 'hospital': 1030, 'children': 1031, 'rest': 1032, 'strap': 1033, 'fingers': 1034, 'suddenly': 1035, 'man:': 1036, 'puzzled': 1037, 'brilliant': 1038, 'soul': 1039, 'saved': 1040, 'pool': 1041, 'local': 1042, 'daddy': 1043, 'dank': 1044, 'ashamed': 1045, 'side': 1046, 'customers': 1047, 'disappointed': 1048, 'hated': 1049, 'horrified': 1050, 'tongue': 1051, 'window': 1052, 'until': 1053, 'truck': 1054, 'selma': 1055, 'owe': 1056, 'dude': 1057, 'wonder': 1058, \"tellin'\": 1059, 'punch': 1060, 'jeez': 1061, 'yep': 1062, 'empty': 1063, 'biggest': 1064, 'tired': 1065, 'drederick': 1066, 'against': 1067, 'changing': 1068, 'evening': 1069, 'clears': 1070, 'favor': 1071, 'hanging': 1072, 'gay': 1073, 'deer': 1074, 'designated': 1075, 'writing': 1076, 'beloved': 1077, 'wine': 1078, 'suit': 1079, 'confused': 1080, 'french': 1081, 'having': 1082, 'during': 1083, 'clear': 1084, 'sober': 1085, 'longer': 1086, 'chug': 1087, 'jar': 1088, 'brockman': 1089, 'absolutely': 1090, \"drivin'\": 1091, 'wheel': 1092, 'driving': 1093, 'part': 1094, 'park': 1095, 'i-i': 1096, 'unless': 1097, 'hopeful': 1098, 'stunned': 1099, 'also': 1100, \"world's\": 1101, 'running': 1102, 'broad': 1103, 'filthy': 1104, 'dame': 1105, 'boring': 1106, 'totally': 1107, 'none': 1108, 'surgery': 1109, 'survive': 1110, \"tryin'\": 1111, 'mayor': 1112, \"workin'\": 1113, 'isotopes': 1114, 'lose': 1115, 'detective_homer_simpson:': 1116, 'exasperated': 1117, \"guy's\": 1118, 'act': 1119, 'needs': 1120, 'given': 1121, 'counting': 1122, 'caught': 1123, 'cow': 1124, 'college': 1125, 'p': 1126, 'fish': 1127, 'women': 1128, 'third': 1129, 'mine': 1130, 'lessons': 1131, 'x': 1132, 'few': 1133, 'thumb': 1134, 'dying': 1135, 'stories': 1136, 'speak': 1137, 'beach': 1138, 'bed': 1139, 'artie': 1140, 'billy_the_kid:': 1141, 'bank': 1142, 'jerks': 1143, 'proud': 1144, \"one's\": 1145, \"sittin'\": 1146, 'sauce': 1147, 'suicide': 1148, 'duh': 1149, 'edna_krabappel-flanders:': 1150, 'sob': 1151, 'rope': 1152, \"i'm-so-stupid\": 1153, 'america': 1154, 'mouse': 1155, 'pity': 1156, 'nineteen': 1157, 'african': 1158, 'nuclear': 1159, 'calm': 1160, '_zander:': 1161, 'tree': 1162, 'lloyd:': 1163, '_hooper:': 1164, 'glen:': 1165, 'bender:': 1166, 'adult_bart:': 1167, 'tv_wife:': 1168, 'tv_husband:': 1169, 'rotch': 1170, 'cares': 1171, 'sits': 1172, 'follow': 1173, 'bars': 1174, 'chocolate': 1175, 'usually': 1176, 'closing': 1177, 'pulled': 1178, 'hurry': 1179, 'fifteen': 1180, 'gin': 1181, 'hits': 1182, 'spot': 1183, 'smiling': 1184, \"everyone's\": 1185, 'feels': 1186, 'pitcher': 1187, 'amazing': 1188, 'offer': 1189, 'minimum': 1190, 'restaurant': 1191, 'dollar': 1192, 'ingredient': 1193, 'career': 1194, 'market': 1195, 'stock': 1196, 'hans:': 1197, \"o'problem\": 1198, 'calls': 1199, 'embarrassed': 1200, \"today's\": 1201, 'nose': 1202, 'domestic': 1203, 'pointed': 1204, 'weekly': 1205, 'sarcastic': 1206, 'belches': 1207, 'forty': 1208, 'ruined': 1209, 'ourselves': 1210, 'original': 1211, 'situation': 1212, 'almost': 1213, 'field': 1214, 'buffalo': 1215, 'pit': 1216, 'pickled': 1217, 'couch': 1218, 'heavyweight': 1219, 'championship': 1220, 'whee': 1221, 'father': 1222, 'beauty': 1223, 'amanda': 1224, 'huggenkiss': 1225, 'ivana': 1226, 'plow': 1227, 'teenage_barney:': 1228, 'hero': 1229, 'starts': 1230, 'answer': 1231, 'enjoy': 1232, 'yesterday': 1233, 'fridge': 1234, 'agent': 1235, 'island': 1236, 'sly': 1237, 'adeleine': 1238, 'scream': 1239, 'question': 1240, 'arrest': 1241, \"what'll\": 1242, 'knock': 1243, 'figured': 1244, 'stillwater:': 1245, 'respect': 1246, 'fbi': 1247, 'hm': 1248, 'teach': 1249, 'professional': 1250, 'snake': 1251, 'flower': 1252, 'clothes': 1253, 'polite': 1254, 'tail': 1255, 'liver': 1256, 'legs': 1257, 'understand': 1258, 'pulls': 1259, 'line': 1260, 'woman:': 1261, 'meeting': 1262, 'hugh:': 1263, 'rather': 1264, 'pub': 1265, 'wear': 1266, 'loaded': 1267, 'sense': 1268, 'different': 1269, 'movies': 1270, 'magic': 1271, 'deep': 1272, \"they've\": 1273, 'ahead': 1274, 'breath': 1275, 'boat': 1276, 'working': 1277, 'kidding': 1278, 'burp': 1279, 'blow': 1280, \"livin'\": 1281, 'choice': 1282, 'test': 1283, 'opportunity': 1284, 'rich': 1285, 'brain': 1286, 'train': 1287, 'yard': 1288, 'hungry': 1289, 'match': 1290, 'body': 1291, 'tatum': 1292, 'sit': 1293, 'dramatic': 1294, \"buyin'\": 1295, 'bill': 1296, 'twelve': 1297, 'gas': 1298, 'quite': 1299, 'finger': 1300, 'lie': 1301, 'south': 1302, 'fix': 1303, 'whiny': 1304, \"o'clock\": 1305, 'drivers': 1306, 'drug': 1307, 'upbeat': 1308, 'sold': 1309, 'betty:': 1310, 'explaining': 1311, 'sexy': 1312, 'dang': 1313, 'started': 1314, 'egg': 1315, 'mug': 1316, 'months': 1317, 'chick': 1318, 'threw': 1319, 'stirring': 1320, 'husband': 1321, 'illegal': 1322, 'cover': 1323, 'folks': 1324, \"watchin'\": 1325, 'case': 1326, 'sports': 1327, 'smooth': 1328, 'computer': 1329, 'selling': 1330, 'ride': 1331, 'renee': 1332, 'flowers': 1333, 'girlfriend': 1334, 'distraught': 1335, 'pain': 1336, 'sobbing': 1337, 'raises': 1338, 'arms': 1339, 'stagy': 1340, 'procedure': 1341, 'able': 1342, 'lips': 1343, 'especially': 1344, 'fan': 1345, \"who'll\": 1346, 'dennis_conroy:': 1347, 'bottom': 1348, 'road': 1349, 'bye': 1350, 'wally:': 1351, 'flips': 1352, 'character': 1353, 'partner': 1354, 'guns': 1355, \"valentine's\": 1356, 'amid': 1357, 'yellow': 1358, 'radishes': 1359, 'u': 1360, \"bein'\": 1361, 'bald': 1362, 'castle': 1363, 'busy': 1364, 're:': 1365, 'seem': 1366, 'jerk': 1367, 'sincere': 1368, 'precious': 1369, 'burt': 1370, 'garbage': 1371, 'died': 1372, \"dad's\": 1373, 'whisper': 1374, 'lotta': 1375, 'secrets': 1376, 'whaddaya': 1377, 'sees': 1378, 'pickle': 1379, 'rob': 1380, 'coat': 1381, 'trip': 1382, 'ooo': 1383, 'band': 1384, 'neck': 1385, 'tom': 1386, 'gotten': 1387, 'buttons': 1388, 'eleven': 1389, 'cries': 1390, 'awkward': 1391, 'video': 1392, 'billboard': 1393, 'david_byrne:': 1394, 'france': 1395, 'sheepish': 1396, 'address': 1397, 'monster': 1398, 'meaningful': 1399, 'furious': 1400, 'new_health_inspector:': 1401, 'pipes': 1402, 'needed': 1403, 'moment': 1404, 'ominous': 1405, 'declan_desmond:': 1406, 'sister': 1407, 'milhouse_van_houten:': 1408, 'forget-me-shot': 1409, 'finding': 1410, 'shows': 1411, 'bees': 1412, 'vance': 1413, 'correct': 1414, 'pleased': 1415, 'cable': 1416, 'babies': 1417, 'clearly': 1418, 'yap': 1419, 'hoping': 1420, 'thoughtful': 1421, 'grim': 1422, 'frustrated': 1423, 'burps': 1424, 'therapy': 1425, 'foibles': 1426, 'books': 1427, 'twins': 1428, 'rag': 1429, 'keeps': 1430, 'dan_gillick:': 1431, 'ken:': 1432, \"carl's\": 1433, 'senator': 1434, 'senators': 1435, \"moe's_thoughts:\": 1436, 'teenage_bart:': 1437, 'eddie:': 1438, 'lately': 1439, 'puke': 1440, 'struggling': 1441, 'crummy': 1442, 'tells': 1443, 'spit': 1444, \"'til\": 1445, 'unison': 1446, 'thoughts': 1447, 'finished': 1448, 'concerned': 1449, 'burning': 1450, 'hiya': 1451, 'junior': 1452, 'cigarette': 1453, 'sucked': 1454, 'harv': 1455, 'cough': 1456, 'its': 1457, 'delicious': 1458, 'noticing': 1459, 'above': 1460, 'expect': 1461, 'accurate': 1462, 'tips': 1463, 'pardon': 1464, 'idiot': 1465, 'covering': 1466, 'frankly': 1467, 'kept': 1468, 'k': 1469, 'twenty-five': 1470, 'become': 1471, 'german': 1472, 'fritz:': 1473, 'buying': 1474, 'brains': 1475, 'crank': 1476, \"bart's\": 1477, 'lots': 1478, \"they'll\": 1479, 'cheap': 1480, 'hug': 1481, 'sniffs': 1482, 'bowling': 1483, 'gift': 1484, 'bret:': 1485, 'guest': 1486, 'whose': 1487, 'shares': 1488, 'odd': 1489, 'hates': 1490, 'whatcha': 1491, 'touchdown': 1492, 'fork': 1493, 'keeping': 1494, 'careful': 1495, 'prime': 1496, 'palmerston': 1497, 'elder': 1498, 'pfft': 1499, 'lottery': 1500, 'sadistic_barfly:': 1501, 'cents': 1502, 'customer': 1503, 'step': 1504, 'holiday': 1505, 'religion': 1506, 'born': 1507, 'tv_father:': 1508, 'toss': 1509, 'jack_larson:': 1510, 'pageant': 1511, 'age': 1512, 'endorse': 1513, 'puff': 1514, \"where'd\": 1515, 'stopped': 1516, 'ruin': 1517, 'sec': 1518, 'shove': 1519, 'mistake': 1520, 'slip': 1521, 'pathetic': 1522, 'har': 1523, 'ring': 1524, 'checks': 1525, 'pointing': 1526, 'aside': 1527, 'ordered': 1528, 'dressed': 1529, 'bus': 1530, 'gal': 1531, 'afternoon': 1532, 'kwik-e-mart': 1533, 'coney': 1534, 'single': 1535, 'darts': 1536, \"havin'\": 1537, 'pause': 1538, '_babcock:': 1539, 'higher': 1540, 'reads': 1541, 'sexual': 1542, 'moments': 1543, 'alley': 1544, 'fault': 1545, 'hmmm': 1546, 'roll': 1547, 'form': 1548, 'register': 1549, 'prank': 1550, 'coffee': 1551, 'label': 1552, 'innocent': 1553, 'double': 1554, 'hurts': 1555, 'loan': 1556, 'leans': 1557, 'fool': 1558, 'covers': 1559, 'crawl': 1560, 'following': 1561, 'celebrities': 1562, 'consider': 1563, 'imagine': 1564, 'moved': 1565, 'fumes': 1566, 'oil': 1567, 'exhaust': 1568, 'gag': 1569, 'stole': 1570, 'killed': 1571, 'understanding': 1572, 'raising': 1573, 'natural': 1574, 'stools': 1575, 'texas': 1576, 'rid': 1577, 'barney-shaped_form:': 1578, 'snaps': 1579, 'bright': 1580, 'beginning': 1581, 'cute': 1582, 'evil': 1583, '&': 1584, 'exit': 1585, 'midnight': 1586, 'compliment': 1587, \"stinkin'\": 1588, 'glum': 1589, 'salad': 1590, 'complete': 1591, \"c'mere\": 1592, 'knocked': 1593, 'bob': 1594, 'fact': 1595, 'cannot': 1596, 'incredulous': 1597, 'fans': 1598, 'saturday': 1599, 'parking': 1600, 'general': 1601, 'trust': 1602, \"could've\": 1603, 'stayed': 1604, 'shape': 1605, 'taken': 1606, \"gentleman's\": 1607, \"barney's\": 1608, 'mafia': 1609, 'crime': 1610, 'indignant': 1611, 'entire': 1612, 'grow': 1613, 'modern': 1614, 'diet': 1615, 'shoot': 1616, 'enemy': 1617, 'accept': 1618, 'enemies': 1619, 'list': 1620, 'invite': 1621, 'lonely': 1622, 'singers:': 1623, 'toward': 1624, 'defensive': 1625, 'walks': 1626, 'snort': 1627, 'mechanical': 1628, 'suppose': 1629, 'sometime': 1630, 'fancy': 1631, 'kissing': 1632, 'per': 1633, 'traffic': 1634, 'peter': 1635, 'pained': 1636, 'extra': 1637, 'cheers': 1638, 'driver': 1639, 'program': 1640, 'inspector': 1641, 'heads': 1642, 'recommend': 1643, 'severe': 1644, 'checking': 1645, 'showing': 1646, 'fever': 1647, 'spending': 1648, 'switch': 1649, 'casual': 1650, 'rough': 1651, 'pissed': 1652, 'scene': 1653, 'church': 1654, 'threatening': 1655, 'turkey': 1656, 'scam': 1657, 'jesus': 1658, 'spinning': 1659, 'pats': 1660, \"seein'\": 1661, 'toilet': 1662, 'der': 1663, 'crowd': 1664, 'boo': 1665, 'wide': 1666, 'toasting': 1667, 'order': 1668, 'bunch': 1669, 'pays': 1670, 'law': 1671, 'wasting': 1672, 'corpses': 1673, 'sleep': 1674, 'screams': 1675, 'aww': 1676, 'seeing': 1677, 'military': 1678, 'hunter': 1679, 'reminds': 1680, 'panicky': 1681, 'ridiculous': 1682, 'campaign': 1683, 'public': 1684, \"they'd\": 1685, 'focus': 1686, 'knowing': 1687, 'jolly': 1688, 'upon': 1689, 'edison': 1690, 'played': 1691, 'middle': 1692, 'worked': 1693, 'james': 1694, 'hole': 1695, 'corner': 1696, 'summer': 1697, 'operation': 1698, 'comfortable': 1699, 'inspection': 1700, 'season': 1701, 'grunt': 1702, 'wooooo': 1703, 'history': 1704, 'team': 1705, 'grabbing': 1706, 'root': 1707, 'spanish': 1708, 'weeks': 1709, 'coach:': 1710, \"wife's\": 1711, 'leg': 1712, 'grabs': 1713, 'peace': 1714, 'toys': 1715, 'changed': 1716, 'international': 1717, 'who-o-oa': 1718, 'hour': 1719, 'men:': 1720, \"men's\": 1721, 'hilarious': 1722, 'frink': 1723, 'paying': 1724, 'searching': 1725, 'embarrassing': 1726, 'past': 1727, 'challenge': 1728, 'tears': 1729, 'cocktail': 1730, 'stadium': 1731, 'finest': 1732, 'license': 1733, 'ho': 1734, 'dynamite': 1735, 'rub': 1736, 'grunts': 1737, 'chinese': 1738, 'uncomfortable': 1739, 'helicopter': 1740, 'sweetly': 1741, 'fly': 1742, 'suck': 1743, 'film': 1744, 'fireball': 1745, 'mudflap': 1746, \"ridin'\": 1747, 'teeth': 1748, 'closer': 1749, 'happily': 1750, '_timothy_lovejoy:': 1751, 'chest': 1752, 'popular': 1753, 'directions': 1754, 'bought': 1755, 'tried': 1756, 'wearing': 1757, 'delighted': 1758, 'button': 1759, 'future': 1760, 'drunks': 1761, 'serve': 1762, 'spoken': 1763, 'thankful': 1764, 'looked': 1765, 'ancient': 1766, 'losing': 1767, 'lindsay_naegle:': 1768, 'teenage': 1769, 'ohmygod': 1770, 'uneasy': 1771, \"i-i'm\": 1772, 'terrified': 1773, 'scum': 1774, 'afford': 1775, 'anniversary': 1776, 'feed': 1777, 'ã€': 1778, 'starting': 1779, \"robbin'\": 1780, 'banks': 1781, 'fair': 1782, 'backwards': 1783, 'rats': 1784, 'staying': 1785, 'death': 1786, 'andy': 1787, 'mock': 1788, 'flatly': 1789, 'sisters': 1790, 'subject': 1791, 'likes': 1792, 'peach': 1793, 'miserable': 1794, 'jump': 1795, 'dive': 1796, 'bless': 1797, 'attention': 1798, 'paris': 1799, 'cards': 1800, 'ziffcorp': 1801, 'sec_agent_#1:': 1802, 'fraud': 1803, 'perhaps': 1804, 'ground': 1805, 'jail': 1806, 'ran': 1807, \"kids'\": 1808, 'gary_chalmers:': 1809, 'dancing': 1810, 'wiener': 1811, 'vomit': 1812, 'bike': 1813, 'floor': 1814, 'glen': 1815, 'breaking': 1816, 'british': 1817, 'letters': 1818, 'clone': 1819, 'tradition': 1820, 'push': 1821, 'vegas': 1822, 'system': 1823, 'bar-boy': 1824, 'foot': 1825, 'motel': 1826, 'awful': 1827, 'child': 1828, 'yee-haw': 1829, 'workers': 1830, 'then:': 1831, 'clientele': 1832, 'army': 1833, 'milhouse': 1834, 'greystash': 1835, 'dirt': 1836, 'doors': 1837, 'size': 1838, 'reason': 1839, 'feelings': 1840, 'mel': 1841, 'bite': 1842, 'powerful': 1843, 'wipe': 1844, 'image': 1845, 'pockets': 1846, 'share': 1847, 'jamaican': 1848, 'l': 1849, \"lenny's\": 1850, 'midge': 1851, 'gently': 1852, 'unlike': 1853, 'meant': 1854, 'sniffles': 1855, 'election': 1856, 'al_gore:': 1857, 'nobel': 1858, 'sadder': 1859, 'yo': 1860, 'unlucky': 1861, 'somewhere': 1862, 'met': 1863, 'relax': 1864, 'anguished': 1865, 'talk-sings': 1866, 'tastes': 1867, 'kang:': 1868, \"year's\": 1869, 'bitterly': 1870, 'woo-hoo': 1871, 'cameras': 1872, 'nards': 1873, 'gary:': 1874, 'fourth': 1875, 'scotch': 1876, 'drop': 1877, 'weak': 1878, 'opening': 1879, '_kissingher:': 1880, 'text': 1881, 'f': 1882, 'hall': 1883, 'wayne:': 1884, 'nation': 1885, 'kermit': 1886, 'belly': 1887, 'despite': 1888, 'r': 1889, 'theater': 1890, 'twenty-two': 1891, 'sixty-nine': 1892, 'source': 1893, 'brother': 1894, 'book_club_member:': 1895, 'literature': 1896, 'troy:': 1897, 'pocket': 1898, 'marvin': 1899, 'carve': 1900, 'effervescent': 1901, 'social': 1902, 'vote': 1903, 'corkscrew': 1904, 'folk': 1905, 'neat': 1906, 'tick': 1907, 'effects': 1908, 'trick': 1909, 'judge': 1910, 'mumbling': 1911, 'closes': 1912, 'smoothly': 1913, 'gum': 1914, 'satisfaction': 1915, 'payments': 1916, 'distributor': 1917, 'spent': 1918, 'tester': 1919, 'gums': 1920, \"bartender's\": 1921, 'brightening': 1922, 'homers': 1923, 'syrup': 1924, 'knife': 1925, 'doll': 1926, 'charm': 1927, 'lighting': 1928, \"tester's\": 1929, 'busted': 1930, 'barkeep': 1931, 'bartenders': 1932, 'barf': 1933, 'measurements': 1934, 'benefits': 1935, 'prefer': 1936, 'hired': 1937, \"shan't\": 1938, 'regret': 1939, 'genius': 1940, 'mcstagger': 1941, 'successful': 1942, 'sale': 1943, 'yours': 1944, 'compliments': 1945, 'aerosmith': 1946, 'refund': 1947, 'henry': 1948, 'reserve': 1949, 'swill': 1950, 'ech': 1951, 'interested': 1952, 'owner': 1953, 'confident': 1954, '100': 1955, 'awwww': 1956, 'bucket': 1957, 'conspiratorial': 1958, 'teddy': 1959, 'bear': 1960, 'beneath': 1961, 'seek': 1962, 'bears': 1963, 'blend': 1964, 'greedy': 1965, 'sector': 1966, 'recently': 1967, 'shaken': 1968, 'recall': 1969, 'inspire': 1970, 'peanut': 1971, 'slyly': 1972, 'pleasure': 1973, 'thirteen': 1974, 'studio': 1975, 'apartment': 1976, 'listening': 1977, 'deeply': 1978, 'victory': 1979, 'bread': 1980, 'bets': 1981, 'troy': 1982, 'troy_mcclure:': 1983, 'bret': 1984, 'handle': 1985, 'retired': 1986, 'comedy': 1987, \"buffalo's\": 1988, 'excellent': 1989, 'riding': 1990, 'whistles': 1991, 'dan': 1992, 'wins': 1993, 'aggravated': 1994, 'teams': 1995, 'cowboys': 1996, 'clock': 1997, 'cars': 1998, \"maggie's\": 1999, 'handing': 2000, 'minister': 2001, 'wade_boggs:': 2002, 'jumps': 2003, 'poking': 2004, \"showin'\": 2005, 'gals': 2006, 'fudd': 2007, 'miles': 2008, 'finishing': 2009, 'dryer': 2010, 'feast': 2011, 'snake-handler': 2012, 'prove': 2013, 'laramie': 2014, 'cigarettes': 2015, 'prohibit': 2016, 'smoke': 2017, 'product': 2018, '250': 2019, 'animals': 2020, '_powers:': 2021, 'standards': 2022, 'b': 2023, 'sausage': 2024, 'ah-ha': 2025, 'sooner': 2026, 'linda': 2027, 'project': 2028, 'snow': 2029, \"fallin'\": 2030, 'prayer': 2031, 'wave': 2032, 'yoo': 2033, 'cheery': 2034, 'sack': 2035, 'chilly': 2036, 'willy': 2037, 'appear': 2038, 'remembered': 2039, 'snap': 2040, 't-shirt': 2041, 'plum': 2042, 'deserve': 2043, 'civic': 2044, 'ragtime': 2045, 'isle': 2046, 'babe': 2047, 'village': 2048, 'tenor:': 2049, 'paid': 2050, 'lib': 2051, 'remains': 2052, 'witty': 2053, 'served': 2054, 'cops': 2055, 'andalay': 2056, 'sometimes': 2057, 'based': 2058, 'realize': 2059, 'insightful': 2060, 'code': 2061, 'cueball': 2062, 'clinton': 2063, 'tang': 2064, \"it'd\": 2065, 'nasa': 2066, 'astronaut': 2067, 'shrugging': 2068, 'rap': 2069, 'advantage': 2070, 'generous': 2071, 'pin': 2072, 'cola': 2073, 'forbidden': 2074, 'present': 2075, 'entirely': 2076, 'bold': 2077, 'teacher': 2078, 'sugar': 2079, 'pleading': 2080, 'pulling': 2081, 'ohh': 2082, 'greetings': 2083, 'giggles': 2084, 'advance': 2085, 'gosh': 2086, 'bash': 2087, 'poet': 2088, 'alcoholic': 2089, 'large': 2090, 'pouring': 2091, 'honored': 2092, 'virtual': 2093, 'inflated': 2094, 'self-esteem': 2095, 'male_inspector:': 2096, 'detecting': 2097, 'rage': 2098, 'reasons': 2099, 'writers': 2100, 'alfalfa': 2101, 'murmur': 2102, 'hollywood': 2103, 'restaurants': 2104, 'pressure': 2105, 'inspired': 2106, 'memories': 2107, 'blew': 2108, 'pad': 2109, 'stinks': 2110, 'ahhh': 2111, 'rolling': 2112, 'wondering': 2113, 'ringing': 2114, 'ye': 2115, 'jebediah': 2116, 'cutie': 2117, 'bums': 2118, 'angel': 2119, 'blood-thirsty': 2120, 'pirate': 2121, 'jubilant': 2122, 'waylon': 2123, 'delivery': 2124, 'forward': 2125, 'darkest': 2126, 'calculate': 2127, 'results': 2128, 'billion': 2129, 'space': 2130, 'considering': 2131, 'freeze': 2132, 'reasonable': 2133, 'ha-ha': 2134, 'themselves': 2135, 'raise': 2136, 'oof': 2137, 'belt': 2138, 'steak': 2139, 'meal': 2140, 'awe': 2141, 'percent': 2142, 'manage': 2143, 'realized': 2144, \"hadn't\": 2145, 'boxer': 2146, 'gorgeous': 2147, \"meanin'\": 2148, 'lucius': 2149, 'famous': 2150, 'don': 2151, 'manager': 2152, 'somehow': 2153, 'row': 2154, 'politics': 2155, 'agreement': 2156, 'fighting': 2157, 'sandwich': 2158, 'punches': 2159, 'energy': 2160, 'hobo': 2161, 'nudge': 2162, 'awed': 2163, 'managing': 2164, 'champ': 2165, 'release': 2166, 'weary': 2167, 'rounds': 2168, 'freak': 2169, 'remembering': 2170, 'fondly': 2171, 'worth': 2172, 'lover': 2173, 'radio': 2174, 'borrow': 2175, 'granted': 2176, 'helped': 2177, 'built': 2178, 'solid': 2179, 'routine': 2180, 'mate': 2181, 'chum': 2182, 'acquaintance': 2183, 'quality': 2184, 'fox_mulder:': 2185, 'began': 2186, 'discussing': 2187, 'scully': 2188, 'penny': 2189, \"money's\": 2190, 'asking': 2191, 'mob': 2192, 'steel': 2193, 'broadway': 2194, 'sodas': 2195, 'neither': 2196, 'christopher': 2197, 'shooting': 2198, 'bags': 2199, 'hunting': 2200, \"patrick's\": 2201, 'kicked': 2202, 'written': 2203, 'crossed': 2204, 'morose': 2205, 'bam': 2206, 'yelling': 2207, 'love-matic': 2208, 'peppy': 2209, 'passed': 2210, 'floated': 2211, 'sweeter': 2212, 'buried': 2213, 'naked': 2214, 'dismissive': 2215, 'karaoke': 2216, 'near': 2217, 'expert': 2218, 'spread': 2219, 'germs': 2220, 'cent': 2221, 'caused': 2222, 'pope': 2223, 'reach': 2224, 'draw': 2225, 'costume': 2226, 'labels': 2227, 'straining': 2228, 'conditioner': 2229, 'sweetheart': 2230, 'margarita': 2231, 'planning': 2232, 'vacation': 2233, 'chase': 2234, 'blues': 2235, 'manjula': 2236, \"countin'\": 2237, 'freedom': 2238, 'reaching': 2239, 'bubbles': 2240, 'ways': 2241, \"ma'am\": 2242, 'devastated': 2243, 'grave': 2244, 'mic': 2245, 'products': 2246, 'price': 2247, 'cake': 2248, 'churchill': 2249, 'purse': 2250, 'businessman_#1:': 2251, 'firmly': 2252, 'utility': 2253, 'creeps': 2254, 'roomy': 2255, 'european': 2256, 'plenty': 2257, 'yogurt': 2258, 'porn': 2259, 'thoughtfully': 2260, 'seats': 2261, 'highway': 2262, 'commission': 2263, 'yards': 2264, 'pride': 2265, 'beam': 2266, 'mail': 2267, 'bride': 2268, 'fabulous': 2269, 'due': 2270, 'roses': 2271, 'kidney': 2272, 'dropped': 2273, 'dearest': 2274, 'warily': 2275, 'placing': 2276, \"town's\": 2277, 'charity': 2278, 'railroad': 2279, 'coward': 2280, 'medicine': 2281, 'sudden': 2282, 'attack': 2283, 'yell': 2284, 'forgive': 2285, 'puts': 2286, 'joined': 2287, 'joining': 2288, 'although': 2289, \"pope's\": 2290, 'ironed': 2291, 'blown': 2292, 'involved': 2293, 'agent_johnson:': 2294, 'involving': 2295, 'bush': 2296, 'charlie': 2297, 'lazy': 2298, 'message': 2299, 'seriously': 2300, 'mop': 2301, 'stands': 2302, 'ocean': 2303, 'bathing': 2304, 'increasingly': 2305, 'organ': 2306, 'jockey': 2307, 'grumpy': 2308, 'crying': 2309, \"springfield's\": 2310, 'bigger': 2311, 'cotton': 2312, 'balls': 2313, '6': 2314, 'promised': 2315, 'vodka': 2316, 'gentleman:': 2317, 'celebrity': 2318, 'bubble': 2319, 'brave': 2320, 'deadly': 2321, 'correcting': 2322, 'scare': 2323, 'eyeball': 2324, 'catching': 2325, 'mess': 2326, 'bathroom': 2327, 'all-star': 2328, \"'topes\": 2329, 'excitement': 2330, 'inspiring': 2331, \"game's\": 2332, 'pitch': 2333, 'director': 2334, 'rumaki': 2335, 'sports_announcer:': 2336, 'pointless': 2337, 'conference': 2338, \"team's\": 2339, 'atlanta': 2340, 'falcons': 2341, 'mmm': 2342, 'foil': 2343, 'yup': 2344, 'beating': 2345, 'simp-sonnnn': 2346, 'acting': 2347, 'gang': 2348, 'choking': 2349, 'murmurs': 2350, 'yourselves': 2351, 'easier': 2352, 'curious': 2353, 'matter-of-fact': 2354, 'kyoto': 2355, 'sea': 2356, 'fritz': 2357, 'drawing': 2358, 'justice': 2359, 'patterns': 2360, 'lights': 2361, 'hawking:': 2362, \"hangin'\": 2363, 'putting': 2364, 'tentative': 2365, 'umm': 2366, 'heavyset': 2367, 'insulted': 2368, 'tommy': 2369, 'honor': 2370, 'duel': 2371, 'fevered': 2372, 'between': 2373, 'thesaurus': 2374, 'danish': 2375, 'joking': 2376, 'laws': 2377, 'held': 2378, 'knees': 2379, 'throwing': 2380, 'seas': 2381, 'eyesore': 2382, 'jeff': 2383, 'ugliest': 2384, 'white': 2385, 'gargoyle': 2386, 'brow': 2387, 'pleasant': 2388, 'mount': 2389, 'carlson': 2390, 'harder': 2391, 'nearly': 2392, 'wash': 2393, 'beats': 2394, 'tax': 2395, 'trusted': 2396, 'poem': 2397, 'planet': 2398, 'professor': 2399, 'disgrace': 2400, 'stationery': 2401, 'flying': 2402, 'tanked-up': 2403, 'certain': 2404, \"bar's\": 2405, 'queer': 2406, 'guide': 2407, 'calmly': 2408, 'befouled': 2409, 'broom': 2410, 'explain': 2411, 'unfortunately': 2412, 'reynolds': 2413, 'jerry': 2414, 'solo': 2415, 'lowering': 2416, 'sinister': 2417, 'onions': 2418, 'talked': 2419, 'frosty': 2420, 'voice:': 2421, 'helen': 2422, 'bible': 2423, 'medical': 2424, \"chewin'\": 2425, 'shock': 2426, 'satisfied': 2427, 'effigy': 2428, 'jobs': 2429, 'mention': 2430, 'smart': 2431, 'dee-fense': 2432, 'twice': 2433, 'schnapps': 2434, 'comic': 2435, 'klingon': 2436, 'mm': 2437, 'corporation': 2438, 'fresh': 2439, 'loss': 2440, 'smurfs': 2441, 'wake': 2442, 'disapproving': 2443, 'informant': 2444, 'goods': 2445, 'smugglers': 2446, 'voice_on_transmitter:': 2447, 'answering': 2448, 'mcbain': 2449, \"father's\": 2450, 'taps': 2451, 'jets': 2452, 'eventually': 2453, 'morlocks': 2454, 'liar': 2455, \"weren't\": 2456, 'naturally': 2457, 'shaggy': 2458, 'gun': 2459, 'passion': 2460, 'bartending': 2461, 'painting': 2462, 'expression': 2463, 'contest': 2464, 'potato': 2465, 'ayyy': 2466, 'tabooger': 2467, 'ollie': 2468, 'deliberate': 2469, 'century': 2470, 'formico:': 2471, 'formico': 2472, 'thanksgiving': 2473, 'tofu': 2474, 'curds': 2475, 'ambrosia': 2476, 'terrific': 2477, 'cookies': 2478, 'admiring': 2479, 'anywhere': 2480, 'eighty-seven': 2481, 'palm': 2482, 'actors': 2483, 'brewed': 2484, 'hop': 2485, 'juice': 2486, 'agree': 2487, 'grandiose': 2488, 'boyfriend': 2489, 'spy': 2490, 'superior': 2491, 'rainier_wolfcastle:': 2492, 'authorized': 2493, 'impatient': 2494, 'bottles': 2495, 'salt': 2496, 'windex': 2497, 'koi': 2498, 'pond': 2499, 'drown': 2500, 'surprise': 2501, 'wang': 2502, 'dating': 2503, 'sat': 2504, 'drank': 2505, 'i-i-i': 2506, 'force': 2507, 'badges': 2508, 'admitting': 2509, 'pian-ee': 2510, 'shoo': 2511, 'grab': 2512, \"'im\": 2513, 'dough': 2514, 'emotional': 2515, 'color': 2516, 'skin': 2517, 'alphabet': 2518, 'smug': 2519, 'louder': 2520, 'fuss': 2521, '1895': 2522, 'soap': 2523, 'aging': 2524, 'whenever': 2525, 'denser': 2526, 'disco': 2527, 'complaining': 2528, 'magazine': 2529, 'young_moe:': 2530, 'memory': 2531, 'amount': 2532, 'appointment': 2533, 'bird': 2534, 'decide': 2535, 'lush': 2536, 'cruel': 2537, 'david': 2538, 'wishes': 2539, 'cream': 2540, \"cat's\": 2541, 'nope': 2542, 'boozy': 2543, 'dessert': 2544, 'crumble': 2545, 'cooler': 2546, 'delivery_boy:': 2547, 'bastard': 2548, 'mona_simpson:': 2549, 'stevie': 2550, 'woozy': 2551, 'gifts': 2552, 'diamond': 2553, 'woman_bystander:': 2554, 'ziff': 2555, 'fold': 2556, 'achem': 2557, 'd': 2558, 'securities': 2559, 'exchange': 2560, 'sec_agent_#2:': 2561, 'investor': 2562, 'confidence': 2563, 'nerve': 2564, 'prison': 2565, 'standing': 2566, 'bedroom': 2567, 'value': 2568, 'shakespeare': 2569, 'watered-down': 2570, 'underpants': 2571, 'needy': 2572, 'kindly': 2573, 'funds': 2574, 'lap': 2575, \"what're\": 2576, 'bugging': 2577, 'seemed': 2578, 'wedding': 2579, 'missed': 2580, 'shoulder': 2581, 'department': 2582, 'violations': 2583, 'roof': 2584, 'shutting': 2585, \"'tis\": 2586, 'shrugs': 2587, \"beer's\": 2588, 'changes': 2589, 'conversation': 2590, 'hotline': 2591, 'dials': 2592, 'allowed': 2593, 'sleeps': 2594, 'quotes': 2595, 'therefore': 2596, 'regulars': 2597, 'skirt': 2598, 'prepared': 2599, 'trapped': 2600, 'rule': 2601, 'pint': 2602, 'judge_snyder:': 2603, 'ale': 2604, 'suds': 2605, 'cat': 2606, 'moe-clone:': 2607, 'attitude': 2608, 'weirder': 2609, 'jerky': 2610, 'record': 2611, 'bourbon': 2612, 'ginger': 2613, 'sissy': 2614, 'wrestling': 2615, 'forehead': 2616, 'barely': 2617, 'flag': 2618, 'attempting': 2619, \"takin'\": 2620, 'camp': 2621, 'cheat': 2622, 'haw': 2623, \"payin'\": 2624, 'known': 2625, 'bridge': 2626, 'museum': 2627, 'coins': 2628, 'jailbird': 2629, 'wangs': 2630, 'photo': 2631, 'shoots': 2632, 'louie:': 2633, 'reporter:': 2634, 'irish': 2635, \"drawin'\": 2636, 'marmaduke': 2637, \"waitin'\": 2638, 'fragile': 2639, 'wolfe': 2640, 'wordloaf': 2641, 'festival': 2642, 'fictional': 2643, \"what'sa\": 2644, 'fausto': 2645, 'action': 2646, 'pretending': 2647, 'abandon': 2648, 'airport': 2649, 'mortgage': 2650, \"ladies'\": 2651, 'dames': 2652, 'appealing': 2653, 'patient': 2654, 'weirded-out': 2655, 'fanciest': 2656, 'towed': 2657, 'eighty-one': 2658, 'joke': 2659, 'grandmother': 2660, 'bully': 2661, 'mixed': 2662, 'stir': 2663, 'positive': 2664, 'slight': 2665, 'latin': 2666, 'complaint': 2667, 'obvious': 2668, 'thighs': 2669, 'internet': 2670, 'media': 2671, 'disappeared': 2672, 'candidate': 2673, 'dennis_kucinich:': 2674, 'lurleen': 2675, 'lurleen_lumpkin:': 2676, 'rock': 2677, \"someone's\": 2678, 'hangs': 2679, 'sneaky': 2680, 'winnings': 2681, 'krabappel': 2682, 'difficult': 2683, 'discuss': 2684, 'compared': 2685, 'decent': 2686, 'doreen': 2687, 'doreen:': 2688, \"marge's\": 2689, 'available': 2690, 'bashir': 2691, 'arab_man:': 2692, 'dress': 2693, 'grimly': 2694, 'lock': 2695, 'combine': 2696, 'queen': 2697, 'multiple': 2698, 'prize': 2699, 'alfred': 2700, 'shower': 2701, 'tiny': 2702, 'slice': 2703, 'playful': 2704, \"wonderin'\": 2705, 'defeated': 2706, 'maya': 2707, 'whether': 2708, 'awww': 2709, 'rhyme': 2710, 'un-sults': 2711, 'courage': 2712, 'reviews': 2713, 'hibbert': 2714, 'banquo': 2715, 'thought_bubble_homer:': 2716, 'tries': 2717, 'wing': 2718, 'helllp': 2719, 'lovely': 2720, 'cozy': 2721, 'begins': 2722, 'torn': 2723, 'warn': 2724, 'possibly': 2725, 'stranger:': 2726, 'gator:': 2727, 'corporate': 2728, 'industry': 2729, 'awesome': 2730, 'decency': 2731, 'extremely': 2732, 'saint': 2733, 'type': 2734, 'is:': 2735, 'partly': 2736, 'golf': 2737, 'ball-sized': 2738, 'hail': 2739, 'continuing': 2740, 'electronic': 2741, 'zero': 2742, 'tale': 2743, 'restroom': 2744, 'rules': 2745, 'sitar': 2746, 'smallest': 2747, 'sympathetic': 2748, 'slightly': 2749, 'soup': 2750, 'padre': 2751, 'lloyd': 2752, 'candy': 2753, 'scary': 2754, 'beep': 2755, 'fox': 2756, 'strategy': 2757, 'answers': 2758, 'grienke': 2759, 'sport': 2760, 'doug:': 2761, 'sabermetrics': 2762, \"others'\": 2763, 'fixed': 2764, 'assistant': 2765, 'admiration': 2766, 'self-made': 2767, 'suspect': 2768, 'proposing': 2769, 'plans': 2770, 'hitler': 2771, 'dungeon': 2772, 'stern': 2773, 'waltz': 2774, 'suspicious': 2775, 'roz:': 2776, 'relieved': 2777, 'suing': 2778, 'therapist': 2779, 'skeptical': 2780, 'boneheaded': 2781, 'relationship': 2782, 'twin': 2783, 'dreamed': 2784, 'joey_kramer:': 2785, 'kramer': 2786, 'neighbor': 2787, 'completing': 2788, \"other's\": 2789, 'wayne': 2790, 'stealings': 2791, 'monkey': 2792, 'crew': 2793, \"children's\": 2794, 'underbridge': 2795, 'academy': 2796, 'neil_gaiman:': 2797, 'square': 2798, 'vulnerable': 2799, 'copy': 2800, 'trolls': 2801, 'vampires': 2802, \"hasn't\": 2803, 'lenny:': 2804, 'carl:': 2805, 'carll': 2806, 'website': 2807, 'safer': 2808, 'bedbugs': 2809, 'duty': 2810, 'intense': 2811, 'friendship': 2812, \"crawlin'\": 2813, 'maman': 2814, 'failed': 2815, 'lise:': 2816, 'marguerite:': 2817, 'cheese': 2818, 'degradation': 2819, 'violin': 2820, 'heading': 2821, 'raccoons': 2822, 'filled': 2823, 'rolled': 2824, 'trench': 2825, 'frog': 2826, 'poker': 2827, 'cowardly': 2828, 'outlook': 2829, 'motorcycle': 2830, 'ripcord': 2831, 'reached': 2832, 'so-called': 2833, '7-year-old_brockman:': 2834, 'muttering': 2835, 'plywood': 2836, 'hats': 2837, 'civilization': 2838, 'anarchy': 2839, 'w': 2840, \"readin'\": 2841, 'chicks': 2842, 'wooden': 2843, 'deacon': 2844, 'priest': 2845, 'important': 2846, 'vacuum': 2847, 'cleaner': 2848, 'tie': 2849, 'belong': 2850, 'dreams': 2851, 'elephants': 2852, 'brothers': 2853, 'wings': 2854, 'spied': 2855, 'bump': 2856, 'reliable': 2857, 'superhero': 2858, 'pigs': 2859, 'refresh': 2860, 'express': 2861, 'mall': 2862, 'santa': 2863, 'page': 2864, 'brassiest': 2865, 'nickels': 2866, 'laney_fontaine:': 2867, 'craphole': 2868, 'smile:': 2869, 'baritone': 2870, 'africa': 2871, 'snorts': 2872, 'wa': 2873, 'scrape': 2874, 'nigeria': 2875, 'level': 2876, 'nigerian': 2877, 'princesses': 2878, 'familiar': 2879, 'yawns': 2880, 'stuck': 2881, 'scooter': 2882, 'aged_moe:': 2883, 'teenage_homer:': 2884, 'grade': 2885, \"homer's_brain:\": 2886, 'punk': 2887, 'someday': 2888, 'boxing_announcer:': 2889, \"monroe's\": 2890, 'thru': 2891, 'koholic': 2892, \"dyin'\": 2893, 'tv_announcer:': 2894, 'patty': 2895, 'elite': 2896, 'enhance': 2897, 'skills': 2898, 'politician': 2899, \"neighbor's\": 2900, 'right-handed': 2901, 'corkscrews': 2902, 'homer_': 2903, \"cont'd:\": 2904, 'led': 2905, 'richer': 2906, 'county': 2907, 'faces': 2908, 'profiling': 2909, 'paper': 2910, \"depressin'\": 2911, 'crisis': 2912, 'pictured': 2913, 'underwear': 2914, 'jury': 2915, 'lawyer': 2916, 'pretzel': 2917, 'patrons:': 2918, 'foam': 2919, 'spare': 2920, 'stiffening': 2921, 'trenchant': 2922, 'disappointing': 2923, 'jer': 2924, 'grudgingly': 2925, 'reed': 2926, 'whoo': 2927, 'instrument': 2928, 'sunk': 2929, 'patrons': 2930, 'figure': 2931, 'healthier': 2932, 'increased': 2933, 'togetherness': 2934, 'poison': 2935, 'purveyor': 2936, 'mind-numbing': 2937, 'intoxicants': 2938, 'unfamiliar': 2939, 'tonic': 2940, 'mix': 2941, 'bowie': 2942, 'nickel': 2943, 'coughs': 2944, 'phlegm': 2945, 'looser': 2946, 'sneeze': 2947, 'guard': 2948, 'chuckling': 2949, 'crowded': 2950, 'cracked': 2951, 'accepting': 2952, 'stamps': 2953, 'combination': 2954, 'patron_#1:': 2955, 'patron_#2:': 2956, 'store-bought': 2957, 'drollery': 2958, 'application': 2959, 'ons': 2960, 'salary': 2961, 'wage': 2962, 'meaningfully': 2963, 'fringe': 2964, 'unforgettable': 2965, 'weekend': 2966, 'vacations': 2967, 'someplace': 2968, 'moxie': 2969, 'methinks': 2970, 'bannister': 2971, \"mcstagger's\": 2972, 'emporium': 2973, 'composite': 2974, 'logos': 2975, 'mozzarella': 2976, 'proposition': 2977, 'chain': 2978, 'recipe': 2979, 'dice': 2980, 'sweat': 2981, 'dies': 2982, 'delivery_man:': 2983, 'cases': 2984, 'hooked': 2985, 'waitress': 2986, 'pursue': 2987, 'hundreds': 2988, 'thousands': 2989, 'cuz': 2990, \"duff's\": 2991, 'information': 2992, 'motto': 2993, 'full-time': 2994, 'swine': 2995, 'germany': 2996, 'east': 2997, 'west': 2998, 'cleveland': 2999, 'browns': 3000, 'monkeyshines': 3001, 'kinds': 3002, 'resist': 3003, 'musses': 3004, 'today/': 3005, 'marvelous': 3006, 'play/': 3007, 'trees': 3008, 'sees/': 3009, 'please/': 3010, 'picnic': 3011, 'pip': 3012, 'mirthless': 3013, 'damned': 3014, 'reptile': 3015, 'saucy': 3016, 'sieben-gruben': 3017, '7g': 3018, 'terminated': 3019, 'example': 3020, 'sing-song': 3021, 'heavens': 3022, 'stamp': 3023, 'slays': 3024, 'terror': 3025, 'determined': 3026, 'freshened': 3027, 'hourly': 3028, 'provide': 3029, 'coyly': 3030, 'h': 3031, 'justify': 3032, 'england': 3033, 'modest': 3034, 'malibu': 3035, 'stacey': 3036, 'kitchen': 3037, 'prints': 3038, 'feminist': 3039, 'newsletter': 3040, 'daaaaad': 3041, 'grumbling': 3042, 'usual': 3043, 'wad': 3044, 'bills': 3045, 'thirty-five': 3046, 'sagely': 3047, 'sweaty': 3048, 'son-of-a': 3049, \"ma's\": 3050, 'norway': 3051, 'brunch': 3052, 'spectacular': 3053, 'baloney': 3054, 'gotcha': 3055, 'eminence': 3056, 'bookie': 3057, \"bettin'\": 3058, 'football': 3059, 'forty-five': 3060, 'pre-game': 3061, 'actor': 3062, 'mcclure': 3063, 'sitcom': 3064, 'premiering': 3065, 'coincidentally': 3066, \"show's\": 3067, 'criminal': 3068, 'fell': 3069, 'script': 3070, 'recent': 3071, 'irs': 3072, 'sealed': 3073, \"drexel's\": 3074, 'kickoff': 3075, 'kicks': 3076, 'position': 3077, 'gambler': 3078, 'score': 3079, 'fourteen:': 3080, 'duff_announcer:': 3081, 'half-back': 3082, 'beer-dorf': 3083, 'ticks': 3084, 'scores': 3085, \"fans'll\": 3086, 'looting': 3087, 'lone': 3088, 'handoff': 3089, 'twenty-nine': 3090, 'scratching': 3091, 'chin': 3092, 'stinky': 3093, 'sniffing': 3094, \"england's\": 3095, 'boggs': 3096, 'scornfully': 3097, 'exploiter': 3098, 'ignorant': 3099, \"jackpot's\": 3100, 'spitting': 3101, 'boozehound': 3102, \"singin'\": 3103, 'young_barfly:': 3104, 'moonnnnnnnn': 3105, 'quarter': 3106, 'hillbillies': 3107, 'blind': 3108, \"smokin'\": 3109, 'cummerbund': 3110, 'tight': 3111, 'furniture': 3112, 'frazier': 3113, 'washer': 3114, 'religious': 3115, 'maximum': 3116, 'occupancy': 3117, 'slick': 3118, 'kneeling': 3119, 'unattractive': 3120, 'wheeeee': 3121, 'cutest': 3122, 'larson': 3123, 'sponsoring': 3124, 'regulations': 3125, 'advertising': 3126, 'smokes': 3127, 'carolina': 3128, 'crowned': 3129, 'host': 3130, 'maitre': 3131, \"d'\": 3132, 'glee': 3133, 'heartily': 3134, 'event': 3135, 'tv_daughter:': 3136, 'smoker': 3137, 'enter': 3138, 'blimp': 3139, 'scientists': 3140, \"bo's\": 3141, 'cavern': 3142, 'mobile': 3143, 'starving': 3144, 'dogs': 3145, 'rusty': 3146, 'dull': 3147, 'spilled': 3148, 'ashtray': 3149, 'slurps': 3150, 'captain:': 3151, 'freed': 3152, 'iranian': 3153, 'hostages': 3154, \"sat's\": 3155, 'wishing': 3156, 'diaper': 3157, 'ronstadt': 3158, 'linda_ronstadt:': 3159, 'kl5-4796': 3160, '/mr': 3161, 'boozer': 3162, 'intelligent': 3163, 'lachrymose': 3164, 'dyspeptic': 3165, 'ebullient': 3166, 'harvard': 3167, 'silent': 3168, 'admirer': 3169, 'snide': 3170, 'moesy': 3171, 'worthless': 3172, 'rub-a-dub': 3173, 'anthony_kiedis:': 3174, 'thirty-thousand': 3175, 'audience': 3176, 'restless': 3177, 'chili': 3178, 'peppers': 3179, 'klown': 3180, 'flea:': 3181, 'gig': 3182, 'problemo': 3183, \"wallet's\": 3184, 'stares': 3185, 'miss_lois_pennycandy:': 3186, 'ruby-studded': 3187, 'johnny_carson:': 3188, 'undies': 3189, '50%': 3190, 'sales': 3191, 'sweetest': 3192, 'entertainer': 3193, 'crowds': 3194, 'wild': 3195, 'farewell': 3196, 'shop': 3197, 'theatrical': 3198, 'distaste': 3199, 'officer': 3200, 'replace': 3201, 'nahasapeemapetilon': 3202, 'fit': 3203, 'marquee': 3204, 'luv': 3205, 'du': 3206, 'beaumarchais': 3207, 'dishonor': 3208, 'ancestors': 3209, 'applicant': 3210, 'killarney': 3211, 'mither': 3212, 'sang': 3213, 'tones': 3214, 'soft': 3215, 'swe-ee-ee-ee-eet': 3216, 'my-y-y-y-y-y': 3217, 'hanh': 3218, 'sounded': 3219, 'kako:': 3220, 'floating': 3221, 'perfume': 3222, \"man's\": 3223, 'hat': 3224, 'phasing': 3225, 'schabadoo': 3226, 'attracted': 3227, 'reciting': 3228, 'infatuation': 3229, 'physical': 3230, 'attraction': 3231, 'common': 3232, 'napkins': 3233, 'vigilante': 3234, 'handshake': 3235, 'eightball': 3236, 'twelveball': 3237, 'aboard': 3238, 'nooo': 3239, 'file': 3240, 'fiiiiile': 3241, 'necessary': 3242, 'astronauts': 3243, 'introduce': 3244, 'evils': 3245, 'unfair': 3246, 'wobble': 3247, 'caholic': 3248, 'pee': 3249, 'freely': 3250, 'crotch': 3251, 'ivanna': 3252, 'fondest': 3253, 'desire': 3254, 'invisible': 3255, 'donut': 3256, 'sacrilicious': 3257, 'indecipherable': 3258, 'goo': 3259, 'ideal': 3260, 'thoughtless': 3261, 'remain': 3262, 'nameless': 3263, 'spite': 3264, 'clips': 3265, 'awfully': 3266, 'flustered': 3267, \"ball's\": 3268, 'slender': 3269, 'feminine': 3270, 'tapered': 3271, 'lighter': 3272, 'delicate': 3273, 'brunswick': 3274, 'bowled': 3275, 'shifty': 3276, 'eyed': 3277, 'genuinely': 3278, 'enthused': 3279, 'patting': 3280, 'flames': 3281, \"burnin'\": 3282, 'soaked': 3283, \"messin'\": 3284, 'banned': 3285, 'sugar-me-do': 3286, 'caricature': 3287, 'mt': 3288, 'lushmore': 3289, 'juke': 3290, 'raining': 3291, 'oww': 3292, 'jokes': 3293, 'incognito': 3294, 'gr-aargh': 3295, 'exact': 3296, 'equal': 3297, 'astonishment': 3298, 'puffy': 3299, 'however': 3300, 'confidentially': 3301, 'collateral': 3302, 'shark': 3303, 'finance': 3304, 'sledge-hammer': 3305, 'othello': 3306, 'drinker': 3307, 'sensible': 3308, 'presently': 3309, 'beast': 3310, 'savagely': 3311, 'tender': 3312, 'scout': 3313, 'arrested:': 3314, 'heather': 3315, 'locklear': 3316, 'fortensky': 3317, 'hugh': 3318, 'cuff': 3319, 'links': 3320, 'traditions': 3321, 'enthusiasm': 3322, 'other_player:': 3323, \"fightin'\": 3324, 'dizzy': 3325, 'nauseous': 3326, 'female_inspector:': 3327, 'toxins': 3328, 'pumping': 3329, 'steely-eyed': 3330, 'ahhhh': 3331, 'rascals': 3332, 'smelly': 3333, 'shtick': 3334, 'faceful': 3335, 'soot': 3336, 'william': 3337, 'faulkner': 3338, 'aggie': 3339, 'director:': 3340, 'stagehand:': 3341, 'luckily': 3342, 'orphan': 3343, 'owned': 3344, 'assent': 3345, 'wealthy': 3346, 'merchants': 3347, 'forgiven': 3348, 'prices': 3349, 'flailing': 3350, 'agh': 3351, 'little_hibbert_girl:': 3352, 'mmm-hmm': 3353, 'cheesecake': 3354, 'depository': 3355, 'all-american': 3356, 'cooking': 3357, 'chairman': 3358, 'wok': 3359, 'relaxing': 3360, 'madman': 3361, 'cooker': 3362, 'feedbag': 3363, \"fryer's\": 3364, 'navy': 3365, 'flash-fry': 3366, 'whining': 3367, \"g'on\": 3368, 'extinguishers': 3369, 'cheering': 3370, \"aren'tcha\": 3371, '50-60': 3372, 'mistakes': 3373, 'mistresses': 3374, 'quimby_#2:': 3375, 'quimbys:': 3376, 'bell': 3377, 'support': 3378, 'prejudice': 3379, 'hero-phobia': 3380, 'sickens': 3381, 'jubilation': 3382, 'committee': 3383, 'vicious': 3384, 'distract': 3385, 'safely': 3386, 'choices:': 3387, 'barney-guarding': 3388, 'contemplated': 3389, 'truck_driver:': 3390, 'dracula': 3391, 'marry': 3392, 'jovial': 3393, 'sickly': 3394, 'ura': 3395, 'snotball': 3396, '70': 3397, 'voyager': 3398, 'craft': 3399, \"tab's\": 3400, '14': 3401, 'alls': 3402, 'halfway': 3403, 'muscle': 3404, \"wino's\": 3405, 'muffled': 3406, 'inches': 3407, 'bullet-proof': 3408, 'student': 3409, 'aggravazes': 3410, 'immiggants': 3411, 'bothered': 3412, 'language': 3413, 'sentimonies': 3414, \"jimbo's_dad:\": 3415, \"dolph's_dad:\": 3416, 'throws': 3417, 'ugh': 3418, \"kearney's_dad:\": 3419, \"somethin's\": 3420, \"fun's\": 3421, 'two-drink': 3422, 'punishment': 3423, 'three-man': 3424, \"poundin'\": 3425, \"kid's\": 3426, 'beatings': 3427, 'spirit': 3428, 'prizefighters': 3429, 'perking': 3430, 'boxers': 3431, 'lobster': 3432, 'dressing': 3433, 'limits': 3434, 'arise': 3435, 'clincher': 3436, 'sixty': 3437, 'wantcha': 3438, 'faith': 3439, '1979': 3440, 'office': 3441, 'presentable': 3442, 'gruesome': 3443, 'democrats': 3444, 'causes': 3445, 'damage': 3446, 'boxcar': 3447, 'brawled': 3448, 'boxcars': 3449, 'fighter': 3450, 'mitts': 3451, 'barbed': 3452, 'stinger': 3453, 'drawn': 3454, \"tramp's\": 3455, 'stops': 3456, 'punching': 3457, \"'cept\": 3458, 'bindle': 3459, \"now's\": 3460, 'delightful': 3461, 'glitterati': 3462, 'highest': 3463, 'priority': 3464, 'temporarily': 3465, 'incarcerated': 3466, 'pushing': 3467, 'stairs': 3468, 'impending': 3469, 'strategizing': 3470, 'glorious': 3471, 'shores': 3472, 'fistiana': 3473, 'comeback': 3474, \"donatin'\": 3475, 'stalwart': 3476, 'pugilist': 3477, 'fights': 3478, 'sustain': 3479, 'verticality': 3480, \"tatum'll\": 3481, 'fustigate': 3482, 'fustigation': 3483, 'choice:': 3484, 'faded': 3485, 'tar-paper': 3486, 'naively': 3487, 'champion': 3488, 'evasive': 3489, 'charged': 3490, 'landfill': 3491, 'burg': 3492, 'pussycat': 3493, 'doll-baby': 3494, 'starla': 3495, 'starla:': 3496, 'wigs': 3497, \"starla's\": 3498, 'temp': 3499, 'k-zug': 3500, \"'kay-zugg'\": 3501, '530': 3502, 'launch': 3503, 'demo': 3504, 'housework': 3505, 'self-centered': 3506, 'though:': 3507, 'thawing': 3508, 'station': 3509, 'sink': 3510, 'broken:': 3511, 'foundation': 3512, 'helpful': 3513, 'crony': 3514, 'sam:': 3515, 'sympathizer': 3516, 'bumblebee_man:': 3517, 'compadre': 3518, 'kearney_zzyzwicz:': 3519, 'associate': 3520, 'contemporary': 3521, 'well-wisher': 3522, 'specific': 3523, 'harm': 3524, 'friday': 3525, 'dã¼ff': 3526, 'doof': 3527, 'sweden': 3528, 'skoal': 3529, 'nasty': 3530, 'refreshing': 3531, 'breathalyzer': 3532, 'recreate': 3533, 'alien': 3534, 'wittgenstein': 3535, 'backgammon': 3536, 'dana_scully:': 3537, 'felony': 3538, 'packets': 3539, 'mustard': 3540, \"fine-lookin'\": 3541, 'remorseful': 3542, 'anyhow': 3543, 'agents': 3544, 'mulder': 3545, 'edgy': 3546, \"s'cuse\": 3547, 'dimly': 3548, 'generously': 3549, 'raking': 3550, 'nervously': 3551, 'syndicate': 3552, 'ambrose': 3553, 'burnside': 3554, 'stonewall': 3555, 'jackson': 3556, 'mill': 3557, \"industry's\": 3558, 'aerospace': 3559, 'railroads': 3560, 'knowingly': 3561, 'hoped': 3562, \"bart'd\": 3563, 'mystery': 3564, \"swishifyin'\": 3565, 'effect': 3566, \"mtv's\": 3567, 'lessee': 3568, \"shootin'\": 3569, \"man'd\": 3570, 'wars': 3571, 'warren': 3572, 'grandkids': 3573, 'considers': 3574, 'st': 3575, 'metal': 3576, 'busiest': 3577, 'cheapskates': 3578, 'ireland': 3579, 'menacing': 3580, 'yew': 3581, 'bathtub': 3582, 'mint': 3583, 'julep': 3584, 'jane': 3585, 'fonda': 3586, 'daniel': 3587, 'schorr': 3588, 'anderson': 3589, 'richard': 3590, \"nixon's\": 3591, 'expecting': 3592, 'chauffeur': 3593, 'lift': 3594, \"washin'\": 3595, 'desperately': 3596, 'belly-aching': 3597, 'wh': 3598, 'abe': 3599, 'dea-d-d-dead': 3600, 'stooges': 3601, 'shopping': 3602, 'cans': 3603, 'wise': 3604, 'socratic': 3605, 'swelling': 3606, 'mushy': 3607, 'hearts': 3608, 'pinball': 3609, 'western': 3610, 'dishrag': 3611, 'crab': 3612, 'talkers': 3613, 'jewish': 3614, 'catch-phrase': 3615, 'grrrreetings': 3616, 'darn': 3617, \"tootin'\": 3618, 'fink': 3619, 'ping-pong': 3620, 'plug': 3621, \"usin'\": 3622, \"phone's\": 3623, 'four-drink': 3624, 'test-': 3625, 'test-lady': 3626, \"g'ahead\": 3627, 'clammy': 3628, 'lovelorn': 3629, 'you-need-man': 3630, 'moe-near-now': 3631, 'go-near-': 3632, 'endorsement': 3633, 'breakfast': 3634, 'rush': 3635, \"'evening\": 3636, \"'morning\": 3637, 'chauffeur:': 3638, '91': 3639, 'accidents': 3640, 'choose': 3641, 'whoever': 3642, 'stays': 3643, 'noooooooooo': 3644, 'pantsless': 3645, 'duffed': 3646, 'creates': 3647, 'awareness': 3648, 'bottomless': 3649, 'cheerleaders:': 3650, 'and:': 3651, 'perfunctory': 3652, 'brusque': 3653, 'ehhh': 3654, 'swell': 3655, 'wholeheartedly': 3656, 'supports': 3657, 'shaky': 3658, 'lecture': 3659, 'villanova': 3660, 'streetcorner': 3661, 'anger': 3662, 'ought': 3663, 'parasol': 3664, 'congratulations': 3665, 'cockroach': 3666, 'displeased': 3667, 'man_at_bar:': 3668, \"scammin'\": 3669, 'easter': 3670, 'giant': 3671, 'rumor': 3672, 'depression': 3673, 'depressant': 3674, 'sight-unseen': 3675, 'twenty-four': 3676, 'chipper': 3677, 'dirge-like': 3678, 'blooded': 3679, 'bachelorhood': 3680, 'jasper_beardly:': 3681, 'hot-rod': 3682, 'souped': 3683, 'gear-head': 3684, 'six-barrel': 3685, 'hollye': 3686, 'carb': 3687, 'betcha': 3688, 'edelbrock': 3689, 'intakes': 3690, 'meyerhof': 3691, 'lifters': 3692, 'dignity': 3693, 'breakdown': 3694, 'society': 3695, 'dateline:': 3696, 'burglary': 3697, 'creature': 3698, 'intoxicated': 3699, 'marjorie': 3700, 'heart-broken': 3701, 'sweater': 3702, 'cajun': 3703, 'sneering': 3704, 'choke': 3705, 'enthusiastically': 3706, 'stomach': 3707, 'bushes': 3708, 'tapping': 3709, 'further': 3710, 'zinged': 3711, 'spews': 3712, 'orifice': 3713, 'indifference': 3714, 'clapping': 3715, \"hawkin'\": 3716, 'vincent': 3717, \"floatin'\": 3718, 'horrors': 3719, 'unfresh': 3720, 'winston': 3721, 'wienerschnitzel': 3722, 'madison': 3723, 'avenue': 3724, 'robbers': 3725, 'various': 3726, 'impeach': 3727, 'crooks': 3728, 'allowance': 3729, 'cats': 3730, '$42': 3731, 'bury': 3732, 'businessman_#2:': 3733, 'boston': 3734, 'suits': 3735, 'vehicle': 3736, 'oooo': 3737, 'ignoring': 3738, 'followed': 3739, 'begging': 3740, 'combines': 3741, 'handling': 3742, 'rugged': 3743, 'driveability': 3744, 'sturdy': 3745, '4x4': 3746, \"ya'\": 3747, 'cadillac': 3748, 'automobiles': 3749, 'beefs': 3750, 'fat-free': 3751, 'th-th-th-the': 3752, 'groan': 3753, 'jay:': 3754, 'shoulda': 3755, 'shill': 3756, 'indifferent': 3757, '35': 3758, 'hammer': 3759, 'country-fried': 3760, 'endorsed': 3761, 'federal': 3762, 'ruled': 3763, 'unsafe': 3764, 'chorus:': 3765, 'lanes': 3766, 'sixty-five': 3767, 'tons': 3768, 'unexplained': 3769, 'fires': 3770, 'courts': 3771, 'blinds': 3772, 'squirrel': 3773, 'squashing': 3774, \"smackin'\": 3775, 'canyoner-oooo': 3776, 'hyahh': 3777, 'blissful': 3778, 'hiding': 3779, 'rash': 3780, 'whatchacallit': 3781, 'homesick': 3782, 'diving': 3783, 'tourist': 3784, 'pennies': 3785, 'micronesian': 3786, 'swamp': 3787, 'mirror': 3788, 'puke-pail': 3789, \"fendin'\": 3790, 'starlets': 3791, 'pointy': 3792, 'ugliness': 3793, 'dozen': 3794, 'ram': 3795, 'players': 3796, 'maxed': 3797, 'tenuous': 3798, 'pinchpenny': 3799, 'besides': 3800, 'tabs': 3801, 'ungrateful': 3802, 'ingrates': 3803, \"renee's\": 3804, 'insured': 3805, 'wreck': 3806, 'awkwardly': 3807, 'insist': 3808, 'model': 3809, 'represents': 3810, 'olive': 3811, \"car's\": 3812, 'toy': 3813, 'waterfront': 3814, \"department's\": 3815, 'moonlight': 3816, 'cruise': 3817, 'righ': 3818, 'alibi': 3819, 'tracks': 3820, '10:15': 3821, 'wham': 3822, 'insurance': 3823, 'clams': 3824, 'troubles': 3825, 'betrayed': 3826, 'low-life': 3827, 'y-you': 3828, 'hmf': 3829, 'locked': 3830, 'clearing': 3831, 'graveyard': 3832, 'we-we-we': 3833, 'brandy': 3834, 'fwooof': 3835, 'hawaii': 3836, 'yelp': 3837, 'murderously': 3838, 'oh-ho': 3839, \"g'night\": 3840, 'mommy': 3841, 'sincerely': 3842, 'tearfully': 3843, 'beady': 3844, \"homer'll\": 3845, 'naval': 3846, 'strictly': 3847, 'forbids': 3848, 'hah': 3849, 'thorn': 3850, 'grants': 3851, 'wondered': 3852, \"that'd\": 3853, 'heatherton': 3854, 'tempting': 3855, 'agent_miller:': 3856, 'flashing': 3857, 'badge': 3858, 'united': 3859, 'states': 3860, 'wiping': 3861, 'signal': 3862, 'activity': 3863, 'cause': 3864, 'commit': 3865, 'crimes': 3866, 'fired': 3867, 'moonshine': 3868, 'basement': 3869, 'telemarketing': 3870, 'uhhhh': 3871, 'george': 3872, 'seething': 3873, 'charlie:': 3874, 'militia': 3875, 'sorts': 3876, 'officials': 3877, 'drag': 3878, 'high-definition': 3879, 'conspiracy': 3880, 'musta': 3881, 'ratted': 3882, 'transmission': 3883, 'disaster': 3884, 'wishful': 3885, 'elect': 3886, 'vengeful': 3887, 'slogan': 3888, 'appeals': 3889, 'slobs': 3890, 'triumphantly': 3891, 'u2:': 3892, 'sanitation': 3893, 'blokes': 3894, 'courteous': 3895, 'easygoing': 3896, 'the_edge:': 3897, 'overflowing': 3898, 'bono:': 3899, 'arse': 3900, 'knocks': 3901, 'omit': 3902, 'detail': 3903, 'spellbinding': 3904, 'thomas': 3905, 'dictating': 3906, 'fluoroscope': 3907, 'repeating': 3908, 'telegraph': 3909, 'breathless': 3910, 'firm': 3911, 'believer': 3912, 'fletcherism': 3913, 'heliotrope': 3914, 'alva': 3915, 'wore': 3916, 'pajamas': 3917, 'rubs': 3918, 'temples': 3919, 'menlo': 3920, 'tasimeter': 3921, 'ore': 3922, 'separator': 3923, 'watt': 3924, 'steam': 3925, 'engine': 3926, 'unusually': 3927, 'focused': 3928, 'squeal': 3929, 'waste': 3930, \"somebody's\": 3931, 'gus': 3932, 'yoink': 3933, 'peeved': 3934, 'citizens': 3935, 'murdered': 3936, 'watered': 3937, 'highball': 3938, 'derisive': 3939, 'grocery': 3940, 'absorbent': 3941, 'youuu': 3942, 'ointment': 3943, 'aisle': 3944, 'coy': 3945, 'kim_basinger:': 3946, 'alec_baldwin:': 3947, 'ron_howard:': 3948, 'statesmanlike': 3949, 'doctor': 3950, 'polenta': 3951, 'life-threatening': 3952, 'donor': 3953, 'sucker': 3954, 'lists': 3955, 'spine': 3956, 'vestigial': 3957, 'plaintive': 3958, 'buttocks': 3959, 'harvesting': 3960, 'eyeing': 3961, 'hostile': 3962, \"'round\": 3963, 'y': 3964, 'dime': 3965, 'quimby': 3966, 'puke-holes': 3967, 'reserved': 3968, 'cronies': 3969, 'dã¼ffenbraus': 3970, 'semi-imported': 3971, 'guzzles': 3972, 'generosity': 3973, 'greatly': 3974, 'appreciated': 3975, 'stagey': 3976, 'roach': 3977, 'hubub': 3978, 'sniper': 3979, 'blessing': 3980, 'disguise': 3981, 'ruuuule': 3982, 'die-hard': 3983, 'winded': 3984, \"brockman's\": 3985, 'microphone': 3986, 'woooooo': 3987, 'ga': 3988, 'ninth': 3989, 'outs': 3990, 'j': 3991, \"'s\": 3992, 'jumping': 3993, 'technical': 3994, 'stan': 3995, 'kadlubowski': 3996, 'injury': 3997, \"football's\": 3998, 'champs': 3999, 'harrowing': 4000, 'enjoys': 4001, 'scornful': 4002, 'bronco': 4003, 'nagurski': 4004, 'reconsidering': 4005, 'coupon': 4006, 'travel': 4007, 'agency': 4008, 'charter': 4009, 'dreamily': 4010, 'quarterback': 4011, 'wally': 4012, 'it:': 4013, 'count': 4014, 'broncos': 4015, 'hillary': 4016, 'adventure': 4017, 'assassination': 4018, 'scarf': 4019, 'lance': 4020, 'supervising': 4021, 'bumbling': 4022, 'sidekick': 4023, 'infiltrate': 4024, 'idiots': 4025, 'destroyed': 4026, 'shipment': 4027, 'indeedy': 4028, 'insulin': 4029, 'haplessly': 4030, \"spaghetti-o's\": 4031, 'dum-dum': 4032, 'unintelligent': 4033, 'shutup': 4034, 'diminish': 4035, 'bid': 4036, 'encore': 4037, 'encores': 4038, 'reactions': 4039, 'clap': 4040, 'erasers': 4041, 'sideshow_mel:': 4042, 'barbara': 4043, 'arts': 4044, 'stalking': 4045, 'bumped': 4046, 'sympathy': 4047, 'guiltily': 4048, 'maude': 4049, 'shriners': 4050, 'old_jewish_man:': 4051, 'traitor': 4052, 'astrid': 4053, 'dealer': 4054, 'gunter': 4055, 'cecil': 4056, 'hampstead-on-cecil-cecil': 4057, 'eurotrash': 4058, 'gunter:': 4059, 'adrift': 4060, 'decadent': 4061, 'luxury': 4062, 'meaningless': 4063, 'located': 4064, 'cecil_terwilliger:': 4065, 'hotel': 4066, 'practice': 4067, 'affectations': 4068, 'bon': 4069, 'soir': 4070, 'feld': 4071, 'priceless': 4072, 'sketch': 4073, 'certificate': 4074, 'authenticity': 4075, 'sketching': 4076, 'twelve-step': 4077, 'novelty': 4078, 'item': 4079, 'chosen': 4080, 'squadron': 4081, '8': 4082, 'monday': 4083, 'municipal': 4084, 'fortress': 4085, 'vengeance': 4086, 'studied': 4087, 'fastest': 4088, 'theory': 4089, 'donut-shaped': 4090, 'universe': 4091, 'intriguing': 4092, 'computer_voice_2:': 4093, 'larry': 4094, 'flynt': 4095, 'stink': 4096, \"hell's\": 4097, 'jazz': 4098, 'regretted': 4099, 'helpless': 4100, 'frescas': 4101, 'hushed': 4102, \"bladder's\": 4103, 'urine': 4104, 'demand': 4105, 'slaps': 4106, 'extreme': 4107, 'slapped': 4108, \"duelin'\": 4109, 'shack': 4110, \"b-52's:\": 4111, 'sat-is-fac-tion': 4112, 'feat': 4113, 'forgotten': 4114, 'depressed': 4115, 'shred': 4116, 'shreda': 4117, 'rivalry': 4118, 'spreads': 4119, 'wildfever': 4120, 'th': 4121, 'writer:': 4122, 'preparation': 4123, 'additional-seating-capacity': 4124, 'ivy-covered': 4125, 'founded': 4126, 'kegs': 4127, 'imported-sounding': 4128, 'tuborg': 4129, 'kings': 4130, 'accounta': 4131, 'sun': 4132, 'sky': 4133, 'sail': 4134, 'waters': 4135, 'theme': 4136, 'tyson/secretariat': 4137, 'wildest': 4138, 'calendars': 4139, 'liquor': 4140, 'examines': 4141, 'expired': 4142, '1973': 4143, 'rhode': 4144, 'signed': 4145, 'updated': 4146, 'poster': 4147, 'moe-lennium': 4148, 'sticker': 4149, 'viva': 4150, 'relative': 4151, 'stickers': 4152, 'uglier': 4153, 'pigtown': 4154, 'cauliflower': 4155, 'ear': 4156, 'lizard': 4157, 'caveman': 4158, 'snout': 4159, 'emphasis': 4160, 'maher': 4161, 'crapmore': 4162, 'kisser': 4163, 'spotting': 4164, 'windowshade': 4165, 'grope': 4166, 'softer': 4167, 'complicated': 4168, 'maintenance': 4169, \"neat's-foot\": 4170, 'hooters': 4171, 'wraps': 4172, 'crushed': 4173, 'hike': 4174, 'mabel': 4175, 'voted': 4176, 'chastity': 4177, 'bono': 4178, 'influence': 4179, 'glummy': 4180, 'shindig': 4181, 'videotaped': 4182, 'slot': 4183, 'package': 4184, 'tha': 4185, 'occasion': 4186, 'older': 4187, 'flew': 4188, 'upsetting': 4189, 'stage': 4190, 'talkative': 4191, 'coherent': 4192, 'yourse': 4193, 'soaking': 4194, 'shag': 4195, 'disgracefully': 4196, 'presents': 4197, 'without:': 4198, 'morning-after': 4199, 'boozebag': 4200, 'whirlybird': 4201, 'b-day': 4202, 'punkin': 4203, 'tanking': 4204, \"handwriting's\": 4205, 'afloat': 4206, 'santeria': 4207, 'breaks': 4208, 'straighten': 4209, 'finish': 4210, 'suspiciously': 4211, 'world-class': 4212, 'alcoholism': 4213, 'raging': 4214, 'barney-type': 4215, 'bad-mouth': 4216, 'catty': 4217, 'consulting': 4218, 'amends': 4219, 'disgraceful': 4220, 'behavior': 4221, 'barstools': 4222, 'closet': 4223, 'drop-off': 4224, 'bulletin': 4225, 'broken': 4226, 'trapping': 4227, 'youngsters': 4228, 'trucks': 4229, 'unavailable': 4230, 'blaze': 4231, 'burt_reynolds:': 4232, 'feisty': 4233, 'supreme': 4234, 'court': 4235, 'birth': 4236, 'competing': 4237, 'cross-country': 4238, 'race': 4239, 'flown': 4240, 'heroism': 4241, 'charges': 4242, 'binoculars': 4243, 'grieving': 4244, 'slab': 4245, 'tear': 4246, 'reluctantly': 4247, 'clenched': 4248, 'resigned': 4249, 'according': 4250, 'uses': 4251, 'appearance-altering': 4252, 'cosmetics': 4253, 'warned': 4254, 'tall': 4255, 'clandestine': 4256, 'disturbing': 4257, 'pulitzer': 4258, 'guinea': 4259, 'chew': 4260, 'telephone': 4261, 'experiments': 4262, 'ears': 4263, 'winces': 4264, 'hmmmm': 4265, 'dawning': 4266, 'appalled': 4267, 'fire_inspector:': 4268, 'brainiac': 4269, 'distinct': 4270, 'strain': 4271, 'anti-intellectualism': 4272, 'einstein': 4273, 'appendectomy': 4274, 'lipo': 4275, 'sampler': 4276, 'dramatically': 4277, 'crayon': 4278, 'art': 4279, 'carney': 4280, 'flourish': 4281, 'crayola': 4282, 'oblongata': 4283, 'deeper': 4284, 'pusillanimous': 4285, 'pilsner-pusher': 4286, 'inanely': 4287, 'extended': 4288, 'warranty': 4289, 'sacajawea': 4290, 'manatee': 4291, 'cranberry': 4292, 'aah': 4293, 'painted': 4294, 'choices': 4295, 'scanning': 4296, \"soakin's\": 4297, 'nectar': 4298, 'nitwit': 4299, \"knockin'\": 4300, 'badmouths': 4301, \"o'\": 4302, 'mindless': 4303, 'droning': 4304, 'befriend': 4305, \"raggin'\": 4306, 'conditioners': 4307, 'loneliness': 4308, 'guttural': 4309, 'heartless': 4310, 'owns': 4311, 'family-owned': 4312, 'eye-gouger': 4313, 'brine': 4314, 'massive': 4315, 'occasional': 4316, 'total': 4317, 'rip-off': 4318, 'gangrene': 4319, 'cup': 4320, \"coffee'll\": 4321, 'waking-up': 4322, 'instantly': 4323, \"nick's\": 4324, 'rude': 4325, 'hitchhike': 4326, 'emergency': 4327, 'dollface': 4328, 'nash': 4329, 'bridges': 4330, 'illegally': 4331, 'smuggled': 4332, '2nd_voice_on_transmitter:': 4333, '3rd_voice:': 4334, 'presses': 4335, 'snitch': 4336, 'lotsa': 4337, 'mission': 4338, 'fireworks': 4339, 'incriminating': 4340, 'recorder': 4341, 'hootie': 4342, 'blowfish': 4343, 'cheaper': 4344, 'blank': 4345, 'wells': 4346, 'aer': 4347, 'lingus': 4348, 'leprechaun': 4349, 'cursed': 4350, \"heat's\": 4351, 'dejected': 4352, 'slugger': 4353, 'italian': 4354, \"spyin'\": 4355, 'assumed': 4356, 'stupidest': 4357, 'valley': 4358, 'series': 4359, 'quitcher': 4360, 'bellyaching': 4361, 'dumb-asses': 4362, 'yak': 4363, \"d'ya\": 4364, 'shesh': 4365, 'smiled': 4366, 'nailed': 4367, 'jigger': 4368, 'illustrates': 4369, 'swigmore': 4370, 'fills': 4371, 'alma': 4372, 'mater': 4373, 'rekindle': 4374, 'urban': 4375, \"tinklin'\": 4376, 'chips': 4377, \"when's\": 4378, 'natured': 4379, 'splattered': 4380, 'fonzie': 4381, 'hemorrhage-amundo': 4382, 'yello': 4383, 'booger': 4384, 'dirty': 4385, 'teen': 4386, 'hardhat': 4387, 'wrecking': 4388, 'giggle': 4389, 'fainted': 4390, 'prettied': 4391, 'renew': 4392, 'zeal': 4393, 'twentieth': 4394, 'dean': 4395, 'design': 4396, 'certified': 4397, 'contractors': 4398, 'pages': 4399, 'hippies': 4400, 'rem': 4401, 'apology': 4402, 'eco-fraud': 4403, 'reluctant': 4404, 'rainforest': 4405, 'peter_buck:': 4406, 'michael': 4407, 'supplying': 4408, 'mike_mills:': 4409, 'gluten': 4410, 'ate': 4411, 'michael_stipe:': 4412, 'mmmmm': 4413, 'alternative': 4414, 'rockers': 4415, 'gabriel': 4416, 'mortal': 4417, 'equivalent': 4418, 'gabriel:': 4419, 'temper': 4420, 'deliberately': 4421, 'girl-bart': 4422, 'loathe': 4423, 'knives': 4424, \"lady's\": 4425, \"'n'\": 4426, 'creme': 4427, 'martini': 4428, 'amber_dempsey:': 4429, 'annoying': 4430, 'night-crawlers': 4431, 'bragging': 4432, 'mole': 4433, 'wowww': 4434, 'amber': 4435, 'proves': 4436, 'buffet': 4437, 'clothespins': 4438, 'attach': 4439, 'clothespins:': 4440, 'swallowed': 4441, 'inserted': 4442, 'clipped': 4443, 'sixteen': 4444, 'magnanimous': 4445, \"clancy's\": 4446, 'op': 4447, 'lovers': 4448, 'newsweek': 4449, 'failure': 4450, 'thrust': 4451, 'trivia': 4452, 'lifetime': 4453, 'supply': 4454, 'chug-monkeys': 4455, 'beverage': 4456, 'hops': 4457, 'grains': 4458, 'grain': 4459, \"time's\": 4460, 'reading:': 4461, 'woulda': 4462, 'arrange': 4463, 'escort': 4464, 'orgasmville': 4465, 'enlightened': 4466, 'television': 4467, 'producers': 4468, 'booking': 4469, 'mid-seventies': 4470, 'alky': 4471, \"round's\": 4472, 'payday': 4473, 'rented': 4474, 'swings': 4475, \"battin'\": 4476, 'cage': 4477, 'perverted': 4478, 'winner': 4479, 'sprawl': 4480, 'hockey-fight': 4481, 'settled': 4482, \"what'd\": 4483, 'lookalike:': 4484, 'chuck': 4485, 'exited': 4486, 'trunk': 4487, 'rainier': 4488, 'wolfcastle': 4489, 'ab': 4490, 'roller': 4491, 'backward': 4492, 'leftover': 4493, 'lookalike': 4494, 'lookalikes': 4495, 'macaulay': 4496, 'culkin': 4497, 'killing': 4498, 'alpha-crow': 4499, 'enveloped': 4500, 'crow': 4501, 'crowbar': 4502, 'sloppy': 4503, 'wacky': 4504, 'tobacky': 4505, 'spacey': 4506, 'intervention': 4507, 'poisoning': 4508, 'excuses': 4509, 'funeral': 4510, 'interrupting': 4511, 'forty-seven': 4512, 'here-here-here': 4513, 'pepper': 4514, 'shaker': 4515, 'dash': 4516, 'dinks': 4517, 'squishee': 4518, 'canoodling': 4519, 'junkyard': 4520, 'rabbits': 4521, 'soothing': 4522, 'promise': 4523, 'tropical': 4524, 'windelle': 4525, 'muhammad': 4526, 'ali': 4527, 'anti-lock': 4528, 'brakes': 4529, 'johnny': 4530, 'mathis': 4531, 'versus': 4532, 'pepsi': 4533, 'meditative': 4534, 'lily-pond': 4535, 'fry': 4536, 'squirrels': 4537, 'super-genius': 4538, 'certainly': 4539, 'lenford': 4540, 'celebration': 4541, 'pasta': 4542, 'mini-beret': 4543, \"this'll\": 4544, 'speed': 4545, 'nos': 4546, 'killer': 4547, 'stab': 4548, 'simon': 4549, 'up-bup-bup': 4550, \"pickin'\": 4551, 'homer_doubles:': 4552, 'len-ny': 4553, 'piano': 4554, 'cell-ee': 4555, 'cattle': 4556, \"rustlin'\": 4557, \"calf's\": 4558, 'sneak': 4559, 'snatch': 4560, 'ghouls': 4561, 'grammy': 4562, 'judges': 4563, 'perfected': 4564, 'device': 4565, 'flayvin': 4566, 'space-time': 4567, 'continuum': 4568, \"wait'll\": 4569, 'wasted': 4570, 'plotz': 4571, 'absentminded': 4572, 'polishing': 4573, 'diapers': 4574, 'yuh-huh': 4575, 'alter': 4576, 'consciousness': 4577, 'glitz': 4578, 'glamour': 4579, 'beligerent': 4580, 'liable': 4581, 'taunting': 4582, 'accelerating': 4583, 'snapping': 4584, 'cab_driver:': 4585, 'newest': 4586, 'supermodel': 4587, 'longest': 4588, 'spit-backs': 4589, \"tonight's\": 4590, 'cock': 4591, 'scoffs': 4592, 'tokens': 4593, 'reality': 4594, 'gimmick': 4595, 'lincoln': 4596, 'kennedy': 4597, 'mckinley': 4598, 'simple': 4599, 'slit': 4600, 'quick-like': 4601, 'sideshow_bob:': 4602, 'haikus': 4603, 'skinheads': 4604, 'concentrate': 4605, 'detective': 4606, 'unbelievable': 4607, 'digging': 4608, 'intimacy': 4609, 'cobbling': 4610, 'shoes': 4611, 'schizophrenia': 4612, 'hiring': 4613, 'swan': 4614, 'delts': 4615, 'clench': 4616, 'bulked': 4617, 'managed': 4618, 'femininity': 4619, 'fierce': 4620, 'glyco-load': 4621, 'ripping': 4622, 'gel': 4623, 'frightened': 4624, 'sacrifice': 4625, 'period': 4626, 'delicately': 4627, 'yammering': 4628, 'pile': 4629, 'disco_stu:': 4630, 'stu': 4631, 'ducked': 4632, 'slim': 4633, 'bupkus': 4634, 'perplexed': 4635, 'rump': 4636, 'payback': 4637, 'revenge': 4638, 'subscriptions': 4639, 'brick': 4640, 'cerebral': 4641, 'booze-bags': 4642, 'victorious': 4643, 'gallon': 4644, 'icelandic': 4645, 'boyhood': 4646, 'anti-crime': 4647, 'dealie': 4648, 'streetlights': 4649, 'strongly': 4650, 'pro': 4651, 'con': 4652, \"i'unno\": 4653, 'superdad': 4654, 'crystal': 4655, 'cheaped': 4656, 'shelf': 4657, 'paramedic:': 4658, 'ingested': 4659, 'defiantly': 4660, 'ihop': 4661, 'burger': 4662, 'absentmindedly': 4663, \"doctor's\": 4664, 'neanderthal': 4665, 'taylor': 4666, 'ing': 4667, 'voters': 4668, 'november': 4669, 'practically': 4670, 'everywhere': 4671, 'resenting': 4672, 'appreciate': 4673, 'shout': 4674, 'f-l-a-n-r-d-s': 4675, 'flame': 4676, 'researching': 4677, 'indigenous': 4678, 'overhearing': 4679, 'delightfully': 4680, 'byrne': 4681, 'singer': 4682, 'artist': 4683, 'composer': 4684, 'wrestle': 4685, 'el': 4686, 'diablo': 4687, 'philip': 4688, 'rewound': 4689, 'produce': 4690, 'rolls': 4691, 'kahlua': 4692, 'fleabag': 4693, 'unsanitary': 4694, \"wearin'\": 4695, 'walked': 4696, 'dark': 4697, 'dreary': 4698, 'drunkening': 4699, 'hangover': 4700, 'barber': 4701, 'frat': 4702, 'julienne': 4703, 'potatoes': 4704, 'groin': 4705, 'shortcomings': 4706, 'banquet': 4707, 'poulet': 4708, 'au': 4709, 'vin': 4710, 'avec': 4711, 'champignons': 4712, 'ã': 4713, 'kisses': 4714, 'botanical': 4715, 'gardens': 4716, 'blossoming': 4717, 'sumatran': 4718, 'occurs': 4719, 'customers-slash-only': 4720, 'replaced': 4721, \"mopin'\": 4722, 'alarm': 4723, 'tummies': 4724, 'elves:': 4725, 'cakes': 4726, 'pets': 4727, 'brotherhood': 4728, \"i'd'a\": 4729, 'pizza': 4730, \"y'money's\": 4731, 'counter': 4732, 'leonard': 4733, 'competitive': 4734, 'macgregor': 4735, 'musketeers': 4736, 'accusing': 4737, 'lungs': 4738, 'devils:': 4739, 'apulina': 4740, 'including': 4741, 'bouquet': 4742, 'earrings': 4743, 'hilton': 4744, \"city's\": 4745, 'society_matron:': 4746, 'remote': 4747, 'sharity': 4748, 'aristotle:': 4749, 'weep': 4750, 'mamma': 4751, 'flush-town': 4752, 'population': 4753, 'nonchalant': 4754, 'ninety-eight': 4755, 'outstanding': 4756, 'flush': 4757, 'jacks': 4758, 'multi-national': 4759, 'manipulation': 4760, 'macho': 4761, 'undermine': 4762, 'affects': 4763, 'majority': 4764, 'shareholder': 4765, 'inherent': 4766, 'legal': 4767, 'liability': 4768, 'malfeasance': 4769, 'result': 4770, 'deny': 4771, 'showed': 4772, 'louse': 4773, 'jogging': 4774, 'intruding': 4775, 'sending': 4776, 'swooning': 4777, 'odor': 4778, 'eaters': 4779, 'beanbag': 4780, 'temple': 4781, 'doom': 4782, 'gentle': 4783, 'nightmares': 4784, 'orders': 4785, 'contemptuous': 4786, 'chateau': 4787, 'latour': 4788, 'eighteen': 4789, 'eighty-six': 4790, 'initially': 4791, \"collector's\": 4792, 'bidet': 4793, 'ladder': 4794, 'fountain': 4795, 'in-in-in': 4796, 'chipped': 4797, 'nail': 4798, 'sticking': 4799, 'poke': 4800, 'bachelor': 4801, 'peaked': 4802, 'and/or': 4803, 'buddies': 4804, 'chug-a-lug': 4805, 'a-lug': 4806, 'disposal': 4807, 'boisterous': 4808, 'exciting': 4809, 'photographer': 4810, 'van': 4811, 'notch': 4812, 'wiggle': 4813, 'friction': 4814, 'killjoy': 4815, 'wussy': 4816, 'grinch': 4817, 'consoling': 4818, 'picked': 4819, 'zoomed': 4820, 'junebug': 4821, 'windshield': 4822, \"secret's\": 4823, 'bail': 4824, \"bringin'\": 4825, 'easily': 4826, 'sobriety': 4827, 'urge': 4828, 'sponsor': 4829, 'white_rabbit:': 4830, 'lorre': 4831, 'warmth': 4832, 'penmanship': 4833, 'sucks': 4834, 'anyhoo': 4835, 'cyrano': 4836, 'americans': 4837, 'permanent': 4838, 'visas': 4839, 'dutch': 4840, \"leavin'\": 4841, \"president's\": 4842, 'rebuttal': 4843, 'mull': 4844, 'mugs': 4845, \"thinkin'\": 4846, 'symphonies': 4847, 'fuhgetaboutit': 4848, 'filth': 4849, 'oughta': 4850, 'hideous': 4851, 'frankie': 4852, 'fella': 4853, 'dads': 4854, 'malted': 4855, 'tooth': 4856, 'blinded': 4857, \"soundin'\": 4858, 'thorough': 4859, 'winks': 4860, 'infestation': 4861, 'sanitary': 4862, 'utensils': 4863, 'hygienically': 4864, 'stored': 4865, 'parked': 4866, 'hydrant': 4867, 'exhale': 4868, 'whaddya': 4869, 'hunky': 4870, 'dory': 4871, 'rife': 4872, 'starters': 4873, 'predecessor': 4874, 'trash': 4875, 'wednesday': 4876, 'chicken': 4877, 'skins': 4878, 'dispenser': 4879, 'john': 4880, 'danny': 4881, 'mountain': 4882, \"summer's\": 4883, 'falling': 4884, 'bide': 4885, 'tribute': 4886, 'e': 4887, 'acceptance': 4888, 'hafta': 4889, 'reopen': 4890, 'crestfallen': 4891, 'nor': 4892, 'pen': 4893, 'parrot': 4894, 'brief': 4895, 'contact': 4896, 'blocked': 4897, 'protecting': 4898, 'investment': 4899, 'cigars': 4900, 'microwave': 4901, 'beans': 4902, 'stupidly': 4903, 'jerk-ass': 4904, 'doy': 4905, 'cheerier': 4906, 'darkness': 4907, 'tactful': 4908, 'remodel': 4909, \"changin'\": 4910, 'susie-q': 4911, 'face-macer': 4912, 'guff': 4913, 'grub': 4914, 'proper': 4915, 'old-time': 4916, 'whaaa': 4917, 'britannia': 4918, 'meatpies': 4919, 'lager': 4920, 'classy': 4921, 'asses': 4922, 'so-ng': 4923, 'arm-pittish': 4924, \"renovatin'\": 4925, 'drapes': 4926, \"idea's\": 4927, 'lindsay': 4928, 'naegle': 4929, 'mis-statement': 4930, 'allow': 4931, 'credit': 4932, 'bumpy-like': 4933, 'counterfeit': 4934, 'moe-clone': 4935, 'socialize': 4936, 'e-z': 4937, 'oopsie': 4938, \"enjoyin'\": 4939, 'adult': 4940, 'tickets': 4941, \"santa's\": 4942, 'sleigh-horses': 4943, 'sells': 4944, 'impress': 4945, \"liftin'\": 4946, 'dumbbell': 4947, 'forty-nine': 4948, 'ninety-nine': 4949, \"lefty's\": 4950, 'victim': 4951, 'hustle': 4952, \"breakin'\": 4953, 'nerd': 4954, 'sugar-free': 4955, 'flat': 4956, 'buds': 4957, 'goldarnit': 4958, 'life-partner': 4959, 'whup': 4960, 'yee-ha': 4961, 'gol-dangit': 4962, \"dimwit's\": 4963, 'kazoo': 4964, 'head-gunk': 4965, 'hears': 4966, 'cocking': 4967, 'texan': 4968, 're-al': 4969, 'moe-heads': 4970, 'polls': 4971, 'negative': 4972, 'ads': 4973, 'hurting': 4974, 'homeless': 4975, 'bum:': 4976, 'annual': 4977, 'w-a-3-q-i-zed': 4978, 'mason': 4979, 'arrived': 4980, \"rentin'\": 4981, 'las': 4982, 'nevada': 4983, 'stingy': 4984, 'rat-like': 4985, 'sued': 4986, 'settlement': 4987, 'partially': 4988, 'risquã©': 4989, 'plane': 4990, 'soul-crushing': 4991, 'blackjack': 4992, 'nelson_muntz:': 4993, 'nelson': 4994, 'pair': 4995, 'paints': 4996, 'noggin': 4997, 'meanwhile': 4998, \"yieldin'\": 4999, 'moe_recording:': 5000, 'ew': 5001, 'considering:': 5002, \"table's\": 5003, 'wobbly': 5004, 'jam': 5005, 'ford': 5006, 'captain': 5007, 'kirk': 5008, 'five-fifteen': 5009, 'eternity': 5010, 'fortune': 5011, 'fica': 5012, 'helping': 5013, 'steamed': 5014, 'cappuccino': 5015, '-ry': 5016, 'otherwise': 5017, 'neighbors': 5018, 'wife-swapping': 5019, 'strolled': 5020, 'donation': 5021, 'lewis': 5022, 'notorious': 5023, 'idealistic': 5024, 'law-abiding': 5025, 'archaeologist': 5026, 'excavating': 5027, 'mayan': 5028, 'pyramid': 5029, 'unearth': 5030, 'pre-columbian': 5031, 'donate': 5032, 'statues': 5033, 'handed': 5034, 'dilemma': 5035, 'edner': 5036, \"playin'\": 5037, 'coin': 5038, 'poorer': 5039, 'worldly': 5040, 'possessions': 5041, \"'ceptin'\": 5042, 'nucular': 5043, 'obsessive-compulsive': 5044, 'powered': 5045, 'non-american': 5046, \"tv's\": 5047, 'misfire': 5048, 'prolonged': 5049, 'playoff': 5050, \"hobo's\": 5051, 'owes': 5052, 'fist': 5053, \"puttin'\": 5054, 'screws': 5055, \"tony's\": 5056, 'all-all-all': 5057, 'stars': 5058, 'firing': 5059, 'pure': 5060, 'polish': 5061, 'heck': 5062, \"challengin'\": 5063, 'sudoku': 5064, 'puzzle': 5065, 'numeral': 5066, 'repeated': 5067, 'column': 5068, 'salvation': 5069, 'cocks': 5070, 'stripes': 5071, 'repay': 5072, 'colonel:': 5073, 'fishing': 5074, \"listenin'\": 5075, 'bursts': 5076, 'published': 5077, 'author': 5078, 'earlier': 5079, 'newly-published': 5080, 'snail': 5081, 'trail': 5082, 'name:': 5083, 'bonfire': 5084, 'vanities': 5085, 'coined': 5086, 'phrase': 5087, 'radical': 5088, 'chic': 5089, \"squeezin'\": 5090, \"'roids\": 5091, 'vermont': 5092, 'thrilled': 5093, \"wouldn't-a\": 5094, 'outlive': 5095, 'wizard': 5096, 'upn': 5097, 'assert': 5098, 'herself': 5099, 'backbone': 5100, 'notices': 5101, 'unlocked': 5102, 'beeps': 5103, 'declan': 5104, 'fruit': 5105, 'oddest': 5106, 'thing:': 5107, 'affection': 5108, 'knuckle-dragging': 5109, 'sub-monkeys': 5110, \"sippin'\": 5111, 'cuckoo': 5112, 'de-scramble': 5113, 'scrutinizing': 5114, 'shoe': 5115, 'inserts': 5116, \"writin'\": 5117, 'creepy': 5118, 'kills': 5119, 'title:': 5120, 'pontiff': 5121, 'gargoyles': 5122, 'good-looking': 5123, 'open-casket': 5124, 'material': 5125, 'sour': 5126, 'paparazzo': 5127, 'joy': 5128, 'robin': 5129, 'williams': 5130, 'bits': 5131, 'co-sign': 5132, 'photos': 5133, 'turlet': 5134, 'attractive_woman_#1:': 5135, 'attractive_woman_#2:': 5136, 'trade': 5137, 'bras': 5138, 'panties': 5139, 'volunteer': 5140, 'assume': 5141, 'dentist': 5142, 'mary': 5143, \"school's\": 5144, 'bake': 5145, \"betsy'll\": 5146, 'runs': 5147, 'depending': 5148, 'strips': 5149, 'eggshell': 5150, 'malabar': 5151, 'ivory': 5152, 'mediterranean': 5153, 'ecru': 5154, 'tow': 5155, 'lobster-politans': 5156, 'smelling': 5157, 'one-hour': 5158, 'zone': 5159, 'correction': 5160, 'lobster-based': 5161, 'designer': 5162, 'laughter': 5163, 'unhook': 5164, 'moving': 5165, 'tow-talitarian': 5166, 'totalitarians': 5167, 'stalin': 5168, 'forced': 5169, 'labor': 5170, 'insensitive': 5171, 'winch': 5172, 'enforced': 5173, 'fatty': 5174, 'ralph': 5175, 'ralphie': 5176, 'tow-joes': 5177, 'territorial': 5178, \"family's\": 5179, 'remembers': 5180, 'process': 5181, 'splash': 5182, 'jaegermeister': 5183, 'add': 5184, 'sloe': 5185, 'triple-sec': 5186, 'quadruple-sec': 5187, 'gunk': 5188, \"dog's\": 5189, 'absolut': 5190, 'stripe': 5191, 'aquafresh': 5192, 'funniest': 5193, 'venom': 5194, 'louisiana': 5195, 'loboto-moth': 5196, 'sweetie': 5197, 'pregnancy': 5198, 'presto:': 5199, 'ultimate': 5200, 'bleacher': 5201, 'menace': 5202, 'swig': 5203, 'wipes': 5204, 'entering': 5205, 'forget-me-drinks': 5206, 'rickles': 5207, 'arabs': 5208, 'gibson': 5209, 'mexicans': 5210, 'grammys': 5211, 'hispanic_crowd:': 5212, 'jeers': 5213, 'sternly': 5214, 'disturbance': 5215, 'filed': 5216, 'infor': 5217, 'ripper': 5218, 'doppler': 5219, \"queen's\": 5220, 'surgeonnn': 5221, 'piling': 5222, 'unkempt': 5223, 'attractive': 5224, 'spits': 5225, 'bottoms': 5226, 'retain': 5227, 'misconstrue': 5228, \"cuckold's\": 5229, 'horns': 5230, 'moon-bounce': 5231, 'amiable': 5232, 'newsies': 5233, 'scruffy_blogger:': 5234, 'access': 5235, 'politicians': 5236, 'issues': 5237, 'declare': 5238, 'frontrunner': 5239, 'mansions': 5240, 'abolish': 5241, 'democracy': 5242, 'dictator': 5243, 'juan': 5244, 'perã³n': 5245, 'madonna': 5246, 'dennis': 5247, 'kucinich': 5248, 'twerpy': 5249, 'unbelievably': 5250, 'manuel': 5251, 'fake': 5252, 'moustache': 5253, 'ees': 5254, 'mild': 5255, 'backing': 5256, 'reminded': 5257, 'quarry': 5258, 'stones': 5259, 'woodchucks': 5260, 'mailbox': 5261, 'cell': 5262, 'butter': 5263, 'tasty': 5264, 'almond': 5265, 'listens': 5266, 'compromise:': 5267, 'luckiest': 5268, 'remaining': 5269, 'scratcher': 5270, 'kick-ass': 5271, 'shush': 5272, 'propose': 5273, 'willing': 5274, 'halvsies': 5275, 'lugs': 5276, 'splendid': 5277, 'weather': 5278, 'way:': 5279, 'tying': 5280, 'crippling': 5281, 'refinanced': 5282, 'twenty-six': 5283, 'cowboy': 5284, 'encouraged': 5285, 'half-day': 5286, 'encouraging': 5287, 'widow': 5288, 'option': 5289, 'pep': 5290, 'squad': 5291, 'cheered': 5292, 'runners': 5293, 'ninety-seven': 5294, 'break-up': 5295, 'cheated': 5296, 'showered': 5297, 'soaps': 5298, 'massage': 5299, 'oils': 5300, 'maiden': 5301, 'nicer': 5302, \"she'll\": 5303, 'parenting': 5304, 'childless': 5305, 'goodwill': 5306, 'attached': 5307, 'direction': 5308, \"mecca's\": 5309, \"don'tcha\": 5310, 'oughtta': 5311, 'dint': 5312, \"son's\": 5313, \"bashir's\": 5314, 'derek': 5315, 'jeter': 5316, 'mariah': 5317, 'carey': 5318, 'muslim': 5319, 'espousing': 5320, 'view': 5321, 'fbi_agent:': 5322, 'fayed': 5323, 'statue': 5324, \"liberty's\": 5325, 'principles': 5326, 'discriminate': 5327, 'employment': 5328, 'housing': 5329, 'patriotic': 5330, 'bauer': 5331, 'sanctuary': 5332, 'super-tough': 5333, 'africanized': 5334, 'honeys': 5335, 'environment': 5336, 'dna': 5337, 'strains': 5338, 'species': 5339, 'protesting': 5340, 'inclination': 5341, 'anonymous': 5342, 'partners': 5343, 'privacy': 5344, 'buzziness': 5345, 'connor-politan': 5346, 'oh-so-sophisticated': 5347, 'connor': 5348, 'kidneys': 5349, 'guilt': 5350, 'haircuts': 5351, 'graves': 5352, 'dig': 5353, 'ballot': 5354, 'gore': 5355, 'presidential': 5356, 'stolen': 5357, 'falsetto': 5358, 'albert': 5359, 'landlord': 5360, 'and-and': 5361, 'getaway': 5362, 'flanders:': 5363, 'expose': 5364, 'dateline': 5365, 'nominated': 5366, 'peabody': 5367, 'exclusive:': 5368, 'forty-two': 5369, 'evergreen': 5370, 'terrace': 5371, 'suburban': 5372, 'actress': 5373, 'billiard': 5374, \"spiffin'\": 5375, 'inquiries': 5376, 'enabling': 5377, 'mags': 5378, 'taught': 5379, 'abcs': 5380, 'a-b-': 5381, 'forgets': 5382, 'p-k': 5383, \"s'pose\": 5384, \"cleanin'\": 5385, 'month': 5386, \"she'd\": 5387, 'stood': 5388, 'regretful': 5389, 'term': 5390, 'tidy': 5391, 'benjamin': 5392, 'life-sized': 5393, 'legoland': 5394, \"stealin'\": 5395, 'chinese_restaurateur:': 5396, 'espn': 5397, 'ling': 5398, 'chow': 5399, 'passenger': 5400, 'incredible': 5401, 'thought_bubble_lenny:': 5402, \"somethin':\": 5403, 'generally': 5404, 'limericks': 5405, 'coast': 5406, 'massachusetts': 5407, 'nantucket': 5408, 'unusual': 5409, 'personal': 5410, 'characteristic': 5411, 'simplest': 5412, 'a-a-b-b-a': 5413, 'dumbass': 5414, 'whistling': 5415, 'nonchalantly': 5416, 'chained': 5417, 'tomato': 5418, 'tomahto': 5419, 'comedies': 5420, 'reckless': 5421, 'gesture': 5422, 'blows': 5423, 'sidelines': 5424, \"who'da\": 5425, 'chapter': 5426, 'insults': 5427, 'disguised': 5428, 'suspenders': 5429, 'circus': 5430, 'clown-like': 5431, 'insecure': 5432, 'envy-tations': 5433, 'hate-hugs': 5434, 'spamming': 5435, 'faint': 5436, 'praise': 5437, 'frozen': 5438, 'toledo': 5439, 'take-back': 5440, \"people's\": 5441, 'eager': 5442, 'happily:': 5443, 'community': 5444, 'playhouse': 5445, 'bathed': 5446, 'glowers': 5447, 'sticking-place': 5448, 'fail': 5449, 'x-men': 5450, '2': 5451, 'macbeth': 5452, 'mac-who': 5453, 'gulliver_dark:': 5454, 'bedridden': 5455, 'unable': 5456, 'toe': 5457, 'paintings': 5458, 'melodramatic': 5459, 'nonsense': 5460, 'training': 5461, 'bleeding': 5462, \"murphy's\": 5463, \"pressure's\": 5464, 'bon-bons': 5465, 'declared': 5466, 'microbrew': 5467, 'cobra': 5468, 'solves': 5469, 'cupid': 5470, 'unattended': 5471, 'fl': 5472, 'ventriloquism': 5473, 'approval': 5474, 'cure': 5475, 'ails': 5476, 'cuddling': 5477, 'steaming': 5478, 'cocoa': 5479, 'rainbows': 5480, 'surprised/thrilled': 5481, 'full-bodied': 5482, 'full-blooded': 5483, 'harmony': 5484, 'loyal': 5485, 'hemoglobin': 5486, \"disrobin'\": 5487, 'rosey': 5488, 'bubbles-in-my-nose-y': 5489, \"mo'\": 5490, 'musical': 5491, 'kodos:': 5492, 'measure': 5493, 'distance': 5494, 'unrelated': 5495, 'seductive': 5496, 'cologne': 5497, 'shaved': 5498, 'knuckles': 5499, 'shakes': 5500, 'handwriting': 5501, 'idioms': 5502, 'midge:': 5503, 'gayer': 5504, 'occurred': 5505, 'timbuk-tee': 5506, 'fast-paced': 5507, 'nibble': 5508, 'teriyaki': 5509, 'frenchman': 5510, 'spoon': 5511, 'duke': 5512, 'amnesia': 5513, 'missing': 5514, 'squeeze': 5515, 'irishman': 5516, 'pretends': 5517, \"o'reilly\": 5518, 'radiator': 5519, 'rebuilt': 5520, 'briefly': 5521, 'uncreeped-out': 5522, 'mines': 5523, 'taste': 5524, 'romance': 5525, 'perverse': 5526, 'hearse': 5527, 'civil': 5528, 'nurse': 5529, 'proof': 5530, 'simultaneous': 5531, 'i/you': 5532, 'finale': 5533, 'indicates': 5534, 'half-beer': 5535, 'enjoyed': 5536, 'halloween': 5537, 'treehouse': 5538, 'horror': 5539, 'xx': 5540, 'shhh': 5541, 'habitrail': 5542, 'donuts': 5543, 'meals': 5544, 'philosophical': 5545, 'southern': 5546, 'indeed': 5547, 'gator': 5548, 'mccall': 5549, 'recruiter': 5550, 'specializes': 5551, 'headhunters': 5552, 'valuable': 5553, 'protesters': 5554, 'marched': 5555, 'plants': 5556, 'radiation': 5557, \"poisonin'\": 5558, 'passports': 5559, 'loafers': 5560, 'hooray': 5561, 'nap': 5562, 'awake': 5563, 'meteor': 5564, 'flexible': 5565, 'marshmallow': 5566, 'dumbest': 5567, \"stabbin'\": 5568, 'humanity': 5569, 'mocking': 5570, 'official': 5571, 'releasing': 5572, 'hounds': 5573, 'releases': 5574, 'wolverines': 5575, 'horses': 5576, \"eatin'\": 5577, 'wish-meat': 5578, 'bust': 5579, 'exchanged': 5580, 'whispered': 5581, 'huddle': 5582, 'nursemaid': 5583, \"elmo's\": 5584, 'reunion': 5585, 'andrew': 5586, 'mccarthy': 5587, 'attend': 5588, 'lied': 5589, 'itchy': 5590, 'planted': 5591, 'chair': 5592, 'refill': 5593, 'cozies': 5594, 'sassy': 5595, 'cushions': 5596, 'cushion': 5597, 'flash': 5598, 'drives': 5599, 'data': 5600, 'hammy': 5601, 'estranged': 5602, \"tomorrow's\": 5603, 'forecast': 5604, 'cloudy': 5605, 'sunny': 5606, 'guessing': 5607, 'thunder': 5608, 'storms': 5609, 'exultant': 5610, 'ahem': 5611, 'wagering': 5612, 'installed': 5613, \"america's\": 5614, \"blowin'\": 5615, 'homeland': 5616, 'mm-hmm': 5617, 'tsking': 5618, 'presided': 5619, 'suave': 5620, 'debonair': 5621, 'offa': 5622, \"narratin'\": 5623, 'cricket': 5624, 'uniforms': 5625, 'rain': 5626, \"'pu\": 5627, 'she-pu': 5628, 'everyday': 5629, 'mimes': 5630, 'saving': 5631, 'gheet': 5632, 'darjeeling': 5633, 'limited': 5634, 'low-blow': 5635, 'boxer:': 5636, 'pre-recorded': 5637, 'rug': 5638, \"mother's\": 5639, 'panicked': 5640, 'carny:': 5641, 'teacup': 5642, 'whispers': 5643, 'rutabaga': 5644, 'putty': 5645, 'innocuous': 5646, 'flashbacks': 5647, 'ferry': 5648, 'pointedly': 5649, 'lovejoy': 5650, 'ralph_wiggum:': 5651, 'popping': 5652, 'man_with_crazy_beard:': 5653, 'outrageous': 5654, 'beard': 5655, 'expense': 5656, 'beards': 5657, \"askin'\": 5658, 'scatter': 5659, 'cockroaches': 5660, 'rip': 5661, 'stretch': 5662, 'tee': 5663, 'california': 5664, 'judgments': 5665, 'legally': 5666, 'side:': 5667, 'murdoch': 5668, 'rupert_murdoch:': 5669, 'jay': 5670, 'leno': 5671, 'jay_leno:': 5672, 'iran': 5673, 'weapon': 5674, 'rig': 5675, 'leak': 5676, 'disappear': 5677, 'nbc': 5678, 'howya': 5679, 'button-pusher': 5680, 'obama': 5681, 'booth': 5682, 'cliff': 5683, 'lee': 5684, 'zack': 5685, 'grenky': 5686, 'completely': 5687, 'colossal': 5688, 'exception:': 5689, 'inning': 5690, 'domed': 5691, 'bunion': 5692, 'notably': 5693, 'ineffective': 5694, 'portentous': 5695, 'dexterous': 5696, 'understood': 5697, 'poin-dexterous': 5698, 'laid': 5699, 'key': 5700, 'developed': 5701, 'statistician': 5702, 'bill_james:': 5703, 'taxes': 5704, 'eight-year-old': 5705, 'ballclub': 5706, 'sagacity': 5707, 'stengel': 5708, 'single-mindedness': 5709, 'steinbrenner': 5710, 'stein-stengel-': 5711, 'stats': 5712, 'ratio': 5713, 'occupied': 5714, 'sobo': 5715, 'conversion': 5716, 'factor': 5717, 'refreshingness': 5718, 'effervescence': 5719, 'benjamin:': 5720, 'minus': 5721, 'rueful': 5722, 'advertise': 5723, 'specials': 5724, 'scientific': 5725, 'annus': 5726, 'horribilis': 5727, 'resolution': 5728, 'fixes': 5729, 'courthouse': 5730, 'compare': 5731, 'exquisite': 5732, 'reward': 5733, 'planned': 5734, 'addiction': 5735, 'compels': 5736, 'executive': 5737, 'average-looking': 5738, '_burns_heads:': 5739, 'hangout': 5740, 'offense': 5741, 'whatchamacallit': 5742, 'swishkabobs': 5743, \"grandmother's\": 5744, 'urinal': 5745, \"getting'\": 5746, 'renovations': 5747, \"friend's\": 5748, 'lainie:': 5749, 'carlotta:': 5750, 'jã¤germeister': 5751, 'pink': 5752, 'lemonade': 5753, 'strawberry': 5754, 'chapstick': 5755, \"cupid's\": 5756, 'wazoo': 5757, 'drains': 5758, 'scram': 5759, 'crinkly': 5760, 'eva': 5761, 'braun:': 5762, \"man's_voice:\": 5763, 'huhza': 5764, '3': 5765, 'whoopi': 5766, 'seminar': 5767, 'motor': 5768, 'lodge': 5769, 'tornado': 5770, 'kissingher': 5771, 'earth': 5772, 'casting': 5773, 'pall': 5774, 'serum': 5775, 'walther': 5776, 'hotenhoffer': 5777, 'pharmaceutical': 5778, 'occupation': 5779, 'renders': 5780, 'tolerable': 5781, 'normals': 5782, 'irrelevant': 5783, 'elaborate': 5784, 'extract': 5785, 'synthesize': 5786, 'scrutinizes': 5787, 'grease': 5788, 'germans': 5789, 'when-i-get-a-hold-of-you': 5790, 'dammit': 5791, 'typed': 5792, 'rapidly': 5793, 'donated': 5794, 'haiti': 5795, \"y'see\": 5796, 'pushes': 5797, 'strangles': 5798, 'sue': 5799, 'hollowed-out': 5800, 'contented': 5801, 'phony': 5802, 'grin': 5803, 'plastered': 5804, 'freaky': 5805, 'slipped': 5806, 'mickey': 5807, 'churchy': 5808, 'brainheaded': 5809, 'fence': 5810, 'sheet': 5811, 'wistful': 5812, 'prayers': 5813, 'choked': 5814, 'iddilies': 5815, 'diddilies': 5816, 'christian': 5817, 'wuss': 5818, 'confession': 5819, 'make:': 5820, 'solely': 5821, 'noble': 5822, 'intention': 5823, 'two-thirds-empty': 5824, 'poetry': 5825, 'multi-purpose': 5826, 'email': 5827, 'edna-lover-one-seventy-two': 5828, 'lowest': 5829, \"edna's\": 5830, 'drummer': 5831, 'gulps': 5832, 'plucked': 5833, 'wikipedia': 5834, 'frankenstein': 5835, 'neighboreeno': 5836, 'plain': 5837, 'bagged': 5838, 'tiger': 5839, 'prompting': 5840, 'sen': 5841, 'cesss': 5842, 'surprising': 5843, 'entrance': 5844, 'jewelry': 5845, 'pronto': 5846, 'drawer': 5847, \"linin'\": 5848, 'presidents': 5849, 'upgrade': 5850, 'commanding': 5851, 'appropriate': 5852, 'reaction': 5853, 'sooo': 5854, 'fresco': 5855, \"speakin'\": 5856, 'farthest': 5857, 'drove': 5858, 'roz': 5859, 'ditched': 5860, 'lady-free': 5861, 'eighty-three': 5862, 'souvenir': 5863, 'sizes': 5864, 'hare-brained': 5865, 'schemes': 5866, 'pillows': 5867, 'adopted': 5868, 'capuchin': 5869, 'bonding': 5870, 'phase': 5871, 'safecracker': 5872, 'caper': 5873, 'fantasy': 5874, 'novel': 5875, 'brag': 5876, 'publish': 5877, 'modestly': 5878, 'lucinda': 5879, 'placed': 5880, 'fifth': 5881, 'shard': 5882, 'stained-glass': 5883, 'read:': 5884, \"'your\": 5885, 'parents': 5886, \"'\": 5887, 'gregor': 5888, 'understood:': 5889, 'journey': 5890, 'reader': 5891, 'selection': 5892, 'steampunk': 5893, 'frink-y': 5894, 'mock-up': 5895, 'title': 5896, 'tuna': 5897, 'itself': 5898, 'kansas': 5899, 'golden': 5900, 'literary': 5901, 'lis': 5902, 'milhouses': 5903, 'jacksons': 5904, 'xanders': 5905, 'aidens': 5906, 'dreamy': 5907, 'aiden': 5908, 'vampire': 5909, 'transylvania': 5910, 'prep': 5911, 'brooklyn': 5912, 'fuzzlepitch': 5913, 'bloodball': 5914, 'lame': 5915, 'publishers': 5916, 'sistine': 5917, 'chapel': 5918, 'mural': 5919, 'hems': 5920, 'haws': 5921, 'watched': 5922, 'bluff': 5923, 'conversations': 5924, 'annie': 5925, 'meaning': 5926, 'brain-switching': 5927, 'ceremony': 5928, 'sleeping': 5929, 'switched': 5930, 'dashes': 5931, 'lennyy': 5932, 'sheets': 5933, 'wind': 5934, 'dignified': 5935, 'stumble': 5936, 'typing': 5937, 'lead': 5938, 'pledge': 5939, 'allegiance': 5940, 'conclude': 5941, 'thanking': 5942, 'hosting': 5943, 'fumigated': 5944, 'er': 5945, 'adjourned': 5946, 'convenient': 5947, 'sangre': 5948, 'de': 5949, 'los': 5950, 'muertos': 5951, 'friend:': 5952, 'mexican': 5953, 'mexican_duffman:': 5954, 'ho-la': 5955, 'pepto-bismol': 5956, 'facebook': 5957, 'scrubbing': 5958, 'hardy': 5959, 'unhappy': 5960, 'taxi': 5961, 'wears': 5962, 'nemo': 5963, 'brace': 5964, 'lear': 5965, 'be-stainã¨d': 5966, 'swatch': 5967, 'gentles': 5968, 'begin': 5969, 'medieval': 5970, 'self-satisfied': 5971, 'tapestry': 5972, 'sponge:': 5973, 'gutenberg': 5974, 'bartholomã©:': 5975, 'overstressed': 5976, 'helps': 5977, 'recap:': 5978, 'unjustly': 5979, 'lofty': 5980, 'perch': 5981, 'wound': 5982, 'barter': 5983, 'persia': 5984, 'raggie': 5985, 'continued': 5986, 'enterprising': 5987, 'seamstress': 5988, 'fledgling': 5989, 'thousand-year': 5990, 'grace': 5991, 'predictable': 5992, 'startled': 5993, 'sensitivity': 5994, 'jobless': 5995, 'washouts': 5996, 'error': 5997, 'blamed': 5998, 'rent': 5999, 'pizzicato': 6000, 'buyer': 6001, 'specified': 6002, 'stepped': 6003, 'done:': 6004, 'arguing': 6005, 'guts': 6006, 'rationalizing': 6007, 'pack': 6008, 'adjust': 6009, 'runaway': 6010, 'monorails': 6011, 'nascar': 6012, 'gordon': 6013, 'jeff_gordon:': 6014, \"plank's\": 6015, 'land': 6016, 'traitors': 6017, 'lou': 6018, 'eliminate': 6019, 'bulldozing': 6020, 'tire': 6021, 'sinkhole': 6022, 'administration': 6023, 'solved': 6024, 'fears': 6025, 'most:': 6026, \"s'okay\": 6027, 'nuked': 6028, 'swimmers': 6029, 'shame': 6030, 'wrap': 6031, 'plums': 6032, 'tin': 6033, 'philosophic': 6034, 'samples': 6035, 'shelbyville': 6036, 'sperm': 6037, 'necklace': 6038, 'eww': 6039, 'fund': 6040, 'lend': 6041, 'sesame': 6042, 'frogs': 6043, 'settles': 6044, 'woe:': 6045, 'gamble': 6046, \"daughter's\": 6047, 'fdic': 6048, 'grubby': 6049, 'site': 6050, 'onion': 6051, 'rings': 6052, 'badmouth': 6053, 'country': 6054, 'prettiest': 6055, \"aristotle's\": 6056, 'poetics': 6057, 'rice': 6058, 'promotion': 6059, 'poured': 6060, 'hooky': 6061, 'throats': 6062, 'grind': 6063, 'crunch': 6064, 'nature': 6065, 'dipping': 6066, 'edge': 6067, 'groveling': 6068, 'brown': 6069, 'wiggle-frowns': 6070, 'abusive': 6071, 'tolerance': 6072, 'dejected_barfly:': 6073, 'slurred': 6074, 'hammock': 6075, 'bleak': 6076, 'icy': 6077, 'chill': 6078, 'dropping': 6079, 'janette': 6080, 'cheryl': 6081, 'rotten': 6082, 'pretend': 6083, 'improv': 6084, 'imaginary': 6085, 'chip': 6086, 'ends': 6087, 'skydiving': 6088, \"pullin'\": 6089, 'app': 6090, 'random': 6091, 'occurrence': 6092, 'squeezed': 6093, 'sap': 6094, \"choosin'\": 6095, 'adequate': 6096, 'carnival': 6097, 'miracle': 6098, \"tree's\": 6099, 'disillusioned': 6100, 'reporter': 6101, 'kenny': 6102, 'brockelstein': 6103, 'investigating': 6104, 'cartoons': 6105, 'thirty-three': 6106, 'short_man:': 6107, 'gruff': 6108, 'rancid': 6109, 'innocence': 6110, 'man_with_tree_hat:': 6111, 'hoax': 6112, 'tree_hoper:': 6113, 'crappy': 6114, 'pretentious_rat_lover:': 6115, 'manchego': 6116, 'aziz': 6117, 'lurks': 6118, 'racially-diverse': 6119, 'network': 6120, 'experienced': 6121, 'acronyms': 6122, 'kinderhook': 6123, 'collapse': 6124, 'rome': 6125, 'inexorable': 6126, 'march': 6127, 'progress': 6128, '_eugene_blatz:': 6129, 'slaves': 6130, 'supermarket': 6131, 'starve': 6132, 'unsourced': 6133, 'undated': 6134, 'convinced': 6135, 'beyond': 6136, 'suspended': 6137, 'voodoo': 6138, 'curse': 6139, 'gestated': 6140, 'popped': 6141, 'acquitted': 6142, 'nightmare': 6143, 'in-ground': 6144, 'shades': 6145, 'grey': 6146, 'what-for': 6147, 'fiction': 6148, 'sheriff': 6149, 'kissed': 6150, 'said:': 6151, 'imitating': 6152, 'griffith': 6153, \"'now\": 6154, 'aunt': 6155, 'asks': 6156, \"fishin'\": 6157, \"hole'\": 6158, 'argue': 6159, 'stirrers': 6160, 'holy': 6161, 'faiths': 6162, 'easy-going': 6163, 'offshoot': 6164, 'protestantism': 6165, 'handler': 6166, \"thing's\": 6167, 'rims': 6168, 'ribbon': 6169, 'cherry': 6170, 'blurbs': 6171, 'sedaris': 6172, 'flack': 6173, 'pews': 6174, 'catholic': 6175, 'sexton': 6176, 'rector': 6177, 'whim': 6178, \"nothin's\": 6179, 'mid-conversation': 6180, 'padres': 6181, 'tigers': 6182, 'polygon': 6183, 'hexa-': 6184, 'octa-': 6185, 'decide:': 6186, 'loudly': 6187, \"beggin'\": 6188, 'legend': 6189, 'buzz': 6190, 'recorded': 6191, 'options': 6192, 'carefully': 6193, 'committing': 6194, 'press': 6195, 'life-extension': 6196, 'male_singers:': 6197, 'painless': 6198, 'brings': 6199, 'delays': 6200, 'ron': 6201, 'moe-ron': 6202, 'libraries': 6203, 'newspaper': 6204, 'rods': 6205, 'compressions': 6206, 'gees': 6207, 'singing/pushing': 6208, \"stayin'\": 6209, 'living': 6210, 'fools': 6211, 'lease': 6212, 'post-suicide': 6213, 'afterglow': 6214, 'shorter': 6215, 'applesauce': 6216, 'leaving': 6217, 'choked-up': 6218, 'passes': 6219, 'reentering': 6220, 'noosey': 6221, 'noose': 6222, 'worldview': 6223, 'cleaning': 6224, 'growing': 6225, 'carpet': 6226, 'layer': 6227, 'congoleum': 6228, 'hardwood': 6229, 'jig': 6230, 'improved': 6231, 'non-losers': 6232, 'getcha': 6233, 'aged': 6234, 'venture': 6235, 'capitalists': 6236, 'mostly': 6237, 'kentucky': 6238, 'kool': 6239, 'aid': 6240, 'fantastic': 6241, 'startup': 6242, 'branding': 6243, 'specialists': 6244, 'touch': 6245, 'rafter': 6246, 'comforting': 6247, 'holidays': 6248, 'expensive': 6249, 'beer:': 6250, 'platinum': 6251, 'paste': 6252, 'hairs': 6253, 'youth': 6254, 'babar': 6255, 'confidential': 6256, 'cousin': 6257, 'celeste': 6258, 'takeaway': 6259, 'royal': 6260, 'trainers': 6261, 'average': 6262, 'schmoe': 6263, \"can't-believe-how-bald-he-is\": 6264, 'science': 6265, 'exhibit': 6266, 'hunger': 6267, \"games'd\": 6268, 'womb': 6269, 'life:': 6270, 'ninety-six': 6271, \"number's\": 6272, 'winning': 6273, 'celebrate': 6274, \"ragin'\": 6275, 'mini-dumpsters': 6276, 'gasoline': 6277, 'build': 6278, 'swimming': 6279, 'freaking': 6280, \"cashin'\": 6281, 'safety': 6282, 'ripped': 6283, 'tense': 6284, 'voicemail': 6285, 'offensive': 6286, 'sickened': 6287, 'moolah-stealing': 6288, 'jackpot-thief': 6289, \"something's\": 6290, 'reflected': 6291, 'lenses': 6292, 'sunglasses': 6293, 'geyser': 6294, 'strokkur': 6295, 'geysir': 6296, 'minors': 6297, 'fat_in_the_hat:': 6298, 'pawed': 6299, 'skunk': 6300, 'furry': 6301, 'knit': 6302, 'thnord': 6303, 'leathery': 6304, 'hidden': 6305, 'selfish': 6306, 'radioactive': 6307, 'hellhole': 6308, 'superpower': 6309, 'whoa-ho': 6310, 'looooooooooooooooooong': 6311, 'experience': 6312, 'schedule': 6313, 'hers': 6314, 'ideas': 6315, 'divorced': 6316, 's-a-u-r-c-e': 6317, 'touches': 6318, 'earpiece': 6319, 'senators:': 6320, 'abercrombie': 6321, 'billingsley': 6322, 'beaumont': 6323, \"plaster's\": 6324, 'flaking': 6325, 'lay': 6326, \"stallin'\": 6327, 'groans': 6328, 'squeals': 6329, 'liser': 6330, 'cletus_spuckler:': 6331, 'conditioning': 6332, 'barkeeps': 6333, 'gin-slingers': 6334, 'beer-jerks': 6335, 'compete': 6336, 'stores': 6337, 'hooch': 6338, 'cap': 6339, 'masks': 6340, 'uninhibited': 6341, 'invulnerable': 6342, 'shuts': 6343, 'nick': 6344, 'fury': 6345, 'batmobile': 6346, 'wolveriskey': 6347, \"'ere\": 6348, 'portfolium': 6349, \"boy's\": 6350, 'knock-up': 6351, 'powers': 6352, 'created': 6353, 'virility': 6354, 'virile': 6355, \"brady's\": 6356, 'libido': 6357, 'rocks': 6358, 'sets': 6359, 'legs:': 6360, 'kidnaps': 6361, 'grateful': 6362, \"must've\": 6363, 'corn': 6364, 'eighty-five': 6365, 'goal': 6366, 'nfl_narrator:': 6367, 'breathtaking': 6368, 'ignorance': 6369, 'dislike': 6370, 'rookie': 6371, 'housewife': 6372, 'savvy': 6373, 'veteran': 6374, \"tv'll\": 6375, \"yesterday's\": 6376, 'whatsit': 6377, 'lifestyle': 6378, 'contract': 6379, 'fast-food': 6380, 'hibachi': 6381, \"how're\": 6382, 'transfer': 6383, 'hyper-credits': 6384, 'ding-a-ding-ding-ding-ding-ding-ding': 6385, 'ding-a-ding-ding-a-ding-ding': 6386, 'blade': 6387, 'spender': 6388, 'gossipy': 6389, 'jukebox_record:': 6390, 'robot': 6391, 'incapable': 6392, 'emotion': 6393, 'terrifying': 6394, 'quebec': 6395, 'nordiques': 6396, 'spooky': 6397, 'colorado': 6398, 'avalanche': 6399, \"toot's\": 6400, 'verdict': 6401, 'overturned': 6402, 'sequel': 6403, 'neon': 6404, 'repairman': 6405, 'bolting': 6406, 'wrapped': 6407, 'shoulders': 6408, 'si-lent': 6409, 'ho-ly': 6410, 'eve': 6411, \"startin'\": 6412, 'gift:': 6413, 'shrieks': 6414, 'angrily': 6415, 'wenceslas': 6416, 'karaoke_machine:': 6417, 'doooown': 6418, 'weight': 6419, 'thirty-nine': 6420, \"foolin'\": 6421, 'car:': 6422, 'habit': 6423, 'hateful': 6424, 'chubby': 6425, 'chunky': 6426, 'blobbo': 6427, 'slobbo': 6428, 'michelin': 6429, 'stay-puft': 6430, 'chumbawamba': 6431, 'balloon': 6432, 'papa': 6433, 'grandã©': 6434, 'augustus': 6435, 'gloop': 6436, 'beached': 6437, 'whale': 6438, 'boned': 6439, 'wisconsin': 6440, 'skinny': 6441, 'butterball': 6442, 'dumptruck': 6443, 'jelly': 6444, 'pudgy': 6445, 'wudgy': 6446, 'lard': 6447, 'blubberino': 6448, 'buddha': 6449, 'tubman': 6450, 'ton': 6451, 'blob': 6452, 'saget': 6453, 'chub': 6454, 'hub': 6455, 'calvin': 6456, 'manfred': 6457, 'manboobs': 6458, '21': 6459, 'lump': 6460, 'fatso': 6461, 'harvey': 6462, 'obese': 6463, 'cannoli': 6464, 'mahatma': 6465, 'gumbo': 6466, 'salvador': 6467, 'deli': 6468, 'elmer': 6469, 'pantry': 6470, 'sponge': 6471, 'snackie': 6472, 'onassis': 6473, 'foodie': 6474, 'hoagie': 6475, 'carmichael': 6476, 'load': 6477, 'belts': 6478, 'homunculus': 6479, \"feelin's\": 6480, 'goblins': 6481, 'pridesters:': 6482, 'movement': 6483, 'drinking:': 6484, 'relaxed': 6485, 'apron': 6486, 'limber': 6487, \"tap-pullin'\": 6488, 'hook': 6489, 'sideshow': 6490, 'laney': 6491, 'fontaine': 6492, 'vulgar': 6493, 'fulla': 6494, 'jimmy': 6495, 'stewart': 6496, 'super-nice': 6497, \"can'tcha\": 6498, 'items': 6499, 'shells': 6500, 'lime': 6501, \"high-falutin'\": 6502, 'theatah': 6503, 'exits': 6504, 'sight': 6505, 'tomatoes': 6506, 'bachelorette': 6507, 'lady_duff:': 6508, 'hearing': 6509, 'interesting': 6510, 'clubs': 6511, \"lovers'\": 6512, 'spiritual': 6513, 'other_book_club_member:': 6514, 'liven': 6515, 'charming': 6516, 'whaaaa': 6517, 'bones': 6518, 'dazed': 6519, 'bounced': 6520, 'sass': 6521, 'heaving': 6522, \"coaster's\": 6523, 'mouths': 6524, \"snappin'\": 6525, 'ruint': 6526, \"i-i'll\": 6527, 'savings': 6528, 'rubbed': 6529, 'defected': 6530, 'north': 6531, 'korea': 6532, 'dae': 6533, 'pickles': 6534, 'background': 6535, 'ummmmmmmmm': 6536, 'ehhhhhhhh': 6537, 'errrrrrr': 6538, 'ehhhhhhhhh': 6539, 'ehhhhhh': 6540, 'kay': 6541, 'apply': 6542, 'jerking': 6543, 'chunk': 6544, 'oak': 6545, 'poplar': 6546, 'knowledge': 6547, 'wood': 6548, 'something:': 6549, 'elizabeth': 6550, 'languages': 6551, 'portuguese': 6552, 'eu': 6553, 'nã£o': 6554, 'quero': 6555, 'dizer': 6556, 'para': 6557, 'mostrar': 6558, 'je': 6559, 'ne': 6560, 'veux': 6561, 'pas': 6562, 'montrer': 6563, 'refiero': 6564, 'presumir': 6565, 'watashi': 6566, 'koji': 6567, 'suru': 6568, 'wakede': 6569, 'arimasen': 6570, 'majesty': 6571, 'notice': 6572, 'repressed': 6573, 'spelling': 6574, 'grammar': 6575, 'ze-ro': 6576, 'kemi': 6577, 'prince': 6578, 'trashed': 6579, 'happens': 6580, 'cruiser': 6581, 'answered': 6582, 'tank': 6583, 'gil_gunderson:': 6584, 'mumble': 6585, 'conclusions': 6586, 'tied': 6587, 'jernt': 6588, 'elocution': 6589, 'pronounce': 6590, 'over-pronouncing': 6591, 'online': 6592, 'pernt': 6593, 'tease': 6594, 'thrown': 6595, 'rom': 6596, 'coms': 6597, 'wheels': 6598, 'witches': 6599, \"treatin'\": 6600, 'countryman': 6601, 'chinua': 6602, 'achebe': 6603, 'apart': 6604, 'ease': 6605, 'optimistic': 6606, 'amused': 6607, 'comment': 6608, 'eaten': 6609, 'string': 6610, 'eats': 6611, 'stretches': 6612, 'moon': 6613, 'dregs': 6614, 'bugs': 6615, 'mice': 6616, 'treats': 6617, 'bar:': 6618, 'cab': 6619, 'waist': 6620, 'shyly': 6621, 'lifts': 6622, 'index': 6623, 'examples': 6624, 'albeit': 6625, 'depressing': 6626, 'bedtime': 6627, 'premise': 6628, \"cheerin'\": 6629, 'pine': 6630, 'suffering': 6631, 'silence': 6632, 'rafters': 6633, 'badly': 6634, 'smiles': 6635, 'divine': 6636, 'four-star': 6637, 'brother-in-law': 6638, 'nachos': 6639, 'triangle': 6640, 'atari': 6641, 'oblivious': 6642, 'aims': 6643, 'dumpster': 6644, 'gags': 6645, 'psst': 6646, 'asleep': 6647, 'mellow': 6648, 'aghast': 6649, 'kirk_voice_milhouse:': 6650, 'milks': 6651, 'lumpa': 6652, 'coal': 6653, 'stocking': 6654, 'sucking': 6655, 'getup': 6656, 'part-time': 6657, 'selective': 6658, 'reaches': 6659, 'opens': 6660, 'whoops': 6661, 'explanation': 6662, 'anxious': 6663, 'bloodiest': 6664, 'thirsty': 6665, 'log': 6666, 'eddie': 6667, 'pretzels': 6668, 'peeping': 6669, 'toms': 6670, 'terrorizing': 6671, 'neighborhood': 6672, 'scent': 6673, 'bobo': 6674, 'wieners': 6675, 'figures': 6676, 'disappointment': 6677, 'onto': 6678, 'dealt': 6679, 'control': 6680, 'tremendous': 6681, 'tv-station_announcer:': 6682, 'this:': 6683, 'small_boy:': 6684, 'furiously': 6685, '_marvin_monroe:': 6686, 'monroe': 6687, 'gimmicks': 6688, 'pills': 6689, 'fad': 6690, 'diets': 6691, 'bliss': 6692, '1-800-555-hugs': 6693, \"life's\": 6694, 'heh-heh': 6695, 'runt': 6696, 'gut': 6697, 'tragedy': 6698, 'ohhhh': 6699, 'hottest': 6700, 'heave-ho': 6701, 'dingy': 6702, 'flophouse': 6703, 'yellow-belly': 6704, 'jackass': 6705, \"'er\": 6706, 'hunka': 6707, 'beef': 6708, 'contemplates': 6709, 'jams': 6710, 'yells': 6711, 'drunkenly': 6712, \"larry's\": 6713, 'difference': 6714, 'slop': 6715, 'hose': 6716, 'beings': 6717, 'candles': 6718, 'tablecloth': 6719, 'drift': 6720, 'deals': 6721, 'capitol': 6722, 'curiosity': 6723, \"c'mom\": 6724, 'employees': 6725, 'spouses': 6726, 'decision': 6727, 'simpsons': 6728, 'faced': 6729, \"should've\": 6730, 'listened': 6731, 'bites': 6732, 'oooh': 6733, \"costume's\": 6734, 'ape-like': 6735, 'saga': 6736, 'riveting': 6737, 'humiliation': 6738, \"rasputin's\": 6739, \"professor's\": 6740, 'patented': 6741, 'coma': 6742, 'show-off': 6743, 'muscles': 6744, 'engraved': 6745, 'richard:': 6746, 'audience:': 6747, 'ref': 6748, 'issuing': 6749, 'warning': 6750, 'rasputin': 6751, 'referee': 6752, 'permitting': 6753, 'smitty:': 6754, 'squabbled': 6755, 'washed': 6756, 'refreshment': 6757, 'trustworthy': 6758, 'sharing': 6759, 'birthplace': 6760, 'roy': 6761, 'scum-sucking': 6762, 'pus-bucket': 6763, 'eyeballs': 6764, 'often': 6765, 'bull': 6766, 'connection': 6767, 'lighten': 6768, 'ironic': 6769, 'snotty': 6770, 'sister-in-law': 6771, 'picky': 6772, 'blur': 6773, 'decided': 6774, 'happiness': 6775, 'pancakes': 6776, 'disdainful': 6777, 'heals': 6778, 'wounds': 6779}\n"
     ]
    }
   ],
   "source": [
    "\"\"\"\n",
    "DON'T MODIFY ANYTHING IN THIS CELL\n",
    "\"\"\"\n",
    "# Preprocess Training, Validation, and Testing Data\n",
    "helper.preprocess_and_save_data(data_dir, token_lookup, create_lookup_tables)"
   ]
  },
  {
   "cell_type": "markdown",
   "metadata": {},
   "source": [
    "# Check Point\n",
    "This is your first checkpoint. If you ever decide to come back to this notebook or have to restart the notebook, you can start from here. The preprocessed data has been saved to disk."
   ]
  },
  {
   "cell_type": "code",
   "execution_count": 1,
   "metadata": {
    "collapsed": true
   },
   "outputs": [],
   "source": [
    "\"\"\"\n",
    "DON'T MODIFY ANYTHING IN THIS CELL\n",
    "\"\"\"\n",
    "import helper\n",
    "import numpy as np\n",
    "import problem_unittests as tests\n",
    "\n",
    "int_text, vocab_to_int, int_to_vocab, token_dict = helper.load_preprocess()"
   ]
  },
  {
   "cell_type": "markdown",
   "metadata": {},
   "source": [
    "## Build the Neural Network\n",
    "You'll build the components necessary to build a RNN by implementing the following functions below:\n",
    "- get_inputs\n",
    "- get_init_cell\n",
    "- get_embed\n",
    "- build_rnn\n",
    "- build_nn\n",
    "- get_batches\n",
    "\n",
    "### Check the Version of TensorFlow and Access to GPU"
   ]
  },
  {
   "cell_type": "code",
   "execution_count": 3,
   "metadata": {},
   "outputs": [
    {
     "name": "stdout",
     "output_type": "stream",
     "text": [
      "TensorFlow Version: 1.4.0\n"
     ]
    },
    {
     "name": "stderr",
     "output_type": "stream",
     "text": [
      "C:\\Users\\czl6\\AppData\\Local\\Continuum\\anaconda3\\envs\\tensorflow\\lib\\site-packages\\ipykernel_launcher.py:15: UserWarning: No GPU found. Please use a GPU to train your neural network.\n",
      "  from ipykernel import kernelapp as app\n"
     ]
    }
   ],
   "source": [
    "\"\"\"\n",
    "DON'T MODIFY ANYTHING IN THIS CELL\n",
    "\"\"\"\n",
    "from distutils.version import LooseVersion\n",
    "import warnings\n",
    "import tensorflow as tf\n",
    "\n",
    "\n",
    "# Check TensorFlow Version\n",
    "assert LooseVersion(tf.__version__) >= LooseVersion('1.0'), 'Please use TensorFlow version 1.0 or newer'\n",
    "print('TensorFlow Version: {}'.format(tf.__version__))\n",
    "\n",
    "# Check for a GPU\n",
    "if not tf.test.gpu_device_name():\n",
    "    warnings.warn('No GPU found. Please use a GPU to train your neural network.')\n",
    "else:\n",
    "    print('Default GPU Device: {}'.format(tf.test.gpu_device_name()))"
   ]
  },
  {
   "cell_type": "markdown",
   "metadata": {},
   "source": [
    "### Input\n",
    "Implement the `get_inputs()` function to create TF Placeholders for the Neural Network.  It should create the following placeholders:\n",
    "- Input text placeholder named \"input\" using the [TF Placeholder](https://www.tensorflow.org/api_docs/python/tf/placeholder) `name` parameter.\n",
    "- Targets placeholder\n",
    "- Learning Rate placeholder\n",
    "\n",
    "Return the placeholders in the following tuple `(Input, Targets, LearningRate)`"
   ]
  },
  {
   "cell_type": "code",
   "execution_count": 8,
   "metadata": {},
   "outputs": [
    {
     "name": "stdout",
     "output_type": "stream",
     "text": [
      "Tests Passed\n"
     ]
    }
   ],
   "source": [
    "def get_inputs():\n",
    "    \"\"\"\n",
    "    Create TF Placeholders for input, targets, and learning rate.\n",
    "    :return: Tuple (input, targets, learning rate)\n",
    "    \"\"\"\n",
    "    # TODO: Implement Function\n",
    "    inputs = tf.placeholder(tf.int32, shape=[None, None], name='input')\n",
    "    target = tf.placeholder(tf.int32, shape=[None, None], name='target')\n",
    "    learningRate = tf.placeholder(tf.int32, name='learningRate')\n",
    "    return inputs, target, learningRate\n",
    "\n",
    "\n",
    "\"\"\"\n",
    "DON'T MODIFY ANYTHING IN THIS CELL THAT IS BELOW THIS LINE\n",
    "\"\"\"\n",
    "tests.test_get_inputs(get_inputs)"
   ]
  },
  {
   "cell_type": "markdown",
   "metadata": {},
   "source": [
    "### Build RNN Cell and Initialize\n",
    "Stack one or more [`BasicLSTMCells`](https://www.tensorflow.org/api_docs/python/tf/contrib/rnn/BasicLSTMCell) in a [`MultiRNNCell`](https://www.tensorflow.org/api_docs/python/tf/contrib/rnn/MultiRNNCell).\n",
    "- The Rnn size should be set using `rnn_size`\n",
    "- Initalize Cell State using the MultiRNNCell's [`zero_state()`](https://www.tensorflow.org/api_docs/python/tf/contrib/rnn/MultiRNNCell#zero_state) function\n",
    "    - Apply the name \"initial_state\" to the initial state using [`tf.identity()`](https://www.tensorflow.org/api_docs/python/tf/identity)\n",
    "\n",
    "Return the cell and initial state in the following tuple `(Cell, InitialState)`"
   ]
  },
  {
   "cell_type": "code",
   "execution_count": 12,
   "metadata": {},
   "outputs": [
    {
     "name": "stdout",
     "output_type": "stream",
     "text": [
      "Tests Passed\n"
     ]
    }
   ],
   "source": [
    "def get_init_cell(batch_size, rnn_size):\n",
    "    \"\"\"\n",
    "    Create an RNN Cell and initialize it.\n",
    "    :param batch_size: Size of batches\n",
    "    :param rnn_size: Size of RNNs\n",
    "    :return: Tuple (cell, initialize state)\n",
    "    \"\"\"\n",
    "    # TODO: Implement Function\n",
    "    \n",
    "    cell = tf.contrib.rnn.BasicLSTMCell(rnn_size)\n",
    "    cell = tf.contrib.rnn.MultiRNNCell([cell])\n",
    "    \n",
    "    initial_state = tf.identity(cell.zero_state(batch_size, tf.float32), name='initial_state')\n",
    "    \n",
    "    return cell, initial_state\n",
    "\n",
    "\n",
    "\"\"\"\n",
    "DON'T MODIFY ANYTHING IN THIS CELL THAT IS BELOW THIS LINE\n",
    "\"\"\"\n",
    "tests.test_get_init_cell(get_init_cell)"
   ]
  },
  {
   "cell_type": "markdown",
   "metadata": {},
   "source": [
    "### Word Embedding\n",
    "Apply embedding to `input_data` using TensorFlow.  Return the embedded sequence."
   ]
  },
  {
   "cell_type": "code",
   "execution_count": 21,
   "metadata": {},
   "outputs": [
    {
     "name": "stdout",
     "output_type": "stream",
     "text": [
      "Tests Passed\n"
     ]
    }
   ],
   "source": [
    "def get_embed(input_data, vocab_size, embed_dim):\n",
    "    \"\"\"\n",
    "    Create embedding for <input_data>.\n",
    "    :param input_data: TF placeholder for text input.\n",
    "    :param vocab_size: Number of words in vocabulary.\n",
    "    :param embed_dim: Number of embedding dimensions\n",
    "    :return: Embedded input.\n",
    "    \"\"\"\n",
    "    # TODO: Implement Function\n",
    "    embedding = tf.Variable(tf.random_uniform((vocab_size, embed_dim), -1, 1))\n",
    "    embed = tf.nn.embedding_lookup(embedding, input_data)\n",
    "    return embed\n",
    "\n",
    "\n",
    "\"\"\"\n",
    "DON'T MODIFY ANYTHING IN THIS CELL THAT IS BELOW THIS LINE\n",
    "\"\"\"\n",
    "tests.test_get_embed(get_embed)"
   ]
  },
  {
   "cell_type": "markdown",
   "metadata": {},
   "source": [
    "### Build RNN\n",
    "You created a RNN Cell in the `get_init_cell()` function.  Time to use the cell to create a RNN.\n",
    "- Build the RNN using the [`tf.nn.dynamic_rnn()`](https://www.tensorflow.org/api_docs/python/tf/nn/dynamic_rnn)\n",
    " - Apply the name \"final_state\" to the final state using [`tf.identity()`](https://www.tensorflow.org/api_docs/python/tf/identity)\n",
    "\n",
    "Return the outputs and final_state state in the following tuple `(Outputs, FinalState)` "
   ]
  },
  {
   "cell_type": "code",
   "execution_count": 22,
   "metadata": {},
   "outputs": [
    {
     "name": "stdout",
     "output_type": "stream",
     "text": [
      "Tests Passed\n"
     ]
    }
   ],
   "source": [
    "def build_rnn(cell, inputs):\n",
    "    \"\"\"\n",
    "    Create a RNN using a RNN Cell\n",
    "    :param cell: RNN Cell\n",
    "    :param inputs: Input text data\n",
    "    :return: Tuple (Outputs, Final State)\n",
    "    \"\"\"\n",
    "    # TODO: Implement Function\n",
    "    outputs, final_state = tf.nn.dynamic_rnn(cell, inputs, dtype=tf.float32)\n",
    "    final_state = tf.identity(final_state, name='final_state')\n",
    "    return outputs, final_state\n",
    "\n",
    "\n",
    "\n",
    "\"\"\"\n",
    "DON'T MODIFY ANYTHING IN THIS CELL THAT IS BELOW THIS LINE\n",
    "\"\"\"\n",
    "tests.test_build_rnn(build_rnn)"
   ]
  },
  {
   "cell_type": "markdown",
   "metadata": {},
   "source": [
    "### Build the Neural Network\n",
    "Apply the functions you implemented above to:\n",
    "- Apply embedding to `input_data` using your `get_embed(input_data, vocab_size, embed_dim)` function.\n",
    "- Build RNN using `cell` and your `build_rnn(cell, inputs)` function.\n",
    "- Apply a fully connected layer with a linear activation and `vocab_size` as the number of outputs.\n",
    "\n",
    "Return the logits and final state in the following tuple (Logits, FinalState) "
   ]
  },
  {
   "cell_type": "code",
   "execution_count": 23,
   "metadata": {},
   "outputs": [
    {
     "ename": "AssertionError",
     "evalue": "Final state wrong shape.  Found shape (2, 2, 128, 256)",
     "output_type": "error",
     "traceback": [
      "\u001b[1;31m---------------------------------------------------------------------------\u001b[0m",
      "\u001b[1;31mAssertionError\u001b[0m                            Traceback (most recent call last)",
      "\u001b[1;32m<ipython-input-23-e9496519f9c6>\u001b[0m in \u001b[0;36m<module>\u001b[1;34m()\u001b[0m\n\u001b[0;32m     19\u001b[0m \u001b[0mDON\u001b[0m\u001b[0;31m'\u001b[0m\u001b[0mT\u001b[0m \u001b[0mMODIFY\u001b[0m \u001b[0mANYTHING\u001b[0m \u001b[0mIN\u001b[0m \u001b[0mTHIS\u001b[0m \u001b[0mCELL\u001b[0m \u001b[0mTHAT\u001b[0m \u001b[0mIS\u001b[0m \u001b[0mBELOW\u001b[0m \u001b[0mTHIS\u001b[0m \u001b[0mLINE\u001b[0m\u001b[1;33m\u001b[0m\u001b[0m\n\u001b[0;32m     20\u001b[0m \"\"\"\n\u001b[1;32m---> 21\u001b[1;33m \u001b[0mtests\u001b[0m\u001b[1;33m.\u001b[0m\u001b[0mtest_build_nn\u001b[0m\u001b[1;33m(\u001b[0m\u001b[0mbuild_nn\u001b[0m\u001b[1;33m)\u001b[0m\u001b[1;33m\u001b[0m\u001b[0m\n\u001b[0m",
      "\u001b[1;32m~\\Subversion\\_Udacity\\Udacity-DeepLearning\\tv-script-generation\\problem_unittests.py\u001b[0m in \u001b[0;36mtest_build_nn\u001b[1;34m(build_nn)\u001b[0m\n\u001b[0;32m    265\u001b[0m             \u001b[1;34m'Outputs has wrong shape.  Found shape {}'\u001b[0m\u001b[1;33m.\u001b[0m\u001b[0mformat\u001b[0m\u001b[1;33m(\u001b[0m\u001b[0mlogits\u001b[0m\u001b[1;33m.\u001b[0m\u001b[0mget_shape\u001b[0m\u001b[1;33m(\u001b[0m\u001b[1;33m)\u001b[0m\u001b[1;33m)\u001b[0m\u001b[1;33m\u001b[0m\u001b[0m\n\u001b[0;32m    266\u001b[0m         \u001b[1;32massert\u001b[0m \u001b[0mfinal_state\u001b[0m\u001b[1;33m.\u001b[0m\u001b[0mget_shape\u001b[0m\u001b[1;33m(\u001b[0m\u001b[1;33m)\u001b[0m\u001b[1;33m.\u001b[0m\u001b[0mas_list\u001b[0m\u001b[1;33m(\u001b[0m\u001b[1;33m)\u001b[0m \u001b[1;33m==\u001b[0m \u001b[1;33m[\u001b[0m\u001b[0mtest_rnn_layer_size\u001b[0m\u001b[1;33m,\u001b[0m \u001b[1;36m2\u001b[0m\u001b[1;33m,\u001b[0m \u001b[1;32mNone\u001b[0m\u001b[1;33m,\u001b[0m \u001b[0mtest_rnn_size\u001b[0m\u001b[1;33m]\u001b[0m\u001b[1;33m,\u001b[0m\u001b[0;31m \u001b[0m\u001b[0;31m\\\u001b[0m\u001b[1;33m\u001b[0m\u001b[0m\n\u001b[1;32m--> 267\u001b[1;33m             \u001b[1;34m'Final state wrong shape.  Found shape {}'\u001b[0m\u001b[1;33m.\u001b[0m\u001b[0mformat\u001b[0m\u001b[1;33m(\u001b[0m\u001b[0mfinal_state\u001b[0m\u001b[1;33m.\u001b[0m\u001b[0mget_shape\u001b[0m\u001b[1;33m(\u001b[0m\u001b[1;33m)\u001b[0m\u001b[1;33m)\u001b[0m\u001b[1;33m\u001b[0m\u001b[0m\n\u001b[0m\u001b[0;32m    268\u001b[0m \u001b[1;33m\u001b[0m\u001b[0m\n\u001b[0;32m    269\u001b[0m     \u001b[0m_print_success_message\u001b[0m\u001b[1;33m(\u001b[0m\u001b[1;33m)\u001b[0m\u001b[1;33m\u001b[0m\u001b[0m\n",
      "\u001b[1;31mAssertionError\u001b[0m: Final state wrong shape.  Found shape (2, 2, 128, 256)"
     ]
    }
   ],
   "source": [
    "def build_nn(cell, rnn_size, input_data, vocab_size, embed_dim):\n",
    "    \"\"\"\n",
    "    Build part of the neural network\n",
    "    :param cell: RNN cell\n",
    "    :param rnn_size: Size of rnns\n",
    "    :param input_data: Input data\n",
    "    :param vocab_size: Vocabulary size\n",
    "    :param embed_dim: Number of embedding dimensions\n",
    "    :return: Tuple (Logits, FinalState)\n",
    "    \"\"\"\n",
    "    # TODO: Implement Function\n",
    "    embed = get_embed(input_data, vocab_size, embed_dim)\n",
    "    outputs, final_state = build_rnn(cell, embed)\n",
    "    logits = tf.layers.dense(outputs, vocab_size, activation=None)\n",
    "    return logits, final_state\n",
    "\n",
    "\n",
    "\"\"\"\n",
    "DON'T MODIFY ANYTHING IN THIS CELL THAT IS BELOW THIS LINE\n",
    "\"\"\"\n",
    "tests.test_build_nn(build_nn)"
   ]
  },
  {
   "cell_type": "markdown",
   "metadata": {},
   "source": [
    "### Batches\n",
    "Implement `get_batches` to create batches of input and targets using `int_text`.  The batches should be a Numpy array with the shape `(number of batches, 2, batch size, sequence length)`. Each batch contains two elements:\n",
    "- The first element is a single batch of **input** with the shape `[batch size, sequence length]`\n",
    "- The second element is a single batch of **targets** with the shape `[batch size, sequence length]`\n",
    "\n",
    "If you can't fill the last batch with enough data, drop the last batch.\n",
    "\n",
    "For exmple, `get_batches([1, 2, 3, 4, 5, 6, 7, 8, 9, 10, 11, 12, 13, 14, 15, 16, 17, 18, 19, 20], 3, 2)` would return a Numpy array of the following:\n",
    "```\n",
    "[\n",
    "  # First Batch\n",
    "  [\n",
    "    # Batch of Input\n",
    "    [[ 1  2], [ 7  8], [13 14]]\n",
    "    # Batch of targets\n",
    "    [[ 2  3], [ 8  9], [14 15]]\n",
    "  ]\n",
    "\n",
    "  # Second Batch\n",
    "  [\n",
    "    # Batch of Input\n",
    "    [[ 3  4], [ 9 10], [15 16]]\n",
    "    # Batch of targets\n",
    "    [[ 4  5], [10 11], [16 17]]\n",
    "  ]\n",
    "\n",
    "  # Third Batch\n",
    "  [\n",
    "    # Batch of Input\n",
    "    [[ 5  6], [11 12], [17 18]]\n",
    "    # Batch of targets\n",
    "    [[ 6  7], [12 13], [18  1]]\n",
    "  ]\n",
    "]\n",
    "```\n",
    "\n",
    "Notice that the last target value in the last batch is the first input value of the first batch. In this case, `1`. This is a common technique used when creating sequence batches, although it is rather unintuitive."
   ]
  },
  {
   "cell_type": "code",
   "execution_count": null,
   "metadata": {
    "collapsed": true
   },
   "outputs": [],
   "source": [
    "def get_batches(int_text, batch_size, seq_length):\n",
    "    \"\"\"\n",
    "    Return batches of input and target\n",
    "    :param int_text: Text with the words replaced by their ids\n",
    "    :param batch_size: The size of batch\n",
    "    :param seq_length: The length of sequence\n",
    "    :return: Batches as a Numpy array\n",
    "    \"\"\"\n",
    "    # TODO: Implement Function\n",
    "    return None\n",
    "\n",
    "\n",
    "\"\"\"\n",
    "DON'T MODIFY ANYTHING IN THIS CELL THAT IS BELOW THIS LINE\n",
    "\"\"\"\n",
    "tests.test_get_batches(get_batches)"
   ]
  },
  {
   "cell_type": "markdown",
   "metadata": {},
   "source": [
    "## Neural Network Training\n",
    "### Hyperparameters\n",
    "Tune the following parameters:\n",
    "\n",
    "- Set `num_epochs` to the number of epochs.\n",
    "- Set `batch_size` to the batch size.\n",
    "- Set `rnn_size` to the size of the RNNs.\n",
    "- Set `embed_dim` to the size of the embedding.\n",
    "- Set `seq_length` to the length of sequence.\n",
    "- Set `learning_rate` to the learning rate.\n",
    "- Set `show_every_n_batches` to the number of batches the neural network should print progress."
   ]
  },
  {
   "cell_type": "code",
   "execution_count": null,
   "metadata": {
    "collapsed": true
   },
   "outputs": [],
   "source": [
    "# Number of Epochs\n",
    "num_epochs = None\n",
    "# Batch Size\n",
    "batch_size = None\n",
    "# RNN Size\n",
    "rnn_size = None\n",
    "# Embedding Dimension Size\n",
    "embed_dim = None\n",
    "# Sequence Length\n",
    "seq_length = None\n",
    "# Learning Rate\n",
    "learning_rate = None\n",
    "# Show stats for every n number of batches\n",
    "show_every_n_batches = None\n",
    "\n",
    "\"\"\"\n",
    "DON'T MODIFY ANYTHING IN THIS CELL THAT IS BELOW THIS LINE\n",
    "\"\"\"\n",
    "save_dir = './save'"
   ]
  },
  {
   "cell_type": "markdown",
   "metadata": {},
   "source": [
    "### Build the Graph\n",
    "Build the graph using the neural network you implemented."
   ]
  },
  {
   "cell_type": "code",
   "execution_count": null,
   "metadata": {
    "collapsed": true
   },
   "outputs": [],
   "source": [
    "\"\"\"\n",
    "DON'T MODIFY ANYTHING IN THIS CELL\n",
    "\"\"\"\n",
    "from tensorflow.contrib import seq2seq\n",
    "\n",
    "train_graph = tf.Graph()\n",
    "with train_graph.as_default():\n",
    "    vocab_size = len(int_to_vocab)\n",
    "    input_text, targets, lr = get_inputs()\n",
    "    input_data_shape = tf.shape(input_text)\n",
    "    cell, initial_state = get_init_cell(input_data_shape[0], rnn_size)\n",
    "    logits, final_state = build_nn(cell, rnn_size, input_text, vocab_size, embed_dim)\n",
    "\n",
    "    # Probabilities for generating words\n",
    "    probs = tf.nn.softmax(logits, name='probs')\n",
    "\n",
    "    # Loss function\n",
    "    cost = seq2seq.sequence_loss(\n",
    "        logits,\n",
    "        targets,\n",
    "        tf.ones([input_data_shape[0], input_data_shape[1]]))\n",
    "\n",
    "    # Optimizer\n",
    "    optimizer = tf.train.AdamOptimizer(lr)\n",
    "\n",
    "    # Gradient Clipping\n",
    "    gradients = optimizer.compute_gradients(cost)\n",
    "    capped_gradients = [(tf.clip_by_value(grad, -1., 1.), var) for grad, var in gradients if grad is not None]\n",
    "    train_op = optimizer.apply_gradients(capped_gradients)"
   ]
  },
  {
   "cell_type": "markdown",
   "metadata": {},
   "source": [
    "## Train\n",
    "Train the neural network on the preprocessed data.  If you have a hard time getting a good loss, check the [forums](https://discussions.udacity.com/) to see if anyone is having the same problem."
   ]
  },
  {
   "cell_type": "code",
   "execution_count": null,
   "metadata": {
    "collapsed": true
   },
   "outputs": [],
   "source": [
    "\"\"\"\n",
    "DON'T MODIFY ANYTHING IN THIS CELL\n",
    "\"\"\"\n",
    "batches = get_batches(int_text, batch_size, seq_length)\n",
    "\n",
    "with tf.Session(graph=train_graph) as sess:\n",
    "    sess.run(tf.global_variables_initializer())\n",
    "\n",
    "    for epoch_i in range(num_epochs):\n",
    "        state = sess.run(initial_state, {input_text: batches[0][0]})\n",
    "\n",
    "        for batch_i, (x, y) in enumerate(batches):\n",
    "            feed = {\n",
    "                input_text: x,\n",
    "                targets: y,\n",
    "                initial_state: state,\n",
    "                lr: learning_rate}\n",
    "            train_loss, state, _ = sess.run([cost, final_state, train_op], feed)\n",
    "\n",
    "            # Show every <show_every_n_batches> batches\n",
    "            if (epoch_i * len(batches) + batch_i) % show_every_n_batches == 0:\n",
    "                print('Epoch {:>3} Batch {:>4}/{}   train_loss = {:.3f}'.format(\n",
    "                    epoch_i,\n",
    "                    batch_i,\n",
    "                    len(batches),\n",
    "                    train_loss))\n",
    "\n",
    "    # Save Model\n",
    "    saver = tf.train.Saver()\n",
    "    saver.save(sess, save_dir)\n",
    "    print('Model Trained and Saved')"
   ]
  },
  {
   "cell_type": "markdown",
   "metadata": {},
   "source": [
    "## Save Parameters\n",
    "Save `seq_length` and `save_dir` for generating a new TV script."
   ]
  },
  {
   "cell_type": "code",
   "execution_count": null,
   "metadata": {
    "collapsed": true
   },
   "outputs": [],
   "source": [
    "\"\"\"\n",
    "DON'T MODIFY ANYTHING IN THIS CELL\n",
    "\"\"\"\n",
    "# Save parameters for checkpoint\n",
    "helper.save_params((seq_length, save_dir))"
   ]
  },
  {
   "cell_type": "markdown",
   "metadata": {},
   "source": [
    "# Checkpoint"
   ]
  },
  {
   "cell_type": "code",
   "execution_count": null,
   "metadata": {
    "collapsed": true
   },
   "outputs": [],
   "source": [
    "\"\"\"\n",
    "DON'T MODIFY ANYTHING IN THIS CELL\n",
    "\"\"\"\n",
    "import tensorflow as tf\n",
    "import numpy as np\n",
    "import helper\n",
    "import problem_unittests as tests\n",
    "\n",
    "_, vocab_to_int, int_to_vocab, token_dict = helper.load_preprocess()\n",
    "seq_length, load_dir = helper.load_params()"
   ]
  },
  {
   "cell_type": "markdown",
   "metadata": {},
   "source": [
    "## Implement Generate Functions\n",
    "### Get Tensors\n",
    "Get tensors from `loaded_graph` using the function [`get_tensor_by_name()`](https://www.tensorflow.org/api_docs/python/tf/Graph#get_tensor_by_name).  Get the tensors using the following names:\n",
    "- \"input:0\"\n",
    "- \"initial_state:0\"\n",
    "- \"final_state:0\"\n",
    "- \"probs:0\"\n",
    "\n",
    "Return the tensors in the following tuple `(InputTensor, InitialStateTensor, FinalStateTensor, ProbsTensor)` "
   ]
  },
  {
   "cell_type": "code",
   "execution_count": null,
   "metadata": {
    "collapsed": true
   },
   "outputs": [],
   "source": [
    "def get_tensors(loaded_graph):\n",
    "    \"\"\"\n",
    "    Get input, initial state, final state, and probabilities tensor from <loaded_graph>\n",
    "    :param loaded_graph: TensorFlow graph loaded from file\n",
    "    :return: Tuple (InputTensor, InitialStateTensor, FinalStateTensor, ProbsTensor)\n",
    "    \"\"\"\n",
    "    # TODO: Implement Function\n",
    "    return None, None, None, None\n",
    "\n",
    "\n",
    "\"\"\"\n",
    "DON'T MODIFY ANYTHING IN THIS CELL THAT IS BELOW THIS LINE\n",
    "\"\"\"\n",
    "tests.test_get_tensors(get_tensors)"
   ]
  },
  {
   "cell_type": "markdown",
   "metadata": {},
   "source": [
    "### Choose Word\n",
    "Implement the `pick_word()` function to select the next word using `probabilities`."
   ]
  },
  {
   "cell_type": "code",
   "execution_count": null,
   "metadata": {
    "collapsed": true
   },
   "outputs": [],
   "source": [
    "def pick_word(probabilities, int_to_vocab):\n",
    "    \"\"\"\n",
    "    Pick the next word in the generated text\n",
    "    :param probabilities: Probabilites of the next word\n",
    "    :param int_to_vocab: Dictionary of word ids as the keys and words as the values\n",
    "    :return: String of the predicted word\n",
    "    \"\"\"\n",
    "    # TODO: Implement Function\n",
    "    return None\n",
    "\n",
    "\n",
    "\"\"\"\n",
    "DON'T MODIFY ANYTHING IN THIS CELL THAT IS BELOW THIS LINE\n",
    "\"\"\"\n",
    "tests.test_pick_word(pick_word)"
   ]
  },
  {
   "cell_type": "markdown",
   "metadata": {},
   "source": [
    "## Generate TV Script\n",
    "This will generate the TV script for you.  Set `gen_length` to the length of TV script you want to generate."
   ]
  },
  {
   "cell_type": "code",
   "execution_count": null,
   "metadata": {
    "collapsed": true
   },
   "outputs": [],
   "source": [
    "gen_length = 200\n",
    "# homer_simpson, moe_szyslak, or Barney_Gumble\n",
    "prime_word = 'moe_szyslak'\n",
    "\n",
    "\"\"\"\n",
    "DON'T MODIFY ANYTHING IN THIS CELL THAT IS BELOW THIS LINE\n",
    "\"\"\"\n",
    "loaded_graph = tf.Graph()\n",
    "with tf.Session(graph=loaded_graph) as sess:\n",
    "    # Load saved model\n",
    "    loader = tf.train.import_meta_graph(load_dir + '.meta')\n",
    "    loader.restore(sess, load_dir)\n",
    "\n",
    "    # Get Tensors from loaded model\n",
    "    input_text, initial_state, final_state, probs = get_tensors(loaded_graph)\n",
    "\n",
    "    # Sentences generation setup\n",
    "    gen_sentences = [prime_word + ':']\n",
    "    prev_state = sess.run(initial_state, {input_text: np.array([[1]])})\n",
    "\n",
    "    # Generate sentences\n",
    "    for n in range(gen_length):\n",
    "        # Dynamic Input\n",
    "        dyn_input = [[vocab_to_int[word] for word in gen_sentences[-seq_length:]]]\n",
    "        dyn_seq_length = len(dyn_input[0])\n",
    "\n",
    "        # Get Prediction\n",
    "        probabilities, prev_state = sess.run(\n",
    "            [probs, final_state],\n",
    "            {input_text: dyn_input, initial_state: prev_state})\n",
    "        \n",
    "        pred_word = pick_word(probabilities[dyn_seq_length-1], int_to_vocab)\n",
    "\n",
    "        gen_sentences.append(pred_word)\n",
    "    \n",
    "    # Remove tokens\n",
    "    tv_script = ' '.join(gen_sentences)\n",
    "    for key, token in token_dict.items():\n",
    "        ending = ' ' if key in ['\\n', '(', '\"'] else ''\n",
    "        tv_script = tv_script.replace(' ' + token.lower(), key)\n",
    "    tv_script = tv_script.replace('\\n ', '\\n')\n",
    "    tv_script = tv_script.replace('( ', '(')\n",
    "        \n",
    "    print(tv_script)"
   ]
  },
  {
   "cell_type": "markdown",
   "metadata": {},
   "source": [
    "# The TV Script is Nonsensical\n",
    "It's ok if the TV script doesn't make any sense.  We trained on less than a megabyte of text.  In order to get good results, you'll have to use a smaller vocabulary or get more data.  Luckly there's more data!  As we mentioned in the begging of this project, this is a subset of [another dataset](https://www.kaggle.com/wcukierski/the-simpsons-by-the-data).  We didn't have you train on all the data, because that would take too long.  However, you are free to train your neural network on all the data.  After you complete the project, of course.\n",
    "# Submitting This Project\n",
    "When submitting this project, make sure to run all the cells before saving the notebook. Save the notebook file as \"dlnd_tv_script_generation.ipynb\" and save it as a HTML file under \"File\" -> \"Download as\". Include the \"helper.py\" and \"problem_unittests.py\" files in your submission."
   ]
  }
 ],
 "metadata": {
  "kernelspec": {
   "display_name": "Python 3",
   "language": "python",
   "name": "python3"
  },
  "language_info": {
   "codemirror_mode": {
    "name": "ipython",
    "version": 3
   },
   "file_extension": ".py",
   "mimetype": "text/x-python",
   "name": "python",
   "nbconvert_exporter": "python",
   "pygments_lexer": "ipython3",
   "version": "3.5.4"
  },
  "widgets": {
   "state": {},
   "version": "1.1.2"
  }
 },
 "nbformat": 4,
 "nbformat_minor": 1
}
